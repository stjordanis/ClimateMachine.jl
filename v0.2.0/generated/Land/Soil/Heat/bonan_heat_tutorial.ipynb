{
 "cells": [
  {
   "cell_type": "markdown",
   "source": [
    "# Solving the heat equation in soil"
   ],
   "metadata": {}
  },
  {
   "cell_type": "markdown",
   "source": [
    "This tutorial shows how to use CliMA code to solve the heat\n",
    "equation in soil.\n",
    "For background on the heat equation in general,\n",
    "and how to solve it using CliMA code, please see the\n",
    "[`heat_equation.jl`](../../Heat/heat_equation.md)\n",
    "tutorial."
   ],
   "metadata": {}
  },
  {
   "cell_type": "markdown",
   "source": [
    "The version of the heat equation we are solving here assumes no\n",
    "sources or sinks and no diffusion of liquid water. It takes the form"
   ],
   "metadata": {}
  },
  {
   "cell_type": "markdown",
   "source": [
    "``\n",
    "\\frac{∂ ρe_{int}}{∂ t} =  ∇ ⋅ κ(θ_l, θ_i; ν, ...) ∇T\n",
    "``"
   ],
   "metadata": {}
  },
  {
   "cell_type": "markdown",
   "source": [
    "Here"
   ],
   "metadata": {}
  },
  {
   "cell_type": "markdown",
   "source": [
    "``t`` is the time (s),"
   ],
   "metadata": {}
  },
  {
   "cell_type": "markdown",
   "source": [
    "``z`` is the location in the vertical (m),"
   ],
   "metadata": {}
  },
  {
   "cell_type": "markdown",
   "source": [
    "``ρe_{int}`` is the volumetric internal energy of the soil (J/m^3),"
   ],
   "metadata": {}
  },
  {
   "cell_type": "markdown",
   "source": [
    "``T`` is the temperature of the soil (K),"
   ],
   "metadata": {}
  },
  {
   "cell_type": "markdown",
   "source": [
    "``κ`` is the thermal conductivity (W/m/K),"
   ],
   "metadata": {}
  },
  {
   "cell_type": "markdown",
   "source": [
    "``ϑ_l`` is the augmented volumetric liquid water fraction,"
   ],
   "metadata": {}
  },
  {
   "cell_type": "markdown",
   "source": [
    "``θ_i`` is the volumetric ice fraction, and"
   ],
   "metadata": {}
  },
  {
   "cell_type": "markdown",
   "source": [
    "``ν, ...`` denotes parameters relating to soil type, such as porosity."
   ],
   "metadata": {}
  },
  {
   "cell_type": "markdown",
   "source": [
    "We will solve this equation in an effectively 1-d domain with ``z ∈ [-1,0]``,\n",
    "and with the following boundary and initial conditions:"
   ],
   "metadata": {}
  },
  {
   "cell_type": "markdown",
   "source": [
    "``T(t=0, z) = 277.15^\\circ K``"
   ],
   "metadata": {}
  },
  {
   "cell_type": "markdown",
   "source": [
    "``T(t, z = 0) = 288.15^\\circ K ``"
   ],
   "metadata": {}
  },
  {
   "cell_type": "markdown",
   "source": [
    "`` -κ ∇T(t, z = -1) = 0 ẑ``"
   ],
   "metadata": {}
  },
  {
   "cell_type": "markdown",
   "source": [
    "The temperature ``T`` and\n",
    "volumetric internal energy ``ρe_{int}`` are related as"
   ],
   "metadata": {}
  },
  {
   "cell_type": "markdown",
   "source": [
    "``\n",
    "ρe_{int} = ρc_s (θ_l, θ_i; ν, ...) (T - T_0) - θ_i ρ_i LH_{f0}\n",
    "``"
   ],
   "metadata": {}
  },
  {
   "cell_type": "markdown",
   "source": [
    "where"
   ],
   "metadata": {}
  },
  {
   "cell_type": "markdown",
   "source": [
    "``ρc_s`` is the volumetric heat capacity of the soil (J/m^3/K),"
   ],
   "metadata": {}
  },
  {
   "cell_type": "markdown",
   "source": [
    "``T_0`` is the freezing temperature of water,"
   ],
   "metadata": {}
  },
  {
   "cell_type": "markdown",
   "source": [
    "``ρ_i`` is the density of ice (kg/m^3), and"
   ],
   "metadata": {}
  },
  {
   "cell_type": "markdown",
   "source": [
    "``LH_{f0}`` is the latent heat of fusion at ``T_0``."
   ],
   "metadata": {}
  },
  {
   "cell_type": "markdown",
   "source": [
    "In this tutorial, we will use a [`PrescribedWaterModel`](@ref\n",
    "ClimateMachine.Land.PrescribedWaterModel). This option allows\n",
    "the user to specify a function for the spatial and temporal\n",
    "behavior of `θ_i` and `θ_l`; it does not solve Richard's equation\n",
    "for the evolution of moisture. Please see the tutorials\n",
    "in the `Soil/Coupled/` folder or the `Soil/Water/`\n",
    "folder for information on solving\n",
    "Richard's equation, either coupled or uncoupled from the heat equation, respectively."
   ],
   "metadata": {}
  },
  {
   "cell_type": "markdown",
   "source": [
    "# Import necessary modules"
   ],
   "metadata": {}
  },
  {
   "cell_type": "markdown",
   "source": [
    "External (non - CliMA) modules"
   ],
   "metadata": {}
  },
  {
   "outputs": [],
   "cell_type": "code",
   "source": [
    "using MPI\n",
    "using OrderedCollections\n",
    "using StaticArrays\n",
    "using Statistics\n",
    "using Dierckx\n",
    "using Plots\n",
    "using DelimitedFiles"
   ],
   "metadata": {},
   "execution_count": 1
  },
  {
   "cell_type": "markdown",
   "source": [
    "CliMA Parameters"
   ],
   "metadata": {}
  },
  {
   "outputs": [],
   "cell_type": "code",
   "source": [
    "using CLIMAParameters\n",
    "using CLIMAParameters.Planet: ρ_cloud_liq, ρ_cloud_ice, cp_l, cp_i, T_0, LH_f0"
   ],
   "metadata": {},
   "execution_count": 2
  },
  {
   "cell_type": "markdown",
   "source": [
    "ClimateMachine modules"
   ],
   "metadata": {}
  },
  {
   "outputs": [],
   "cell_type": "code",
   "source": [
    "using ClimateMachine\n",
    "using ClimateMachine.Land\n",
    "using ClimateMachine.Land.SoilWaterParameterizations\n",
    "using ClimateMachine.Land.SoilHeatParameterizations\n",
    "using ClimateMachine.Mesh.Topologies\n",
    "using ClimateMachine.Mesh.Grids\n",
    "using ClimateMachine.DGMethods\n",
    "using ClimateMachine.DGMethods.NumericalFluxes\n",
    "using ClimateMachine.DGMethods: BalanceLaw, LocalGeometry\n",
    "using ClimateMachine.MPIStateArrays\n",
    "using ClimateMachine.GenericCallbacks\n",
    "using ClimateMachine.ODESolvers\n",
    "using ClimateMachine.VariableTemplates\n",
    "using ClimateMachine.SingleStackUtils\n",
    "using ClimateMachine.BalanceLaws:\n",
    "    BalanceLaw, Prognostic, Auxiliary, Gradient, GradientFlux, vars_state\n",
    "import ClimateMachine.DGMethods: calculate_dt\n",
    "using ClimateMachine.ArtifactWrappers"
   ],
   "metadata": {},
   "execution_count": 3
  },
  {
   "cell_type": "markdown",
   "source": [
    "# Preliminary set-up"
   ],
   "metadata": {}
  },
  {
   "cell_type": "markdown",
   "source": [
    "Get the parameter set, which holds constants used across CliMA models."
   ],
   "metadata": {}
  },
  {
   "outputs": [],
   "cell_type": "code",
   "source": [
    "struct EarthParameterSet <: AbstractEarthParameterSet end\n",
    "const param_set = EarthParameterSet();"
   ],
   "metadata": {},
   "execution_count": 4
  },
  {
   "cell_type": "markdown",
   "source": [
    "Initialize and pick a floating point precision."
   ],
   "metadata": {}
  },
  {
   "outputs": [],
   "cell_type": "code",
   "source": [
    "ClimateMachine.init()\n",
    "FT = Float32;"
   ],
   "metadata": {},
   "execution_count": 5
  },
  {
   "cell_type": "markdown",
   "source": [
    "Load a function that will create an interpolation of the\n",
    "simulation output, to be used in plotting:"
   ],
   "metadata": {}
  },
  {
   "outputs": [],
   "cell_type": "code",
   "source": [
    "const clima_dir = dirname(dirname(pathof(ClimateMachine)));\n",
    "include(joinpath(\n",
    "    clima_dir,\n",
    "    \"tutorials\",\n",
    "    \"Land\",\n",
    "    \"Soil\",\n",
    "    \"interpolation_helper.jl\",\n",
    "));"
   ],
   "metadata": {},
   "execution_count": 6
  },
  {
   "cell_type": "markdown",
   "source": [
    "# Determine soil parameters"
   ],
   "metadata": {}
  },
  {
   "cell_type": "markdown",
   "source": [
    "Below are the soil component fractions for various soil\n",
    "texture classes,  from Cosby et al. (1984) [1, 5].\n",
    "Note that these fractions are volumetric fractions, relative\n",
    "to other soil solids, i.e. not including pore space. These are denoted `ν_ss_i`; the CliMA\n",
    "Land Documentation uses the symbol `ν_i` to denote the volumetric fraction\n",
    "of a soil component `i` relative to the soil, including pore space."
   ],
   "metadata": {}
  },
  {
   "outputs": [],
   "cell_type": "code",
   "source": [
    "ν_ss_silt_array =\n",
    "    FT.(\n",
    "        [5.0, 12.0, 32.0, 70.0, 39.0, 15.0, 56.0, 34.0, 6.0, 47.0, 20.0] ./\n",
    "        100.0,\n",
    "    )\n",
    "ν_ss_quartz_array =\n",
    "    FT.(\n",
    "        [92.0, 82.0, 58.0, 17.0, 43.0, 58.0, 10.0, 32.0, 52.0, 6.0, 22.0] ./\n",
    "        100.0,\n",
    "    )\n",
    "ν_ss_clay_array =\n",
    "    FT.(\n",
    "        [3.0, 6.0, 10.0, 13.0, 18.0, 27.0, 34.0, 34.0, 42.0, 47.0, 58.0] ./\n",
    "        100.0,\n",
    "    )\n",
    "porosity_array =\n",
    "    FT.([\n",
    "        0.395,\n",
    "        0.410,\n",
    "        0.435,\n",
    "        0.485,\n",
    "        0.451,\n",
    "        0.420,\n",
    "        0.477,\n",
    "        0.476,\n",
    "        0.426,\n",
    "        0.492,\n",
    "        0.482,\n",
    "    ]);"
   ],
   "metadata": {},
   "execution_count": 7
  },
  {
   "cell_type": "markdown",
   "source": [
    "The soil types that correspond to array elements above are, in order,\n",
    "sand, loamy sand, sandy loam, silty loam, loam, sandy clay loam,\n",
    "silty clay loam, clay loam, sandy clay, silty clay, and clay."
   ],
   "metadata": {}
  },
  {
   "cell_type": "markdown",
   "source": [
    "Here we choose the soil type to be sandy.\n",
    "The soil column is uniform in space and time."
   ],
   "metadata": {}
  },
  {
   "outputs": [],
   "cell_type": "code",
   "source": [
    "soil_type_index = 1\n",
    "ν_ss_minerals =\n",
    "    ν_ss_clay_array[soil_type_index] + ν_ss_silt_array[soil_type_index]\n",
    "ν_ss_quartz = ν_ss_quartz_array[soil_type_index]\n",
    "porosity = porosity_array[soil_type_index];"
   ],
   "metadata": {},
   "execution_count": 8
  },
  {
   "cell_type": "markdown",
   "source": [
    "This tutorial additionally compares the output of a ClimateMachine simulation with that\n",
    "of Supplemental Program 2, Chapter 5, of Bonan (2019) [1].\n",
    " We found this useful as it\n",
    "allows us compare results from our code against a published version."
   ],
   "metadata": {}
  },
  {
   "cell_type": "markdown",
   "source": [
    "The simulation code of [1] employs a formalism for the thermal\n",
    "conductivity `κ` based on Johansen, 1975, [2]. It assumes\n",
    "no organic matter, and only requires the volumetric\n",
    "fraction of soil solids for quartz and other minerals.\n",
    "ClimateMachine employs the formalism of Balland and Arp (2005)[3],\n",
    "which requires the\n",
    "fraction of soil solids for quartz, gravel,\n",
    "organic matter, and other minerals. Dai (2019)[4] found\n",
    "model [3] to better match\n",
    "measured soil properties across a range of soil types."
   ],
   "metadata": {}
  },
  {
   "cell_type": "markdown",
   "source": [
    "To compare the output of the two simulations, we set the organic\n",
    "matter content and gravel content to zero in the CliMA model.\n",
    "The remaining soil components (quartz and other minerals) match between\n",
    "the two. We also run the simulation for relatively wet soil\n",
    "(water content at 80% of porosity). Under these conditions,\n",
    "the two formulations for `κ`, though taking different functional forms,\n",
    "are relatively consistent.\n",
    "The differences between models are important\n",
    "for soil with organic material and for soil that is relatively dry."
   ],
   "metadata": {}
  },
  {
   "outputs": [],
   "cell_type": "code",
   "source": [
    "ν_ss_om = FT(0.0)\n",
    "ν_ss_gravel = FT(0.0);"
   ],
   "metadata": {},
   "execution_count": 9
  },
  {
   "cell_type": "markdown",
   "source": [
    "We next calculate a few intermediate quantities needed for the\n",
    "determination of the thermal conductivity [3]. These include\n",
    "the conductivity of the solid material, the conductivity\n",
    "of saturated soil, and the conductivity of frozen saturated soil."
   ],
   "metadata": {}
  },
  {
   "outputs": [],
   "cell_type": "code",
   "source": [
    "κ_quartz = FT(7.7) # W/m/K\n",
    "κ_minerals = FT(2.5) # W/m/K\n",
    "κ_om = FT(0.25) # W/m/K\n",
    "κ_liq = FT(0.57) # W/m/K\n",
    "κ_ice = FT(2.29); # W/m/K"
   ],
   "metadata": {},
   "execution_count": 10
  },
  {
   "cell_type": "markdown",
   "source": [
    "The particle density of soil solids in moisture-free soil\n",
    "is taken as a constant, across soil types, as in [1].\n",
    "This is a good estimate for organic material free soil. The user is referred to\n",
    "[3] for a more general expression."
   ],
   "metadata": {}
  },
  {
   "outputs": [],
   "cell_type": "code",
   "source": [
    "ρp = FT(2700) # kg/m^3\n",
    "κ_solid = k_solid(ν_ss_om, ν_ss_quartz, κ_quartz, κ_minerals, κ_om)\n",
    "κ_sat_frozen = ksat_frozen(κ_solid, porosity, κ_ice)\n",
    "κ_sat_unfrozen = ksat_unfrozen(κ_solid, porosity, κ_liq);"
   ],
   "metadata": {},
   "execution_count": 11
  },
  {
   "cell_type": "markdown",
   "source": [
    "The thermal conductivity of dry soil is also required, but this is\n",
    "calculated internally using the expression of [3]."
   ],
   "metadata": {}
  },
  {
   "cell_type": "markdown",
   "source": [
    "The volumetric specific heat of dry soil is chosen so as to match Bonan's simulation.\n",
    "The user could instead compute this using a volumetric fraction weighted average\n",
    "across soil components."
   ],
   "metadata": {}
  },
  {
   "outputs": [
    {
     "output_type": "execute_result",
     "data": {
      "text/plain": "1.16523f6"
     },
     "metadata": {},
     "execution_count": 12
    }
   ],
   "cell_type": "code",
   "source": [
    "ρc_ds = FT((1 - porosity) * 1.926e06) # J/m^3/K"
   ],
   "metadata": {},
   "execution_count": 12
  },
  {
   "cell_type": "markdown",
   "source": [
    "Finally, we store the soil-specific parameters and functions\n",
    "in a place where they will be accessible to the model\n",
    "during integration."
   ],
   "metadata": {}
  },
  {
   "outputs": [],
   "cell_type": "code",
   "source": [
    "soil_param_functions = SoilParamFunctions{FT}(\n",
    "    porosity = porosity,\n",
    "    ν_ss_gravel = ν_ss_gravel,\n",
    "    ν_ss_om = ν_ss_om,\n",
    "    ν_ss_quartz = ν_ss_quartz,\n",
    "    ρc_ds = ρc_ds,\n",
    "    ρp = ρp,\n",
    "    κ_solid = κ_solid,\n",
    "    κ_sat_unfrozen = κ_sat_unfrozen,\n",
    "    κ_sat_frozen = κ_sat_frozen,\n",
    ");"
   ],
   "metadata": {},
   "execution_count": 13
  },
  {
   "cell_type": "markdown",
   "source": [
    "# Initial and Boundary conditions\n",
    "We will be using a [`PrescribedWaterModel`](@ref\n",
    "ClimateMachine.Land.PrescribedWaterModel), where the user supplies the augmented\n",
    "liquid fraction and ice fraction as functions of space and time. Since we are not\n",
    "implementing phase changes, it makes sense to either have entirely liquid or\n",
    "frozen water. This tutorial shows liquid water."
   ],
   "metadata": {}
  },
  {
   "cell_type": "markdown",
   "source": [
    "Because the two models for thermal conductivity agree well for wetter soil, we'll\n",
    "choose that here. However, the user could also explore how they differ by choosing\n",
    "drier soil."
   ],
   "metadata": {}
  },
  {
   "cell_type": "markdown",
   "source": [
    "Please note that if the user uses a mix of liquid and frozen water, that they must\n",
    "ensure that the total water content does not exceed porosity."
   ],
   "metadata": {}
  },
  {
   "outputs": [],
   "cell_type": "code",
   "source": [
    "prescribed_augmented_liquid_fraction = FT(porosity * 0.8)\n",
    "prescribed_volumetric_ice_fraction = FT(0.0);"
   ],
   "metadata": {},
   "execution_count": 14
  },
  {
   "cell_type": "markdown",
   "source": [
    "Choose boundary and initial conditions for heat that will not lead to freezing of water:"
   ],
   "metadata": {}
  },
  {
   "outputs": [],
   "cell_type": "code",
   "source": [
    "heat_surface_state = (aux, t) -> eltype(aux)(288.15)\n",
    "heat_bottom_flux = (aux, t) -> eltype(aux)(0.0)\n",
    "T_init = (aux) -> eltype(aux)(275.15);"
   ],
   "metadata": {},
   "execution_count": 15
  },
  {
   "cell_type": "markdown",
   "source": [
    "We also need to define a function `init_soil!`, which\n",
    "initializes all of the prognostic variables (here, we\n",
    "only have `ρe_int`, the volumetric internal energy).\n",
    "The initialization is based on user-specified\n",
    "initial conditions. Note that the user provides initial\n",
    "conditions for heat based on the temperature - `init_soil!` also\n",
    "converts between `T` and `ρe_int`."
   ],
   "metadata": {}
  },
  {
   "outputs": [],
   "cell_type": "code",
   "source": [
    "function init_soil!(land, state, aux, coordinates, time)\n",
    "    ϑ_l, θ_i = get_water_content(land.soil.water, aux, state, time)\n",
    "    θ_l = volumetric_liquid_fraction(ϑ_l, land.soil.param_functions.porosity)\n",
    "    ρc_ds = land.soil.param_functions.ρc_ds\n",
    "    ρc_s = volumetric_heat_capacity(θ_l, θ_i, ρc_ds, land.param_set)\n",
    "\n",
    "    state.soil.heat.ρe_int = volumetric_internal_energy(\n",
    "        θ_i,\n",
    "        ρc_s,\n",
    "        land.soil.heat.initialT(aux),\n",
    "        land.param_set,\n",
    "    )\n",
    "end;"
   ],
   "metadata": {},
   "execution_count": 16
  },
  {
   "cell_type": "markdown",
   "source": [
    "# Create the model structure"
   ],
   "metadata": {}
  },
  {
   "outputs": [],
   "cell_type": "code",
   "source": [
    "soil_water_model = PrescribedWaterModel(\n",
    "    (aux, t) -> prescribed_augmented_liquid_fraction,\n",
    "    (aux, t) -> prescribed_volumetric_ice_fraction,\n",
    ");"
   ],
   "metadata": {},
   "execution_count": 17
  },
  {
   "cell_type": "markdown",
   "source": [
    "The boundary value problem in this case, with two spatial derivatives,\n",
    "requires a boundary condition at the top of the domain and the bottom.\n",
    "This gives four possible combinations of boundary conditions - top Dirichlet\n",
    "and bottom either Neumann or Dirichlet, or top Neumann and bottom either\n",
    "Dirichlet or Neumann. The user should set the unused fields to `nothing`\n",
    "to indicate that they do not want to supply a boundary condition of that type.\n",
    "For example, below we indicate that we are applying (and supplying!) a Dirichlet\n",
    "condition at the top of the domain, and a Neumann condition at the bottom."
   ],
   "metadata": {}
  },
  {
   "outputs": [],
   "cell_type": "code",
   "source": [
    "soil_heat_model = SoilHeatModel(\n",
    "    FT;\n",
    "    initialT = T_init,\n",
    "    dirichlet_bc = Dirichlet(\n",
    "        surface_state = heat_surface_state,\n",
    "        bottom_state = nothing,\n",
    "    ),\n",
    "    neumann_bc = Neumann(\n",
    "        surface_flux = nothing,\n",
    "        bottom_flux = heat_bottom_flux,\n",
    "    ),\n",
    ");"
   ],
   "metadata": {},
   "execution_count": 18
  },
  {
   "cell_type": "markdown",
   "source": [
    "The full soil model requires a heat model and a water model, as well as the\n",
    "soil parameter functions:"
   ],
   "metadata": {}
  },
  {
   "outputs": [],
   "cell_type": "code",
   "source": [
    "m_soil = SoilModel(soil_param_functions, soil_water_model, soil_heat_model);"
   ],
   "metadata": {},
   "execution_count": 19
  },
  {
   "cell_type": "markdown",
   "source": [
    "The equations being solved in this tutorial have no sources or sinks:"
   ],
   "metadata": {}
  },
  {
   "outputs": [],
   "cell_type": "code",
   "source": [
    "sources = ();"
   ],
   "metadata": {},
   "execution_count": 20
  },
  {
   "cell_type": "markdown",
   "source": [
    "Finally, we create the `LandModel`. In more complex land models, this would\n",
    "include the canopy, carbon state of the soil, etc."
   ],
   "metadata": {}
  },
  {
   "outputs": [],
   "cell_type": "code",
   "source": [
    "m = LandModel(\n",
    "    param_set,\n",
    "    m_soil;\n",
    "    source = sources,\n",
    "    init_state_prognostic = init_soil!,\n",
    ");"
   ],
   "metadata": {},
   "execution_count": 21
  },
  {
   "cell_type": "markdown",
   "source": [
    "# Specify the numerical details\n",
    "These include the resolution, domain boundaries, integration time,\n",
    "Courant number, and ODE solver."
   ],
   "metadata": {}
  },
  {
   "outputs": [
    {
     "name": "stdout",
     "output_type": "stream",
     "text": [
      "┌ Info: Model composition\n",
      "│     param_set = Main.##390.EarthParameterSet()\n",
      "│     soil = ClimateMachine.Land.SoilModel{ClimateMachine.Land.SoilParamFunctions{Float32},ClimateMachine.Land.PrescribedWaterModel{Main.##390.var\"#7#9\",Main.##390.var\"#8#10\"},ClimateMachine.Land.SoilHeatModel{Float32,Main.##390.var\"#5#6\",ClimateMachine.Land.Dirichlet{Main.##390.var\"#1#2\",Nothing},ClimateMachine.Land.Neumann{Nothing,Main.##390.var\"#3#4\"}}}(ClimateMachine.Land.SoilParamFunctions{Float32}(0.395f0, NaN32, NaN32, 0.0f0, 0.0f0, 0.92f0, 1.16523f6, 2700.0f0, 7.03731f0, 2.6076639f0, 4.5166464f0, 0.24f0, 18.1f0, 0.053f0), ClimateMachine.Land.PrescribedWaterModel{Main.##390.var\"#7#9\",Main.##390.var\"#8#10\"}(Main.##390.var\"#7#9\"(), Main.##390.var\"#8#10\"()), ClimateMachine.Land.SoilHeatModel{Float32,Main.##390.var\"#5#6\",ClimateMachine.Land.Dirichlet{Main.##390.var\"#1#2\",Nothing},ClimateMachine.Land.Neumann{Nothing,Main.##390.var\"#3#4\"}}(Main.##390.var\"#5#6\"(), ClimateMachine.Land.Dirichlet{Main.##390.var\"#1#2\",Nothing}(Main.##390.var\"#1#2\"(), nothing), ClimateMachine.Land.Neumann{Nothing,Main.##390.var\"#3#4\"}(nothing, Main.##390.var\"#3#4\"())))\n",
      "│     source = ()\n",
      "│     init_state_prognostic = init_soil!\n",
      "└ @ ClimateMachine /home/runner/work/ClimateMachine.jl/ClimateMachine.jl/src/Driver/driver_configs.jl:107\n",
      "┌ Info: Establishing single stack configuration for LandModel\n",
      "│     precision        = Float32\n",
      "│     polynomial order = 1\n",
      "│     domain_min       = 0.00 m x0.00 m x-1.00 m\n",
      "│     domain_max       = 1.00 m x1.00 m x0.00 m\n",
      "│     #vert elems      = 100\n",
      "│     MPI ranks        = 1\n",
      "│     min(Δ_horz)      = 1.00 m\n",
      "│     min(Δ_vert)      = 0.01 m\n",
      "└ @ ClimateMachine /home/runner/work/ClimateMachine.jl/ClimateMachine.jl/src/Driver/driver_configs.jl:543\n"
     ]
    }
   ],
   "cell_type": "code",
   "source": [
    "N_poly = 1\n",
    "nelem_vert = 100\n",
    "\n",
    "zmax = FT(0)\n",
    "zmin = FT(-1)\n",
    "\n",
    "driver_config = ClimateMachine.SingleStackConfiguration(\n",
    "    \"LandModel\",\n",
    "    N_poly,\n",
    "    nelem_vert,\n",
    "    zmax,\n",
    "    param_set,\n",
    "    m;\n",
    "    zmin = zmin,\n",
    "    numerical_flux_first_order = CentralNumericalFluxFirstOrder(),\n",
    ");"
   ],
   "metadata": {},
   "execution_count": 22
  },
  {
   "cell_type": "markdown",
   "source": [
    "In this tutorial, we determine a timestep based on a Courant number (\n",
    "also called a Fourier number in the context of the heat equation).\n",
    "In short, we can use the parameters of the model (`κ` and `ρc_s`),\n",
    "along with with the size of\n",
    "elements of the grid used for discretizing the PDE, to estimate\n",
    "a natural timescale for heat transfer across a grid cell.\n",
    "Because we are using an explicit ODE solver, the timestep should\n",
    "be a fraction of this in order to resolve the dynamics."
   ],
   "metadata": {}
  },
  {
   "cell_type": "markdown",
   "source": [
    "This allows us to automate, to a certain extent, choosing a value for\n",
    "the timestep, even as we switch between soil types."
   ],
   "metadata": {}
  },
  {
   "outputs": [
    {
     "name": "stdout",
     "output_type": "stream",
     "text": [
      "┌ Info: Initializing LandModel\n",
      "└ @ ClimateMachine /home/runner/work/ClimateMachine.jl/ClimateMachine.jl/src/Driver/solver_configs.jl:172\n"
     ]
    }
   ],
   "cell_type": "code",
   "source": [
    "function calculate_dt(dg, model::LandModel, Q, Courant_number, t, direction)\n",
    "    Δt = one(eltype(Q))\n",
    "    CFL = DGMethods.courant(diffusive_courant, dg, model, Q, Δt, t, direction)\n",
    "    return Courant_number / CFL\n",
    "end\n",
    "\n",
    "function diffusive_courant(\n",
    "    m::LandModel,\n",
    "    state::Vars,\n",
    "    aux::Vars,\n",
    "    diffusive::Vars,\n",
    "    Δx,\n",
    "    Δt,\n",
    "    t,\n",
    "    direction,\n",
    ")\n",
    "    soil = m.soil\n",
    "    ϑ_l, θ_i = get_water_content(soil.water, aux, state, t)\n",
    "    θ_l = volumetric_liquid_fraction(ϑ_l, soil.param_functions.porosity)\n",
    "    κ_dry = k_dry(m.param_set, soil.param_functions)\n",
    "    S_r = relative_saturation(θ_l, θ_i, soil.param_functions.porosity)\n",
    "    kersten = kersten_number(θ_i, S_r, soil.param_functions)\n",
    "    κ_sat = saturated_thermal_conductivity(\n",
    "        θ_l,\n",
    "        θ_i,\n",
    "        soil.param_functions.κ_sat_unfrozen,\n",
    "        soil.param_functions.κ_sat_frozen,\n",
    "    )\n",
    "    κ = thermal_conductivity(κ_dry, kersten, κ_sat)\n",
    "    ρc_ds = soil.param_functions.ρc_ds\n",
    "    ρc_s = volumetric_heat_capacity(θ_l, θ_i, ρc_ds, m.param_set)\n",
    "    return Δt * κ / (Δx * Δx * ρc_ds)\n",
    "end\n",
    "\n",
    "\n",
    "t0 = FT(0)\n",
    "timeend = FT(60 * 60 * 3)\n",
    "Courant_number = FT(0.5) # much bigger than this leads to domain errors\n",
    "\n",
    "solver_config = ClimateMachine.SolverConfiguration(\n",
    "    t0,\n",
    "    timeend,\n",
    "    driver_config;\n",
    "    Courant_number = Courant_number,\n",
    "    CFL_direction = VerticalDirection(),\n",
    ");"
   ],
   "metadata": {},
   "execution_count": 23
  },
  {
   "cell_type": "markdown",
   "source": [
    "# Run the integration"
   ],
   "metadata": {}
  },
  {
   "outputs": [
    {
     "name": "stdout",
     "output_type": "stream",
     "text": [
      "┌ Info: Starting LandModel\n",
      "│     dt              = 2.38938e+01\n",
      "│     timeend         = 10800.00\n",
      "│     number of steps = 452\n",
      "│     norm(Q)         = 4.9479710000000000e+06\n",
      "└ @ ClimateMachine /home/runner/work/ClimateMachine.jl/ClimateMachine.jl/src/Driver/Driver.jl:675\n",
      "┌ Info: Finished\n",
      "│     norm(Q)            = 1.1510868000000000e+07\n",
      "│     norm(Q) / norm(Q₀) = 2.3263814449310303e+00\n",
      "│     norm(Q) - norm(Q₀) = 6.5628970000000000e+06\n",
      "└ @ ClimateMachine /home/runner/work/ClimateMachine.jl/ClimateMachine.jl/src/Driver/Driver.jl:713\n"
     ]
    }
   ],
   "cell_type": "code",
   "source": [
    "ClimateMachine.invoke!(solver_config);"
   ],
   "metadata": {},
   "execution_count": 24
  },
  {
   "cell_type": "markdown",
   "source": [
    "# Plot results and comparison data from [1]\n",
    "We can pull out the `z` and `T` values on the DG grid, but these will be\n",
    "multi-valued at boundaries. We'll create an additional cartesian grid\n",
    ", create an interpolation of the\n",
    "DG output, and evaluate on this second grid.\n",
    "`T` and `z` are stored in aux:"
   ],
   "metadata": {}
  },
  {
   "outputs": [],
   "cell_type": "code",
   "source": [
    "aux = solver_config.dg.state_auxiliary;"
   ],
   "metadata": {},
   "execution_count": 25
  },
  {
   "cell_type": "markdown",
   "source": [
    "Specify interpolation grid:"
   ],
   "metadata": {}
  },
  {
   "outputs": [],
   "cell_type": "code",
   "source": [
    "zres = FT(0.02)\n",
    "boundaries = [\n",
    "    FT(0) FT(0) zmin\n",
    "    FT(1) FT(1) zmax\n",
    "]\n",
    "resolution = (FT(2), FT(2), zres)\n",
    "thegrid = solver_config.dg.grid\n",
    "intrp_brck = create_interpolation_grid(boundaries, resolution, thegrid);"
   ],
   "metadata": {},
   "execution_count": 26
  },
  {
   "cell_type": "markdown",
   "source": [
    "Smooth output, and look at T vs z:"
   ],
   "metadata": {}
  },
  {
   "outputs": [],
   "cell_type": "code",
   "source": [
    "iaux = interpolate_variables([(aux)], intrp_brck)\n",
    "iaux = iaux[1]\n",
    "z_ind = varsindex(vars_state(m, Auxiliary(), FT), :z)\n",
    "iz = Array(iaux[:, z_ind, :][:])\n",
    "z = Array(aux[:, z_ind, :][:])\n",
    "T_ind = varsindex(vars_state(m, Auxiliary(), FT), :soil, :heat, :T)\n",
    "iT = Array(iaux[:, T_ind, :][:])\n",
    "\n",
    "plot(\n",
    "    iT,\n",
    "    iz,\n",
    "    label = \"ClimateMachine\",\n",
    "    ylabel = \"z (m)\",\n",
    "    xlabel = \"T (K)\",\n",
    "    title = \"Heat transfer in sand\",\n",
    ")\n",
    "plot!(T_init.(z), z, label = \"Initial condition\")\n",
    "filename = \"bonan_heat_data.csv\"\n",
    "const clima_dir = dirname(dirname(pathof(ClimateMachine)));\n",
    "bonan_dataset = ArtifactWrapper(\n",
    "    joinpath(clima_dir, \"tutorials\", \"Land\", \"Soil\", \"Artifacts.toml\"),\n",
    "    \"bonan_soil_heat\",\n",
    "    ArtifactFile[ArtifactFile(\n",
    "        url = \"https://caltech.box.com/shared/static/99vm8q8tlyoulext6c35lnd3355tx6bu.csv\",\n",
    "        filename = filename,\n",
    "    ),],\n",
    ")\n",
    "bonan_dataset_path = get_data_folder(bonan_dataset)\n",
    "data = joinpath(bonan_dataset_path, filename)\n",
    "ds_bonan = readdlm(data, ',')\n",
    "bonan_T = reverse(ds_bonan[:, 2])\n",
    "bonan_z = reverse(ds_bonan[:, 1])\n",
    "bonan_T_continuous = Spline1D(bonan_z, bonan_T)\n",
    "bonan_at_clima_z = bonan_T_continuous.(z)\n",
    "plot!(bonan_at_clima_z, z, label = \"Bonan simulation\")\n",
    "plot!(legend = :bottomleft)\n",
    "savefig(\"thermal_conductivity_comparison.png\")"
   ],
   "metadata": {},
   "execution_count": 27
  },
  {
   "cell_type": "markdown",
   "source": [
    "![](thermal_conductivity_comparison.png)"
   ],
   "metadata": {}
  },
  {
   "cell_type": "markdown",
   "source": [
    "The plot shows that the temperature at the top of the\n",
    "soil is gradually increasing. This is because the surface\n",
    "temperature is held fixed at a value larger than\n",
    "the initial temperature. If we ran this for longer,\n",
    "we would see that the bottom of the domain would also\n",
    "increase in temperature because there is no heat\n",
    "leaving the bottom (due to zero heat flux specified in\n",
    "the boundary condition)."
   ],
   "metadata": {}
  },
  {
   "cell_type": "markdown",
   "source": [
    "# References\n",
    "[1] Bonan, G. Climate Change and Terrestrial Ecosystem Modeling (2019),\n",
    "Cambridge University Press"
   ],
   "metadata": {}
  },
  {
   "cell_type": "markdown",
   "source": [
    "[2] Johansen, O. 1975. Thermal conductivity of soils. Ph.D. thesis,\n",
    "Trondheim, Norway. Cold Regions Research and Engineering Laboratory\n",
    "Draft Translation 637, 1977, ADA 044002."
   ],
   "metadata": {}
  },
  {
   "cell_type": "markdown",
   "source": [
    "[3] Balland, V., and P. A. Arp (2005), Modeling soil thermal\n",
    "conductivities over a wide range of conditions, J. Env. Eng. Sci., 4, 549–558."
   ],
   "metadata": {}
  },
  {
   "cell_type": "markdown",
   "source": [
    "[4] Dai, Y., N. W. amd Hua Yuan, S. Zhang, W. Shangguan, S. Liu, X. Lu,\n",
    "and Y. Xin (2019a), Evaluation of soil thermal conductivity schemes for\n",
    "use in land surface modeling, J. Adv. Model. Earth Sys., 11, 3454–3473."
   ],
   "metadata": {}
  },
  {
   "cell_type": "markdown",
   "source": [
    "[5] Cosby, B. J., Hornberger, G. M., Clapp, R. B., and Ginn, T. R. (1984).\n",
    "A statistical exploration of the relationships of soil moisture\n",
    "characteristics to the physical properties of soils. Water Resources\n",
    "Research, 20, 682–690."
   ],
   "metadata": {}
  },
  {
   "cell_type": "markdown",
   "source": [
    "---\n",
    "\n",
    "*This notebook was generated using [Literate.jl](https://github.com/fredrikekre/Literate.jl).*"
   ],
   "metadata": {}
  }
 ],
 "nbformat_minor": 3,
 "metadata": {
  "language_info": {
   "file_extension": ".jl",
   "mimetype": "application/julia",
   "name": "julia",
   "version": "1.5.2"
  },
  "kernelspec": {
   "name": "julia-1.5",
   "display_name": "Julia 1.5.2",
   "language": "julia"
  }
 },
 "nbformat": 4
}
