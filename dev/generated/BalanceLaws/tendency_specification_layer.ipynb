{
 "cells": [
  {
   "cell_type": "markdown",
   "source": [
    "# A functional tendency specification layer"
   ],
   "metadata": {}
  },
  {
   "cell_type": "markdown",
   "source": [
    "In the balance law (mutating) functions, where we specify fluxes and sources,"
   ],
   "metadata": {}
  },
  {
   "cell_type": "markdown",
   "source": [
    "- `flux_first_order!`\n",
    "- `flux_second_order!`\n",
    "- and `source!`,"
   ],
   "metadata": {}
  },
  {
   "cell_type": "markdown",
   "source": [
    "an additional (functional) tendency specification\n",
    "layer can be placed on-top that has several nice\n",
    "properties. The functional layer:"
   ],
   "metadata": {}
  },
  {
   "cell_type": "markdown",
   "source": [
    "- Separates tendency definitions from which tendencies are included in a particular model.\n",
    "- Reduces duplicate implementations of tendency definitions (e.g., in optional submodel variants)\n",
    "- Allows a more flexible combination of tendencies\n",
    "- Allows a simple way to loop over all tendencies for all prognostic variables and recover\n",
    "  _each_ flux / source term. This will allow us a simple way to evaluate, for example, the energy budget."
   ],
   "metadata": {}
  },
  {
   "cell_type": "markdown",
   "source": [
    "## Used modules / imports"
   ],
   "metadata": {}
  },
  {
   "cell_type": "markdown",
   "source": [
    "Make running locally easier from ClimateMachine.jl/:"
   ],
   "metadata": {}
  },
  {
   "outputs": [
    {
     "output_type": "execute_result",
     "data": {
      "text/plain": "5-element Array{String,1}:\n \"@\"\n \"@v#.#\"\n \"@stdlib\"\n \"/central/scratch/climaci/climatemachine-docs/810/climatemachine-docs/docs/..\"\n \".\""
     },
     "metadata": {},
     "execution_count": 1
    }
   ],
   "cell_type": "code",
   "source": [
    "if !(\".\" in LOAD_PATH)\n",
    "    push!(LOAD_PATH, \".\")\n",
    "end"
   ],
   "metadata": {},
   "execution_count": 1
  },
  {
   "cell_type": "markdown",
   "source": [
    "First, using necessary modules:"
   ],
   "metadata": {}
  },
  {
   "outputs": [],
   "cell_type": "code",
   "source": [
    "using ClimateMachine.BalanceLaws\n",
    "using ClimateMachine.VariableTemplates\n",
    "using StaticArrays, Test"
   ],
   "metadata": {},
   "execution_count": 2
  },
  {
   "cell_type": "markdown",
   "source": [
    "Import methods to overload"
   ],
   "metadata": {}
  },
  {
   "outputs": [],
   "cell_type": "code",
   "source": [
    "import ClimateMachine.BalanceLaws: prognostic_vars, eq_tends, flux"
   ],
   "metadata": {},
   "execution_count": 3
  },
  {
   "cell_type": "markdown",
   "source": [
    "## Define a balance law"
   ],
   "metadata": {}
  },
  {
   "cell_type": "markdown",
   "source": [
    "Here, we define a simple balance law:"
   ],
   "metadata": {}
  },
  {
   "outputs": [],
   "cell_type": "code",
   "source": [
    "struct MyBalanceLaw <: BalanceLaw end"
   ],
   "metadata": {},
   "execution_count": 4
  },
  {
   "cell_type": "markdown",
   "source": [
    "## Define prognostic variable types"
   ],
   "metadata": {}
  },
  {
   "cell_type": "markdown",
   "source": [
    "Here, we'll define some prognostic variable types,\n",
    "by sub-typing `PrognosticVariable`, for mass and energy:"
   ],
   "metadata": {}
  },
  {
   "outputs": [],
   "cell_type": "code",
   "source": [
    "struct Mass <: PrognosticVariable end\n",
    "struct Energy <: PrognosticVariable end"
   ],
   "metadata": {},
   "execution_count": 5
  },
  {
   "cell_type": "markdown",
   "source": [
    "Define `prognostic_vars`,\n",
    "which returns _all_ prognostic variables"
   ],
   "metadata": {}
  },
  {
   "outputs": [],
   "cell_type": "code",
   "source": [
    "prognostic_vars(::MyBalanceLaw) = (Mass(), Energy());"
   ],
   "metadata": {},
   "execution_count": 6
  },
  {
   "cell_type": "markdown",
   "source": [
    "## Define some tendencies"
   ],
   "metadata": {}
  },
  {
   "cell_type": "markdown",
   "source": [
    "Tendency definitions can be shared across all\n",
    "prognostic variables:"
   ],
   "metadata": {}
  },
  {
   "outputs": [],
   "cell_type": "code",
   "source": [
    "struct Advection{PV} <: TendencyDef{Flux{FirstOrder}, PV} end\n",
    "struct Source1{PV} <: TendencyDef{Source, PV} end\n",
    "struct Source2{PV} <: TendencyDef{Source, PV} end"
   ],
   "metadata": {},
   "execution_count": 7
  },
  {
   "cell_type": "markdown",
   "source": [
    "We can also permit tendency definitions to be defined for\n",
    "only the relevant prognostic variables: here, we restrict\n",
    "the second order flux, Diffusion, to be defined only for Energy.\n",
    "Doing this means that if we try to create `Diffusion{Mass}()`,\n",
    "an error will be thrown."
   ],
   "metadata": {}
  },
  {
   "outputs": [],
   "cell_type": "code",
   "source": [
    "struct Diffusion{PV <: Energy} <: TendencyDef{Flux{SecondOrder}, PV} end"
   ],
   "metadata": {},
   "execution_count": 8
  },
  {
   "cell_type": "markdown",
   "source": [
    "Define `eq_tends`,\n",
    "which returns a tuple of tendency definitions (those sub-typed\n",
    "by `TendencyDef`),\n",
    "given\n",
    " - the prognostic variable\n",
    " - the model (balance law)\n",
    " - the tendency type (`Flux` or\n",
    "   `Source`)"
   ],
   "metadata": {}
  },
  {
   "outputs": [],
   "cell_type": "code",
   "source": [
    "#! format: off\n",
    "eq_tends(pv::PV, ::MyBalanceLaw, ::Flux{FirstOrder}) where {PV <: Mass} = (Advection{PV}(),);\n",
    "eq_tends(pv::PV, ::MyBalanceLaw, ::Flux{FirstOrder}) where {PV <: Energy} = (Advection{PV}(),);\n",
    "eq_tends(pv::PV, ::MyBalanceLaw, ::Flux{SecondOrder}) where {PV <: Mass} = ();\n",
    "eq_tends(pv::PV, ::MyBalanceLaw, ::Flux{SecondOrder}) where {PV <: Energy} = (Diffusion{PV}(),);\n",
    "eq_tends(pv::PV, ::MyBalanceLaw, ::Source) where {PV <: Mass} = (Source1{PV}(), Source2{PV}());\n",
    "eq_tends(pv::PV, ::MyBalanceLaw, ::Source) where {PV <: Energy} = (Source1{PV}(), Source2{PV}());\n",
    "#! format: on"
   ],
   "metadata": {},
   "execution_count": 9
  },
  {
   "cell_type": "markdown",
   "source": [
    "## Testing `prognostic_vars` `eq_tends`"
   ],
   "metadata": {}
  },
  {
   "cell_type": "markdown",
   "source": [
    "To test that `prognostic_vars` and `eq_tends` were\n",
    "implemented correctly, we'll create a balance law\n",
    "instance and call `show_tendencies`,\n",
    "to make sure that the tendency table is accurate."
   ],
   "metadata": {}
  },
  {
   "outputs": [
    {
     "name": "stdout",
     "output_type": "stream",
     "text": [
      "\n",
      "PDE: ∂_t Y_i + (∇•F_1(Y))_i + (∇•F_2(Y,G)))_i = (S(Y,G))_i\n",
      "┌──────────┬──────────────────┬───────────────────┬────────────────────┐\n",
      "│ Equation │ Flux{FirstOrder} │ Flux{SecondOrder} │             Source │\n",
      "│    (Y_i) │            (F_1) │             (F_2) │                (S) │\n",
      "├──────────┼──────────────────┼───────────────────┼────────────────────┤\n",
      "│     Mass │      (Advection) │                () │ (Source1, Source2) │\n",
      "│   Energy │      (Advection) │       (Diffusion) │ (Source1, Source2) │\n",
      "└──────────┴──────────────────┴───────────────────┴────────────────────┘\n",
      "\n"
     ]
    }
   ],
   "cell_type": "code",
   "source": [
    "bl = MyBalanceLaw()\n",
    "show_tendencies(bl; table_complete = true)"
   ],
   "metadata": {},
   "execution_count": 10
  },
  {
   "cell_type": "markdown",
   "source": [
    "The table looks correct. Now we're ready to\n",
    "add the specification layer."
   ],
   "metadata": {}
  },
  {
   "cell_type": "markdown",
   "source": [
    "## Adding the tendency specification layer"
   ],
   "metadata": {}
  },
  {
   "cell_type": "markdown",
   "source": [
    "For the purpose of this tutorial, we'll only focus\n",
    "on adding the layer to the first order flux, since\n",
    "doing so for the second order flux and source\n",
    "functions follow the same exact pattern. In other words,\n",
    "we'll add a layer that tests the `Flux{FirstOrder}` column\n",
    "in the table above. First, we'll define individual\n",
    "`flux` kernels:"
   ],
   "metadata": {}
  },
  {
   "outputs": [],
   "cell_type": "code",
   "source": [
    "flux(::Advection{Mass}, bl::MyBalanceLaw, args) = args.state.ρ;\n",
    "flux(::Advection{Energy}, bl::MyBalanceLaw, args) = args.state.ρe;"
   ],
   "metadata": {},
   "execution_count": 11
  },
  {
   "cell_type": "markdown",
   "source": [
    "Define `flux_first_order!` and utilize `eq_tends`"
   ],
   "metadata": {}
  },
  {
   "outputs": [],
   "cell_type": "code",
   "source": [
    "function flux_first_order!(\n",
    "    bl::MyBalanceLaw,\n",
    "    flx::Grad,\n",
    "    state::Vars,\n",
    "    aux,\n",
    "    t,\n",
    "    direction,\n",
    ")\n",
    "\n",
    "    vec_pad = SVector(1, 1, 1)\n",
    "    tend = Flux{FirstOrder}()\n",
    "    args = (; state, aux, t, direction)\n",
    "\n",
    "    # `Σfluxes(eq_tends(Mass(), bl, tend), bl, args)` calls\n",
    "    # `flux(::Advection{Mass}, ...)` defined above:\n",
    "    flx.ρ = Σfluxes(eq_tends(Mass(), bl, tend), bl, args) .* vec_pad\n",
    "\n",
    "    # `Σfluxes(eq_tends(Energy(), bl, tend), bl, args)` calls\n",
    "    # `flux(::Advection{Energy}, ...)` defined above:\n",
    "    flx.ρe = Σfluxes(eq_tends(Energy(), bl, tend), bl, args) .* vec_pad\n",
    "    return nothing\n",
    "end;"
   ],
   "metadata": {},
   "execution_count": 12
  },
  {
   "cell_type": "markdown",
   "source": [
    "## Testing the tendency specification layer"
   ],
   "metadata": {}
  },
  {
   "cell_type": "markdown",
   "source": [
    "Now, let's test `flux_first_order!` we need to initialize\n",
    "some dummy data to call it first:"
   ],
   "metadata": {}
  },
  {
   "outputs": [],
   "cell_type": "code",
   "source": [
    "FT = Float64; # float type\n",
    "aux = (); # auxiliary fields\n",
    "t = 0.0; # time\n",
    "direction = nothing; # Direction\n",
    "\n",
    "state = Vars{@vars(ρ::FT, ρe::FT)}([1, 2]);\n",
    "flx = Grad{@vars(ρ::FT, ρe::FT)}(zeros(MArray{Tuple{3, 2}, FT}));"
   ],
   "metadata": {},
   "execution_count": 13
  },
  {
   "cell_type": "markdown",
   "source": [
    "call `flux_first_order!`"
   ],
   "metadata": {}
  },
  {
   "outputs": [],
   "cell_type": "code",
   "source": [
    "flux_first_order!(bl, flx, state, aux, t, direction);"
   ],
   "metadata": {},
   "execution_count": 14
  },
  {
   "cell_type": "markdown",
   "source": [
    "Test that `flx` has been properly mutated:"
   ],
   "metadata": {}
  },
  {
   "outputs": [
    {
     "name": "stdout",
     "output_type": "stream",
     "text": [
      "Test Summary: | Pass  Total\n",
      "Test results  |    2      2\n"
     ]
    },
    {
     "output_type": "execute_result",
     "data": {
      "text/plain": "Test.DefaultTestSet(\"Test results\", Any[], 2, false)"
     },
     "metadata": {},
     "execution_count": 15
    }
   ],
   "cell_type": "code",
   "source": [
    "@testset \"Test results\" begin\n",
    "    @test flx.ρ == [1, 1, 1]\n",
    "    @test flx.ρe == [2, 2, 2]\n",
    "end"
   ],
   "metadata": {},
   "execution_count": 15
  },
  {
   "cell_type": "markdown",
   "source": [
    "!!! tip\n",
    "    A useful pattern for finding tendency definitions\n",
    "    is to globally search for, for example,\n",
    "    `::Gravity{Momentum` or `::Gravity{`, which\n",
    "    (at the time of this writing) yields the results:\n",
    "    `function source(s::Gravity{Momentum}, m, args)`"
   ],
   "metadata": {}
  },
  {
   "outputs": [],
   "cell_type": "code",
   "source": [
    "nothing"
   ],
   "metadata": {},
   "execution_count": 16
  },
  {
   "cell_type": "markdown",
   "source": [
    "---\n",
    "\n",
    "*This notebook was generated using [Literate.jl](https://github.com/fredrikekre/Literate.jl).*"
   ],
   "metadata": {}
  }
 ],
 "nbformat_minor": 3,
 "metadata": {
  "language_info": {
   "file_extension": ".jl",
   "mimetype": "application/julia",
   "name": "julia",
   "version": "1.5.2"
  },
  "kernelspec": {
   "name": "julia-1.5",
   "display_name": "Julia 1.5.2",
   "language": "julia"
  }
 },
 "nbformat": 4
}
