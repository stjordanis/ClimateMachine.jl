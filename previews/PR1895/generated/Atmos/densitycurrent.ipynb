{
 "cells": [
  {
   "cell_type": "markdown",
   "source": [
    "# Density Current\n",
    "\n",
    "In this example, we demonstrate the usage of the `ClimateMachine`\n",
    " to solve the density current test by Straka 1993.\n",
    "We solve a flow in a box configuration, which is\n",
    "representative of a large-eddy simulation. Several versions of the problem\n",
    "setup may be found in literature, but the general idea is to examine the\n",
    "vertical ascent of a thermal _bubble_ (we can interpret these as simple\n",
    "representation of convective updrafts).\n",
    "\n",
    "## Description of experiment\n",
    "The setup described below is such that the simulation reaches completion\n",
    "(timeend = 900 s) in approximately 4 minutes of wall-clock time on 1 GPU\n",
    "\n",
    "1) Dry Density Current (circular potential temperature perturbation)\n",
    "2) Boundaries\n",
    "   - `Impenetrable(FreeSlip())` - no momentum flux, no mass flux through\n",
    "     walls.\n",
    "   - `Impermeable()` - non-porous walls, i.e. no diffusive fluxes through\n",
    "      walls.\n",
    "3) Domain - 25600m (horizontal) x 10000m (horizontal) x 6400m (vertical)\n",
    "4) Resolution - 100m effective resolution\n",
    "5) Total simulation time - 900s\n",
    "6) Mesh Aspect Ratio (Effective resolution) 1:1\n",
    "7) Overrides defaults for\n",
    "   - CPU Initialisation\n",
    "   - Time integrator\n",
    "   - Sources\n",
    "   - Smagorinsky Coefficient _C_smag\n",
    "8) Default settings can be found in `src/Driver/<files>.jl`"
   ],
   "metadata": {}
  },
  {
   "cell_type": "markdown",
   "source": [
    "## Boilerplate (Using Modules)\n",
    "\n",
    "#### Skip Section\n",
    "\n",
    "Before setting up our experiment, we recognize that we need to import some\n",
    "pre-defined functions from other packages. Julia allows us to use existing\n",
    "modules (variable workspaces), or write our own to do so.  Complete\n",
    "documentation for the Julia module system can be found\n",
    "[here](https://docs.julialang.org/en/v1/manual/modules/#)."
   ],
   "metadata": {}
  },
  {
   "cell_type": "markdown",
   "source": [
    "We need to use the `ClimateMachine` module! This imports all functions\n",
    "specific to atmospheric and ocean flow modeling.  While we do not cover the\n",
    "ins-and-outs of the contents of each of these we provide brief descriptions\n",
    "of the utility of each of the loaded packages."
   ],
   "metadata": {}
  },
  {
   "outputs": [],
   "cell_type": "code",
   "source": [
    "using ClimateMachine\n",
    "ClimateMachine.init(parse_clargs = true)\n",
    "\n",
    "using ClimateMachine.Atmos\n",
    "using ClimateMachine.Orientations"
   ],
   "metadata": {},
   "execution_count": 1
  },
  {
   "cell_type": "markdown",
   "source": [
    "- Required so that we inherit the appropriate model types for the large-eddy\n",
    "  simulation (LES) and global-circulation-model (GCM) configurations."
   ],
   "metadata": {}
  },
  {
   "outputs": [],
   "cell_type": "code",
   "source": [
    "using ClimateMachine.ConfigTypes"
   ],
   "metadata": {},
   "execution_count": 2
  },
  {
   "cell_type": "markdown",
   "source": [
    "- Required so that we may define diagnostics configurations, e.g. choice of\n",
    "  file-writer, choice of output variable sets, output-frequency and directory,"
   ],
   "metadata": {}
  },
  {
   "outputs": [],
   "cell_type": "code",
   "source": [
    "using ClimateMachine.Diagnostics"
   ],
   "metadata": {},
   "execution_count": 3
  },
  {
   "cell_type": "markdown",
   "source": [
    "- Required so that we may define (or utilise existing functions) functions\n",
    "  that are `called-back` or executed at frequencies of either timesteps,\n",
    "  simulation-time, or wall-clock time."
   ],
   "metadata": {}
  },
  {
   "outputs": [],
   "cell_type": "code",
   "source": [
    "using ClimateMachine.GenericCallbacks"
   ],
   "metadata": {},
   "execution_count": 4
  },
  {
   "cell_type": "markdown",
   "source": [
    "- Required so we load the appropriate functions for the time-integration\n",
    "  component. Contains ODESolver methods."
   ],
   "metadata": {}
  },
  {
   "outputs": [],
   "cell_type": "code",
   "source": [
    "using ClimateMachine.ODESolvers"
   ],
   "metadata": {},
   "execution_count": 5
  },
  {
   "cell_type": "markdown",
   "source": [
    "- Required for utility of spatial filtering functions (e.g. positivity\n",
    "  preservation)"
   ],
   "metadata": {}
  },
  {
   "outputs": [],
   "cell_type": "code",
   "source": [
    "using ClimateMachine.Mesh.Filters"
   ],
   "metadata": {},
   "execution_count": 6
  },
  {
   "cell_type": "markdown",
   "source": [
    "- Required so functions for computation of temperature profiles."
   ],
   "metadata": {}
  },
  {
   "outputs": [],
   "cell_type": "code",
   "source": [
    "using ClimateMachine.TemperatureProfiles"
   ],
   "metadata": {},
   "execution_count": 7
  },
  {
   "cell_type": "markdown",
   "source": [
    "- Required so functions for computation of moist thermodynamic quantities and turbulence closures\n",
    "are available."
   ],
   "metadata": {}
  },
  {
   "outputs": [],
   "cell_type": "code",
   "source": [
    "using ClimateMachine.Thermodynamics\n",
    "using ClimateMachine.TurbulenceClosures"
   ],
   "metadata": {},
   "execution_count": 8
  },
  {
   "cell_type": "markdown",
   "source": [
    "- Required so we may access our variable arrays by a sensible naming\n",
    "  convention rather than by numerical array indices."
   ],
   "metadata": {}
  },
  {
   "outputs": [],
   "cell_type": "code",
   "source": [
    "using ClimateMachine.VariableTemplates"
   ],
   "metadata": {},
   "execution_count": 9
  },
  {
   "cell_type": "markdown",
   "source": [
    "- Required so we may access planet parameters\n",
    "  ([CLIMAParameters](https://github.com/CliMA/CLIMAParameters.jl)\n",
    "  specific to this problem include the gas constant, specific heats,\n",
    "  mean-sea-level pressure, gravity and the Smagorinsky coefficient)"
   ],
   "metadata": {}
  },
  {
   "cell_type": "markdown",
   "source": [
    "In ClimateMachine we use `StaticArrays` for our variable arrays."
   ],
   "metadata": {}
  },
  {
   "outputs": [],
   "cell_type": "code",
   "source": [
    "using StaticArrays"
   ],
   "metadata": {},
   "execution_count": 10
  },
  {
   "cell_type": "markdown",
   "source": [
    "We also use the `Test` package to help with unit tests and continuous\n",
    "integration systems to design sensible tests for our experiment to ensure new\n",
    "/ modified blocks of code don't damage the fidelity of the physics. The test\n",
    "defined within this experiment is not a unit test for a specific\n",
    "subcomponent, but ensures time-integration of the defined problem conditions\n",
    "within a reasonable tolerance. Immediately useful macros and functions from\n",
    "this include `@test` and `@testset` which will allow us to define the testing\n",
    "parameter sets."
   ],
   "metadata": {}
  },
  {
   "outputs": [
    {
     "output_type": "execute_result",
     "data": {
      "text/plain": "Main.##347.EarthParameterSet()"
     },
     "metadata": {},
     "execution_count": 11
    }
   ],
   "cell_type": "code",
   "source": [
    "using Test\n",
    "\n",
    "using CLIMAParameters\n",
    "using CLIMAParameters.Atmos.SubgridScale: C_smag\n",
    "using CLIMAParameters.Planet: R_d, cp_d, cv_d, MSLP, grav\n",
    "struct EarthParameterSet <: AbstractEarthParameterSet end\n",
    "const param_set = EarthParameterSet()"
   ],
   "metadata": {},
   "execution_count": 11
  },
  {
   "cell_type": "markdown",
   "source": [
    "## Initial Conditions"
   ],
   "metadata": {}
  },
  {
   "outputs": [
    {
     "output_type": "execute_result",
     "data": {
      "text/plain": "init_densitycurrent! (generic function with 1 method)"
     },
     "metadata": {},
     "execution_count": 12
    }
   ],
   "cell_type": "code",
   "source": [
    "function init_densitycurrent!(problem, bl, state, aux, localgeo, t)\n",
    "    (x, y, z) = localgeo.coord\n",
    "\n",
    "    # Problem float-type\n",
    "    FT = eltype(state)\n",
    "\n",
    "    # Unpack constant parameters\n",
    "    R_gas::FT = R_d(bl.param_set)\n",
    "    c_p::FT = cp_d(bl.param_set)\n",
    "    c_v::FT = cv_d(bl.param_set)\n",
    "    p0::FT = MSLP(bl.param_set)\n",
    "    _grav::FT = grav(bl.param_set)\n",
    "    γ::FT = c_p / c_v\n",
    "\n",
    "    # Define bubble center and background potential temperature\n",
    "    xc::FT = 0\n",
    "    yc::FT = 0\n",
    "    zc::FT = 3000\n",
    "    rx::FT = 4000\n",
    "    rz::FT = 2000\n",
    "    r = sqrt(((x - xc)^2) / rx^2 + ((z - zc)^2) / rz^2)\n",
    "\n",
    "    # TODO: clean this up, or add convenience function:\n",
    "    # This is configured in the reference hydrostatic state\n",
    "    θ_ref::FT = bl.ref_state.virtual_temperature_profile.T_surface\n",
    "    Δθ::FT = 0\n",
    "    θamplitude::FT = -15.0\n",
    "\n",
    "    # Compute temperature difference over bubble region\n",
    "    if r <= 1\n",
    "        Δθ = 0.5 * θamplitude * (1 + cospi(r))\n",
    "    end\n",
    "\n",
    "    # Compute perturbed thermodynamic state:\n",
    "    θ = θ_ref + Δθ                                      ## potential temperature\n",
    "    π_exner = FT(1) - _grav / (c_p * θ) * z             ## exner pressure\n",
    "    ρ = p0 / (R_gas * θ) * (π_exner)^(c_v / R_gas)      ## density\n",
    "    T = θ * π_exner\n",
    "    e_int = internal_energy(bl.param_set, T)\n",
    "    ts = PhaseDry(bl.param_set, e_int, ρ)\n",
    "    ρu = SVector(FT(0), FT(0), FT(0))                   ## momentum\n",
    "    # State (prognostic) variable assignment\n",
    "    e_kin = FT(0)                                       ## kinetic energy\n",
    "    e_pot = gravitational_potential(bl.orientation, aux)## potential energy\n",
    "    ρe_tot = ρ * total_energy(e_kin, e_pot, ts)         ## total energy\n",
    "\n",
    "    # Assign State Variables\n",
    "    state.ρ = ρ\n",
    "    state.ρu = ρu\n",
    "    state.ρe = ρe_tot\n",
    "end"
   ],
   "metadata": {},
   "execution_count": 12
  },
  {
   "cell_type": "markdown",
   "source": [
    "## Model Configuration\n",
    "We define a configuration function to assist in prescribing the physical\n",
    "model."
   ],
   "metadata": {}
  },
  {
   "outputs": [
    {
     "output_type": "execute_result",
     "data": {
      "text/plain": "main (generic function with 1 method)"
     },
     "metadata": {},
     "execution_count": 13
    }
   ],
   "cell_type": "code",
   "source": [
    "function config_densitycurrent(\n",
    "    ::Type{FT},\n",
    "    N,\n",
    "    resolution,\n",
    "    xmax,\n",
    "    ymax,\n",
    "    zmax,\n",
    ") where {FT}\n",
    "\n",
    "    # Choose an Explicit Single-rate Solver LSRK144 from the existing [ODESolvers](@ref\n",
    "    # ODESolvers-docs) options Apply the outer constructor to define the\n",
    "    ode_solver = ClimateMachine.ExplicitSolverType(\n",
    "        solver_method = LSRK144NiegemannDiehlBusch,\n",
    "    )\n",
    "\n",
    "    # The model coefficient for the turbulence closure is defined via the\n",
    "    # [CLIMAParameters\n",
    "    # package](https://CliMA.github.io/CLIMAParameters.jl/dev/) A reference\n",
    "    # state for the linearisation step is also defined.\n",
    "    T_surface = FT(300)\n",
    "    T_min_ref = FT(0)\n",
    "    T_profile = DryAdiabaticProfile{FT}(param_set, T_surface, T_min_ref)\n",
    "    ref_state = HydrostaticState(T_profile)\n",
    "\n",
    "    # The fun part! Here we assemble the `AtmosModel`.\n",
    "    ##md # !!! note\n",
    "    ##md #     Docs on model subcomponent options can be found here:\n",
    "    ##md #     - [`param_set`](https://CliMA.github.io/CLIMAParameters.jl/dev/)\n",
    "    ##md #     - `turbulence`\n",
    "    ##md #     - `source`\n",
    "    ##md #     - `init_state`\n",
    "\n",
    "    _C_smag = FT(0.21)\n",
    "    model = AtmosModel{FT}(\n",
    "        AtmosLESConfigType,                             # Flow in a box, requires the AtmosLESConfigType\n",
    "        param_set;                                      # Parameter set corresponding to earth parameters\n",
    "        init_state_prognostic = init_densitycurrent!,   # Apply the initial condition\n",
    "        ref_state = ref_state,                          # Reference state\n",
    "        turbulence = Vreman(_C_smag),                   # Turbulence closure model\n",
    "        moisture = DryModel(),                          # Exclude moisture variables\n",
    "        source = (Gravity(),),                          # Gravity is the only source term here\n",
    "        tracers = NoTracers(),                          # Tracer model with diffusivity coefficients\n",
    "    )\n",
    "\n",
    "    # Finally, we pass a `Problem Name` string, the mesh information, and the\n",
    "    # model type to  the `AtmosLESConfiguration` object.\n",
    "    config = ClimateMachine.AtmosLESConfiguration(\n",
    "        \"DryDensitycurrent\",      # Problem title [String]\n",
    "        N,                        # Polynomial order [Int]\n",
    "        resolution,               # (Δx, Δy, Δz) effective resolution [m]\n",
    "        xmax,                     # Domain maximum size [m]\n",
    "        ymax,                     # Domain maximum size [m]\n",
    "        zmax,                     # Domain maximum size [m]\n",
    "        param_set,                # Parameter set.\n",
    "        init_densitycurrent!,     # Function specifying initial condition\n",
    "        solver_type = ode_solver, # Time-integrator type\n",
    "        model = model,            # Model type\n",
    "        periodicity = (false, false, false),\n",
    "        boundary = ((1, 1), (1, 1), (1, 1)),   # Set all boundaries to solid walls\n",
    "    )\n",
    "    return config\n",
    "end\n",
    "\n",
    "\n",
    "function main()\n",
    "    # These are essentially arguments passed to the\n",
    "    # `config_densitycurrent` function.  For type\n",
    "    # consistency we explicitly define the problem floating-precision.\n",
    "    FT = Float64\n",
    "    # We need to specify the polynomial order for the DG discretization,\n",
    "    # effective resolution, simulation end-time, the domain bounds, and the\n",
    "    # courant-number for the time-integrator. Note how the time-integration\n",
    "    # components `solver_config` are distinct from the spatial / model\n",
    "    # components in `driver_config`. `init_on_cpu` is a helper keyword argument\n",
    "    # that forces problem initialisation on CPU (thereby allowing the use of\n",
    "    # random seeds, spline interpolants and other special functions at the\n",
    "    # initialisation step.)\n",
    "    N = 4\n",
    "    Δx = FT(100)\n",
    "    Δy = FT(250)\n",
    "    Δv = FT(100)\n",
    "    resolution = (Δx, Δy, Δv)\n",
    "    xmax = FT(25600)\n",
    "    ymax = FT(1000)\n",
    "    zmax = FT(6400)\n",
    "    t0 = FT(0)\n",
    "    timeend = FT(100)\n",
    "    CFL = FT(1.5)\n",
    "\n",
    "    # Assign configurations so they can be passed to the `invoke!` function\n",
    "    driver_config = config_densitycurrent(FT, N, resolution, xmax, ymax, zmax)\n",
    "    solver_config = ClimateMachine.SolverConfiguration(\n",
    "        t0,\n",
    "        timeend,\n",
    "        driver_config,\n",
    "        init_on_cpu = true,\n",
    "        Courant_number = CFL,\n",
    "    )\n",
    "\n",
    "    # Invoke solver (calls `solve!` function for time-integrator), pass the driver, solver and diagnostic config\n",
    "    # information.\n",
    "    result =\n",
    "        ClimateMachine.invoke!(solver_config; check_euclidean_distance = true)\n",
    "\n",
    "    # Check that the solution norm is reasonable.\n",
    "    @test isapprox(result, FT(1); atol = 1.5e-2)\n",
    "end"
   ],
   "metadata": {},
   "execution_count": 13
  },
  {
   "cell_type": "markdown",
   "source": [
    "The experiment definition is now complete. Time to run it.\n",
    "`julia --project=$CLIMA_HOME tutorials/Atmos/densitycurrent.jl --vtk 1smins`\n",
    "to run with VTK output enabled at intervals of 1 simulation minute.\n",
    "\n",
    "## References\n",
    "\n",
    "- [Straka1993](@cite)\n",
    "- [Carpenter1990](@cite)"
   ],
   "metadata": {}
  },
  {
   "outputs": [
    {
     "name": "stdout",
     "output_type": "stream",
     "text": [
      "┌ Info: Model composition\n",
      "│     param_set = Main.##347.EarthParameterSet()\n",
      "│     problem = ClimateMachine.Atmos.AtmosProblem{Tuple{ClimateMachine.Atmos.AtmosBC{ClimateMachine.Atmos.Impenetrable{ClimateMachine.Atmos.FreeSlip},ClimateMachine.Atmos.Insulating,ClimateMachine.Atmos.Impermeable,ClimateMachine.Atmos.OutflowPrecipitation,ClimateMachine.Atmos.ImpermeableTracer,ClimateMachine.TurbulenceConvection.NoTurbConvBC},ClimateMachine.Atmos.AtmosBC{ClimateMachine.Atmos.Impenetrable{ClimateMachine.Atmos.FreeSlip},ClimateMachine.Atmos.Insulating,ClimateMachine.Atmos.Impermeable,ClimateMachine.Atmos.OutflowPrecipitation,ClimateMachine.Atmos.ImpermeableTracer,ClimateMachine.TurbulenceConvection.NoTurbConvBC}},typeof(Main.##347.init_densitycurrent!),typeof(ClimateMachine.Atmos.atmos_problem_init_state_auxiliary)}((ClimateMachine.Atmos.AtmosBC{ClimateMachine.Atmos.Impenetrable{ClimateMachine.Atmos.FreeSlip},ClimateMachine.Atmos.Insulating,ClimateMachine.Atmos.Impermeable,ClimateMachine.Atmos.OutflowPrecipitation,ClimateMachine.Atmos.ImpermeableTracer,ClimateMachine.TurbulenceConvection.NoTurbConvBC}(ClimateMachine.Atmos.Impenetrable{ClimateMachine.Atmos.FreeSlip}(ClimateMachine.Atmos.FreeSlip()), ClimateMachine.Atmos.Insulating(), ClimateMachine.Atmos.Impermeable(), ClimateMachine.Atmos.OutflowPrecipitation(), ClimateMachine.Atmos.ImpermeableTracer(), ClimateMachine.TurbulenceConvection.NoTurbConvBC()), ClimateMachine.Atmos.AtmosBC{ClimateMachine.Atmos.Impenetrable{ClimateMachine.Atmos.FreeSlip},ClimateMachine.Atmos.Insulating,ClimateMachine.Atmos.Impermeable,ClimateMachine.Atmos.OutflowPrecipitation,ClimateMachine.Atmos.ImpermeableTracer,ClimateMachine.TurbulenceConvection.NoTurbConvBC}(ClimateMachine.Atmos.Impenetrable{ClimateMachine.Atmos.FreeSlip}(ClimateMachine.Atmos.FreeSlip()), ClimateMachine.Atmos.Insulating(), ClimateMachine.Atmos.Impermeable(), ClimateMachine.Atmos.OutflowPrecipitation(), ClimateMachine.Atmos.ImpermeableTracer(), ClimateMachine.TurbulenceConvection.NoTurbConvBC())), Main.##347.init_densitycurrent!, ClimateMachine.Atmos.atmos_problem_init_state_auxiliary)\n",
      "│     orientation = ClimateMachine.Orientations.FlatOrientation()\n",
      "│     ref_state = ClimateMachine.Atmos.HydrostaticState{ClimateMachine.TemperatureProfiles.DryAdiabaticProfile{Float64},Float64}(ClimateMachine.TemperatureProfiles.DryAdiabaticProfile{Float64}(300.0, 0.0), 0.0)\n",
      "│     turbulence = ClimateMachine.TurbulenceClosures.Vreman{Float64}(0.21)\n",
      "│     turbconv = ClimateMachine.TurbulenceConvection.NoTurbConv()\n",
      "│     hyperdiffusion = ClimateMachine.TurbulenceClosures.NoHyperDiffusion()\n",
      "│     viscoussponge = ClimateMachine.TurbulenceClosures.NoViscousSponge()\n",
      "│     moisture = ClimateMachine.Atmos.DryModel()\n",
      "│     precipitation = ClimateMachine.Atmos.NoPrecipitation()\n",
      "│     radiation = ClimateMachine.Atmos.NoRadiation()\n",
      "│     source = (ClimateMachine.Atmos.Gravity{ClimateMachine.Atmos.Momentum}(),)\n",
      "│     tracers = ClimateMachine.Atmos.NoTracers()\n",
      "│     lsforcing = ClimateMachine.Atmos.NoLSForcing()\n",
      "│     data_config = nothing\n",
      "└ @ ClimateMachine /central/scratch/climaci/climatemachine-docs/478/climatemachine-docs/src/Driver/driver_configs.jl:137\n",
      "┌ Warning: This table is temporarily incomplete\n",
      "└ @ ClimateMachine.BalanceLaws /central/scratch/climaci/climatemachine-docs/478/climatemachine-docs/src/BalanceLaws/show_tendencies.jl:48\n",
      "\n",
      "PDE: ∂_t Y_i + (∇•F_1(Y))_i + (∇•F_2(Y,G)))_i = (S(Y,G))_i\n",
      "┌───────────────────────────────┬────────────────────────────┬─────────────────────────────────┬───────────┐\n",
      "│                      Equation │           Flux{FirstOrder} │               Flux{SecondOrder} │    Source │\n",
      "│                         (Y_i) │                      (F_1) │                           (F_2) │       (S) │\n",
      "├───────────────────────────────┼────────────────────────────┼─────────────────────────────────┼───────────┤\n",
      "│     ClimateMachine.Atmos.Mass │                   (Advect) │                              () │        () │\n",
      "│ ClimateMachine.Atmos.Momentum │ (Advect, PressureGradient) │                 (ViscousStress) │ (Gravity) │\n",
      "│   ClimateMachine.Atmos.Energy │         (Advect, Pressure) │ (ViscousFlux, DiffEnthalpyFlux) │        () │\n",
      "└───────────────────────────────┴────────────────────────────┴─────────────────────────────────┴───────────┘\n",
      "\n",
      "┌ Info: Establishing Atmos LES configuration for DryDensitycurrent\n",
      "│     precision               = Float64\n",
      "│     horiz polynomial order  = 4\n",
      "│     vert polynomial order   = 4\n",
      "│     domain                  = 25600.00 m x1000.00 m x6400.00 m\n",
      "│     resolution              = 100x250x100\n",
      "│     MPI ranks               = 1\n",
      "│     min(Δ_horz)             = 69.07 m\n",
      "│     min(Δ_vert)             = 69.07 m\n",
      "└ @ ClimateMachine /central/scratch/climaci/climatemachine-docs/478/climatemachine-docs/src/Driver/driver_configs.jl:196\n",
      "┌ Info: Initializing DryDensitycurrent\n",
      "└ @ ClimateMachine /central/scratch/climaci/climatemachine-docs/478/climatemachine-docs/src/Driver/solver_configs.jl:167\n",
      "┌ Info: Starting DryDensitycurrent\n",
      "│     dt              = 2.97619e-01\n",
      "│     timeend         =   100.00\n",
      "│     number of steps = 336\n",
      "│     norm(Q)         = 9.9116594163652954e+09\n",
      "└ @ ClimateMachine /central/scratch/climaci/climatemachine-docs/478/climatemachine-docs/src/Driver/Driver.jl:704\n",
      "┌ Info: Update\n",
      "│     simtime =     1.19 /   100.00\n",
      "│     wallclock = 00:01:01\n",
      "│     efficiency (simtime / wallclock) =   0.0195\n",
      "│     wallclock end (estimated) = 01:25:24\n",
      "│     norm(Q) = 9.9114674980155373e+09\n",
      "└ @ ClimateMachine.Callbacks /central/scratch/climaci/climatemachine-docs/478/climatemachine-docs/src/Driver/Callbacks/Callbacks.jl:75\n",
      "┌ Info: Update\n",
      "│     simtime =     9.82 /   100.00\n",
      "│     wallclock = 00:02:01\n",
      "│     efficiency (simtime / wallclock) =   0.0806\n",
      "│     wallclock end (estimated) = 00:20:41\n",
      "│     norm(Q) = 9.9092901915119171e+09\n",
      "└ @ ClimateMachine.Callbacks /central/scratch/climaci/climatemachine-docs/478/climatemachine-docs/src/Driver/Callbacks/Callbacks.jl:75\n",
      "┌ Info: Update\n",
      "│     simtime =    18.45 /   100.00\n",
      "│     wallclock = 00:03:03\n",
      "│     efficiency (simtime / wallclock) =   0.1006\n",
      "│     wallclock end (estimated) = 00:16:34\n",
      "│     norm(Q) = 9.9099244978237305e+09\n",
      "└ @ ClimateMachine.Callbacks /central/scratch/climaci/climatemachine-docs/478/climatemachine-docs/src/Driver/Callbacks/Callbacks.jl:75\n",
      "┌ Info: Update\n",
      "│     simtime =    27.08 /   100.00\n",
      "│     wallclock = 00:04:03\n",
      "│     efficiency (simtime / wallclock) =   0.1112\n",
      "│     wallclock end (estimated) = 00:14:59\n",
      "│     norm(Q) = 9.9090792073353233e+09\n",
      "└ @ ClimateMachine.Callbacks /central/scratch/climaci/climatemachine-docs/478/climatemachine-docs/src/Driver/Callbacks/Callbacks.jl:75\n",
      "┌ Info: Update\n",
      "│     simtime =    36.01 /   100.00\n",
      "│     wallclock = 00:05:05\n",
      "│     efficiency (simtime / wallclock) =   0.1180\n",
      "│     wallclock end (estimated) = 00:14:07\n",
      "│     norm(Q) = 9.9101861717437325e+09\n",
      "└ @ ClimateMachine.Callbacks /central/scratch/climaci/climatemachine-docs/478/climatemachine-docs/src/Driver/Callbacks/Callbacks.jl:75\n",
      "┌ Info: Update\n",
      "│     simtime =    44.94 /   100.00\n",
      "│     wallclock = 00:06:06\n",
      "│     efficiency (simtime / wallclock) =   0.1226\n",
      "│     wallclock end (estimated) = 00:13:35\n",
      "│     norm(Q) = 9.9092322857428093e+09\n",
      "└ @ ClimateMachine.Callbacks /central/scratch/climaci/climatemachine-docs/478/climatemachine-docs/src/Driver/Callbacks/Callbacks.jl:75\n",
      "┌ Info: Update\n",
      "│     simtime =    54.17 /   100.00\n",
      "│     wallclock = 00:07:08\n",
      "│     efficiency (simtime / wallclock) =   0.1266\n",
      "│     wallclock end (estimated) = 00:13:10\n",
      "│     norm(Q) = 9.9097664147948437e+09\n",
      "└ @ ClimateMachine.Callbacks /central/scratch/climaci/climatemachine-docs/478/climatemachine-docs/src/Driver/Callbacks/Callbacks.jl:75\n",
      "┌ Info: Update\n",
      "│     simtime =    63.39 /   100.00\n",
      "│     wallclock = 00:08:09\n",
      "│     efficiency (simtime / wallclock) =   0.1295\n",
      "│     wallclock end (estimated) = 00:12:51\n",
      "│     norm(Q) = 9.9093960300894184e+09\n",
      "└ @ ClimateMachine.Callbacks /central/scratch/climaci/climatemachine-docs/478/climatemachine-docs/src/Driver/Callbacks/Callbacks.jl:75\n",
      "┌ Info: Update\n",
      "│     simtime =    72.62 /   100.00\n",
      "│     wallclock = 00:09:10\n",
      "│     efficiency (simtime / wallclock) =   0.1320\n",
      "│     wallclock end (estimated) = 00:12:37\n",
      "│     norm(Q) = 9.9102337613543377e+09\n",
      "└ @ ClimateMachine.Callbacks /central/scratch/climaci/climatemachine-docs/478/climatemachine-docs/src/Driver/Callbacks/Callbacks.jl:75\n",
      "┌ Info: Update\n",
      "│     simtime =    81.85 /   100.00\n",
      "│     wallclock = 00:10:10\n",
      "│     efficiency (simtime / wallclock) =   0.1340\n",
      "│     wallclock end (estimated) = 00:12:26\n",
      "│     norm(Q) = 9.9099304923447609e+09\n",
      "└ @ ClimateMachine.Callbacks /central/scratch/climaci/climatemachine-docs/478/climatemachine-docs/src/Driver/Callbacks/Callbacks.jl:75\n",
      "┌ Info: Update\n",
      "│     simtime =    91.07 /   100.00\n",
      "│     wallclock = 00:11:11\n",
      "│     efficiency (simtime / wallclock) =   0.1357\n",
      "│     wallclock end (estimated) = 00:12:16\n",
      "│     norm(Q) = 9.9103122862453766e+09\n",
      "└ @ ClimateMachine.Callbacks /central/scratch/climaci/climatemachine-docs/478/climatemachine-docs/src/Driver/Callbacks/Callbacks.jl:75\n",
      "┌ Info: Finished\n",
      "│     norm(Q)            = 9.9101374895123501e+09\n",
      "│     norm(Q) / norm(Q₀) = 9.9984645085257551e-01\n",
      "│     norm(Q) - norm(Q₀) = -1.5219268529453278e+06\n",
      "└ @ ClimateMachine /central/scratch/climaci/climatemachine-docs/478/climatemachine-docs/src/Driver/Driver.jl:742\n",
      "┌ Info: Euclidean distance\n",
      "│     norm(Q - Qe)            = 1.8979984437813252e+08\n",
      "│     norm(Q - Qe) / norm(Qe) = 1.9149149138917246e-02\n",
      "└ @ ClimateMachine /central/scratch/climaci/climatemachine-docs/478/climatemachine-docs/src/Driver/Driver.jl:758\n"
     ]
    },
    {
     "output_type": "execute_result",
     "data": {
      "text/plain": "\u001b[32m\u001b[1mTest Passed\u001b[22m\u001b[39m"
     },
     "metadata": {},
     "execution_count": 14
    }
   ],
   "cell_type": "code",
   "source": [
    "main()"
   ],
   "metadata": {},
   "execution_count": 14
  },
  {
   "cell_type": "markdown",
   "source": [
    "---\n",
    "\n",
    "*This notebook was generated using [Literate.jl](https://github.com/fredrikekre/Literate.jl).*"
   ],
   "metadata": {}
  }
 ],
 "nbformat_minor": 3,
 "metadata": {
  "language_info": {
   "file_extension": ".jl",
   "mimetype": "application/julia",
   "name": "julia",
   "version": "1.5.2"
  },
  "kernelspec": {
   "name": "julia-1.5",
   "display_name": "Julia 1.5.2",
   "language": "julia"
  }
 },
 "nbformat": 4
}
