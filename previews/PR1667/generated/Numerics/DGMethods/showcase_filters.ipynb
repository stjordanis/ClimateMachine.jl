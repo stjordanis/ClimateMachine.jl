{
 "cells": [
  {
   "cell_type": "markdown",
   "source": [
    "# Filters\n",
    "In this tutorial we show the result of applying filters\n",
    "available in the CliMA codebase in a 1 dimensional box advection setup.\n",
    "See [Filters API](https://clima.github.io/ClimateMachine.jl/latest/APIs/Numerics/Meshes/Mesh/#Filters-1) for filters interface details."
   ],
   "metadata": {}
  },
  {
   "outputs": [],
   "cell_type": "code",
   "source": [
    "using ClimateMachine\n",
    "const clima_dir = dirname(dirname(pathof(ClimateMachine)));\n",
    "include(joinpath(clima_dir, \"tutorials\", \"Numerics\", \"DGMethods\", \"Box1D.jl\"))\n",
    "\n",
    "output_dir = @__DIR__;\n",
    "mkpath(output_dir);"
   ],
   "metadata": {},
   "execution_count": 1
  },
  {
   "cell_type": "markdown",
   "source": [
    "The unfiltered result of the box advection test for order 4 polynomial with\n",
    "central flux is"
   ],
   "metadata": {}
  },
  {
   "outputs": [
    {
     "name": "stdout",
     "output_type": "stream",
     "text": [
      "┌ Info: Model composition\n",
      "│     param_set = Main.##401.EarthParameterSet()\n",
      "│     init_q = 0.0\n",
      "│     amplitude = 1.0\n",
      "│     velo = 1.0\n",
      "└ @ ClimateMachine /home/runner/work/ClimateMachine.jl/ClimateMachine.jl/src/Driver/driver_configs.jl:107\n",
      "┌ Info: Establishing single stack configuration for Box1D\n",
      "│     precision        = Float64\n",
      "│     polynomial order = 4\n",
      "│     domain_min       = 0.00 m x0.00 m x0.00 m\n",
      "│     domain_max       = 1.00 m x1.00 m x350.00 m\n",
      "│     #vert elems      = 128\n",
      "│     MPI ranks        = 1\n",
      "│     min(Δ_horz)      = 0.17 m\n",
      "│     min(Δ_vert)      = 0.47 m\n",
      "└ @ ClimateMachine /home/runner/work/ClimateMachine.jl/ClimateMachine.jl/src/Driver/driver_configs.jl:543\n",
      "┌ Info: Initializing Box1D\n",
      "└ @ ClimateMachine /home/runner/work/ClimateMachine.jl/ClimateMachine.jl/src/Driver/solver_configs.jl:172\n",
      "┌ Info: Starting Box1D\n",
      "│     dt              = 4.71698e-01\n",
      "│     timeend         =   450.00\n",
      "│     number of steps = 954\n",
      "│     norm(Q)         = 7.0845587175365097e+00\n",
      "└ @ ClimateMachine /home/runner/work/ClimateMachine.jl/ClimateMachine.jl/src/Driver/Driver.jl:675\n",
      "┌ Info: Finished\n",
      "│     norm(Q)            = 7.0629054001769518e+00\n",
      "│     norm(Q) / norm(Q₀) = 9.9694358982360343e-01\n",
      "│     norm(Q) - norm(Q₀) = -2.1653317359557889e-02\n",
      "└ @ ClimateMachine /home/runner/work/ClimateMachine.jl/ClimateMachine.jl/src/Driver/Driver.jl:713\n",
      "┌ Info: Mass Conservation:\n",
      "│     initial mass          = 5.0190972222222605e+01\n",
      "│     final mass            = 5.0190972222224183e+01\n",
      "│     difference            = 1.5774048733874224e-12\n",
      "│     normalized difference = 3.1428059739576215e-14\n",
      "└ @ Main.##401 /home/runner/work/ClimateMachine.jl/ClimateMachine.jl/tutorials/Numerics/DGMethods/Box1D.jl:289\n"
     ]
    }
   ],
   "cell_type": "code",
   "source": [
    "run_box1D(4, 0.0, 1.0, 1.0, joinpath(output_dir, \"box_1D_4_no_filter.svg\"))"
   ],
   "metadata": {},
   "execution_count": 2
  },
  {
   "cell_type": "markdown",
   "source": [
    "![](box_1D_4_no_filter.svg)"
   ],
   "metadata": {}
  },
  {
   "cell_type": "markdown",
   "source": [
    "The unfiltered result of the box advection test for order 4 polynomial with\n",
    "Rusanov flux (aka upwinding for advection) is"
   ],
   "metadata": {}
  },
  {
   "outputs": [
    {
     "name": "stdout",
     "output_type": "stream",
     "text": [
      "┌ Info: Model composition\n",
      "│     param_set = Main.##401.EarthParameterSet()\n",
      "│     init_q = 0.0\n",
      "│     amplitude = 1.0\n",
      "│     velo = 1.0\n",
      "└ @ ClimateMachine /home/runner/work/ClimateMachine.jl/ClimateMachine.jl/src/Driver/driver_configs.jl:107\n",
      "┌ Info: Establishing single stack configuration for Box1D\n",
      "│     precision        = Float64\n",
      "│     polynomial order = 4\n",
      "│     domain_min       = 0.00 m x0.00 m x0.00 m\n",
      "│     domain_max       = 1.00 m x1.00 m x350.00 m\n",
      "│     #vert elems      = 128\n",
      "│     MPI ranks        = 1\n",
      "│     min(Δ_horz)      = 0.17 m\n",
      "│     min(Δ_vert)      = 0.47 m\n",
      "└ @ ClimateMachine /home/runner/work/ClimateMachine.jl/ClimateMachine.jl/src/Driver/driver_configs.jl:543\n",
      "┌ Info: Initializing Box1D\n",
      "└ @ ClimateMachine /home/runner/work/ClimateMachine.jl/ClimateMachine.jl/src/Driver/solver_configs.jl:172\n",
      "┌ Info: Starting Box1D\n",
      "│     dt              = 4.71698e-01\n",
      "│     timeend         =   450.00\n",
      "│     number of steps = 954\n",
      "│     norm(Q)         = 7.0845587175365097e+00\n",
      "└ @ ClimateMachine /home/runner/work/ClimateMachine.jl/ClimateMachine.jl/src/Driver/Driver.jl:675\n",
      "┌ Info: Finished\n",
      "│     norm(Q)            = 7.0513534001494351e+00\n",
      "│     norm(Q) / norm(Q₀) = 9.9531300131582212e-01\n",
      "│     norm(Q) - norm(Q₀) = -3.3205317387074551e-02\n",
      "└ @ ClimateMachine /home/runner/work/ClimateMachine.jl/ClimateMachine.jl/src/Driver/Driver.jl:713\n",
      "┌ Info: Mass Conservation:\n",
      "│     initial mass          = 5.0190972222222605e+01\n",
      "│     final mass            = 5.0190972222224467e+01\n",
      "│     difference            = 1.8616219676914625e-12\n",
      "│     normalized difference = 3.7090773206166522e-14\n",
      "└ @ Main.##401 /home/runner/work/ClimateMachine.jl/ClimateMachine.jl/tutorials/Numerics/DGMethods/Box1D.jl:289\n"
     ]
    }
   ],
   "cell_type": "code",
   "source": [
    "run_box1D(\n",
    "    4,\n",
    "    0.0,\n",
    "    1.0,\n",
    "    1.0,\n",
    "    joinpath(output_dir, \"box_1D_4_no_filter_upwind.svg\"),\n",
    "    numerical_flux_first_order = RusanovNumericalFlux(),\n",
    ")"
   ],
   "metadata": {},
   "execution_count": 3
  },
  {
   "cell_type": "markdown",
   "source": [
    "![](box_1D_4_no_filter_upwind.svg)"
   ],
   "metadata": {}
  },
  {
   "cell_type": "markdown",
   "source": [
    "Below we show results for the same box advection test\n",
    "but using different filters.\n",
    "\n",
    "As seen in the results, when the TMAR filter is used mass is not necessarily\n",
    "conserved (mass increases are possible)."
   ],
   "metadata": {}
  },
  {
   "cell_type": "markdown",
   "source": [
    "`TMARFilter()` with central numerical flux:"
   ],
   "metadata": {}
  },
  {
   "outputs": [
    {
     "name": "stdout",
     "output_type": "stream",
     "text": [
      "┌ Info: Model composition\n",
      "│     param_set = Main.##401.EarthParameterSet()\n",
      "│     init_q = 0.0\n",
      "│     amplitude = 1.0\n",
      "│     velo = 1.0\n",
      "└ @ ClimateMachine /home/runner/work/ClimateMachine.jl/ClimateMachine.jl/src/Driver/driver_configs.jl:107\n",
      "┌ Info: Establishing single stack configuration for Box1D\n",
      "│     precision        = Float64\n",
      "│     polynomial order = 4\n",
      "│     domain_min       = 0.00 m x0.00 m x0.00 m\n",
      "│     domain_max       = 1.00 m x1.00 m x350.00 m\n",
      "│     #vert elems      = 128\n",
      "│     MPI ranks        = 1\n",
      "│     min(Δ_horz)      = 0.17 m\n",
      "│     min(Δ_vert)      = 0.47 m\n",
      "└ @ ClimateMachine /home/runner/work/ClimateMachine.jl/ClimateMachine.jl/src/Driver/driver_configs.jl:543\n",
      "┌ Info: Initializing Box1D\n",
      "└ @ ClimateMachine /home/runner/work/ClimateMachine.jl/ClimateMachine.jl/src/Driver/solver_configs.jl:172\n",
      "┌ Info: Starting Box1D\n",
      "│     dt              = 4.71698e-01\n",
      "│     timeend         =   450.00\n",
      "│     number of steps = 954\n",
      "│     norm(Q)         = 7.0845587175365097e+00\n",
      "└ @ ClimateMachine /home/runner/work/ClimateMachine.jl/ClimateMachine.jl/src/Driver/Driver.jl:675\n",
      "┌ Info: Finished\n",
      "│     norm(Q)            = 7.0284834766751523e+00\n",
      "│     norm(Q) / norm(Q₀) = 9.9208486468994128e-01\n",
      "│     norm(Q) - norm(Q₀) = -5.6075240861357400e-02\n",
      "└ @ ClimateMachine /home/runner/work/ClimateMachine.jl/ClimateMachine.jl/src/Driver/Driver.jl:713\n",
      "┌ Info: Mass Conservation:\n",
      "│     initial mass          = 5.0190972222222605e+01\n",
      "│     final mass            = 5.0273717773327959e+01\n",
      "│     difference            = 8.2745551105354309e-02\n",
      "│     normalized difference = 1.6486142316390080e-03\n",
      "└ @ Main.##401 /home/runner/work/ClimateMachine.jl/ClimateMachine.jl/tutorials/Numerics/DGMethods/Box1D.jl:289\n"
     ]
    }
   ],
   "cell_type": "code",
   "source": [
    "run_box1D(\n",
    "    4,\n",
    "    0.0,\n",
    "    1.0,\n",
    "    1.0,\n",
    "    joinpath(output_dir, \"box_1D_4_tmar.svg\");\n",
    "    tmar_filter = true,\n",
    ")"
   ],
   "metadata": {},
   "execution_count": 4
  },
  {
   "cell_type": "markdown",
   "source": [
    "![](box_1D_4_tmar.svg)"
   ],
   "metadata": {}
  },
  {
   "cell_type": "markdown",
   "source": [
    "Running the TMAR filter with Rusanov the mass conservation since some of the\n",
    "are reduced, but mass is still not conserved.\n",
    "`TMARFilter()` with Rusanov numerical flux:"
   ],
   "metadata": {}
  },
  {
   "outputs": [
    {
     "name": "stdout",
     "output_type": "stream",
     "text": [
      "┌ Info: Model composition\n",
      "│     param_set = Main.##401.EarthParameterSet()\n",
      "│     init_q = 0.0\n",
      "│     amplitude = 1.0\n",
      "│     velo = 1.0\n",
      "└ @ ClimateMachine /home/runner/work/ClimateMachine.jl/ClimateMachine.jl/src/Driver/driver_configs.jl:107\n",
      "┌ Info: Establishing single stack configuration for Box1D\n",
      "│     precision        = Float64\n",
      "│     polynomial order = 4\n",
      "│     domain_min       = 0.00 m x0.00 m x0.00 m\n",
      "│     domain_max       = 1.00 m x1.00 m x350.00 m\n",
      "│     #vert elems      = 128\n",
      "│     MPI ranks        = 1\n",
      "│     min(Δ_horz)      = 0.17 m\n",
      "│     min(Δ_vert)      = 0.47 m\n",
      "└ @ ClimateMachine /home/runner/work/ClimateMachine.jl/ClimateMachine.jl/src/Driver/driver_configs.jl:543\n",
      "┌ Info: Initializing Box1D\n",
      "└ @ ClimateMachine /home/runner/work/ClimateMachine.jl/ClimateMachine.jl/src/Driver/solver_configs.jl:172\n",
      "┌ Info: Starting Box1D\n",
      "│     dt              = 4.71698e-01\n",
      "│     timeend         =   450.00\n",
      "│     number of steps = 954\n",
      "│     norm(Q)         = 7.0845587175365097e+00\n",
      "└ @ ClimateMachine /home/runner/work/ClimateMachine.jl/ClimateMachine.jl/src/Driver/Driver.jl:675\n",
      "┌ Info: Finished\n",
      "│     norm(Q)            = 7.0195965557948741e+00\n",
      "│     norm(Q) / norm(Q₀) = 9.9083045757234900e-01\n",
      "│     norm(Q) - norm(Q₀) = -6.4962161741635605e-02\n",
      "└ @ ClimateMachine /home/runner/work/ClimateMachine.jl/ClimateMachine.jl/src/Driver/Driver.jl:713\n",
      "┌ Info: Mass Conservation:\n",
      "│     initial mass          = 5.0190972222222605e+01\n",
      "│     final mass            = 5.0231802188006398e+01\n",
      "│     difference            = 4.0829965783792943e-02\n",
      "│     normalized difference = 8.1349222730766366e-04\n",
      "└ @ Main.##401 /home/runner/work/ClimateMachine.jl/ClimateMachine.jl/tutorials/Numerics/DGMethods/Box1D.jl:289\n"
     ]
    }
   ],
   "cell_type": "code",
   "source": [
    "run_box1D(\n",
    "    4,\n",
    "    0.0,\n",
    "    1.0,\n",
    "    1.0,\n",
    "    joinpath(output_dir, \"box_1D_4_tmar_upwind.svg\");\n",
    "    tmar_filter = true,\n",
    "    numerical_flux_first_order = RusanovNumericalFlux(),\n",
    ")"
   ],
   "metadata": {},
   "execution_count": 5
  },
  {
   "cell_type": "markdown",
   "source": [
    "![](box_1D_4_tmar_upwind.svg)"
   ],
   "metadata": {}
  },
  {
   "cell_type": "markdown",
   "source": [
    "`CutoffFilter(grid, Nc=1)` with central numerical flux:"
   ],
   "metadata": {}
  },
  {
   "outputs": [
    {
     "name": "stdout",
     "output_type": "stream",
     "text": [
      "┌ Info: Model composition\n",
      "│     param_set = Main.##401.EarthParameterSet()\n",
      "│     init_q = 0.0\n",
      "│     amplitude = 1.0\n",
      "│     velo = 1.0\n",
      "└ @ ClimateMachine /home/runner/work/ClimateMachine.jl/ClimateMachine.jl/src/Driver/driver_configs.jl:107\n",
      "┌ Info: Establishing single stack configuration for Box1D\n",
      "│     precision        = Float64\n",
      "│     polynomial order = 4\n",
      "│     domain_min       = 0.00 m x0.00 m x0.00 m\n",
      "│     domain_max       = 1.00 m x1.00 m x350.00 m\n",
      "│     #vert elems      = 128\n",
      "│     MPI ranks        = 1\n",
      "│     min(Δ_horz)      = 0.17 m\n",
      "│     min(Δ_vert)      = 0.47 m\n",
      "└ @ ClimateMachine /home/runner/work/ClimateMachine.jl/ClimateMachine.jl/src/Driver/driver_configs.jl:543\n",
      "┌ Info: Initializing Box1D\n",
      "└ @ ClimateMachine /home/runner/work/ClimateMachine.jl/ClimateMachine.jl/src/Driver/solver_configs.jl:172\n",
      "┌ Info: Starting Box1D\n",
      "│     dt              = 4.71698e-01\n",
      "│     timeend         =   450.00\n",
      "│     number of steps = 954\n",
      "│     norm(Q)         = 7.0845587175365097e+00\n",
      "└ @ ClimateMachine /home/runner/work/ClimateMachine.jl/ClimateMachine.jl/src/Driver/Driver.jl:675\n",
      "┌ Info: Finished\n",
      "│     norm(Q)            = 4.3749269099663506e+00\n",
      "│     norm(Q) / norm(Q₀) = 6.1752991038623639e-01\n",
      "│     norm(Q) - norm(Q₀) = -2.7096318075701591e+00\n",
      "└ @ ClimateMachine /home/runner/work/ClimateMachine.jl/ClimateMachine.jl/src/Driver/Driver.jl:713\n",
      "┌ Info: Mass Conservation:\n",
      "│     initial mass          = 5.0190972222222605e+01\n",
      "│     final mass            = 5.0190972222220196e+01\n",
      "│     difference            = -2.4087398742267396e-12\n",
      "│     normalized difference = -4.7991496629352872e-14\n",
      "└ @ Main.##401 /home/runner/work/ClimateMachine.jl/ClimateMachine.jl/tutorials/Numerics/DGMethods/Box1D.jl:289\n"
     ]
    }
   ],
   "cell_type": "code",
   "source": [
    "run_box1D(\n",
    "    4,\n",
    "    0.0,\n",
    "    1.0,\n",
    "    1.0,\n",
    "    joinpath(output_dir, \"box_1D_4_cutoff_1.svg\");\n",
    "    cutoff_filter = true,\n",
    "    cutoff_param = 1,\n",
    ")"
   ],
   "metadata": {},
   "execution_count": 6
  },
  {
   "cell_type": "markdown",
   "source": [
    "![](box_1D_4_cutoff_1.svg)"
   ],
   "metadata": {}
  },
  {
   "cell_type": "markdown",
   "source": [
    "`CutoffFilter(grid, Nc=3)` with central numerical flux:"
   ],
   "metadata": {}
  },
  {
   "outputs": [
    {
     "name": "stdout",
     "output_type": "stream",
     "text": [
      "┌ Info: Model composition\n",
      "│     param_set = Main.##401.EarthParameterSet()\n",
      "│     init_q = 0.0\n",
      "│     amplitude = 1.0\n",
      "│     velo = 1.0\n",
      "└ @ ClimateMachine /home/runner/work/ClimateMachine.jl/ClimateMachine.jl/src/Driver/driver_configs.jl:107\n",
      "┌ Info: Establishing single stack configuration for Box1D\n",
      "│     precision        = Float64\n",
      "│     polynomial order = 4\n",
      "│     domain_min       = 0.00 m x0.00 m x0.00 m\n",
      "│     domain_max       = 1.00 m x1.00 m x350.00 m\n",
      "│     #vert elems      = 128\n",
      "│     MPI ranks        = 1\n",
      "│     min(Δ_horz)      = 0.17 m\n",
      "│     min(Δ_vert)      = 0.47 m\n",
      "└ @ ClimateMachine /home/runner/work/ClimateMachine.jl/ClimateMachine.jl/src/Driver/driver_configs.jl:543\n",
      "┌ Info: Initializing Box1D\n",
      "└ @ ClimateMachine /home/runner/work/ClimateMachine.jl/ClimateMachine.jl/src/Driver/solver_configs.jl:172\n",
      "┌ Info: Starting Box1D\n",
      "│     dt              = 4.71698e-01\n",
      "│     timeend         =   450.00\n",
      "│     number of steps = 954\n",
      "│     norm(Q)         = 7.0845587175365097e+00\n",
      "└ @ ClimateMachine /home/runner/work/ClimateMachine.jl/ClimateMachine.jl/src/Driver/Driver.jl:675\n",
      "┌ Info: Finished\n",
      "│     norm(Q)            = 7.0138240459750554e+00\n",
      "│     norm(Q) / norm(Q₀) = 9.9001565596649466e-01\n",
      "│     norm(Q) - norm(Q₀) = -7.0734671561454299e-02\n",
      "└ @ ClimateMachine /home/runner/work/ClimateMachine.jl/ClimateMachine.jl/src/Driver/Driver.jl:713\n",
      "┌ Info: Mass Conservation:\n",
      "│     initial mass          = 5.0190972222222605e+01\n",
      "│     final mass            = 5.0190972222238884e+01\n",
      "│     difference            = 1.6278534076263895e-11\n",
      "│     normalized difference = 3.2433191379895996e-13\n",
      "└ @ Main.##401 /home/runner/work/ClimateMachine.jl/ClimateMachine.jl/tutorials/Numerics/DGMethods/Box1D.jl:289\n"
     ]
    }
   ],
   "cell_type": "code",
   "source": [
    "run_box1D(\n",
    "    4,\n",
    "    0.0,\n",
    "    1.0,\n",
    "    1.0,\n",
    "    joinpath(output_dir, \"box_1D_4_cutoff_3.svg\");\n",
    "    cutoff_filter = true,\n",
    "    cutoff_param = 3,\n",
    ")"
   ],
   "metadata": {},
   "execution_count": 7
  },
  {
   "cell_type": "markdown",
   "source": [
    "![](box_1D_4_cutoff_3.svg)"
   ],
   "metadata": {}
  },
  {
   "cell_type": "markdown",
   "source": [
    "`ExponentialFilter(grid, Nc=1, s=4)` with central numerical flux:"
   ],
   "metadata": {}
  },
  {
   "outputs": [
    {
     "name": "stdout",
     "output_type": "stream",
     "text": [
      "┌ Info: Model composition\n",
      "│     param_set = Main.##401.EarthParameterSet()\n",
      "│     init_q = 0.0\n",
      "│     amplitude = 1.0\n",
      "│     velo = 1.0\n",
      "└ @ ClimateMachine /home/runner/work/ClimateMachine.jl/ClimateMachine.jl/src/Driver/driver_configs.jl:107\n",
      "┌ Info: Establishing single stack configuration for Box1D\n",
      "│     precision        = Float64\n",
      "│     polynomial order = 4\n",
      "│     domain_min       = 0.00 m x0.00 m x0.00 m\n",
      "│     domain_max       = 1.00 m x1.00 m x350.00 m\n",
      "│     #vert elems      = 128\n",
      "│     MPI ranks        = 1\n",
      "│     min(Δ_horz)      = 0.17 m\n",
      "│     min(Δ_vert)      = 0.47 m\n",
      "└ @ ClimateMachine /home/runner/work/ClimateMachine.jl/ClimateMachine.jl/src/Driver/driver_configs.jl:543\n",
      "┌ Info: Initializing Box1D\n",
      "└ @ ClimateMachine /home/runner/work/ClimateMachine.jl/ClimateMachine.jl/src/Driver/solver_configs.jl:172\n",
      "┌ Info: Starting Box1D\n",
      "│     dt              = 4.71698e-01\n",
      "│     timeend         =   450.00\n",
      "│     number of steps = 954\n",
      "│     norm(Q)         = 7.0845587175365097e+00\n",
      "└ @ ClimateMachine /home/runner/work/ClimateMachine.jl/ClimateMachine.jl/src/Driver/Driver.jl:675\n",
      "┌ Info: Finished\n",
      "│     norm(Q)            = 6.9333444856505491e+00\n",
      "│     norm(Q) / norm(Q₀) = 9.7865580088825321e-01\n",
      "│     norm(Q) - norm(Q₀) = -1.5121423188596061e-01\n",
      "└ @ ClimateMachine /home/runner/work/ClimateMachine.jl/ClimateMachine.jl/src/Driver/Driver.jl:713\n",
      "┌ Info: Mass Conservation:\n",
      "│     initial mass          = 5.0190972222222605e+01\n",
      "│     final mass            = 5.0190972222221269e+01\n",
      "│     difference            = -1.3358203432289883e-12\n",
      "│     normalized difference = -2.6614753292974451e-14\n",
      "└ @ Main.##401 /home/runner/work/ClimateMachine.jl/ClimateMachine.jl/tutorials/Numerics/DGMethods/Box1D.jl:289\n"
     ]
    }
   ],
   "cell_type": "code",
   "source": [
    "run_box1D(\n",
    "    4,\n",
    "    0.0,\n",
    "    1.0,\n",
    "    1.0,\n",
    "    joinpath(output_dir, \"box_1D_4_exp_1_4.svg\");\n",
    "    exp_filter = true,\n",
    "    exp_param_1 = 1,\n",
    "    exp_param_2 = 4,\n",
    ")"
   ],
   "metadata": {},
   "execution_count": 8
  },
  {
   "cell_type": "markdown",
   "source": [
    "![](box_1D_4_exp_1_4.svg)"
   ],
   "metadata": {}
  },
  {
   "cell_type": "markdown",
   "source": [
    "`ExponentialFilter(grid, Nc=1, s=8)` with central numerical flux:"
   ],
   "metadata": {}
  },
  {
   "outputs": [
    {
     "name": "stdout",
     "output_type": "stream",
     "text": [
      "┌ Info: Model composition\n",
      "│     param_set = Main.##401.EarthParameterSet()\n",
      "│     init_q = 0.0\n",
      "│     amplitude = 1.0\n",
      "│     velo = 1.0\n",
      "└ @ ClimateMachine /home/runner/work/ClimateMachine.jl/ClimateMachine.jl/src/Driver/driver_configs.jl:107\n",
      "┌ Info: Establishing single stack configuration for Box1D\n",
      "│     precision        = Float64\n",
      "│     polynomial order = 4\n",
      "│     domain_min       = 0.00 m x0.00 m x0.00 m\n",
      "│     domain_max       = 1.00 m x1.00 m x350.00 m\n",
      "│     #vert elems      = 128\n",
      "│     MPI ranks        = 1\n",
      "│     min(Δ_horz)      = 0.17 m\n",
      "│     min(Δ_vert)      = 0.47 m\n",
      "└ @ ClimateMachine /home/runner/work/ClimateMachine.jl/ClimateMachine.jl/src/Driver/driver_configs.jl:543\n",
      "┌ Info: Initializing Box1D\n",
      "└ @ ClimateMachine /home/runner/work/ClimateMachine.jl/ClimateMachine.jl/src/Driver/solver_configs.jl:172\n",
      "┌ Info: Starting Box1D\n",
      "│     dt              = 4.71698e-01\n",
      "│     timeend         =   450.00\n",
      "│     number of steps = 954\n",
      "│     norm(Q)         = 7.0845587175365097e+00\n",
      "└ @ ClimateMachine /home/runner/work/ClimateMachine.jl/ClimateMachine.jl/src/Driver/Driver.jl:675\n",
      "┌ Info: Finished\n",
      "│     norm(Q)            = 7.0143099503307322e+00\n",
      "│     norm(Q) / norm(Q₀) = 9.9008424236334025e-01\n",
      "│     norm(Q) - norm(Q₀) = -7.0248767205777440e-02\n",
      "└ @ ClimateMachine /home/runner/work/ClimateMachine.jl/ClimateMachine.jl/src/Driver/Driver.jl:713\n",
      "┌ Info: Mass Conservation:\n",
      "│     initial mass          = 5.0190972222222605e+01\n",
      "│     final mass            = 5.0190972222237839e+01\n",
      "│     difference            = 1.5234036254696548e-11\n",
      "│     normalized difference = 3.0352144180924054e-13\n",
      "└ @ Main.##401 /home/runner/work/ClimateMachine.jl/ClimateMachine.jl/tutorials/Numerics/DGMethods/Box1D.jl:289\n"
     ]
    }
   ],
   "cell_type": "code",
   "source": [
    "run_box1D(\n",
    "    4,\n",
    "    0.0,\n",
    "    1.0,\n",
    "    1.0,\n",
    "    joinpath(output_dir, \"box_1D_4_exp_1_8.svg\");\n",
    "    exp_filter = true,\n",
    "    exp_param_1 = 1,\n",
    "    exp_param_2 = 8,\n",
    ")"
   ],
   "metadata": {},
   "execution_count": 9
  },
  {
   "cell_type": "markdown",
   "source": [
    "![](box_1D_4_exp_1_8.svg)"
   ],
   "metadata": {}
  },
  {
   "cell_type": "markdown",
   "source": [
    "`ExponentialFilter(grid, Nc=1, s=32)` with central numerical flux:"
   ],
   "metadata": {}
  },
  {
   "outputs": [
    {
     "name": "stdout",
     "output_type": "stream",
     "text": [
      "┌ Info: Model composition\n",
      "│     param_set = Main.##401.EarthParameterSet()\n",
      "│     init_q = 0.0\n",
      "│     amplitude = 1.0\n",
      "│     velo = 1.0\n",
      "└ @ ClimateMachine /home/runner/work/ClimateMachine.jl/ClimateMachine.jl/src/Driver/driver_configs.jl:107\n",
      "┌ Info: Establishing single stack configuration for Box1D\n",
      "│     precision        = Float64\n",
      "│     polynomial order = 4\n",
      "│     domain_min       = 0.00 m x0.00 m x0.00 m\n",
      "│     domain_max       = 1.00 m x1.00 m x350.00 m\n",
      "│     #vert elems      = 128\n",
      "│     MPI ranks        = 1\n",
      "│     min(Δ_horz)      = 0.17 m\n",
      "│     min(Δ_vert)      = 0.47 m\n",
      "└ @ ClimateMachine /home/runner/work/ClimateMachine.jl/ClimateMachine.jl/src/Driver/driver_configs.jl:543\n",
      "┌ Info: Initializing Box1D\n",
      "└ @ ClimateMachine /home/runner/work/ClimateMachine.jl/ClimateMachine.jl/src/Driver/solver_configs.jl:172\n",
      "┌ Info: Starting Box1D\n",
      "│     dt              = 4.71698e-01\n",
      "│     timeend         =   450.00\n",
      "│     number of steps = 954\n",
      "│     norm(Q)         = 7.0845587175365097e+00\n",
      "└ @ ClimateMachine /home/runner/work/ClimateMachine.jl/ClimateMachine.jl/src/Driver/Driver.jl:675\n",
      "┌ Info: Finished\n",
      "│     norm(Q)            = 7.0543517922303387e+00\n",
      "│     norm(Q) / norm(Q₀) = 9.9573623051053284e-01\n",
      "│     norm(Q) - norm(Q₀) = -3.0206925306170973e-02\n",
      "└ @ ClimateMachine /home/runner/work/ClimateMachine.jl/ClimateMachine.jl/src/Driver/Driver.jl:713\n",
      "┌ Info: Mass Conservation:\n",
      "│     initial mass          = 5.0190972222222605e+01\n",
      "│     final mass            = 5.0190972222231650e+01\n",
      "│     difference            = 9.0452090262260754e-12\n",
      "│     normalized difference = 1.8021585607423658e-13\n",
      "└ @ Main.##401 /home/runner/work/ClimateMachine.jl/ClimateMachine.jl/tutorials/Numerics/DGMethods/Box1D.jl:289\n"
     ]
    }
   ],
   "cell_type": "code",
   "source": [
    "run_box1D(\n",
    "    4,\n",
    "    0.0,\n",
    "    1.0,\n",
    "    1.0,\n",
    "    joinpath(output_dir, \"box_1D_4_exp_1_32.svg\");\n",
    "    exp_filter = true,\n",
    "    exp_param_1 = 1,\n",
    "    exp_param_2 = 32,\n",
    ")"
   ],
   "metadata": {},
   "execution_count": 10
  },
  {
   "cell_type": "markdown",
   "source": [
    "![](box_1D_4_exp_1_32.svg)"
   ],
   "metadata": {}
  },
  {
   "cell_type": "markdown",
   "source": [
    "`BoydVandevenFilter(grid, Nc=1, s=4)` with central numerical flux:"
   ],
   "metadata": {}
  },
  {
   "outputs": [
    {
     "name": "stdout",
     "output_type": "stream",
     "text": [
      "┌ Info: Model composition\n",
      "│     param_set = Main.##401.EarthParameterSet()\n",
      "│     init_q = 0.0\n",
      "│     amplitude = 1.0\n",
      "│     velo = 1.0\n",
      "└ @ ClimateMachine /home/runner/work/ClimateMachine.jl/ClimateMachine.jl/src/Driver/driver_configs.jl:107\n",
      "┌ Info: Establishing single stack configuration for Box1D\n",
      "│     precision        = Float64\n",
      "│     polynomial order = 4\n",
      "│     domain_min       = 0.00 m x0.00 m x0.00 m\n",
      "│     domain_max       = 1.00 m x1.00 m x350.00 m\n",
      "│     #vert elems      = 128\n",
      "│     MPI ranks        = 1\n",
      "│     min(Δ_horz)      = 0.17 m\n",
      "│     min(Δ_vert)      = 0.47 m\n",
      "└ @ ClimateMachine /home/runner/work/ClimateMachine.jl/ClimateMachine.jl/src/Driver/driver_configs.jl:543\n",
      "┌ Info: Initializing Box1D\n",
      "└ @ ClimateMachine /home/runner/work/ClimateMachine.jl/ClimateMachine.jl/src/Driver/solver_configs.jl:172\n",
      "┌ Info: Starting Box1D\n",
      "│     dt              = 4.71698e-01\n",
      "│     timeend         =   450.00\n",
      "│     number of steps = 954\n",
      "│     norm(Q)         = 7.0845587175365097e+00\n",
      "└ @ ClimateMachine /home/runner/work/ClimateMachine.jl/ClimateMachine.jl/src/Driver/Driver.jl:675\n",
      "┌ Info: Finished\n",
      "│     norm(Q)            = 6.9612435701255597e+00\n",
      "│     norm(Q) / norm(Q₀) = 9.8259381390887390e-01\n",
      "│     norm(Q) - norm(Q₀) = -1.2331514741094995e-01\n",
      "└ @ ClimateMachine /home/runner/work/ClimateMachine.jl/ClimateMachine.jl/src/Driver/Driver.jl:713\n",
      "┌ Info: Mass Conservation:\n",
      "│     initial mass          = 5.0190972222222605e+01\n",
      "│     final mass            = 5.0190972222250601e+01\n",
      "│     difference            = 2.7995383788947947e-11\n",
      "│     normalized difference = 5.5777727645914540e-13\n",
      "└ @ Main.##401 /home/runner/work/ClimateMachine.jl/ClimateMachine.jl/tutorials/Numerics/DGMethods/Box1D.jl:289\n"
     ]
    }
   ],
   "cell_type": "code",
   "source": [
    "run_box1D(\n",
    "    4,\n",
    "    0.0,\n",
    "    1.0,\n",
    "    1.0,\n",
    "    joinpath(output_dir, \"box_1D_4_boyd_1_4.svg\");\n",
    "    boyd_filter = true,\n",
    "    boyd_param_1 = 1,\n",
    "    boyd_param_2 = 4,\n",
    ")"
   ],
   "metadata": {},
   "execution_count": 11
  },
  {
   "cell_type": "markdown",
   "source": [
    "![](box_1D_4_boyd_1_4.svg)"
   ],
   "metadata": {}
  },
  {
   "cell_type": "markdown",
   "source": [
    "`BoydVandevenFilter(grid, Nc=1, s=8)` with central numerical flux:"
   ],
   "metadata": {}
  },
  {
   "outputs": [
    {
     "name": "stdout",
     "output_type": "stream",
     "text": [
      "┌ Info: Model composition\n",
      "│     param_set = Main.##401.EarthParameterSet()\n",
      "│     init_q = 0.0\n",
      "│     amplitude = 1.0\n",
      "│     velo = 1.0\n",
      "└ @ ClimateMachine /home/runner/work/ClimateMachine.jl/ClimateMachine.jl/src/Driver/driver_configs.jl:107\n",
      "┌ Info: Establishing single stack configuration for Box1D\n",
      "│     precision        = Float64\n",
      "│     polynomial order = 4\n",
      "│     domain_min       = 0.00 m x0.00 m x0.00 m\n",
      "│     domain_max       = 1.00 m x1.00 m x350.00 m\n",
      "│     #vert elems      = 128\n",
      "│     MPI ranks        = 1\n",
      "│     min(Δ_horz)      = 0.17 m\n",
      "│     min(Δ_vert)      = 0.47 m\n",
      "└ @ ClimateMachine /home/runner/work/ClimateMachine.jl/ClimateMachine.jl/src/Driver/driver_configs.jl:543\n",
      "┌ Info: Initializing Box1D\n",
      "└ @ ClimateMachine /home/runner/work/ClimateMachine.jl/ClimateMachine.jl/src/Driver/solver_configs.jl:172\n",
      "┌ Info: Starting Box1D\n",
      "│     dt              = 4.71698e-01\n",
      "│     timeend         =   450.00\n",
      "│     number of steps = 954\n",
      "│     norm(Q)         = 7.0845587175365097e+00\n",
      "└ @ ClimateMachine /home/runner/work/ClimateMachine.jl/ClimateMachine.jl/src/Driver/Driver.jl:675\n",
      "┌ Info: Finished\n",
      "│     norm(Q)            = 6.9798736717024212e+00\n",
      "│     norm(Q) / norm(Q₀) = 9.8522349097411532e-01\n",
      "│     norm(Q) - norm(Q₀) = -1.0468504583408844e-01\n",
      "└ @ ClimateMachine /home/runner/work/ClimateMachine.jl/ClimateMachine.jl/src/Driver/Driver.jl:713\n",
      "┌ Info: Mass Conservation:\n",
      "│     initial mass          = 5.0190972222222605e+01\n",
      "│     final mass            = 5.0190972222227160e+01\n",
      "│     difference            = 4.5545789362222422e-12\n",
      "│     normalized difference = 9.0744983302109700e-14\n",
      "└ @ Main.##401 /home/runner/work/ClimateMachine.jl/ClimateMachine.jl/tutorials/Numerics/DGMethods/Box1D.jl:289\n"
     ]
    }
   ],
   "cell_type": "code",
   "source": [
    "run_box1D(\n",
    "    4,\n",
    "    0.0,\n",
    "    1.0,\n",
    "    1.0,\n",
    "    joinpath(output_dir, \"box_1D_4_boyd_1_8.svg\");\n",
    "    boyd_filter = true,\n",
    "    boyd_param_1 = 1,\n",
    "    boyd_param_2 = 8,\n",
    ")"
   ],
   "metadata": {},
   "execution_count": 12
  },
  {
   "cell_type": "markdown",
   "source": [
    "![](box_1D_4_boyd_1_8.svg)"
   ],
   "metadata": {}
  },
  {
   "cell_type": "markdown",
   "source": [
    "`BoydVandevenFilter(grid, Nc=1, s=32)` with central numerical flux:"
   ],
   "metadata": {}
  },
  {
   "outputs": [
    {
     "name": "stdout",
     "output_type": "stream",
     "text": [
      "┌ Info: Model composition\n",
      "│     param_set = Main.##401.EarthParameterSet()\n",
      "│     init_q = 0.0\n",
      "│     amplitude = 1.0\n",
      "│     velo = 1.0\n",
      "└ @ ClimateMachine /home/runner/work/ClimateMachine.jl/ClimateMachine.jl/src/Driver/driver_configs.jl:107\n",
      "┌ Info: Establishing single stack configuration for Box1D\n",
      "│     precision        = Float64\n",
      "│     polynomial order = 4\n",
      "│     domain_min       = 0.00 m x0.00 m x0.00 m\n",
      "│     domain_max       = 1.00 m x1.00 m x350.00 m\n",
      "│     #vert elems      = 128\n",
      "│     MPI ranks        = 1\n",
      "│     min(Δ_horz)      = 0.17 m\n",
      "│     min(Δ_vert)      = 0.47 m\n",
      "└ @ ClimateMachine /home/runner/work/ClimateMachine.jl/ClimateMachine.jl/src/Driver/driver_configs.jl:543\n",
      "┌ Info: Initializing Box1D\n",
      "└ @ ClimateMachine /home/runner/work/ClimateMachine.jl/ClimateMachine.jl/src/Driver/solver_configs.jl:172\n",
      "┌ Info: Starting Box1D\n",
      "│     dt              = 4.71698e-01\n",
      "│     timeend         =   450.00\n",
      "│     number of steps = 954\n",
      "│     norm(Q)         = 7.0845587175365097e+00\n",
      "└ @ ClimateMachine /home/runner/work/ClimateMachine.jl/ClimateMachine.jl/src/Driver/Driver.jl:675\n",
      "┌ Info: Finished\n",
      "│     norm(Q)            = 7.0120419256480133e+00\n",
      "│     norm(Q) / norm(Q₀) = 9.8976410602554621e-01\n",
      "│     norm(Q) - norm(Q₀) = -7.2516791888496357e-02\n",
      "└ @ ClimateMachine /home/runner/work/ClimateMachine.jl/ClimateMachine.jl/src/Driver/Driver.jl:713\n",
      "┌ Info: Mass Conservation:\n",
      "│     initial mass          = 5.0190972222222605e+01\n",
      "│     final mass            = 5.0190972222248590e+01\n",
      "│     difference            = 2.5984547846746864e-11\n",
      "│     normalized difference = 5.1771357868301902e-13\n",
      "└ @ Main.##401 /home/runner/work/ClimateMachine.jl/ClimateMachine.jl/tutorials/Numerics/DGMethods/Box1D.jl:289\n"
     ]
    }
   ],
   "cell_type": "code",
   "source": [
    "run_box1D(\n",
    "    4,\n",
    "    0.0,\n",
    "    1.0,\n",
    "    1.0,\n",
    "    joinpath(output_dir, \"box_1D_4_boyd_1_32.svg\");\n",
    "    boyd_filter = true,\n",
    "    boyd_param_1 = 1,\n",
    "    boyd_param_2 = 32,\n",
    ")"
   ],
   "metadata": {},
   "execution_count": 13
  },
  {
   "cell_type": "markdown",
   "source": [
    "![](box_1D_4_boyd_1_32.svg)"
   ],
   "metadata": {}
  },
  {
   "cell_type": "markdown",
   "source": [
    "`ExponentialFilter(grid, Nc=1, s=8)` and `TMARFilter()` with central numerical\n",
    "flux:"
   ],
   "metadata": {}
  },
  {
   "outputs": [
    {
     "name": "stdout",
     "output_type": "stream",
     "text": [
      "┌ Info: Model composition\n",
      "│     param_set = Main.##401.EarthParameterSet()\n",
      "│     init_q = 0.0\n",
      "│     amplitude = 1.0\n",
      "│     velo = 1.0\n",
      "└ @ ClimateMachine /home/runner/work/ClimateMachine.jl/ClimateMachine.jl/src/Driver/driver_configs.jl:107\n",
      "┌ Info: Establishing single stack configuration for Box1D\n",
      "│     precision        = Float64\n",
      "│     polynomial order = 4\n",
      "│     domain_min       = 0.00 m x0.00 m x0.00 m\n",
      "│     domain_max       = 1.00 m x1.00 m x350.00 m\n",
      "│     #vert elems      = 128\n",
      "│     MPI ranks        = 1\n",
      "│     min(Δ_horz)      = 0.17 m\n",
      "│     min(Δ_vert)      = 0.47 m\n",
      "└ @ ClimateMachine /home/runner/work/ClimateMachine.jl/ClimateMachine.jl/src/Driver/driver_configs.jl:543\n",
      "┌ Info: Initializing Box1D\n",
      "└ @ ClimateMachine /home/runner/work/ClimateMachine.jl/ClimateMachine.jl/src/Driver/solver_configs.jl:172\n",
      "┌ Info: Starting Box1D\n",
      "│     dt              = 4.71698e-01\n",
      "│     timeend         =   450.00\n",
      "│     number of steps = 954\n",
      "│     norm(Q)         = 7.0845587175365097e+00\n",
      "└ @ ClimateMachine /home/runner/work/ClimateMachine.jl/ClimateMachine.jl/src/Driver/Driver.jl:675\n",
      "┌ Info: Finished\n",
      "│     norm(Q)            = 6.9859473293754455e+00\n",
      "│     norm(Q) / norm(Q₀) = 9.8608080021738409e-01\n",
      "│     norm(Q) - norm(Q₀) = -9.8611388161064184e-02\n",
      "└ @ ClimateMachine /home/runner/work/ClimateMachine.jl/ClimateMachine.jl/src/Driver/Driver.jl:713\n",
      "┌ Info: Mass Conservation:\n",
      "│     initial mass          = 5.0190972222222605e+01\n",
      "│     final mass            = 5.0255956701555064e+01\n",
      "│     difference            = 6.4984479332458989e-02\n",
      "│     normalized difference = 1.2947443824107953e-03\n",
      "└ @ Main.##401 /home/runner/work/ClimateMachine.jl/ClimateMachine.jl/tutorials/Numerics/DGMethods/Box1D.jl:289\n"
     ]
    }
   ],
   "cell_type": "code",
   "source": [
    "run_box1D(\n",
    "    4,\n",
    "    0.0,\n",
    "    1.0,\n",
    "    1.0,\n",
    "    joinpath(output_dir, \"box_1D_4_tmar_exp_1_8.svg\");\n",
    "    exp_filter = true,\n",
    "    tmar_filter = true,\n",
    "    exp_param_1 = 1,\n",
    "    exp_param_2 = 8,\n",
    ")"
   ],
   "metadata": {},
   "execution_count": 14
  },
  {
   "cell_type": "markdown",
   "source": [
    "![](box_1D_4_tmar_exp_1_8.svg)"
   ],
   "metadata": {}
  },
  {
   "cell_type": "markdown",
   "source": [
    "`BoydVandevenFilter(grid, Nc=1, s=8)` and `TMARFilter()` with central\n",
    "numerical flux:"
   ],
   "metadata": {}
  },
  {
   "outputs": [
    {
     "name": "stdout",
     "output_type": "stream",
     "text": [
      "┌ Info: Model composition\n",
      "│     param_set = Main.##401.EarthParameterSet()\n",
      "│     init_q = 0.0\n",
      "│     amplitude = 1.0\n",
      "│     velo = 1.0\n",
      "└ @ ClimateMachine /home/runner/work/ClimateMachine.jl/ClimateMachine.jl/src/Driver/driver_configs.jl:107\n",
      "┌ Info: Establishing single stack configuration for Box1D\n",
      "│     precision        = Float64\n",
      "│     polynomial order = 4\n",
      "│     domain_min       = 0.00 m x0.00 m x0.00 m\n",
      "│     domain_max       = 1.00 m x1.00 m x350.00 m\n",
      "│     #vert elems      = 128\n",
      "│     MPI ranks        = 1\n",
      "│     min(Δ_horz)      = 0.17 m\n",
      "│     min(Δ_vert)      = 0.47 m\n",
      "└ @ ClimateMachine /home/runner/work/ClimateMachine.jl/ClimateMachine.jl/src/Driver/driver_configs.jl:543\n",
      "┌ Info: Initializing Box1D\n",
      "└ @ ClimateMachine /home/runner/work/ClimateMachine.jl/ClimateMachine.jl/src/Driver/solver_configs.jl:172\n",
      "┌ Info: Starting Box1D\n",
      "│     dt              = 4.71698e-01\n",
      "│     timeend         =   450.00\n",
      "│     number of steps = 954\n",
      "│     norm(Q)         = 7.0845587175365097e+00\n",
      "└ @ ClimateMachine /home/runner/work/ClimateMachine.jl/ClimateMachine.jl/src/Driver/Driver.jl:675\n",
      "┌ Info: Finished\n",
      "│     norm(Q)            = 6.9548646819395490e+00\n",
      "│     norm(Q) / norm(Q₀) = 9.8169342075238542e-01\n",
      "│     norm(Q) - norm(Q₀) = -1.2969403559696069e-01\n",
      "└ @ ClimateMachine /home/runner/work/ClimateMachine.jl/ClimateMachine.jl/src/Driver/Driver.jl:713\n",
      "┌ Info: Mass Conservation:\n",
      "│     initial mass          = 5.0190972222222605e+01\n",
      "│     final mass            = 5.0269145317360795e+01\n",
      "│     difference            = 7.8173095138190263e-02\n",
      "│     normalized difference = 1.5575130681285800e-03\n",
      "└ @ Main.##401 /home/runner/work/ClimateMachine.jl/ClimateMachine.jl/tutorials/Numerics/DGMethods/Box1D.jl:289\n"
     ]
    }
   ],
   "cell_type": "code",
   "source": [
    "run_box1D(\n",
    "    4,\n",
    "    0.0,\n",
    "    1.0,\n",
    "    1.0,\n",
    "    joinpath(output_dir, \"box_1D_4_tmar_boyd_1_8.svg\");\n",
    "    boyd_filter = true,\n",
    "    tmar_filter = true,\n",
    "    boyd_param_1 = 1,\n",
    "    boyd_param_2 = 8,\n",
    ")"
   ],
   "metadata": {},
   "execution_count": 15
  },
  {
   "cell_type": "markdown",
   "source": [
    "![](box_1D_4_tmar_boyd_1_8.svg)"
   ],
   "metadata": {}
  },
  {
   "cell_type": "markdown",
   "source": [
    "---\n",
    "\n",
    "*This notebook was generated using [Literate.jl](https://github.com/fredrikekre/Literate.jl).*"
   ],
   "metadata": {}
  }
 ],
 "nbformat_minor": 3,
 "metadata": {
  "language_info": {
   "file_extension": ".jl",
   "mimetype": "application/julia",
   "name": "julia",
   "version": "1.5.2"
  },
  "kernelspec": {
   "name": "julia-1.5",
   "display_name": "Julia 1.5.2",
   "language": "julia"
  }
 },
 "nbformat": 4
}
