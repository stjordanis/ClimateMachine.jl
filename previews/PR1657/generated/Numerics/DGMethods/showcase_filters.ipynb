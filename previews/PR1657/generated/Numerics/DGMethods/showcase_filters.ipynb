{
 "cells": [
  {
   "cell_type": "markdown",
   "source": [
    "# Filters\n",
    "In this tutorial we show the result of applying filters\n",
    "available in the CliMA codebase in a 1 dimensional box advection setup.\n",
    "See [Filters API](https://clima.github.io/ClimateMachine.jl/latest/APIs/Numerics/Meshes/Mesh/#Filters-1) for filters interface details."
   ],
   "metadata": {}
  },
  {
   "outputs": [],
   "cell_type": "code",
   "source": [
    "using ClimateMachine\n",
    "const clima_dir = dirname(dirname(pathof(ClimateMachine)));\n",
    "include(joinpath(clima_dir, \"tutorials\", \"Numerics\", \"DGMethods\", \"Box1D.jl\"))\n",
    "\n",
    "output_dir = @__DIR__;\n",
    "mkpath(output_dir);"
   ],
   "metadata": {},
   "execution_count": 1
  },
  {
   "cell_type": "markdown",
   "source": [
    "The unfiltered result of the box advection test for order 4 polynomial with\n",
    "central flux is"
   ],
   "metadata": {}
  },
  {
   "outputs": [
    {
     "name": "stdout",
     "output_type": "stream",
     "text": [
      "┌ Info: Model composition\n",
      "│     param_set = Main.##396.EarthParameterSet()\n",
      "│     init_q = 0.0\n",
      "│     amplitude = 1.0\n",
      "│     velo = 1.0\n",
      "└ @ ClimateMachine /home/runner/work/ClimateMachine.jl/ClimateMachine.jl/src/Driver/driver_configs.jl:107\n",
      "┌ Info: Establishing single stack configuration for Box1D\n",
      "│     precision        = Float64\n",
      "│     polynomial order = 4\n",
      "│     domain_min       = 0.00 m x0.00 m x0.00 m\n",
      "│     domain_max       = 1.00 m x1.00 m x350.00 m\n",
      "│     #vert elems      = 128\n",
      "│     MPI ranks        = 1\n",
      "│     min(Δ_horz)      = 0.17 m\n",
      "│     min(Δ_vert)      = 0.47 m\n",
      "└ @ ClimateMachine /home/runner/work/ClimateMachine.jl/ClimateMachine.jl/src/Driver/driver_configs.jl:543\n",
      "┌ Info: Initializing Box1D\n",
      "└ @ ClimateMachine /home/runner/work/ClimateMachine.jl/ClimateMachine.jl/src/Driver/solver_configs.jl:172\n",
      "┌ Info: Starting Box1D\n",
      "│     dt              = 4.71698e-01\n",
      "│     timeend         =   450.00\n",
      "│     number of steps = 954\n",
      "│     norm(Q)         = 7.0845587175365115e+00\n",
      "└ @ ClimateMachine /home/runner/work/ClimateMachine.jl/ClimateMachine.jl/src/Driver/Driver.jl:675\n",
      "┌ Info: Finished\n",
      "│     norm(Q)            = 7.0629054001769509e+00\n",
      "│     norm(Q) / norm(Q₀) = 9.9694358982360298e-01\n",
      "│     norm(Q) - norm(Q₀) = -2.1653317359560553e-02\n",
      "└ @ ClimateMachine /home/runner/work/ClimateMachine.jl/ClimateMachine.jl/src/Driver/Driver.jl:713\n",
      "┌ Info: Mass Conservation:\n",
      "│     initial mass          = 5.0190972222222605e+01\n",
      "│     final mass            = 5.0190972222224183e+01\n",
      "│     difference            = 1.5774048733874224e-12\n",
      "│     normalized difference = 3.1428059739576215e-14\n",
      "└ @ Main.##396 /home/runner/work/ClimateMachine.jl/ClimateMachine.jl/tutorials/Numerics/DGMethods/Box1D.jl:289\n"
     ]
    }
   ],
   "cell_type": "code",
   "source": [
    "run_box1D(4, 0.0, 1.0, 1.0, joinpath(output_dir, \"box_1D_4_no_filter.svg\"))"
   ],
   "metadata": {},
   "execution_count": 2
  },
  {
   "cell_type": "markdown",
   "source": [
    "![](box_1D_4_no_filter.svg)"
   ],
   "metadata": {}
  },
  {
   "cell_type": "markdown",
   "source": [
    "The unfiltered result of the box advection test for order 4 polynomial with\n",
    "Rusanov flux (aka upwinding for advection) is"
   ],
   "metadata": {}
  },
  {
   "outputs": [
    {
     "name": "stdout",
     "output_type": "stream",
     "text": [
      "┌ Info: Model composition\n",
      "│     param_set = Main.##396.EarthParameterSet()\n",
      "│     init_q = 0.0\n",
      "│     amplitude = 1.0\n",
      "│     velo = 1.0\n",
      "└ @ ClimateMachine /home/runner/work/ClimateMachine.jl/ClimateMachine.jl/src/Driver/driver_configs.jl:107\n",
      "┌ Info: Establishing single stack configuration for Box1D\n",
      "│     precision        = Float64\n",
      "│     polynomial order = 4\n",
      "│     domain_min       = 0.00 m x0.00 m x0.00 m\n",
      "│     domain_max       = 1.00 m x1.00 m x350.00 m\n",
      "│     #vert elems      = 128\n",
      "│     MPI ranks        = 1\n",
      "│     min(Δ_horz)      = 0.17 m\n",
      "│     min(Δ_vert)      = 0.47 m\n",
      "└ @ ClimateMachine /home/runner/work/ClimateMachine.jl/ClimateMachine.jl/src/Driver/driver_configs.jl:543\n",
      "┌ Info: Initializing Box1D\n",
      "└ @ ClimateMachine /home/runner/work/ClimateMachine.jl/ClimateMachine.jl/src/Driver/solver_configs.jl:172\n",
      "┌ Info: Starting Box1D\n",
      "│     dt              = 4.71698e-01\n",
      "│     timeend         =   450.00\n",
      "│     number of steps = 954\n",
      "│     norm(Q)         = 7.0845587175365115e+00\n",
      "└ @ ClimateMachine /home/runner/work/ClimateMachine.jl/ClimateMachine.jl/src/Driver/Driver.jl:675\n",
      "┌ Info: Finished\n",
      "│     norm(Q)            = 7.0513534001494387e+00\n",
      "│     norm(Q) / norm(Q₀) = 9.9531300131582234e-01\n",
      "│     norm(Q) - norm(Q₀) = -3.3205317387072775e-02\n",
      "└ @ ClimateMachine /home/runner/work/ClimateMachine.jl/ClimateMachine.jl/src/Driver/Driver.jl:713\n",
      "┌ Info: Mass Conservation:\n",
      "│     initial mass          = 5.0190972222222605e+01\n",
      "│     final mass            = 5.0190972222224467e+01\n",
      "│     difference            = 1.8616219676914625e-12\n",
      "│     normalized difference = 3.7090773206166522e-14\n",
      "└ @ Main.##396 /home/runner/work/ClimateMachine.jl/ClimateMachine.jl/tutorials/Numerics/DGMethods/Box1D.jl:289\n"
     ]
    }
   ],
   "cell_type": "code",
   "source": [
    "run_box1D(\n",
    "    4,\n",
    "    0.0,\n",
    "    1.0,\n",
    "    1.0,\n",
    "    joinpath(output_dir, \"box_1D_4_no_filter_upwind.svg\"),\n",
    "    numerical_flux_first_order = RusanovNumericalFlux(),\n",
    ")"
   ],
   "metadata": {},
   "execution_count": 3
  },
  {
   "cell_type": "markdown",
   "source": [
    "![](box_1D_4_no_filter_upwind.svg)"
   ],
   "metadata": {}
  },
  {
   "cell_type": "markdown",
   "source": [
    "Below we show results for the same box advection test\n",
    "but using different filters.\n",
    "\n",
    "As seen in the results, when the TMAR filter is used mass is not necessarily\n",
    "conserved (mass increases are possible)."
   ],
   "metadata": {}
  },
  {
   "cell_type": "markdown",
   "source": [
    "`TMARFilter()` with central numerical flux:"
   ],
   "metadata": {}
  },
  {
   "outputs": [
    {
     "name": "stdout",
     "output_type": "stream",
     "text": [
      "┌ Info: Model composition\n",
      "│     param_set = Main.##396.EarthParameterSet()\n",
      "│     init_q = 0.0\n",
      "│     amplitude = 1.0\n",
      "│     velo = 1.0\n",
      "└ @ ClimateMachine /home/runner/work/ClimateMachine.jl/ClimateMachine.jl/src/Driver/driver_configs.jl:107\n",
      "┌ Info: Establishing single stack configuration for Box1D\n",
      "│     precision        = Float64\n",
      "│     polynomial order = 4\n",
      "│     domain_min       = 0.00 m x0.00 m x0.00 m\n",
      "│     domain_max       = 1.00 m x1.00 m x350.00 m\n",
      "│     #vert elems      = 128\n",
      "│     MPI ranks        = 1\n",
      "│     min(Δ_horz)      = 0.17 m\n",
      "│     min(Δ_vert)      = 0.47 m\n",
      "└ @ ClimateMachine /home/runner/work/ClimateMachine.jl/ClimateMachine.jl/src/Driver/driver_configs.jl:543\n",
      "┌ Info: Initializing Box1D\n",
      "└ @ ClimateMachine /home/runner/work/ClimateMachine.jl/ClimateMachine.jl/src/Driver/solver_configs.jl:172\n",
      "┌ Info: Starting Box1D\n",
      "│     dt              = 4.71698e-01\n",
      "│     timeend         =   450.00\n",
      "│     number of steps = 954\n",
      "│     norm(Q)         = 7.0845587175365115e+00\n",
      "└ @ ClimateMachine /home/runner/work/ClimateMachine.jl/ClimateMachine.jl/src/Driver/Driver.jl:675\n",
      "┌ Info: Finished\n",
      "│     norm(Q)            = 7.0284834766751549e+00\n",
      "│     norm(Q) / norm(Q₀) = 9.9208486468994139e-01\n",
      "│     norm(Q) - norm(Q₀) = -5.6075240861356512e-02\n",
      "└ @ ClimateMachine /home/runner/work/ClimateMachine.jl/ClimateMachine.jl/src/Driver/Driver.jl:713\n",
      "┌ Info: Mass Conservation:\n",
      "│     initial mass          = 5.0190972222222605e+01\n",
      "│     final mass            = 5.0273717773327959e+01\n",
      "│     difference            = 8.2745551105354309e-02\n",
      "│     normalized difference = 1.6486142316390080e-03\n",
      "└ @ Main.##396 /home/runner/work/ClimateMachine.jl/ClimateMachine.jl/tutorials/Numerics/DGMethods/Box1D.jl:289\n"
     ]
    }
   ],
   "cell_type": "code",
   "source": [
    "run_box1D(\n",
    "    4,\n",
    "    0.0,\n",
    "    1.0,\n",
    "    1.0,\n",
    "    joinpath(output_dir, \"box_1D_4_tmar.svg\");\n",
    "    tmar_filter = true,\n",
    ")"
   ],
   "metadata": {},
   "execution_count": 4
  },
  {
   "cell_type": "markdown",
   "source": [
    "![](box_1D_4_tmar.svg)"
   ],
   "metadata": {}
  },
  {
   "cell_type": "markdown",
   "source": [
    "Running the TMAR filter with Rusanov the mass conservation since some of the\n",
    "are reduced, but mass is still not conserved.\n",
    "`TMARFilter()` with Rusanov numerical flux:"
   ],
   "metadata": {}
  },
  {
   "outputs": [
    {
     "name": "stdout",
     "output_type": "stream",
     "text": [
      "┌ Info: Model composition\n",
      "│     param_set = Main.##396.EarthParameterSet()\n",
      "│     init_q = 0.0\n",
      "│     amplitude = 1.0\n",
      "│     velo = 1.0\n",
      "└ @ ClimateMachine /home/runner/work/ClimateMachine.jl/ClimateMachine.jl/src/Driver/driver_configs.jl:107\n",
      "┌ Info: Establishing single stack configuration for Box1D\n",
      "│     precision        = Float64\n",
      "│     polynomial order = 4\n",
      "│     domain_min       = 0.00 m x0.00 m x0.00 m\n",
      "│     domain_max       = 1.00 m x1.00 m x350.00 m\n",
      "│     #vert elems      = 128\n",
      "│     MPI ranks        = 1\n",
      "│     min(Δ_horz)      = 0.17 m\n",
      "│     min(Δ_vert)      = 0.47 m\n",
      "└ @ ClimateMachine /home/runner/work/ClimateMachine.jl/ClimateMachine.jl/src/Driver/driver_configs.jl:543\n",
      "┌ Info: Initializing Box1D\n",
      "└ @ ClimateMachine /home/runner/work/ClimateMachine.jl/ClimateMachine.jl/src/Driver/solver_configs.jl:172\n",
      "┌ Info: Starting Box1D\n",
      "│     dt              = 4.71698e-01\n",
      "│     timeend         =   450.00\n",
      "│     number of steps = 954\n",
      "│     norm(Q)         = 7.0845587175365115e+00\n",
      "└ @ ClimateMachine /home/runner/work/ClimateMachine.jl/ClimateMachine.jl/src/Driver/Driver.jl:675\n",
      "┌ Info: Finished\n",
      "│     norm(Q)            = 7.0195965557948714e+00\n",
      "│     norm(Q) / norm(Q₀) = 9.9083045757234844e-01\n",
      "│     norm(Q) - norm(Q₀) = -6.4962161741640045e-02\n",
      "└ @ ClimateMachine /home/runner/work/ClimateMachine.jl/ClimateMachine.jl/src/Driver/Driver.jl:713\n",
      "┌ Info: Mass Conservation:\n",
      "│     initial mass          = 5.0190972222222605e+01\n",
      "│     final mass            = 5.0231802188006398e+01\n",
      "│     difference            = 4.0829965783792943e-02\n",
      "│     normalized difference = 8.1349222730766366e-04\n",
      "└ @ Main.##396 /home/runner/work/ClimateMachine.jl/ClimateMachine.jl/tutorials/Numerics/DGMethods/Box1D.jl:289\n"
     ]
    }
   ],
   "cell_type": "code",
   "source": [
    "run_box1D(\n",
    "    4,\n",
    "    0.0,\n",
    "    1.0,\n",
    "    1.0,\n",
    "    joinpath(output_dir, \"box_1D_4_tmar_upwind.svg\");\n",
    "    tmar_filter = true,\n",
    "    numerical_flux_first_order = RusanovNumericalFlux(),\n",
    ")"
   ],
   "metadata": {},
   "execution_count": 5
  },
  {
   "cell_type": "markdown",
   "source": [
    "![](box_1D_4_tmar_upwind.svg)"
   ],
   "metadata": {}
  },
  {
   "cell_type": "markdown",
   "source": [
    "`CutoffFilter(grid, Nc=1)` with central numerical flux:"
   ],
   "metadata": {}
  },
  {
   "outputs": [
    {
     "name": "stdout",
     "output_type": "stream",
     "text": [
      "┌ Info: Model composition\n",
      "│     param_set = Main.##396.EarthParameterSet()\n",
      "│     init_q = 0.0\n",
      "│     amplitude = 1.0\n",
      "│     velo = 1.0\n",
      "└ @ ClimateMachine /home/runner/work/ClimateMachine.jl/ClimateMachine.jl/src/Driver/driver_configs.jl:107\n",
      "┌ Info: Establishing single stack configuration for Box1D\n",
      "│     precision        = Float64\n",
      "│     polynomial order = 4\n",
      "│     domain_min       = 0.00 m x0.00 m x0.00 m\n",
      "│     domain_max       = 1.00 m x1.00 m x350.00 m\n",
      "│     #vert elems      = 128\n",
      "│     MPI ranks        = 1\n",
      "│     min(Δ_horz)      = 0.17 m\n",
      "│     min(Δ_vert)      = 0.47 m\n",
      "└ @ ClimateMachine /home/runner/work/ClimateMachine.jl/ClimateMachine.jl/src/Driver/driver_configs.jl:543\n",
      "┌ Info: Initializing Box1D\n",
      "└ @ ClimateMachine /home/runner/work/ClimateMachine.jl/ClimateMachine.jl/src/Driver/solver_configs.jl:172\n",
      "┌ Info: Starting Box1D\n",
      "│     dt              = 4.71698e-01\n",
      "│     timeend         =   450.00\n",
      "│     number of steps = 954\n",
      "│     norm(Q)         = 7.0845587175365115e+00\n",
      "└ @ ClimateMachine /home/runner/work/ClimateMachine.jl/ClimateMachine.jl/src/Driver/Driver.jl:675\n",
      "┌ Info: Finished\n",
      "│     norm(Q)            = 4.3749269099690258e+00\n",
      "│     norm(Q) / norm(Q₀) = 6.1752991038661387e-01\n",
      "│     norm(Q) - norm(Q₀) = -2.7096318075674857e+00\n",
      "└ @ ClimateMachine /home/runner/work/ClimateMachine.jl/ClimateMachine.jl/src/Driver/Driver.jl:713\n",
      "┌ Info: Mass Conservation:\n",
      "│     initial mass          = 5.0190972222222605e+01\n",
      "│     final mass            = 5.0190972222251062e+01\n",
      "│     difference            = 2.8457236567192012e-11\n",
      "│     normalized difference = 5.6697918584235470e-13\n",
      "└ @ Main.##396 /home/runner/work/ClimateMachine.jl/ClimateMachine.jl/tutorials/Numerics/DGMethods/Box1D.jl:289\n"
     ]
    }
   ],
   "cell_type": "code",
   "source": [
    "run_box1D(\n",
    "    4,\n",
    "    0.0,\n",
    "    1.0,\n",
    "    1.0,\n",
    "    joinpath(output_dir, \"box_1D_4_cutoff_1.svg\");\n",
    "    cutoff_filter = true,\n",
    "    cutoff_param = 1,\n",
    ")"
   ],
   "metadata": {},
   "execution_count": 6
  },
  {
   "cell_type": "markdown",
   "source": [
    "![](box_1D_4_cutoff_1.svg)"
   ],
   "metadata": {}
  },
  {
   "cell_type": "markdown",
   "source": [
    "`CutoffFilter(grid, Nc=3)` with central numerical flux:"
   ],
   "metadata": {}
  },
  {
   "outputs": [
    {
     "name": "stdout",
     "output_type": "stream",
     "text": [
      "┌ Info: Model composition\n",
      "│     param_set = Main.##396.EarthParameterSet()\n",
      "│     init_q = 0.0\n",
      "│     amplitude = 1.0\n",
      "│     velo = 1.0\n",
      "└ @ ClimateMachine /home/runner/work/ClimateMachine.jl/ClimateMachine.jl/src/Driver/driver_configs.jl:107\n",
      "┌ Info: Establishing single stack configuration for Box1D\n",
      "│     precision        = Float64\n",
      "│     polynomial order = 4\n",
      "│     domain_min       = 0.00 m x0.00 m x0.00 m\n",
      "│     domain_max       = 1.00 m x1.00 m x350.00 m\n",
      "│     #vert elems      = 128\n",
      "│     MPI ranks        = 1\n",
      "│     min(Δ_horz)      = 0.17 m\n",
      "│     min(Δ_vert)      = 0.47 m\n",
      "└ @ ClimateMachine /home/runner/work/ClimateMachine.jl/ClimateMachine.jl/src/Driver/driver_configs.jl:543\n",
      "┌ Info: Initializing Box1D\n",
      "└ @ ClimateMachine /home/runner/work/ClimateMachine.jl/ClimateMachine.jl/src/Driver/solver_configs.jl:172\n",
      "┌ Info: Starting Box1D\n",
      "│     dt              = 4.71698e-01\n",
      "│     timeend         =   450.00\n",
      "│     number of steps = 954\n",
      "│     norm(Q)         = 7.0845587175365115e+00\n",
      "└ @ ClimateMachine /home/runner/work/ClimateMachine.jl/ClimateMachine.jl/src/Driver/Driver.jl:675\n",
      "┌ Info: Finished\n",
      "│     norm(Q)            = 7.0138240459748671e+00\n",
      "│     norm(Q) / norm(Q₀) = 9.9001565596646779e-01\n",
      "│     norm(Q) - norm(Q₀) = -7.0734671561644369e-02\n",
      "└ @ ClimateMachine /home/runner/work/ClimateMachine.jl/ClimateMachine.jl/src/Driver/Driver.jl:713\n",
      "┌ Info: Mass Conservation:\n",
      "│     initial mass          = 5.0190972222222605e+01\n",
      "│     final mass            = 5.0190972222237569e+01\n",
      "│     difference            = 1.4964030015107710e-11\n",
      "│     normalized difference = 2.9814186401597977e-13\n",
      "└ @ Main.##396 /home/runner/work/ClimateMachine.jl/ClimateMachine.jl/tutorials/Numerics/DGMethods/Box1D.jl:289\n"
     ]
    }
   ],
   "cell_type": "code",
   "source": [
    "run_box1D(\n",
    "    4,\n",
    "    0.0,\n",
    "    1.0,\n",
    "    1.0,\n",
    "    joinpath(output_dir, \"box_1D_4_cutoff_3.svg\");\n",
    "    cutoff_filter = true,\n",
    "    cutoff_param = 3,\n",
    ")"
   ],
   "metadata": {},
   "execution_count": 7
  },
  {
   "cell_type": "markdown",
   "source": [
    "![](box_1D_4_cutoff_3.svg)"
   ],
   "metadata": {}
  },
  {
   "cell_type": "markdown",
   "source": [
    "`ExponentialFilter(grid, Nc=1, s=4)` with central numerical flux:"
   ],
   "metadata": {}
  },
  {
   "outputs": [
    {
     "name": "stdout",
     "output_type": "stream",
     "text": [
      "┌ Info: Model composition\n",
      "│     param_set = Main.##396.EarthParameterSet()\n",
      "│     init_q = 0.0\n",
      "│     amplitude = 1.0\n",
      "│     velo = 1.0\n",
      "└ @ ClimateMachine /home/runner/work/ClimateMachine.jl/ClimateMachine.jl/src/Driver/driver_configs.jl:107\n",
      "┌ Info: Establishing single stack configuration for Box1D\n",
      "│     precision        = Float64\n",
      "│     polynomial order = 4\n",
      "│     domain_min       = 0.00 m x0.00 m x0.00 m\n",
      "│     domain_max       = 1.00 m x1.00 m x350.00 m\n",
      "│     #vert elems      = 128\n",
      "│     MPI ranks        = 1\n",
      "│     min(Δ_horz)      = 0.17 m\n",
      "│     min(Δ_vert)      = 0.47 m\n",
      "└ @ ClimateMachine /home/runner/work/ClimateMachine.jl/ClimateMachine.jl/src/Driver/driver_configs.jl:543\n",
      "┌ Info: Initializing Box1D\n",
      "└ @ ClimateMachine /home/runner/work/ClimateMachine.jl/ClimateMachine.jl/src/Driver/solver_configs.jl:172\n",
      "┌ Info: Starting Box1D\n",
      "│     dt              = 4.71698e-01\n",
      "│     timeend         =   450.00\n",
      "│     number of steps = 954\n",
      "│     norm(Q)         = 7.0845587175365115e+00\n",
      "└ @ ClimateMachine /home/runner/work/ClimateMachine.jl/ClimateMachine.jl/src/Driver/Driver.jl:675\n",
      "┌ Info: Finished\n",
      "│     norm(Q)            = 6.9333444856518263e+00\n",
      "│     norm(Q) / norm(Q₀) = 9.7865580088843329e-01\n",
      "│     norm(Q) - norm(Q₀) = -1.5121423188468519e-01\n",
      "└ @ ClimateMachine /home/runner/work/ClimateMachine.jl/ClimateMachine.jl/src/Driver/Driver.jl:713\n",
      "┌ Info: Mass Conservation:\n",
      "│     initial mass          = 5.0190972222222605e+01\n",
      "│     final mass            = 5.0190972222230478e+01\n",
      "│     difference            = 7.8728135122219101e-12\n",
      "│     normalized difference = 1.5685716302455156e-13\n",
      "└ @ Main.##396 /home/runner/work/ClimateMachine.jl/ClimateMachine.jl/tutorials/Numerics/DGMethods/Box1D.jl:289\n"
     ]
    }
   ],
   "cell_type": "code",
   "source": [
    "run_box1D(\n",
    "    4,\n",
    "    0.0,\n",
    "    1.0,\n",
    "    1.0,\n",
    "    joinpath(output_dir, \"box_1D_4_exp_1_4.svg\");\n",
    "    exp_filter = true,\n",
    "    exp_param_1 = 1,\n",
    "    exp_param_2 = 4,\n",
    ")"
   ],
   "metadata": {},
   "execution_count": 8
  },
  {
   "cell_type": "markdown",
   "source": [
    "![](box_1D_4_exp_1_4.svg)"
   ],
   "metadata": {}
  },
  {
   "cell_type": "markdown",
   "source": [
    "`ExponentialFilter(grid, Nc=1, s=8)` with central numerical flux:"
   ],
   "metadata": {}
  },
  {
   "outputs": [
    {
     "name": "stdout",
     "output_type": "stream",
     "text": [
      "┌ Info: Model composition\n",
      "│     param_set = Main.##396.EarthParameterSet()\n",
      "│     init_q = 0.0\n",
      "│     amplitude = 1.0\n",
      "│     velo = 1.0\n",
      "└ @ ClimateMachine /home/runner/work/ClimateMachine.jl/ClimateMachine.jl/src/Driver/driver_configs.jl:107\n",
      "┌ Info: Establishing single stack configuration for Box1D\n",
      "│     precision        = Float64\n",
      "│     polynomial order = 4\n",
      "│     domain_min       = 0.00 m x0.00 m x0.00 m\n",
      "│     domain_max       = 1.00 m x1.00 m x350.00 m\n",
      "│     #vert elems      = 128\n",
      "│     MPI ranks        = 1\n",
      "│     min(Δ_horz)      = 0.17 m\n",
      "│     min(Δ_vert)      = 0.47 m\n",
      "└ @ ClimateMachine /home/runner/work/ClimateMachine.jl/ClimateMachine.jl/src/Driver/driver_configs.jl:543\n",
      "┌ Info: Initializing Box1D\n",
      "└ @ ClimateMachine /home/runner/work/ClimateMachine.jl/ClimateMachine.jl/src/Driver/solver_configs.jl:172\n",
      "┌ Info: Starting Box1D\n",
      "│     dt              = 4.71698e-01\n",
      "│     timeend         =   450.00\n",
      "│     number of steps = 954\n",
      "│     norm(Q)         = 7.0845587175365115e+00\n",
      "└ @ ClimateMachine /home/runner/work/ClimateMachine.jl/ClimateMachine.jl/src/Driver/Driver.jl:675\n",
      "┌ Info: Finished\n",
      "│     norm(Q)            = 7.0143099503303707e+00\n",
      "│     norm(Q) / norm(Q₀) = 9.9008424236328896e-01\n",
      "│     norm(Q) - norm(Q₀) = -7.0248767206140705e-02\n",
      "└ @ ClimateMachine /home/runner/work/ClimateMachine.jl/ClimateMachine.jl/src/Driver/Driver.jl:713\n",
      "┌ Info: Mass Conservation:\n",
      "│     initial mass          = 5.0190972222222605e+01\n",
      "│     final mass            = 5.0190972222235338e+01\n",
      "│     difference            = 1.2732925824820995e-11\n",
      "│     normalized difference = 2.5368956330324584e-13\n",
      "└ @ Main.##396 /home/runner/work/ClimateMachine.jl/ClimateMachine.jl/tutorials/Numerics/DGMethods/Box1D.jl:289\n"
     ]
    }
   ],
   "cell_type": "code",
   "source": [
    "run_box1D(\n",
    "    4,\n",
    "    0.0,\n",
    "    1.0,\n",
    "    1.0,\n",
    "    joinpath(output_dir, \"box_1D_4_exp_1_8.svg\");\n",
    "    exp_filter = true,\n",
    "    exp_param_1 = 1,\n",
    "    exp_param_2 = 8,\n",
    ")"
   ],
   "metadata": {},
   "execution_count": 9
  },
  {
   "cell_type": "markdown",
   "source": [
    "![](box_1D_4_exp_1_8.svg)"
   ],
   "metadata": {}
  },
  {
   "cell_type": "markdown",
   "source": [
    "`ExponentialFilter(grid, Nc=1, s=32)` with central numerical flux:"
   ],
   "metadata": {}
  },
  {
   "outputs": [
    {
     "name": "stdout",
     "output_type": "stream",
     "text": [
      "┌ Info: Model composition\n",
      "│     param_set = Main.##396.EarthParameterSet()\n",
      "│     init_q = 0.0\n",
      "│     amplitude = 1.0\n",
      "│     velo = 1.0\n",
      "└ @ ClimateMachine /home/runner/work/ClimateMachine.jl/ClimateMachine.jl/src/Driver/driver_configs.jl:107\n",
      "┌ Info: Establishing single stack configuration for Box1D\n",
      "│     precision        = Float64\n",
      "│     polynomial order = 4\n",
      "│     domain_min       = 0.00 m x0.00 m x0.00 m\n",
      "│     domain_max       = 1.00 m x1.00 m x350.00 m\n",
      "│     #vert elems      = 128\n",
      "│     MPI ranks        = 1\n",
      "│     min(Δ_horz)      = 0.17 m\n",
      "│     min(Δ_vert)      = 0.47 m\n",
      "└ @ ClimateMachine /home/runner/work/ClimateMachine.jl/ClimateMachine.jl/src/Driver/driver_configs.jl:543\n",
      "┌ Info: Initializing Box1D\n",
      "└ @ ClimateMachine /home/runner/work/ClimateMachine.jl/ClimateMachine.jl/src/Driver/solver_configs.jl:172\n",
      "┌ Info: Starting Box1D\n",
      "│     dt              = 4.71698e-01\n",
      "│     timeend         =   450.00\n",
      "│     number of steps = 954\n",
      "│     norm(Q)         = 7.0845587175365115e+00\n",
      "└ @ ClimateMachine /home/runner/work/ClimateMachine.jl/ClimateMachine.jl/src/Driver/Driver.jl:675\n",
      "┌ Info: Finished\n",
      "│     norm(Q)            = 7.0543517922299168e+00\n",
      "│     norm(Q) / norm(Q₀) = 9.9573623051047300e-01\n",
      "│     norm(Q) - norm(Q₀) = -3.0206925306594634e-02\n",
      "└ @ ClimateMachine /home/runner/work/ClimateMachine.jl/ClimateMachine.jl/src/Driver/Driver.jl:713\n",
      "┌ Info: Mass Conservation:\n",
      "│     initial mass          = 5.0190972222222605e+01\n",
      "│     final mass            = 5.0190972222228559e+01\n",
      "│     difference            = 5.9543481256696396e-12\n",
      "│     normalized difference = 1.1863384712506698e-13\n",
      "└ @ Main.##396 /home/runner/work/ClimateMachine.jl/ClimateMachine.jl/tutorials/Numerics/DGMethods/Box1D.jl:289\n"
     ]
    }
   ],
   "cell_type": "code",
   "source": [
    "run_box1D(\n",
    "    4,\n",
    "    0.0,\n",
    "    1.0,\n",
    "    1.0,\n",
    "    joinpath(output_dir, \"box_1D_4_exp_1_32.svg\");\n",
    "    exp_filter = true,\n",
    "    exp_param_1 = 1,\n",
    "    exp_param_2 = 32,\n",
    ")"
   ],
   "metadata": {},
   "execution_count": 10
  },
  {
   "cell_type": "markdown",
   "source": [
    "![](box_1D_4_exp_1_32.svg)"
   ],
   "metadata": {}
  },
  {
   "cell_type": "markdown",
   "source": [
    "`BoydVandevenFilter(grid, Nc=1, s=4)` with central numerical flux:"
   ],
   "metadata": {}
  },
  {
   "outputs": [
    {
     "name": "stdout",
     "output_type": "stream",
     "text": [
      "┌ Info: Model composition\n",
      "│     param_set = Main.##396.EarthParameterSet()\n",
      "│     init_q = 0.0\n",
      "│     amplitude = 1.0\n",
      "│     velo = 1.0\n",
      "└ @ ClimateMachine /home/runner/work/ClimateMachine.jl/ClimateMachine.jl/src/Driver/driver_configs.jl:107\n",
      "┌ Info: Establishing single stack configuration for Box1D\n",
      "│     precision        = Float64\n",
      "│     polynomial order = 4\n",
      "│     domain_min       = 0.00 m x0.00 m x0.00 m\n",
      "│     domain_max       = 1.00 m x1.00 m x350.00 m\n",
      "│     #vert elems      = 128\n",
      "│     MPI ranks        = 1\n",
      "│     min(Δ_horz)      = 0.17 m\n",
      "│     min(Δ_vert)      = 0.47 m\n",
      "└ @ ClimateMachine /home/runner/work/ClimateMachine.jl/ClimateMachine.jl/src/Driver/driver_configs.jl:543\n",
      "┌ Info: Initializing Box1D\n",
      "└ @ ClimateMachine /home/runner/work/ClimateMachine.jl/ClimateMachine.jl/src/Driver/solver_configs.jl:172\n",
      "┌ Info: Starting Box1D\n",
      "│     dt              = 4.71698e-01\n",
      "│     timeend         =   450.00\n",
      "│     number of steps = 954\n",
      "│     norm(Q)         = 7.0845587175365115e+00\n",
      "└ @ ClimateMachine /home/runner/work/ClimateMachine.jl/ClimateMachine.jl/src/Driver/Driver.jl:675\n",
      "┌ Info: Finished\n",
      "│     norm(Q)            = 6.9612435701243625e+00\n",
      "│     norm(Q) / norm(Q₀) = 9.8259381390870471e-01\n",
      "│     norm(Q) - norm(Q₀) = -1.2331514741214900e-01\n",
      "└ @ ClimateMachine /home/runner/work/ClimateMachine.jl/ClimateMachine.jl/src/Driver/Driver.jl:713\n",
      "┌ Info: Mass Conservation:\n",
      "│     initial mass          = 5.0190972222222605e+01\n",
      "│     final mass            = 5.0190972222241903e+01\n",
      "│     difference            = 1.9298340703244321e-11\n",
      "│     normalized difference = 3.8449824438148199e-13\n",
      "└ @ Main.##396 /home/runner/work/ClimateMachine.jl/ClimateMachine.jl/tutorials/Numerics/DGMethods/Box1D.jl:289\n"
     ]
    }
   ],
   "cell_type": "code",
   "source": [
    "run_box1D(\n",
    "    4,\n",
    "    0.0,\n",
    "    1.0,\n",
    "    1.0,\n",
    "    joinpath(output_dir, \"box_1D_4_boyd_1_4.svg\");\n",
    "    boyd_filter = true,\n",
    "    boyd_param_1 = 1,\n",
    "    boyd_param_2 = 4,\n",
    ")"
   ],
   "metadata": {},
   "execution_count": 11
  },
  {
   "cell_type": "markdown",
   "source": [
    "![](box_1D_4_boyd_1_4.svg)"
   ],
   "metadata": {}
  },
  {
   "cell_type": "markdown",
   "source": [
    "`BoydVandevenFilter(grid, Nc=1, s=8)` with central numerical flux:"
   ],
   "metadata": {}
  },
  {
   "outputs": [
    {
     "name": "stdout",
     "output_type": "stream",
     "text": [
      "┌ Info: Model composition\n",
      "│     param_set = Main.##396.EarthParameterSet()\n",
      "│     init_q = 0.0\n",
      "│     amplitude = 1.0\n",
      "│     velo = 1.0\n",
      "└ @ ClimateMachine /home/runner/work/ClimateMachine.jl/ClimateMachine.jl/src/Driver/driver_configs.jl:107\n",
      "┌ Info: Establishing single stack configuration for Box1D\n",
      "│     precision        = Float64\n",
      "│     polynomial order = 4\n",
      "│     domain_min       = 0.00 m x0.00 m x0.00 m\n",
      "│     domain_max       = 1.00 m x1.00 m x350.00 m\n",
      "│     #vert elems      = 128\n",
      "│     MPI ranks        = 1\n",
      "│     min(Δ_horz)      = 0.17 m\n",
      "│     min(Δ_vert)      = 0.47 m\n",
      "└ @ ClimateMachine /home/runner/work/ClimateMachine.jl/ClimateMachine.jl/src/Driver/driver_configs.jl:543\n",
      "┌ Info: Initializing Box1D\n",
      "└ @ ClimateMachine /home/runner/work/ClimateMachine.jl/ClimateMachine.jl/src/Driver/solver_configs.jl:172\n",
      "┌ Info: Starting Box1D\n",
      "│     dt              = 4.71698e-01\n",
      "│     timeend         =   450.00\n",
      "│     number of steps = 954\n",
      "│     norm(Q)         = 7.0845587175365115e+00\n",
      "└ @ ClimateMachine /home/runner/work/ClimateMachine.jl/ClimateMachine.jl/src/Driver/Driver.jl:675\n",
      "┌ Info: Finished\n",
      "│     norm(Q)            = 6.9798736717003251e+00\n",
      "│     norm(Q) / norm(Q₀) = 9.8522349097381923e-01\n",
      "│     norm(Q) - norm(Q₀) = -1.0468504583618632e-01\n",
      "└ @ ClimateMachine /home/runner/work/ClimateMachine.jl/ClimateMachine.jl/src/Driver/Driver.jl:713\n",
      "┌ Info: Mass Conservation:\n",
      "│     initial mass          = 5.0190972222222605e+01\n",
      "│     final mass            = 5.0190972222212075e+01\n",
      "│     difference            = -1.0530243343964685e-11\n",
      "│     normalized difference = -2.0980353393717096e-13\n",
      "└ @ Main.##396 /home/runner/work/ClimateMachine.jl/ClimateMachine.jl/tutorials/Numerics/DGMethods/Box1D.jl:289\n"
     ]
    }
   ],
   "cell_type": "code",
   "source": [
    "run_box1D(\n",
    "    4,\n",
    "    0.0,\n",
    "    1.0,\n",
    "    1.0,\n",
    "    joinpath(output_dir, \"box_1D_4_boyd_1_8.svg\");\n",
    "    boyd_filter = true,\n",
    "    boyd_param_1 = 1,\n",
    "    boyd_param_2 = 8,\n",
    ")"
   ],
   "metadata": {},
   "execution_count": 12
  },
  {
   "cell_type": "markdown",
   "source": [
    "![](box_1D_4_boyd_1_8.svg)"
   ],
   "metadata": {}
  },
  {
   "cell_type": "markdown",
   "source": [
    "`BoydVandevenFilter(grid, Nc=1, s=32)` with central numerical flux:"
   ],
   "metadata": {}
  },
  {
   "outputs": [
    {
     "name": "stdout",
     "output_type": "stream",
     "text": [
      "┌ Info: Model composition\n",
      "│     param_set = Main.##396.EarthParameterSet()\n",
      "│     init_q = 0.0\n",
      "│     amplitude = 1.0\n",
      "│     velo = 1.0\n",
      "└ @ ClimateMachine /home/runner/work/ClimateMachine.jl/ClimateMachine.jl/src/Driver/driver_configs.jl:107\n",
      "┌ Info: Establishing single stack configuration for Box1D\n",
      "│     precision        = Float64\n",
      "│     polynomial order = 4\n",
      "│     domain_min       = 0.00 m x0.00 m x0.00 m\n",
      "│     domain_max       = 1.00 m x1.00 m x350.00 m\n",
      "│     #vert elems      = 128\n",
      "│     MPI ranks        = 1\n",
      "│     min(Δ_horz)      = 0.17 m\n",
      "│     min(Δ_vert)      = 0.47 m\n",
      "└ @ ClimateMachine /home/runner/work/ClimateMachine.jl/ClimateMachine.jl/src/Driver/driver_configs.jl:543\n",
      "┌ Info: Initializing Box1D\n",
      "└ @ ClimateMachine /home/runner/work/ClimateMachine.jl/ClimateMachine.jl/src/Driver/solver_configs.jl:172\n",
      "┌ Info: Starting Box1D\n",
      "│     dt              = 4.71698e-01\n",
      "│     timeend         =   450.00\n",
      "│     number of steps = 954\n",
      "│     norm(Q)         = 7.0845587175365115e+00\n",
      "└ @ ClimateMachine /home/runner/work/ClimateMachine.jl/ClimateMachine.jl/src/Driver/Driver.jl:675\n",
      "┌ Info: Finished\n",
      "│     norm(Q)            = 7.0120419256462378e+00\n",
      "│     norm(Q) / norm(Q₀) = 9.8976410602529530e-01\n",
      "│     norm(Q) - norm(Q₀) = -7.2516791890273602e-02\n",
      "└ @ ClimateMachine /home/runner/work/ClimateMachine.jl/ClimateMachine.jl/src/Driver/Driver.jl:713\n",
      "┌ Info: Mass Conservation:\n",
      "│     initial mass          = 5.0190972222222605e+01\n",
      "│     final mass            = 5.0190972222235821e+01\n",
      "│     difference            = 1.3216094885137863e-11\n",
      "│     normalized difference = 2.6331617619644935e-13\n",
      "└ @ Main.##396 /home/runner/work/ClimateMachine.jl/ClimateMachine.jl/tutorials/Numerics/DGMethods/Box1D.jl:289\n"
     ]
    }
   ],
   "cell_type": "code",
   "source": [
    "run_box1D(\n",
    "    4,\n",
    "    0.0,\n",
    "    1.0,\n",
    "    1.0,\n",
    "    joinpath(output_dir, \"box_1D_4_boyd_1_32.svg\");\n",
    "    boyd_filter = true,\n",
    "    boyd_param_1 = 1,\n",
    "    boyd_param_2 = 32,\n",
    ")"
   ],
   "metadata": {},
   "execution_count": 13
  },
  {
   "cell_type": "markdown",
   "source": [
    "![](box_1D_4_boyd_1_32.svg)"
   ],
   "metadata": {}
  },
  {
   "cell_type": "markdown",
   "source": [
    "`ExponentialFilter(grid, Nc=1, s=8)` and `TMARFilter()` with central numerical\n",
    "flux:"
   ],
   "metadata": {}
  },
  {
   "outputs": [
    {
     "name": "stdout",
     "output_type": "stream",
     "text": [
      "┌ Info: Model composition\n",
      "│     param_set = Main.##396.EarthParameterSet()\n",
      "│     init_q = 0.0\n",
      "│     amplitude = 1.0\n",
      "│     velo = 1.0\n",
      "└ @ ClimateMachine /home/runner/work/ClimateMachine.jl/ClimateMachine.jl/src/Driver/driver_configs.jl:107\n",
      "┌ Info: Establishing single stack configuration for Box1D\n",
      "│     precision        = Float64\n",
      "│     polynomial order = 4\n",
      "│     domain_min       = 0.00 m x0.00 m x0.00 m\n",
      "│     domain_max       = 1.00 m x1.00 m x350.00 m\n",
      "│     #vert elems      = 128\n",
      "│     MPI ranks        = 1\n",
      "│     min(Δ_horz)      = 0.17 m\n",
      "│     min(Δ_vert)      = 0.47 m\n",
      "└ @ ClimateMachine /home/runner/work/ClimateMachine.jl/ClimateMachine.jl/src/Driver/driver_configs.jl:543\n",
      "┌ Info: Initializing Box1D\n",
      "└ @ ClimateMachine /home/runner/work/ClimateMachine.jl/ClimateMachine.jl/src/Driver/solver_configs.jl:172\n",
      "┌ Info: Starting Box1D\n",
      "│     dt              = 4.71698e-01\n",
      "│     timeend         =   450.00\n",
      "│     number of steps = 954\n",
      "│     norm(Q)         = 7.0845587175365115e+00\n",
      "└ @ ClimateMachine /home/runner/work/ClimateMachine.jl/ClimateMachine.jl/src/Driver/Driver.jl:675\n",
      "┌ Info: Finished\n",
      "│     norm(Q)            = 6.9859473293750920e+00\n",
      "│     norm(Q) / norm(Q₀) = 9.8608080021733391e-01\n",
      "│     norm(Q) - norm(Q₀) = -9.8611388161419455e-02\n",
      "└ @ ClimateMachine /home/runner/work/ClimateMachine.jl/ClimateMachine.jl/src/Driver/Driver.jl:713\n",
      "┌ Info: Mass Conservation:\n",
      "│     initial mass          = 5.0190972222222605e+01\n",
      "│     final mass            = 5.0255956701552542e+01\n",
      "│     difference            = 6.4984479329936562e-02\n",
      "│     normalized difference = 1.2947443823605386e-03\n",
      "└ @ Main.##396 /home/runner/work/ClimateMachine.jl/ClimateMachine.jl/tutorials/Numerics/DGMethods/Box1D.jl:289\n"
     ]
    }
   ],
   "cell_type": "code",
   "source": [
    "run_box1D(\n",
    "    4,\n",
    "    0.0,\n",
    "    1.0,\n",
    "    1.0,\n",
    "    joinpath(output_dir, \"box_1D_4_tmar_exp_1_8.svg\");\n",
    "    exp_filter = true,\n",
    "    tmar_filter = true,\n",
    "    exp_param_1 = 1,\n",
    "    exp_param_2 = 8,\n",
    ")"
   ],
   "metadata": {},
   "execution_count": 14
  },
  {
   "cell_type": "markdown",
   "source": [
    "![](box_1D_4_tmar_exp_1_8.svg)"
   ],
   "metadata": {}
  },
  {
   "cell_type": "markdown",
   "source": [
    "`BoydVandevenFilter(grid, Nc=1, s=8)` and `TMARFilter()` with central\n",
    "numerical flux:"
   ],
   "metadata": {}
  },
  {
   "outputs": [
    {
     "name": "stdout",
     "output_type": "stream",
     "text": [
      "┌ Info: Model composition\n",
      "│     param_set = Main.##396.EarthParameterSet()\n",
      "│     init_q = 0.0\n",
      "│     amplitude = 1.0\n",
      "│     velo = 1.0\n",
      "└ @ ClimateMachine /home/runner/work/ClimateMachine.jl/ClimateMachine.jl/src/Driver/driver_configs.jl:107\n",
      "┌ Info: Establishing single stack configuration for Box1D\n",
      "│     precision        = Float64\n",
      "│     polynomial order = 4\n",
      "│     domain_min       = 0.00 m x0.00 m x0.00 m\n",
      "│     domain_max       = 1.00 m x1.00 m x350.00 m\n",
      "│     #vert elems      = 128\n",
      "│     MPI ranks        = 1\n",
      "│     min(Δ_horz)      = 0.17 m\n",
      "│     min(Δ_vert)      = 0.47 m\n",
      "└ @ ClimateMachine /home/runner/work/ClimateMachine.jl/ClimateMachine.jl/src/Driver/driver_configs.jl:543\n",
      "┌ Info: Initializing Box1D\n",
      "└ @ ClimateMachine /home/runner/work/ClimateMachine.jl/ClimateMachine.jl/src/Driver/solver_configs.jl:172\n",
      "┌ Info: Starting Box1D\n",
      "│     dt              = 4.71698e-01\n",
      "│     timeend         =   450.00\n",
      "│     number of steps = 954\n",
      "│     norm(Q)         = 7.0845587175365115e+00\n",
      "└ @ ClimateMachine /home/runner/work/ClimateMachine.jl/ClimateMachine.jl/src/Driver/Driver.jl:675\n",
      "┌ Info: Finished\n",
      "│     norm(Q)            = 6.9548646819374662e+00\n",
      "│     norm(Q) / norm(Q₀) = 9.8169342075209121e-01\n",
      "│     norm(Q) - norm(Q₀) = -1.2969403559904524e-01\n",
      "└ @ ClimateMachine /home/runner/work/ClimateMachine.jl/ClimateMachine.jl/src/Driver/Driver.jl:713\n",
      "┌ Info: Mass Conservation:\n",
      "│     initial mass          = 5.0190972222222605e+01\n",
      "│     final mass            = 5.0269145317345732e+01\n",
      "│     difference            = 7.8173095123126757e-02\n",
      "│     normalized difference = 1.5575130678284561e-03\n",
      "└ @ Main.##396 /home/runner/work/ClimateMachine.jl/ClimateMachine.jl/tutorials/Numerics/DGMethods/Box1D.jl:289\n"
     ]
    }
   ],
   "cell_type": "code",
   "source": [
    "run_box1D(\n",
    "    4,\n",
    "    0.0,\n",
    "    1.0,\n",
    "    1.0,\n",
    "    joinpath(output_dir, \"box_1D_4_tmar_boyd_1_8.svg\");\n",
    "    boyd_filter = true,\n",
    "    tmar_filter = true,\n",
    "    boyd_param_1 = 1,\n",
    "    boyd_param_2 = 8,\n",
    ")"
   ],
   "metadata": {},
   "execution_count": 15
  },
  {
   "cell_type": "markdown",
   "source": [
    "![](box_1D_4_tmar_boyd_1_8.svg)"
   ],
   "metadata": {}
  },
  {
   "cell_type": "markdown",
   "source": [
    "---\n",
    "\n",
    "*This notebook was generated using [Literate.jl](https://github.com/fredrikekre/Literate.jl).*"
   ],
   "metadata": {}
  }
 ],
 "nbformat_minor": 3,
 "metadata": {
  "language_info": {
   "file_extension": ".jl",
   "mimetype": "application/julia",
   "name": "julia",
   "version": "1.5.2"
  },
  "kernelspec": {
   "name": "julia-1.5",
   "display_name": "Julia 1.5.2",
   "language": "julia"
  }
 },
 "nbformat": 4
}
