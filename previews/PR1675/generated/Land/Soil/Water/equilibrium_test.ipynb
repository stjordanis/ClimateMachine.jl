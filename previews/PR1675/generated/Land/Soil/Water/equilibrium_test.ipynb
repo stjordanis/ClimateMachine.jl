{
 "cells": [
  {
   "cell_type": "markdown",
   "source": [
    "# Hydrostatic Equilibrium test for Richards Equation"
   ],
   "metadata": {}
  },
  {
   "cell_type": "markdown",
   "source": [
    "This tutorial shows how to use `ClimateMachine` code to solve\n",
    "Richards equation in a column of soil. We choose boundary\n",
    "conditions of zero flux at the top and bottom of the column,\n",
    "and then run the simulation long enough to see that the system\n",
    "is approaching hydrostatic equilibrium, where the gradient of the\n",
    "pressure head is equal and opposite the gradient of the\n",
    "gravitational head. Note that the [`SoilWaterModel`](@ref\n",
    "ClimateMachine.Land.SoilWaterModel) includes\n",
    "a prognostic equation for the volumetric ice fraction,\n",
    "as ice is a form of water that must be accounted for to ensure\n",
    "water mass conservation. If freezing and thawing are not turned on\n",
    "(the default), the amount of ice in the model is zero for all space and time\n",
    "(again by default). *It does not make sense to change this default*, since the\n",
    "liquid water equation would have no knowledge of the amount of ice in the soil."
   ],
   "metadata": {}
  },
  {
   "cell_type": "markdown",
   "source": [
    "The equations are:"
   ],
   "metadata": {}
  },
  {
   "cell_type": "markdown",
   "source": [
    "``\n",
    "\\frac{ ∂ ϑ_l}{∂ t} = ∇ ⋅ K (T, ϑ_l, θ_i; ν, ...) ∇h( ϑ_l, z; ν, ...).\n",
    "``"
   ],
   "metadata": {}
  },
  {
   "cell_type": "markdown",
   "source": [
    "``\n",
    "\\frac{ ∂ θ_i}{∂ t} = 0\n",
    "``"
   ],
   "metadata": {}
  },
  {
   "cell_type": "markdown",
   "source": [
    "Here"
   ],
   "metadata": {}
  },
  {
   "cell_type": "markdown",
   "source": [
    "``t`` is the time (s),"
   ],
   "metadata": {}
  },
  {
   "cell_type": "markdown",
   "source": [
    "``z`` is the location in the vertical (m),"
   ],
   "metadata": {}
  },
  {
   "cell_type": "markdown",
   "source": [
    "``T`` is the temperature of the soil (K),"
   ],
   "metadata": {}
  },
  {
   "cell_type": "markdown",
   "source": [
    "``K`` is the hydraulic conductivity (m/s),"
   ],
   "metadata": {}
  },
  {
   "cell_type": "markdown",
   "source": [
    "``h`` is the hydraulic head (m),"
   ],
   "metadata": {}
  },
  {
   "cell_type": "markdown",
   "source": [
    "``ϑ_l`` is the augmented volumetric liquid water fraction,"
   ],
   "metadata": {}
  },
  {
   "cell_type": "markdown",
   "source": [
    "``θ_i`` is the volumetric ice fraction, and"
   ],
   "metadata": {}
  },
  {
   "cell_type": "markdown",
   "source": [
    "``ν, ...`` denotes parameters relating to soil type, such as porosity."
   ],
   "metadata": {}
  },
  {
   "cell_type": "markdown",
   "source": [
    "We will solve this equation in an effectively 1-d domain with ``z ∈ [-10,0]``,\n",
    "and with the following boundary and initial conditions:"
   ],
   "metadata": {}
  },
  {
   "cell_type": "markdown",
   "source": [
    "``- K ∇h(t, z = 0) = 0 ẑ ``"
   ],
   "metadata": {}
  },
  {
   "cell_type": "markdown",
   "source": [
    "`` -K ∇h(t, z = -10) = 0 ẑ``"
   ],
   "metadata": {}
  },
  {
   "cell_type": "markdown",
   "source": [
    "`` ϑ(t = 0, z) = ν-0.001 ``"
   ],
   "metadata": {}
  },
  {
   "cell_type": "markdown",
   "source": [
    "`` θ_i(t = 0, z) = 0.0. ``"
   ],
   "metadata": {}
  },
  {
   "cell_type": "markdown",
   "source": [
    "where ``\\nu`` is the porosity."
   ],
   "metadata": {}
  },
  {
   "cell_type": "markdown",
   "source": [
    "A word about the hydraulic conductivity: please see the\n",
    "[`hydraulic functions`](./hydraulic_functions.md) tutorial\n",
    "for options regarding this function. The user can choose to make it depend\n",
    "on the temperature and the amount of ice in the soil; the default, which we use\n",
    "here, is that `K` only depends on the liquid moisture content."
   ],
   "metadata": {}
  },
  {
   "cell_type": "markdown",
   "source": [
    "Lastly, our formulation of this equation allows for a continuous solution in both\n",
    "saturated and unsaturated areas, following [1]."
   ],
   "metadata": {}
  },
  {
   "cell_type": "markdown",
   "source": [
    "# Preliminary setup"
   ],
   "metadata": {}
  },
  {
   "cell_type": "markdown",
   "source": [
    "- Load external packages"
   ],
   "metadata": {}
  },
  {
   "outputs": [],
   "cell_type": "code",
   "source": [
    "using MPI\n",
    "using OrderedCollections\n",
    "using StaticArrays\n",
    "using Statistics"
   ],
   "metadata": {},
   "execution_count": 1
  },
  {
   "cell_type": "markdown",
   "source": [
    "- Load CLIMAParameters and ClimateMachine modules"
   ],
   "metadata": {}
  },
  {
   "outputs": [],
   "cell_type": "code",
   "source": [
    "using CLIMAParameters\n",
    "struct EarthParameterSet <: AbstractEarthParameterSet end\n",
    "const param_set = EarthParameterSet()\n",
    "\n",
    "using ClimateMachine\n",
    "using ClimateMachine.Land\n",
    "using ClimateMachine.Land.SoilWaterParameterizations\n",
    "using ClimateMachine.Mesh.Topologies\n",
    "using ClimateMachine.Mesh.Grids\n",
    "using ClimateMachine.DGMethods\n",
    "using ClimateMachine.DGMethods.NumericalFluxes\n",
    "using ClimateMachine.DGMethods: BalanceLaw, LocalGeometry\n",
    "using ClimateMachine.MPIStateArrays\n",
    "using ClimateMachine.GenericCallbacks\n",
    "using ClimateMachine.ODESolvers\n",
    "using ClimateMachine.VariableTemplates\n",
    "using ClimateMachine.SingleStackUtils\n",
    "using ClimateMachine.BalanceLaws:\n",
    "    BalanceLaw, Prognostic, Auxiliary, Gradient, GradientFlux, vars_state"
   ],
   "metadata": {},
   "execution_count": 2
  },
  {
   "cell_type": "markdown",
   "source": [
    "- Define the float type desired (`Float64` or `Float32`)"
   ],
   "metadata": {}
  },
  {
   "outputs": [],
   "cell_type": "code",
   "source": [
    "const FT = Float64;"
   ],
   "metadata": {},
   "execution_count": 3
  },
  {
   "cell_type": "markdown",
   "source": [
    "- Initialize ClimateMachine for CPU"
   ],
   "metadata": {}
  },
  {
   "outputs": [],
   "cell_type": "code",
   "source": [
    "ClimateMachine.init(; disable_gpu = true);"
   ],
   "metadata": {},
   "execution_count": 4
  },
  {
   "cell_type": "markdown",
   "source": [
    "Load plot helpers:"
   ],
   "metadata": {}
  },
  {
   "outputs": [],
   "cell_type": "code",
   "source": [
    "const clima_dir = dirname(dirname(pathof(ClimateMachine)));\n",
    "include(joinpath(clima_dir, \"docs\", \"plothelpers.jl\"));"
   ],
   "metadata": {},
   "execution_count": 5
  },
  {
   "cell_type": "markdown",
   "source": [
    "# Set up the soil model"
   ],
   "metadata": {}
  },
  {
   "cell_type": "markdown",
   "source": [
    "We want to solve Richards equation alone, without simultaneously\n",
    "solving the heat equation. Because of that, we choose a\n",
    "[`PrescribedTemperatureModel`](@ref\n",
    "ClimateMachine.Land.PrescribedTemperatureModel).\n",
    "The user can supply a function for temperature,\n",
    "depending on time and space; if this option is desired, one could also\n",
    "choose to model the temperature dependence of viscosity, or to drive\n",
    "a freeze/thaw cycle, for example. If the user simply wants to model\n",
    "Richards equation for liquid water, the defaults will allow for that.\n",
    "Here we ignore the effects of temperature and freezing and thawing,\n",
    "using the defaults."
   ],
   "metadata": {}
  },
  {
   "outputs": [],
   "cell_type": "code",
   "source": [
    "soil_heat_model = PrescribedTemperatureModel();"
   ],
   "metadata": {},
   "execution_count": 6
  },
  {
   "cell_type": "markdown",
   "source": [
    "Define the porosity, Ksat, and specific storage values for the soil. Note\n",
    "that all values must be given in mks units. The soil parameters chosen\n",
    "roughly correspond to Yolo light clay."
   ],
   "metadata": {}
  },
  {
   "outputs": [],
   "cell_type": "code",
   "source": [
    "soil_param_functions = SoilParamFunctions{FT}(\n",
    "    porosity = 0.495,\n",
    "    Ksat = 0.0443 / (3600 * 100),\n",
    "    S_s = 1e-3,\n",
    ");"
   ],
   "metadata": {},
   "execution_count": 7
  },
  {
   "cell_type": "markdown",
   "source": [
    "Define the boundary conditions. The user can specify two conditions,\n",
    "either at the top or at the bottom, and they can either be Dirichlet\n",
    "(on `ϑ_l`) or Neumann (on `-K∇h`). Note that fluxes are supplied as\n",
    "scalars, inside the code they are multiplied by ẑ. The two conditions\n",
    "not supplied must be set to `nothing`."
   ],
   "metadata": {}
  },
  {
   "outputs": [],
   "cell_type": "code",
   "source": [
    "surface_flux = (aux, t) -> eltype(aux)(0.0)\n",
    "bottom_flux = (aux, t) -> eltype(aux)(0.0)\n",
    "surface_state = nothing\n",
    "bottom_state = nothing"
   ],
   "metadata": {},
   "execution_count": 8
  },
  {
   "cell_type": "markdown",
   "source": [
    "Define the initial state function. The default for `θ_i` is zero."
   ],
   "metadata": {}
  },
  {
   "outputs": [],
   "cell_type": "code",
   "source": [
    "ϑ_l0 = (aux) -> eltype(aux)(0.494);"
   ],
   "metadata": {},
   "execution_count": 9
  },
  {
   "cell_type": "markdown",
   "source": [
    "Create the SoilWaterModel. The defaults are a temperature independent\n",
    "viscosity, and no impedance factor due to ice. We choose to make the\n",
    "hydraulic conductivity a function of the moisture content `ϑ_l`,\n",
    "and employ the vanGenuchten hydraulic model with `n` = 2.0. The van\n",
    "Genuchten parameter `m` is calculated from `n`, and we use the default\n",
    "value for `α`."
   ],
   "metadata": {}
  },
  {
   "outputs": [],
   "cell_type": "code",
   "source": [
    "soil_water_model = SoilWaterModel(\n",
    "    FT;\n",
    "    moisture_factor = MoistureDependent{FT}(),\n",
    "    hydraulics = vanGenuchten{FT}(n = 2.0),\n",
    "    initialϑ_l = ϑ_l0,\n",
    "    dirichlet_bc = Dirichlet(\n",
    "        surface_state = surface_state,\n",
    "        bottom_state = bottom_state,\n",
    "    ),\n",
    "    neumann_bc = Neumann(\n",
    "        surface_flux = surface_flux,\n",
    "        bottom_flux = bottom_flux,\n",
    "    ),\n",
    ");"
   ],
   "metadata": {},
   "execution_count": 10
  },
  {
   "cell_type": "markdown",
   "source": [
    "Create the soil model - the coupled soil water and soil heat models."
   ],
   "metadata": {}
  },
  {
   "outputs": [],
   "cell_type": "code",
   "source": [
    "m_soil = SoilModel(soil_param_functions, soil_water_model, soil_heat_model);"
   ],
   "metadata": {},
   "execution_count": 11
  },
  {
   "cell_type": "markdown",
   "source": [
    "We are ignoring sources and sinks here, like runoff or freezing and thawing."
   ],
   "metadata": {}
  },
  {
   "outputs": [],
   "cell_type": "code",
   "source": [
    "sources = ();"
   ],
   "metadata": {},
   "execution_count": 12
  },
  {
   "cell_type": "markdown",
   "source": [
    "Define the function that initializes the prognostic variables. This\n",
    "in turn calls the functions supplied to `soil_water_model`."
   ],
   "metadata": {}
  },
  {
   "outputs": [
    {
     "output_type": "execute_result",
     "data": {
      "text/plain": "init_soil_water! (generic function with 1 method)"
     },
     "metadata": {},
     "execution_count": 13
    }
   ],
   "cell_type": "code",
   "source": [
    "function init_soil_water!(land, state, aux, localgeo, time)\n",
    "    FT = eltype(state)\n",
    "    state.soil.water.ϑ_l = FT(land.soil.water.initialϑ_l(aux))\n",
    "    state.soil.water.θ_i = FT(land.soil.water.initialθ_i(aux))\n",
    "end"
   ],
   "metadata": {},
   "execution_count": 13
  },
  {
   "cell_type": "markdown",
   "source": [
    "Create the land model - in this tutorial, it only includes the soil."
   ],
   "metadata": {}
  },
  {
   "outputs": [],
   "cell_type": "code",
   "source": [
    "m = LandModel(\n",
    "    param_set,\n",
    "    m_soil;\n",
    "    source = sources,\n",
    "    init_state_prognostic = init_soil_water!,\n",
    ");"
   ],
   "metadata": {},
   "execution_count": 14
  },
  {
   "cell_type": "markdown",
   "source": [
    "# Specify the numerical configuration and output data."
   ],
   "metadata": {}
  },
  {
   "cell_type": "markdown",
   "source": [
    "Specify the polynomial order and vertical resolution."
   ],
   "metadata": {}
  },
  {
   "outputs": [],
   "cell_type": "code",
   "source": [
    "N_poly = 5;\n",
    "nelem_vert = 20;"
   ],
   "metadata": {},
   "execution_count": 15
  },
  {
   "cell_type": "markdown",
   "source": [
    "Specify the domain boundaries."
   ],
   "metadata": {}
  },
  {
   "outputs": [],
   "cell_type": "code",
   "source": [
    "zmax = FT(0);\n",
    "zmin = FT(-10);"
   ],
   "metadata": {},
   "execution_count": 16
  },
  {
   "cell_type": "markdown",
   "source": [
    "Create the driver configuration."
   ],
   "metadata": {}
  },
  {
   "outputs": [
    {
     "name": "stdout",
     "output_type": "stream",
     "text": [
      "┌ Info: Model composition\n",
      "│     param_set = Main.##385.EarthParameterSet()\n",
      "│     soil = ClimateMachine.Land.SoilModel{ClimateMachine.Land.SoilParamFunctions{Float64},ClimateMachine.Land.SoilWaterModel{Float64,ClimateMachine.Land.SoilWaterParameterizations.NoImpedance{Float64},ClimateMachine.Land.SoilWaterParameterizations.ConstantViscosity{Float64},ClimateMachine.Land.SoilWaterParameterizations.MoistureDependent{Float64},ClimateMachine.Land.SoilWaterParameterizations.vanGenuchten{Float64},Main.##385.var\"#15#16\",ClimateMachine.Land.var\"#18#22\",ClimateMachine.Land.Dirichlet{Nothing,Nothing},ClimateMachine.Land.Neumann{Main.##385.var\"#11#12\",Main.##385.var\"#13#14\"}},ClimateMachine.Land.PrescribedTemperatureModel{ClimateMachine.Land.var\"#23#24\"}}(ClimateMachine.Land.SoilParamFunctions{Float64}(0.495, 1.2305555555555556e-7, 0.001, NaN, NaN, NaN, NaN, NaN, NaN, NaN, NaN, 0.24, 18.1, 0.053), ClimateMachine.Land.SoilWaterModel{Float64,ClimateMachine.Land.SoilWaterParameterizations.NoImpedance{Float64},ClimateMachine.Land.SoilWaterParameterizations.ConstantViscosity{Float64},ClimateMachine.Land.SoilWaterParameterizations.MoistureDependent{Float64},ClimateMachine.Land.SoilWaterParameterizations.vanGenuchten{Float64},Main.##385.var\"#15#16\",ClimateMachine.Land.var\"#18#22\",ClimateMachine.Land.Dirichlet{Nothing,Nothing},ClimateMachine.Land.Neumann{Main.##385.var\"#11#12\",Main.##385.var\"#13#14\"}}(ClimateMachine.Land.SoilWaterParameterizations.NoImpedance{Float64}(), ClimateMachine.Land.SoilWaterParameterizations.ConstantViscosity{Float64}(), ClimateMachine.Land.SoilWaterParameterizations.MoistureDependent{Float64}(), ClimateMachine.Land.SoilWaterParameterizations.vanGenuchten{Float64}(2.0, 2.6, 0.5), Main.##385.var\"#15#16\"(), ClimateMachine.Land.var\"#18#22\"(), ClimateMachine.Land.Dirichlet{Nothing,Nothing}(nothing, nothing), ClimateMachine.Land.Neumann{Main.##385.var\"#11#12\",Main.##385.var\"#13#14\"}(Main.##385.var\"#11#12\"(), Main.##385.var\"#13#14\"())), ClimateMachine.Land.PrescribedTemperatureModel{ClimateMachine.Land.var\"#23#24\"}(ClimateMachine.Land.var\"#23#24\"()))\n",
      "│     source = ()\n",
      "│     init_state_prognostic = init_soil_water!\n",
      "└ @ ClimateMachine /home/runner/work/ClimateMachine.jl/ClimateMachine.jl/src/Driver/driver_configs.jl:107\n",
      "┌ Info: Establishing single stack configuration for LandModel\n",
      "│     precision        = Float64\n",
      "│     polynomial order = 5\n",
      "│     domain_min       = 0.00 m x0.00 m x-10.00 m\n",
      "│     domain_max       = 1.00 m x1.00 m x0.00 m\n",
      "│     #vert elems      = 20\n",
      "│     MPI ranks        = 1\n",
      "│     min(Δ_horz)      = 0.12 m\n",
      "│     min(Δ_vert)      = 0.06 m\n",
      "└ @ ClimateMachine /home/runner/work/ClimateMachine.jl/ClimateMachine.jl/src/Driver/driver_configs.jl:548\n"
     ]
    }
   ],
   "cell_type": "code",
   "source": [
    "driver_config = ClimateMachine.SingleStackConfiguration(\n",
    "    \"LandModel\",\n",
    "    N_poly,\n",
    "    nelem_vert,\n",
    "    zmax,\n",
    "    param_set,\n",
    "    m;\n",
    "    zmin = zmin,\n",
    "    numerical_flux_first_order = CentralNumericalFluxFirstOrder(),\n",
    ");"
   ],
   "metadata": {},
   "execution_count": 17
  },
  {
   "cell_type": "markdown",
   "source": [
    "Choose the initial and final times, as well as a timestep."
   ],
   "metadata": {}
  },
  {
   "outputs": [],
   "cell_type": "code",
   "source": [
    "t0 = FT(0)\n",
    "timeend = FT(60 * 60 * 24 * 4)\n",
    "dt = FT(5);"
   ],
   "metadata": {},
   "execution_count": 18
  },
  {
   "cell_type": "markdown",
   "source": [
    "Create the solver configuration."
   ],
   "metadata": {}
  },
  {
   "outputs": [
    {
     "name": "stdout",
     "output_type": "stream",
     "text": [
      "┌ Info: Initializing LandModel\n",
      "└ @ ClimateMachine /home/runner/work/ClimateMachine.jl/ClimateMachine.jl/src/Driver/solver_configs.jl:161\n"
     ]
    }
   ],
   "cell_type": "code",
   "source": [
    "solver_config =\n",
    "    ClimateMachine.SolverConfiguration(t0, timeend, driver_config, ode_dt = dt);"
   ],
   "metadata": {},
   "execution_count": 19
  },
  {
   "cell_type": "markdown",
   "source": [
    "Determine how often you want output."
   ],
   "metadata": {}
  },
  {
   "outputs": [],
   "cell_type": "code",
   "source": [
    "const n_outputs = 5;\n",
    "\n",
    "const every_x_simulation_time = ceil(Int, timeend / n_outputs);"
   ],
   "metadata": {},
   "execution_count": 20
  },
  {
   "cell_type": "markdown",
   "source": [
    "Create a place to store this output."
   ],
   "metadata": {}
  },
  {
   "outputs": [],
   "cell_type": "code",
   "source": [
    "state_types = (Prognostic(), Auxiliary(), GradientFlux())\n",
    "all_data = Dict[dict_of_nodal_states(solver_config, state_types; interp = true)]\n",
    "time_data = FT[0] # store time data\n",
    "\n",
    "callback = GenericCallbacks.EveryXSimulationTime(every_x_simulation_time) do\n",
    "    dons = dict_of_nodal_states(solver_config, state_types; interp = true)\n",
    "    push!(all_data, dons)\n",
    "    push!(time_data, gettime(solver_config.solver))\n",
    "    nothing\n",
    "end;"
   ],
   "metadata": {},
   "execution_count": 21
  },
  {
   "cell_type": "markdown",
   "source": [
    "# Run the integration"
   ],
   "metadata": {}
  },
  {
   "outputs": [
    {
     "name": "stdout",
     "output_type": "stream",
     "text": [
      "┌ Info: Starting LandModel\n",
      "│     dt              = 5.00000e+00\n",
      "│     timeend         = 345600.00\n",
      "│     number of steps = 69120\n",
      "│     norm(Q)         = 1.5621651641231775e+00\n",
      "└ @ ClimateMachine /home/runner/work/ClimateMachine.jl/ClimateMachine.jl/src/Driver/Driver.jl:675\n",
      "┌ Info: Update\n",
      "│     simtime = 14070.00 / 345600.00\n",
      "│     runtime = 00:01:00\n",
      "│     norm(Q) = 1.5621705792940825e+00\n",
      "└ @ ClimateMachine.Callbacks /home/runner/work/ClimateMachine.jl/ClimateMachine.jl/src/Driver/Callbacks/Callbacks.jl:61\n",
      "┌ Info: Update\n",
      "│     simtime = 34315.00 / 345600.00\n",
      "│     runtime = 00:01:59\n",
      "│     norm(Q) = 1.5621855280440748e+00\n",
      "└ @ ClimateMachine.Callbacks /home/runner/work/ClimateMachine.jl/ClimateMachine.jl/src/Driver/Callbacks/Callbacks.jl:61\n",
      "┌ Info: Update\n",
      "│     simtime = 56920.00 / 345600.00\n",
      "│     runtime = 00:03:00\n",
      "│     norm(Q) = 1.5622082525279228e+00\n",
      "└ @ ClimateMachine.Callbacks /home/runner/work/ClimateMachine.jl/ClimateMachine.jl/src/Driver/Callbacks/Callbacks.jl:61\n",
      "┌ Info: Update\n",
      "│     simtime = 82310.00 / 345600.00\n",
      "│     runtime = 00:04:00\n",
      "│     norm(Q) = 1.5622391731689960e+00\n",
      "└ @ ClimateMachine.Callbacks /home/runner/work/ClimateMachine.jl/ClimateMachine.jl/src/Driver/Callbacks/Callbacks.jl:61\n",
      "┌ Info: Update\n",
      "│     simtime = 111150.00 / 345600.00\n",
      "│     runtime = 00:05:00\n",
      "│     norm(Q) = 1.5622795951921475e+00\n",
      "└ @ ClimateMachine.Callbacks /home/runner/work/ClimateMachine.jl/ClimateMachine.jl/src/Driver/Callbacks/Callbacks.jl:61\n",
      "┌ Info: Update\n",
      "│     simtime = 144655.00 / 345600.00\n",
      "│     runtime = 00:06:00\n",
      "│     norm(Q) = 1.5623321596953448e+00\n",
      "└ @ ClimateMachine.Callbacks /home/runner/work/ClimateMachine.jl/ClimateMachine.jl/src/Driver/Callbacks/Callbacks.jl:61\n",
      "┌ Info: Update\n",
      "│     simtime = 185095.00 / 345600.00\n",
      "│     runtime = 00:07:00\n",
      "│     norm(Q) = 1.5624020541810864e+00\n",
      "└ @ ClimateMachine.Callbacks /home/runner/work/ClimateMachine.jl/ClimateMachine.jl/src/Driver/Callbacks/Callbacks.jl:61\n",
      "┌ Info: Update\n",
      "│     simtime = 236460.00 / 345600.00\n",
      "│     runtime = 00:08:00\n",
      "│     norm(Q) = 1.5624987067600680e+00\n",
      "└ @ ClimateMachine.Callbacks /home/runner/work/ClimateMachine.jl/ClimateMachine.jl/src/Driver/Callbacks/Callbacks.jl:61\n",
      "┌ Info: Update\n",
      "│     simtime = 299445.00 / 345600.00\n",
      "│     runtime = 00:09:00\n",
      "│     norm(Q) = 1.5626247492444503e+00\n",
      "└ @ ClimateMachine.Callbacks /home/runner/work/ClimateMachine.jl/ClimateMachine.jl/src/Driver/Callbacks/Callbacks.jl:61\n",
      "┌ Info: Finished\n",
      "│     norm(Q)            = 1.5627196524958247e+00\n",
      "│     norm(Q) / norm(Q₀) = 1.0003549486221954e+00\n",
      "│     norm(Q) - norm(Q₀) = 5.5448837264715500e-04\n",
      "└ @ ClimateMachine /home/runner/work/ClimateMachine.jl/ClimateMachine.jl/src/Driver/Driver.jl:713\n"
     ]
    }
   ],
   "cell_type": "code",
   "source": [
    "ClimateMachine.invoke!(solver_config; user_callbacks = (callback,));"
   ],
   "metadata": {},
   "execution_count": 22
  },
  {
   "cell_type": "markdown",
   "source": [
    "Get the final state and create plots:"
   ],
   "metadata": {}
  },
  {
   "outputs": [],
   "cell_type": "code",
   "source": [
    "dons = dict_of_nodal_states(solver_config, state_types; interp = true)\n",
    "push!(all_data, dons)\n",
    "push!(time_data, gettime(solver_config.solver));"
   ],
   "metadata": {},
   "execution_count": 23
  },
  {
   "cell_type": "markdown",
   "source": [
    "Get z-coordinate"
   ],
   "metadata": {}
  },
  {
   "outputs": [],
   "cell_type": "code",
   "source": [
    "z = get_z(solver_config.dg.grid; rm_dupes = true);"
   ],
   "metadata": {},
   "execution_count": 24
  },
  {
   "cell_type": "markdown",
   "source": [
    "# Create some plots\n",
    "We'll plot the moisture content vs depth in the soil, as well as\n",
    "the expected slope of `ϑ_l` in hydrostatic equilibrium when the soil\n",
    "is saturated. For `ϑ_l` values above porosity, the soil is\n",
    "saturated, and the pressure head changes from being equal to the matric\n",
    "potential to the pressure generated by compression of water and the soil\n",
    "matrix. The pressure head is continuous at porosity, but the derivative\n",
    "is not."
   ],
   "metadata": {}
  },
  {
   "outputs": [],
   "cell_type": "code",
   "source": [
    "slope = -1e-3\n",
    "\n",
    "output_dir = @__DIR__;\n",
    "\n",
    "t = time_data ./ (60 * 60 * 24);\n",
    "\n",
    "plot(\n",
    "    all_data[1][\"soil.water.ϑ_l\"],\n",
    "    all_data[1][\"z\"],\n",
    "    label = string(\"t = \", string(t[1]), \"days\"),\n",
    "    xlim = [0.47, 0.501],\n",
    "    ylabel = \"z\",\n",
    "    xlabel = \"ϑ_l\",\n",
    "    legend = :bottomleft,\n",
    "    title = \"Equilibrium test\",\n",
    ");\n",
    "plot!(\n",
    "    all_data[4][\"soil.water.ϑ_l\"],\n",
    "    all_data[4][\"z\"],\n",
    "    label = string(\"t = \", string(t[4]), \"days\"),\n",
    ");\n",
    "plot!(\n",
    "    all_data[6][\"soil.water.ϑ_l\"],\n",
    "    all_data[6][\"z\"],\n",
    "    label = string(\"t = \", string(t[6]), \"days\"),\n",
    ");\n",
    "plot!(\n",
    "    (all_data[1][\"z\"] .+ 10.0) .* slope .+ all_data[6][\"soil.water.ϑ_l\"][1],\n",
    "    all_data[1][\"z\"],\n",
    "    label = \"expected\",\n",
    ");\n",
    "\n",
    "plot!(\n",
    "    1e-3 .+ all_data[1][\"soil.water.ϑ_l\"],\n",
    "    all_data[1][\"z\"],\n",
    "    label = \"porosity\",\n",
    ");"
   ],
   "metadata": {},
   "execution_count": 25
  },
  {
   "cell_type": "markdown",
   "source": [
    "save the output."
   ],
   "metadata": {}
  },
  {
   "outputs": [],
   "cell_type": "code",
   "source": [
    "savefig(joinpath(output_dir, \"equilibrium_test_ϑ_l_vG.png\"))"
   ],
   "metadata": {},
   "execution_count": 26
  },
  {
   "cell_type": "markdown",
   "source": [
    "![](equilibrium_test_ϑ_l_vG.png)\n",
    "# References\n",
    "[1] Woodward, C. S., and C. N. Dawson (2000), Analysis of expanded mixed\n",
    "finite element methods for a nonlinear parabolic equation modeling\n",
    "flow into variably saturated porous media, SIAM J. Numer. Anal., 37, 701–724"
   ],
   "metadata": {}
  },
  {
   "cell_type": "markdown",
   "source": [
    "---\n",
    "\n",
    "*This notebook was generated using [Literate.jl](https://github.com/fredrikekre/Literate.jl).*"
   ],
   "metadata": {}
  }
 ],
 "nbformat_minor": 3,
 "metadata": {
  "language_info": {
   "file_extension": ".jl",
   "mimetype": "application/julia",
   "name": "julia",
   "version": "1.5.2"
  },
  "kernelspec": {
   "name": "julia-1.5",
   "display_name": "Julia 1.5.2",
   "language": "julia"
  }
 },
 "nbformat": 4
}
