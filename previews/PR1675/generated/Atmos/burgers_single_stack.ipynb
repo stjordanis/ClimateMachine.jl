{
 "cells": [
  {
   "cell_type": "markdown",
   "source": [
    "# Single stack tutorial based on the 3D Burgers + tracer equations"
   ],
   "metadata": {}
  },
  {
   "cell_type": "markdown",
   "source": [
    "This tutorial implements the Burgers equations with a tracer field\n",
    "in a single element stack. The flow is initialized with a horizontally\n",
    "uniform profile of horizontal velocity and uniform initial temperature. The fluid\n",
    "is heated from the bottom surface. Gaussian noise is imposed to the horizontal\n",
    "velocity field at each node at the start of the simulation. The tutorial demonstrates how to\n",
    "\n",
    "  * Initialize a `BalanceLaw` in a single stack configuration;\n",
    "  * Return the horizontal velocity field to a given profile (e.g., large-scale advection);\n",
    "  * Remove any horizontal inhomogeneities or noise from the flow.\n",
    "\n",
    "The second and third bullet points are demonstrated imposing Rayleigh friction, horizontal\n",
    "diffusion and 2D divergence damping to the horizontal momentum prognostic equation."
   ],
   "metadata": {}
  },
  {
   "cell_type": "markdown",
   "source": [
    "Equations solved in balance law form:"
   ],
   "metadata": {}
  },
  {
   "cell_type": "markdown",
   "source": [
    "$$\n",
    "\\begin{align}\n",
    "\\frac{∂ ρ}{∂ t} =& - ∇ ⋅ (ρ\\mathbf{u}) \\\\\n",
    "\\frac{∂ ρ\\mathbf{u}}{∂ t} =& - ∇ ⋅ (-μ ∇\\mathbf{u}) - ∇ ⋅ (ρ\\mathbf{u} \\mathbf{u}') - γ[ (ρ\\mathbf{u}-ρ̄\\mathbf{ū}) - (ρ\\mathbf{u}-ρ̄\\mathbf{ū})⋅ẑ ẑ] - ν_d ∇_h (∇_h ⋅ ρ\\mathbf{u}) \\\\\n",
    "\\frac{∂ ρcT}{∂ t} =& - ∇ ⋅ (-α ∇ρcT) - ∇ ⋅ (\\mathbf{u} ρcT)\n",
    "\\end{align}\n",
    "$$"
   ],
   "metadata": {}
  },
  {
   "cell_type": "markdown",
   "source": [
    "Boundary conditions:\n",
    "$$\n",
    "\\begin{align}\n",
    "z_{\\mathrm{min}}: & ρ = 1 \\\\\n",
    "z_{\\mathrm{min}}: & ρ\\mathbf{u} = \\mathbf{0} \\\\\n",
    "z_{\\mathrm{min}}: & ρcT = ρc T_{\\mathrm{fixed}} \\\\\n",
    "z_{\\mathrm{max}}: & ρ = 1 \\\\\n",
    "z_{\\mathrm{max}}: & ρ\\mathbf{u} = \\mathbf{0} \\\\\n",
    "z_{\\mathrm{max}}: & -α∇ρcT = 0\n",
    "\\end{align}\n",
    "$$"
   ],
   "metadata": {}
  },
  {
   "cell_type": "markdown",
   "source": [
    "where\n",
    " - ``t`` is time\n",
    " - ``ρ`` is the density\n",
    " - ``\\mathbf{u}`` is the velocity (vector)\n",
    " - ``\\mathbf{ū}`` is the horizontally averaged velocity (vector)\n",
    " - ``μ`` is the dynamic viscosity tensor\n",
    " - ``γ`` is the Rayleigh friction frequency\n",
    " - ``ν_d`` is the horizontal divergence damping coefficient\n",
    " - ``T`` is the temperature\n",
    " - ``α`` is the thermal diffusivity tensor\n",
    " - ``c`` is the heat capacity\n",
    " - ``ρcT`` is the thermal energy"
   ],
   "metadata": {}
  },
  {
   "cell_type": "markdown",
   "source": [
    "Solving these equations is broken down into the following steps:\n",
    "1) Preliminary configuration\n",
    "2) PDEs\n",
    "3) Space discretization\n",
    "4) Time discretization\n",
    "5) Solver hooks / callbacks\n",
    "6) Solve\n",
    "7) Post-processing"
   ],
   "metadata": {}
  },
  {
   "cell_type": "markdown",
   "source": [
    "# Preliminary configuration"
   ],
   "metadata": {}
  },
  {
   "cell_type": "markdown",
   "source": [
    "## Loading code"
   ],
   "metadata": {}
  },
  {
   "cell_type": "markdown",
   "source": [
    "First, we'll load our pre-requisites\n",
    " - load external packages:"
   ],
   "metadata": {}
  },
  {
   "outputs": [],
   "cell_type": "code",
   "source": [
    "using MPI\n",
    "using Distributions\n",
    "using OrderedCollections\n",
    "using Plots\n",
    "using StaticArrays\n",
    "using LinearAlgebra: Diagonal, tr"
   ],
   "metadata": {},
   "execution_count": 1
  },
  {
   "cell_type": "markdown",
   "source": [
    " - load CLIMAParameters and set up to use it:"
   ],
   "metadata": {}
  },
  {
   "outputs": [
    {
     "output_type": "execute_result",
     "data": {
      "text/plain": "Main.##349.EarthParameterSet()"
     },
     "metadata": {},
     "execution_count": 2
    }
   ],
   "cell_type": "code",
   "source": [
    "using CLIMAParameters\n",
    "struct EarthParameterSet <: AbstractEarthParameterSet end\n",
    "const param_set = EarthParameterSet()"
   ],
   "metadata": {},
   "execution_count": 2
  },
  {
   "cell_type": "markdown",
   "source": [
    " - load necessary ClimateMachine modules:"
   ],
   "metadata": {}
  },
  {
   "outputs": [],
   "cell_type": "code",
   "source": [
    "using ClimateMachine\n",
    "using ClimateMachine.Mesh.Topologies\n",
    "using ClimateMachine.Mesh.Grids\n",
    "using ClimateMachine.Writers\n",
    "using ClimateMachine.DGMethods\n",
    "using ClimateMachine.DGMethods.NumericalFluxes\n",
    "using ClimateMachine.BalanceLaws:\n",
    "    BalanceLaw, Prognostic, Auxiliary, Gradient, GradientFlux\n",
    "\n",
    "using ClimateMachine.Mesh.Geometry: LocalGeometry\n",
    "using ClimateMachine.MPIStateArrays\n",
    "using ClimateMachine.GenericCallbacks\n",
    "using ClimateMachine.ODESolvers\n",
    "using ClimateMachine.VariableTemplates\n",
    "using ClimateMachine.SingleStackUtils"
   ],
   "metadata": {},
   "execution_count": 3
  },
  {
   "cell_type": "markdown",
   "source": [
    " - import necessary ClimateMachine modules: (`import`ing enables us to\n",
    " provide implementations of these structs/methods)"
   ],
   "metadata": {}
  },
  {
   "outputs": [],
   "cell_type": "code",
   "source": [
    "using ClimateMachine.Orientations:\n",
    "    Orientation,\n",
    "    FlatOrientation,\n",
    "    init_aux!,\n",
    "    vertical_unit_vector,\n",
    "    projection_tangential\n",
    "\n",
    "import ClimateMachine.BalanceLaws:\n",
    "    vars_state,\n",
    "    source!,\n",
    "    flux_second_order!,\n",
    "    flux_first_order!,\n",
    "    compute_gradient_argument!,\n",
    "    compute_gradient_flux!,\n",
    "    init_state_auxiliary!,\n",
    "    init_state_prognostic!,\n",
    "    boundary_state!"
   ],
   "metadata": {},
   "execution_count": 4
  },
  {
   "cell_type": "markdown",
   "source": [
    "## Initialization"
   ],
   "metadata": {}
  },
  {
   "cell_type": "markdown",
   "source": [
    "Define the float type (`Float64` or `Float32`)"
   ],
   "metadata": {}
  },
  {
   "outputs": [],
   "cell_type": "code",
   "source": [
    "FT = Float64;"
   ],
   "metadata": {},
   "execution_count": 5
  },
  {
   "cell_type": "markdown",
   "source": [
    "Initialize ClimateMachine for CPU."
   ],
   "metadata": {}
  },
  {
   "outputs": [],
   "cell_type": "code",
   "source": [
    "ClimateMachine.init(; disable_gpu = true);\n",
    "\n",
    "const clima_dir = dirname(dirname(pathof(ClimateMachine)));"
   ],
   "metadata": {},
   "execution_count": 6
  },
  {
   "cell_type": "markdown",
   "source": [
    "Load some helper functions for plotting"
   ],
   "metadata": {}
  },
  {
   "outputs": [],
   "cell_type": "code",
   "source": [
    "include(joinpath(clima_dir, \"docs\", \"plothelpers.jl\"));"
   ],
   "metadata": {},
   "execution_count": 7
  },
  {
   "cell_type": "markdown",
   "source": [
    "# Define the set of Partial Differential Equations (PDEs)"
   ],
   "metadata": {}
  },
  {
   "cell_type": "markdown",
   "source": [
    "## Define the model"
   ],
   "metadata": {}
  },
  {
   "cell_type": "markdown",
   "source": [
    "Model parameters can be stored in the particular [`BalanceLaw`](@ref\n",
    "ClimateMachine.BalanceLaws.BalanceLaw), in this case, the `BurgersEquation`:"
   ],
   "metadata": {}
  },
  {
   "outputs": [],
   "cell_type": "code",
   "source": [
    "Base.@kwdef struct BurgersEquation{FT, APS, O} <: BalanceLaw\n",
    "    \"Parameters\"\n",
    "    param_set::APS\n",
    "    \"Orientation model\"\n",
    "    orientation::O\n",
    "    \"Heat capacity\"\n",
    "    c::FT = 1\n",
    "    \"Vertical dynamic viscosity\"\n",
    "    μv::FT = 1e-4\n",
    "    \"Horizontal dynamic viscosity\"\n",
    "    μh::FT = 1\n",
    "    \"Vertical thermal diffusivity\"\n",
    "    αv::FT = 1e-2\n",
    "    \"Horizontal thermal diffusivity\"\n",
    "    αh::FT = 1\n",
    "    \"IC Gaussian noise standard deviation\"\n",
    "    σ::FT = 5e-2\n",
    "    \"Rayleigh damping\"\n",
    "    γ::FT = 5\n",
    "    \"Domain height\"\n",
    "    zmax::FT = 1\n",
    "    \"Initial conditions for temperature\"\n",
    "    initialT::FT = 295.15\n",
    "    \"Bottom boundary value for temperature (Dirichlet boundary conditions)\"\n",
    "    T_bottom::FT = 300.0\n",
    "    \"Top flux (α∇ρcT) at top boundary (Neumann boundary conditions)\"\n",
    "    flux_top::FT = 0.0\n",
    "    \"Divergence damping coefficient (horizontal)\"\n",
    "    νd::FT = 1\n",
    "end"
   ],
   "metadata": {},
   "execution_count": 8
  },
  {
   "cell_type": "markdown",
   "source": [
    "Create an instance of the `BurgersEquation`:"
   ],
   "metadata": {}
  },
  {
   "outputs": [],
   "cell_type": "code",
   "source": [
    "orientation = FlatOrientation()\n",
    "\n",
    "m = BurgersEquation{FT, typeof(param_set), typeof(orientation)}(\n",
    "    param_set = param_set,\n",
    "    orientation = orientation,\n",
    ");"
   ],
   "metadata": {},
   "execution_count": 9
  },
  {
   "cell_type": "markdown",
   "source": [
    "This model dictates the flow control, using [Dynamic Multiple\n",
    "Dispatch](https://en.wikipedia.org/wiki/Multiple_dispatch), for which\n",
    "kernels are executed."
   ],
   "metadata": {}
  },
  {
   "cell_type": "markdown",
   "source": [
    "## Define the variables"
   ],
   "metadata": {}
  },
  {
   "cell_type": "markdown",
   "source": [
    "All of the methods defined in this section were `import`ed in\n",
    "Loading code to let us provide\n",
    "implementations for our `BurgersEquation` as they will be used\n",
    "by the solver."
   ],
   "metadata": {}
  },
  {
   "cell_type": "markdown",
   "source": [
    "Specify auxiliary variables for `BurgersEquation`"
   ],
   "metadata": {}
  },
  {
   "outputs": [
    {
     "output_type": "execute_result",
     "data": {
      "text/plain": "vars_state (generic function with 129 methods)"
     },
     "metadata": {},
     "execution_count": 10
    }
   ],
   "cell_type": "code",
   "source": [
    "function vars_state(m::BurgersEquation, st::Auxiliary, FT)\n",
    "    @vars begin\n",
    "        coord::SVector{3, FT}\n",
    "        orientation::vars_state(m.orientation, st, FT)\n",
    "    end\n",
    "end"
   ],
   "metadata": {},
   "execution_count": 10
  },
  {
   "cell_type": "markdown",
   "source": [
    "Specify prognostic variables, the variables solved for in the PDEs, for\n",
    "`BurgersEquation`"
   ],
   "metadata": {}
  },
  {
   "outputs": [],
   "cell_type": "code",
   "source": [
    "vars_state(::BurgersEquation, ::Prognostic, FT) =\n",
    "    @vars(ρ::FT, ρu::SVector{3, FT}, ρcT::FT);"
   ],
   "metadata": {},
   "execution_count": 11
  },
  {
   "cell_type": "markdown",
   "source": [
    "Specify state variables whose gradients are needed for `BurgersEquation`"
   ],
   "metadata": {}
  },
  {
   "outputs": [],
   "cell_type": "code",
   "source": [
    "vars_state(::BurgersEquation, ::Gradient, FT) =\n",
    "    @vars(u::SVector{3, FT}, ρcT::FT, ρu::SVector{3, FT});"
   ],
   "metadata": {},
   "execution_count": 12
  },
  {
   "cell_type": "markdown",
   "source": [
    "Specify gradient variables for `BurgersEquation`"
   ],
   "metadata": {}
  },
  {
   "outputs": [],
   "cell_type": "code",
   "source": [
    "vars_state(::BurgersEquation, ::GradientFlux, FT) = @vars(\n",
    "    μ∇u::SMatrix{3, 3, FT, 9},\n",
    "    α∇ρcT::SVector{3, FT},\n",
    "    νd∇D::SMatrix{3, 3, FT, 9}\n",
    ");"
   ],
   "metadata": {},
   "execution_count": 13
  },
  {
   "cell_type": "markdown",
   "source": [
    "## Define the compute kernels"
   ],
   "metadata": {}
  },
  {
   "cell_type": "markdown",
   "source": [
    "Specify the initial values in `aux::Vars`, which are available in\n",
    "`init_state_prognostic!`. Note that\n",
    "- this method is only called at `t=0`.\n",
    "- `aux.coord` is available here because we've specified `coord` in `vars_state(m, aux, FT)`."
   ],
   "metadata": {}
  },
  {
   "outputs": [],
   "cell_type": "code",
   "source": [
    "function nodal_init_state_auxiliary!(\n",
    "    m::BurgersEquation,\n",
    "    aux::Vars,\n",
    "    tmp::Vars,\n",
    "    geom::LocalGeometry,\n",
    ")\n",
    "    aux.coord = geom.coord\n",
    "end;"
   ],
   "metadata": {},
   "execution_count": 14
  },
  {
   "cell_type": "markdown",
   "source": [
    "`init_aux!` initializes the auxiliary gravitational potential field needed for vertical projections"
   ],
   "metadata": {}
  },
  {
   "outputs": [],
   "cell_type": "code",
   "source": [
    "function init_state_auxiliary!(\n",
    "    m::BurgersEquation,\n",
    "    state_auxiliary::MPIStateArray,\n",
    "    grid,\n",
    "    direction,\n",
    ")\n",
    "    init_aux!(m, m.orientation, state_auxiliary, grid, direction)\n",
    "\n",
    "    init_state_auxiliary!(\n",
    "        m,\n",
    "        nodal_init_state_auxiliary!,\n",
    "        state_auxiliary,\n",
    "        grid,\n",
    "        direction,\n",
    "    )\n",
    "end;"
   ],
   "metadata": {},
   "execution_count": 15
  },
  {
   "cell_type": "markdown",
   "source": [
    "Specify the initial values in `state::Vars`. Note that\n",
    "- this method is only called at `t=0`.\n",
    "- `state.ρ`, `state.ρu` and`state.ρcT` are available here because we've specified `ρ`, `ρu` and `ρcT` in `vars_state(m, state, FT)`."
   ],
   "metadata": {}
  },
  {
   "outputs": [],
   "cell_type": "code",
   "source": [
    "function init_state_prognostic!(\n",
    "    m::BurgersEquation,\n",
    "    state::Vars,\n",
    "    aux::Vars,\n",
    "    localgeo,\n",
    "    t::Real,\n",
    ")\n",
    "    z = aux.coord[3]\n",
    "    ε1 = rand(Normal(0, m.σ))\n",
    "    ε2 = rand(Normal(0, m.σ))\n",
    "    state.ρ = 1\n",
    "    ρu = 1 - 4 * (z - m.zmax / 2)^2 + ε1\n",
    "    ρv = 1 - 4 * (z - m.zmax / 2)^2 + ε2\n",
    "    ρw = 0\n",
    "    state.ρu = SVector(ρu, ρv, ρw)\n",
    "\n",
    "    state.ρcT = state.ρ * m.c * m.initialT\n",
    "end;"
   ],
   "metadata": {},
   "execution_count": 16
  },
  {
   "cell_type": "markdown",
   "source": [
    "The remaining methods, defined in this section, are called at every\n",
    "time-step in the solver by the [`BalanceLaw`](@ref\n",
    "ClimateMachine.BalanceLaws.BalanceLaw) framework."
   ],
   "metadata": {}
  },
  {
   "cell_type": "markdown",
   "source": [
    "Since we have second-order fluxes, we must tell `ClimateMachine` to compute\n",
    "the gradient of `ρcT`, `u` and `ρu`. Here, we specify how `ρcT`, `u` and `ρu` are computed. Note that\n",
    "e.g. `transform.ρcT` is available here because we've specified `ρcT` in `vars_state(m, ::Gradient, FT)`."
   ],
   "metadata": {}
  },
  {
   "outputs": [],
   "cell_type": "code",
   "source": [
    "function compute_gradient_argument!(\n",
    "    m::BurgersEquation,\n",
    "    transform::Vars,\n",
    "    state::Vars,\n",
    "    aux::Vars,\n",
    "    t::Real,\n",
    ")\n",
    "    transform.ρcT = state.ρcT\n",
    "    transform.u = state.ρu / state.ρ\n",
    "    transform.ρu = state.ρu\n",
    "end;"
   ],
   "metadata": {},
   "execution_count": 17
  },
  {
   "cell_type": "markdown",
   "source": [
    "Specify where in `diffusive::Vars` to store the computed gradient from\n",
    "`compute_gradient_argument!`. Note that:\n",
    " - `diffusive.μ∇u` is available here because we've specified `μ∇u` in `vars_state(m, ::GradientFlux, FT)`.\n",
    " - `∇transform.u` is available here because we've specified `u` in `vars_state(m, ::Gradient, FT)`.\n",
    " - `diffusive.μ∇u` is built using an anisotropic diffusivity tensor.\n",
    " - The `divergence` may be computed from the trace of tensor `∇ρu`."
   ],
   "metadata": {}
  },
  {
   "outputs": [],
   "cell_type": "code",
   "source": [
    "function compute_gradient_flux!(\n",
    "    m::BurgersEquation{FT},\n",
    "    diffusive::Vars,\n",
    "    ∇transform::Grad,\n",
    "    state::Vars,\n",
    "    aux::Vars,\n",
    "    t::Real,\n",
    ") where {FT}\n",
    "    ∇ρu = ∇transform.ρu\n",
    "    ẑ = vertical_unit_vector(m.orientation, m.param_set, aux)\n",
    "    divergence = tr(∇ρu) - ẑ' * ∇ρu * ẑ\n",
    "    diffusive.α∇ρcT = Diagonal(SVector(m.αh, m.αh, m.αv)) * ∇transform.ρcT\n",
    "    diffusive.μ∇u = Diagonal(SVector(m.μh, m.μh, m.μv)) * ∇transform.u\n",
    "    diffusive.νd∇D =\n",
    "        Diagonal(SVector(m.νd, m.νd, FT(0))) *\n",
    "        Diagonal(SVector(divergence, divergence, FT(0)))\n",
    "end;"
   ],
   "metadata": {},
   "execution_count": 18
  },
  {
   "cell_type": "markdown",
   "source": [
    "Introduce Rayleigh friction towards a target profile as a source.\n",
    "Note that:\n",
    "- Rayleigh damping is only applied in the horizontal using the `projection_tangential` method."
   ],
   "metadata": {}
  },
  {
   "outputs": [],
   "cell_type": "code",
   "source": [
    "function source!(\n",
    "    m::BurgersEquation{FT},\n",
    "    source::Vars,\n",
    "    state::Vars,\n",
    "    diffusive::Vars,\n",
    "    aux::Vars,\n",
    "    args...,\n",
    ") where {FT}\n",
    "    ẑ = vertical_unit_vector(m.orientation, m.param_set, aux)\n",
    "    z = aux.coord[3]\n",
    "    ρ̄ū =\n",
    "        state.ρ * SVector{3, FT}(\n",
    "            0.5 - 2 * (z - m.zmax / 2)^2,\n",
    "            0.5 - 2 * (z - m.zmax / 2)^2,\n",
    "            0.0,\n",
    "        )\n",
    "    ρu_p = state.ρu - ρ̄ū\n",
    "    source.ρu -=\n",
    "        m.γ * projection_tangential(m.orientation, m.param_set, aux, ρu_p)\n",
    "end;"
   ],
   "metadata": {},
   "execution_count": 19
  },
  {
   "cell_type": "markdown",
   "source": [
    "Compute advective flux.\n",
    "Note that:\n",
    "- `state.ρu` is available here because we've specified `ρu` in `vars_state(m, state, FT)`."
   ],
   "metadata": {}
  },
  {
   "outputs": [],
   "cell_type": "code",
   "source": [
    "function flux_first_order!(\n",
    "    m::BurgersEquation,\n",
    "    flux::Grad,\n",
    "    state::Vars,\n",
    "    aux::Vars,\n",
    "    t::Real,\n",
    "    _...,\n",
    ")\n",
    "    flux.ρ = state.ρu\n",
    "\n",
    "    u = state.ρu / state.ρ\n",
    "    flux.ρu = state.ρu * u'\n",
    "    flux.ρcT = u * state.ρcT\n",
    "end;"
   ],
   "metadata": {},
   "execution_count": 20
  },
  {
   "cell_type": "markdown",
   "source": [
    "Compute diffusive flux (e.g. ``F(μ, \\mathbf{u}, t) = -μ∇\\mathbf{u}`` in the original PDE).\n",
    "Note that:\n",
    "- `diffusive.μ∇u` is available here because we've specified `μ∇u` in `vars_state(m, ::GradientFlux, FT)`.\n",
    "- The divergence gradient can be written as a diffusive flux using a divergence diagonal tensor."
   ],
   "metadata": {}
  },
  {
   "outputs": [],
   "cell_type": "code",
   "source": [
    "function flux_second_order!(\n",
    "    m::BurgersEquation,\n",
    "    flux::Grad,\n",
    "    state::Vars,\n",
    "    diffusive::Vars,\n",
    "    hyperdiffusive::Vars,\n",
    "    aux::Vars,\n",
    "    t::Real,\n",
    ")\n",
    "    flux.ρcT -= diffusive.α∇ρcT\n",
    "    flux.ρu -= diffusive.μ∇u\n",
    "    flux.ρu -= diffusive.νd∇D\n",
    "end;"
   ],
   "metadata": {},
   "execution_count": 21
  },
  {
   "cell_type": "markdown",
   "source": [
    "### Boundary conditions"
   ],
   "metadata": {}
  },
  {
   "cell_type": "markdown",
   "source": [
    "Second-order terms in our equations, ``∇⋅(G)`` where ``G = μ∇\\mathbf{u}``, are\n",
    "internally reformulated to first-order unknowns.\n",
    "Boundary conditions must be specified for all unknowns, both first-order and\n",
    "second-order unknowns which have been reformulated."
   ],
   "metadata": {}
  },
  {
   "cell_type": "markdown",
   "source": [
    "The boundary conditions for `ρ`, `ρu` and `ρcT` (first order unknowns)"
   ],
   "metadata": {}
  },
  {
   "outputs": [],
   "cell_type": "code",
   "source": [
    "function boundary_state!(\n",
    "    nf,\n",
    "    m::BurgersEquation,\n",
    "    state⁺::Vars,\n",
    "    aux⁺::Vars,\n",
    "    n⁻,\n",
    "    state⁻::Vars,\n",
    "    aux⁻::Vars,\n",
    "    bctype,\n",
    "    t,\n",
    "    _...,\n",
    ")\n",
    "    if bctype == 1 # bottom\n",
    "        state⁺.ρ = 1\n",
    "        state⁺.ρu = SVector(0, 0, 0)\n",
    "        state⁺.ρcT = state⁺.ρ * m.c * m.T_bottom\n",
    "    elseif bctype == 2 # top\n",
    "        state⁺.ρ = 1\n",
    "        state⁺.ρu = SVector(0, 0, 0)\n",
    "    end\n",
    "end;"
   ],
   "metadata": {},
   "execution_count": 22
  },
  {
   "cell_type": "markdown",
   "source": [
    "The boundary conditions for `ρ`, `ρu` and `ρcT` are specified here for\n",
    "second-order unknowns"
   ],
   "metadata": {}
  },
  {
   "outputs": [],
   "cell_type": "code",
   "source": [
    "function boundary_state!(\n",
    "    nf,\n",
    "    m::BurgersEquation,\n",
    "    state⁺::Vars,\n",
    "    diff⁺::Vars,\n",
    "    aux⁺::Vars,\n",
    "    n⁻,\n",
    "    state⁻::Vars,\n",
    "    diff⁻::Vars,\n",
    "    aux⁻::Vars,\n",
    "    bctype,\n",
    "    t,\n",
    "    _...,\n",
    ")\n",
    "    if bctype == 1 # bottom\n",
    "        state⁺.ρ = 1\n",
    "        state⁺.ρu = SVector(0, 0, 0)\n",
    "        state⁺.ρcT = state⁺.ρ * m.c * m.T_bottom\n",
    "    elseif bctype == 2 # top\n",
    "        state⁺.ρ = 1\n",
    "        state⁺.ρu = SVector(0, 0, 0)\n",
    "        diff⁺.α∇ρcT = -n⁻ * m.flux_top\n",
    "    end\n",
    "end;"
   ],
   "metadata": {},
   "execution_count": 23
  },
  {
   "cell_type": "markdown",
   "source": [
    "# Spatial discretization"
   ],
   "metadata": {}
  },
  {
   "cell_type": "markdown",
   "source": [
    "Prescribe polynomial order of basis functions in finite elements"
   ],
   "metadata": {}
  },
  {
   "outputs": [],
   "cell_type": "code",
   "source": [
    "N_poly = 5;"
   ],
   "metadata": {},
   "execution_count": 24
  },
  {
   "cell_type": "markdown",
   "source": [
    "Specify the number of vertical elements"
   ],
   "metadata": {}
  },
  {
   "outputs": [],
   "cell_type": "code",
   "source": [
    "nelem_vert = 10;"
   ],
   "metadata": {},
   "execution_count": 25
  },
  {
   "cell_type": "markdown",
   "source": [
    "Specify the domain height"
   ],
   "metadata": {}
  },
  {
   "outputs": [],
   "cell_type": "code",
   "source": [
    "zmax = m.zmax;"
   ],
   "metadata": {},
   "execution_count": 26
  },
  {
   "cell_type": "markdown",
   "source": [
    "Establish a `ClimateMachine` single stack configuration"
   ],
   "metadata": {}
  },
  {
   "outputs": [
    {
     "name": "stdout",
     "output_type": "stream",
     "text": [
      "┌ Info: Model composition\n",
      "│     param_set = Main.##349.EarthParameterSet()\n",
      "│     orientation = ClimateMachine.Orientations.FlatOrientation()\n",
      "│     c = 1.0\n",
      "│     μv = 0.0001\n",
      "│     μh = 1.0\n",
      "│     αv = 0.01\n",
      "│     αh = 1.0\n",
      "│     σ = 0.05\n",
      "│     γ = 5.0\n",
      "│     zmax = 1.0\n",
      "│     initialT = 295.15\n",
      "│     T_bottom = 300.0\n",
      "│     flux_top = 0.0\n",
      "│     νd = 1.0\n",
      "└ @ ClimateMachine /home/runner/work/ClimateMachine.jl/ClimateMachine.jl/src/Driver/driver_configs.jl:107\n",
      "┌ Info: Establishing single stack configuration for BurgersEquation\n",
      "│     precision        = Float64\n",
      "│     polynomial order = 5\n",
      "│     domain_min       = 0.00 m x0.00 m x0.00 m\n",
      "│     domain_max       = 1.00 m x1.00 m x1.00 m\n",
      "│     #vert elems      = 10\n",
      "│     MPI ranks        = 1\n",
      "│     min(Δ_horz)      = 0.12 m\n",
      "│     min(Δ_vert)      = 0.01 m\n",
      "└ @ ClimateMachine /home/runner/work/ClimateMachine.jl/ClimateMachine.jl/src/Driver/driver_configs.jl:548\n"
     ]
    }
   ],
   "cell_type": "code",
   "source": [
    "driver_config = ClimateMachine.SingleStackConfiguration(\n",
    "    \"BurgersEquation\",\n",
    "    N_poly,\n",
    "    nelem_vert,\n",
    "    zmax,\n",
    "    param_set,\n",
    "    m,\n",
    "    numerical_flux_first_order = CentralNumericalFluxFirstOrder(),\n",
    ");"
   ],
   "metadata": {},
   "execution_count": 27
  },
  {
   "cell_type": "markdown",
   "source": [
    "# Time discretization"
   ],
   "metadata": {}
  },
  {
   "cell_type": "markdown",
   "source": [
    "Specify simulation time (SI units)"
   ],
   "metadata": {}
  },
  {
   "outputs": [],
   "cell_type": "code",
   "source": [
    "t0 = FT(0);\n",
    "timeend = FT(1);"
   ],
   "metadata": {},
   "execution_count": 28
  },
  {
   "cell_type": "markdown",
   "source": [
    "We'll define the time-step based on the Fourier\n",
    "number and the [Courant number](https://en.wikipedia.org/wiki/Courant–Friedrichs–Lewy_condition)\n",
    "of the flow"
   ],
   "metadata": {}
  },
  {
   "outputs": [
    {
     "output_type": "execute_result",
     "data": {
      "text/plain": "6.899875101735774e-5"
     },
     "metadata": {},
     "execution_count": 29
    }
   ],
   "cell_type": "code",
   "source": [
    "Δ = min_node_distance(driver_config.grid)\n",
    "\n",
    "given_Fourier = FT(0.5);\n",
    "Fourier_bound = given_Fourier * Δ^2 / max(m.αh, m.μh, m.νd);\n",
    "Courant_bound = FT(0.5) * Δ;\n",
    "dt = min(Fourier_bound, Courant_bound)"
   ],
   "metadata": {},
   "execution_count": 29
  },
  {
   "cell_type": "markdown",
   "source": [
    "# Configure a `ClimateMachine` solver."
   ],
   "metadata": {}
  },
  {
   "cell_type": "markdown",
   "source": [
    "This initializes the state vector and allocates memory for the solution in\n",
    "space (`dg` has the model `m`, which describes the PDEs as well as the\n",
    "function used for initialization). This additionally initializes the ODE\n",
    "solver, by default an explicit Low-Storage\n",
    "[Runge-Kutta](https://en.wikipedia.org/wiki/Runge%E2%80%93Kutta_methods)\n",
    "method."
   ],
   "metadata": {}
  },
  {
   "outputs": [
    {
     "name": "stdout",
     "output_type": "stream",
     "text": [
      "┌ Info: Initializing BurgersEquation\n",
      "└ @ ClimateMachine /home/runner/work/ClimateMachine.jl/ClimateMachine.jl/src/Driver/solver_configs.jl:161\n"
     ]
    }
   ],
   "cell_type": "code",
   "source": [
    "solver_config =\n",
    "    ClimateMachine.SolverConfiguration(t0, timeend, driver_config, ode_dt = dt);"
   ],
   "metadata": {},
   "execution_count": 30
  },
  {
   "cell_type": "markdown",
   "source": [
    "## Inspect the initial conditions for a single nodal stack"
   ],
   "metadata": {}
  },
  {
   "cell_type": "markdown",
   "source": [
    "Let's export plots of the initial state"
   ],
   "metadata": {}
  },
  {
   "outputs": [],
   "cell_type": "code",
   "source": [
    "output_dir = @__DIR__;\n",
    "\n",
    "mkpath(output_dir);\n",
    "\n",
    "z_scale = 100 # convert from meters to cm\n",
    "z_key = \"z\"\n",
    "z_label = \"z [cm]\"\n",
    "z = get_z(driver_config.grid; z_scale = z_scale)\n",
    "state_vars = get_vars_from_nodal_stack(\n",
    "    driver_config.grid,\n",
    "    solver_config.Q,\n",
    "    vars_state(m, Prognostic(), FT),\n",
    ");"
   ],
   "metadata": {},
   "execution_count": 31
  },
  {
   "cell_type": "markdown",
   "source": [
    "Create an array to store the solution:"
   ],
   "metadata": {}
  },
  {
   "outputs": [
    {
     "output_type": "execute_result",
     "data": {
      "text/plain": "1-element Array{Float64,1}:\n 0.0"
     },
     "metadata": {},
     "execution_count": 32
    }
   ],
   "cell_type": "code",
   "source": [
    "state_data = Dict[state_vars]  # store initial condition at ``t=0``\n",
    "time_data = FT[0]                                      # store time data"
   ],
   "metadata": {},
   "execution_count": 32
  },
  {
   "cell_type": "markdown",
   "source": [
    "Generate plots of initial conditions for the southwest nodal stack"
   ],
   "metadata": {}
  },
  {
   "outputs": [
    {
     "name": "stdout",
     "output_type": "stream",
     "text": [
      "read: Connection reset by peer\n",
      "send: Broken pipe\n"
     ]
    }
   ],
   "cell_type": "code",
   "source": [
    "export_plot(\n",
    "    z,\n",
    "    time_data,\n",
    "    state_data,\n",
    "    (\"ρcT\",),\n",
    "    joinpath(output_dir, \"initial_condition_T_nodal.png\");\n",
    "    xlabel = \"ρcT at southwest node\",\n",
    "    ylabel = z_label,\n",
    ");\n",
    "export_plot(\n",
    "    z,\n",
    "    time_data,\n",
    "    state_data,\n",
    "    (\"ρu[1]\",),\n",
    "    joinpath(output_dir, \"initial_condition_u_nodal.png\");\n",
    "    xlabel = \"ρu at southwest node\",\n",
    "    ylabel = z_label,\n",
    ");\n",
    "export_plot(\n",
    "    z,\n",
    "    time_data,\n",
    "    state_data,\n",
    "    (\"ρu[2]\",),\n",
    "    joinpath(output_dir, \"initial_condition_v_nodal.png\");\n",
    "    xlabel = \"ρv at southwest node\",\n",
    "    ylabel = z_label,\n",
    ");"
   ],
   "metadata": {},
   "execution_count": 33
  },
  {
   "cell_type": "markdown",
   "source": [
    "![](initial_condition_T_nodal.png)\n",
    "![](initial_condition_u_nodal.png)"
   ],
   "metadata": {}
  },
  {
   "cell_type": "markdown",
   "source": [
    "## Inspect the initial conditions for the horizontal averages"
   ],
   "metadata": {}
  },
  {
   "cell_type": "markdown",
   "source": [
    "Horizontal statistics of variables"
   ],
   "metadata": {}
  },
  {
   "outputs": [
    {
     "name": "stdout",
     "output_type": "stream",
     "text": [
      "read: Connection reset by peer\n",
      "send: Broken pipe\n"
     ]
    }
   ],
   "cell_type": "code",
   "source": [
    "state_vars_var = get_horizontal_variance(\n",
    "    driver_config.grid,\n",
    "    solver_config.Q,\n",
    "    vars_state(m, Prognostic(), FT),\n",
    ");\n",
    "\n",
    "state_vars_avg = get_horizontal_mean(\n",
    "    driver_config.grid,\n",
    "    solver_config.Q,\n",
    "    vars_state(m, Prognostic(), FT),\n",
    ");\n",
    "\n",
    "data_avg = Dict[state_vars_avg]\n",
    "data_var = Dict[state_vars_var]\n",
    "\n",
    "export_plot(\n",
    "    z,\n",
    "    time_data,\n",
    "    data_avg,\n",
    "    (\"ρu[1]\",),\n",
    "    joinpath(output_dir, \"initial_condition_avg_u.png\");\n",
    "    xlabel = \"Horizontal mean of ρu\",\n",
    "    ylabel = z_label,\n",
    ");\n",
    "export_plot(\n",
    "    z,\n",
    "    time_data,\n",
    "    data_var,\n",
    "    (\"ρu[1]\",),\n",
    "    joinpath(output_dir, \"initial_condition_variance_u.png\");\n",
    "    xlabel = \"Horizontal variance of ρu\",\n",
    "    ylabel = z_label,\n",
    ");"
   ],
   "metadata": {},
   "execution_count": 34
  },
  {
   "cell_type": "markdown",
   "source": [
    "![](initial_condition_avg_u.png)\n",
    "![](initial_condition_variance_u.png)"
   ],
   "metadata": {}
  },
  {
   "cell_type": "markdown",
   "source": [
    "# Solver hooks / callbacks"
   ],
   "metadata": {}
  },
  {
   "cell_type": "markdown",
   "source": [
    "Define the number of outputs from `t0` to `timeend`"
   ],
   "metadata": {}
  },
  {
   "outputs": [],
   "cell_type": "code",
   "source": [
    "const n_outputs = 5;\n",
    "const every_x_simulation_time = timeend / n_outputs;"
   ],
   "metadata": {},
   "execution_count": 35
  },
  {
   "cell_type": "markdown",
   "source": [
    "Create a dictionary for `z` coordinate (and convert to cm) NCDatasets IO:"
   ],
   "metadata": {}
  },
  {
   "outputs": [],
   "cell_type": "code",
   "source": [
    "dims = OrderedDict(z_key => collect(z));"
   ],
   "metadata": {},
   "execution_count": 36
  },
  {
   "cell_type": "markdown",
   "source": [
    "Create dictionaries to store outputs:"
   ],
   "metadata": {}
  },
  {
   "outputs": [
    {
     "output_type": "execute_result",
     "data": {
      "text/plain": "OrderedCollections.OrderedDict{Any,Any} with 5 entries:\n  \"ρ\"     => [1.0, 1.0, 1.0, 1.0, 1.0, 1.0, 1.0, 1.0, 1.0, 1.0  …  1.0, 1.0, 1.…\n  \"ρu[1]\" => [0.0148644, 0.105171, 0.0925204, 0.255171, 0.300145, 0.407007, 0.3…\n  \"ρu[2]\" => [0.0191198, -0.0199116, 0.0893337, 0.273913, 0.334051, 0.356575, 0…\n  \"ρu[3]\" => [0.0, 0.0, 0.0, 0.0, 0.0, 0.0, 0.0, 0.0, 0.0, 0.0  …  0.0, 0.0, 0.…\n  \"ρcT\"   => [295.15, 295.15, 295.15, 295.15, 295.15, 295.15, 295.15, 295.15, 2…"
     },
     "metadata": {},
     "execution_count": 37
    }
   ],
   "cell_type": "code",
   "source": [
    "data_var = Dict[Dict([k => Dict() for k in 0:n_outputs]...),]\n",
    "data_var[1] = state_vars_var\n",
    "\n",
    "data_avg = Dict[Dict([k => Dict() for k in 0:n_outputs]...),]\n",
    "data_avg[1] = state_vars_avg\n",
    "\n",
    "data_nodal = Dict[Dict([k => Dict() for k in 0:n_outputs]...),]\n",
    "data_nodal[1] = state_vars"
   ],
   "metadata": {},
   "execution_count": 37
  },
  {
   "cell_type": "markdown",
   "source": [
    "The `ClimateMachine`'s time-steppers provide hooks, or callbacks, which\n",
    "allow users to inject code to be executed at specified intervals. In this\n",
    "callback, the state variables are collected, combined into a single\n",
    "`OrderedDict` and written to a NetCDF file (for each output step)."
   ],
   "metadata": {}
  },
  {
   "outputs": [],
   "cell_type": "code",
   "source": [
    "callback = GenericCallbacks.EveryXSimulationTime(every_x_simulation_time) do\n",
    "    state_vars_var = get_horizontal_variance(\n",
    "        driver_config.grid,\n",
    "        solver_config.Q,\n",
    "        vars_state(m, Prognostic(), FT),\n",
    "    )\n",
    "    state_vars_avg = get_horizontal_mean(\n",
    "        driver_config.grid,\n",
    "        solver_config.Q,\n",
    "        vars_state(m, Prognostic(), FT),\n",
    "    )\n",
    "    state_vars = get_vars_from_nodal_stack(\n",
    "        driver_config.grid,\n",
    "        solver_config.Q,\n",
    "        vars_state(m, Prognostic(), FT),\n",
    "        i = 1,\n",
    "        j = 1,\n",
    "    )\n",
    "    push!(data_var, state_vars_var)\n",
    "    push!(data_avg, state_vars_avg)\n",
    "    push!(data_nodal, state_vars)\n",
    "    push!(time_data, gettime(solver_config.solver))\n",
    "    nothing\n",
    "end;"
   ],
   "metadata": {},
   "execution_count": 38
  },
  {
   "cell_type": "markdown",
   "source": [
    "# Solve"
   ],
   "metadata": {}
  },
  {
   "cell_type": "markdown",
   "source": [
    "This is the main `ClimateMachine` solver invocation. While users do not have\n",
    "access to the time-stepping loop, code may be injected via `user_callbacks`,\n",
    "which is a `Tuple` of `GenericCallbacks`."
   ],
   "metadata": {}
  },
  {
   "outputs": [
    {
     "name": "stdout",
     "output_type": "stream",
     "text": [
      "┌ Info: Starting BurgersEquation\n",
      "│     dt              = 6.89941e-05\n",
      "│     timeend         =     1.00\n",
      "│     number of steps = 14494\n",
      "│     norm(Q)         = 2.9515350536905294e+02\n",
      "└ @ ClimateMachine /home/runner/work/ClimateMachine.jl/ClimateMachine.jl/src/Driver/Driver.jl:675\n",
      "┌ Info: Update\n",
      "│     simtime =     0.18 /     1.00\n",
      "│     runtime = 00:01:00\n",
      "│     norm(Q) = 2.9538695436568776e+02\n",
      "└ @ ClimateMachine.Callbacks /home/runner/work/ClimateMachine.jl/ClimateMachine.jl/src/Driver/Callbacks/Callbacks.jl:61\n",
      "┌ Info: Update\n",
      "│     simtime =     0.67 /     1.00\n",
      "│     runtime = 00:01:59\n",
      "│     norm(Q) = 2.9560203550411910e+02\n",
      "└ @ ClimateMachine.Callbacks /home/runner/work/ClimateMachine.jl/ClimateMachine.jl/src/Driver/Callbacks/Callbacks.jl:61\n",
      "┌ Info: Finished\n",
      "│     norm(Q)            = 2.9570153422465444e+02\n",
      "│     norm(Q) / norm(Q₀) = 1.0018567587564859e+00\n",
      "│     norm(Q) - norm(Q₀) = 5.4802885560150116e-01\n",
      "└ @ ClimateMachine /home/runner/work/ClimateMachine.jl/ClimateMachine.jl/src/Driver/Driver.jl:713\n"
     ]
    },
    {
     "output_type": "execute_result",
     "data": {
      "text/plain": "1.001856758756486"
     },
     "metadata": {},
     "execution_count": 39
    }
   ],
   "cell_type": "code",
   "source": [
    "ClimateMachine.invoke!(solver_config; user_callbacks = (callback,))"
   ],
   "metadata": {},
   "execution_count": 39
  },
  {
   "cell_type": "markdown",
   "source": [
    "# Post-processing"
   ],
   "metadata": {}
  },
  {
   "cell_type": "markdown",
   "source": [
    "Our solution has now been calculated and exported to NetCDF files in\n",
    "`output_dir`."
   ],
   "metadata": {}
  },
  {
   "cell_type": "markdown",
   "source": [
    "Let's plot the horizontal statistics of `ρu` and `ρcT`, as well as the evolution of\n",
    "`ρu` for the southwest nodal stack:"
   ],
   "metadata": {}
  },
  {
   "outputs": [
    {
     "name": "stdout",
     "output_type": "stream",
     "text": [
      "read: Connection reset by peer\n",
      "send: Broken pipe\n",
      "read: Connection reset by peer\n",
      "send: Broken pipe\n"
     ]
    }
   ],
   "cell_type": "code",
   "source": [
    "export_plot(\n",
    "    z,\n",
    "    time_data,\n",
    "    data_avg,\n",
    "    (\"ρu[1]\"),\n",
    "    joinpath(output_dir, \"solution_vs_time_u_avg.png\");\n",
    "    xlabel = \"Horizontal mean of ρu\",\n",
    "    ylabel = z_label,\n",
    ");\n",
    "export_plot(\n",
    "    z,\n",
    "    time_data,\n",
    "    data_var,\n",
    "    (\"ρu[1]\"),\n",
    "    joinpath(output_dir, \"variance_vs_time_u.png\");\n",
    "    xlabel = \"Horizontal variance of ρu\",\n",
    "    ylabel = z_label,\n",
    ");\n",
    "export_plot(\n",
    "    z,\n",
    "    time_data,\n",
    "    data_avg,\n",
    "    (\"ρcT\"),\n",
    "    joinpath(output_dir, \"solution_vs_time_T_avg.png\");\n",
    "    xlabel = \"Horizontal mean of ρcT\",\n",
    "    ylabel = z_label,\n",
    ");\n",
    "export_plot(\n",
    "    z,\n",
    "    time_data,\n",
    "    data_var,\n",
    "    (\"ρcT\"),\n",
    "    joinpath(output_dir, \"variance_vs_time_T.png\");\n",
    "    xlabel = \"Horizontal variance of ρcT\",\n",
    "    ylabel = z_label,\n",
    ");\n",
    "export_plot(\n",
    "    z,\n",
    "    time_data,\n",
    "    data_nodal,\n",
    "    (\"ρu[1]\"),\n",
    "    joinpath(output_dir, \"solution_vs_time_u_nodal.png\");\n",
    "    xlabel = \"ρu at southwest node\",\n",
    "    ylabel = z_label,\n",
    ");"
   ],
   "metadata": {},
   "execution_count": 40
  },
  {
   "cell_type": "markdown",
   "source": [
    "![](solution_vs_time_u_avg.png)\n",
    "![](variance_vs_time_u.png)\n",
    "![](solution_vs_time_T_avg.png)\n",
    "![](variance_vs_time_T.png)\n",
    "![](solution_vs_time_u_nodal.png)"
   ],
   "metadata": {}
  },
  {
   "cell_type": "markdown",
   "source": [
    "Rayleigh friction returns the horizontal velocity to the objective\n",
    "profile on the timescale of the simulation (1 second), since `γ`∼1. The horizontal viscosity\n",
    "and 2D divergence damping act to reduce the horizontal variance over the same timescale.\n",
    "The initial Gaussian noise is propagated to the temperature field through advection.\n",
    "The horizontal diffusivity acts to reduce this `ρcT` variance in time, although in a longer\n",
    "timescale."
   ],
   "metadata": {}
  },
  {
   "cell_type": "markdown",
   "source": [
    "To run this file, and\n",
    "inspect the solution, include this tutorial in the Julia REPL\n",
    "with:"
   ],
   "metadata": {}
  },
  {
   "cell_type": "markdown",
   "source": [
    "```julia\n",
    "include(joinpath(\"tutorials\", \"Atmos\", \"burgers_single_stack.jl\"))\n",
    "```"
   ],
   "metadata": {}
  },
  {
   "cell_type": "markdown",
   "source": [
    "---\n",
    "\n",
    "*This notebook was generated using [Literate.jl](https://github.com/fredrikekre/Literate.jl).*"
   ],
   "metadata": {}
  }
 ],
 "nbformat_minor": 3,
 "metadata": {
  "language_info": {
   "file_extension": ".jl",
   "mimetype": "application/julia",
   "name": "julia",
   "version": "1.5.2"
  },
  "kernelspec": {
   "name": "julia-1.5",
   "display_name": "Julia 1.5.2",
   "language": "julia"
  }
 },
 "nbformat": 4
}
