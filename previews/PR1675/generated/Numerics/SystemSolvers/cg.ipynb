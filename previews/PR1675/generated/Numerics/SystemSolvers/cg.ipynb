{
 "cells": [
  {
   "cell_type": "markdown",
   "source": [
    "# Conjugate Gradient\n",
    "In this tutorial we describe the basics of using the conjugate gradient iterative solvers\n",
    "At the end you should be able to\n",
    "1. Use Conjugate Gradient to solve a linear system\n",
    "2. Know when to not use it\n",
    "3. Contruct a column-wise linear solver with Conjugate Gradient"
   ],
   "metadata": {}
  },
  {
   "cell_type": "markdown",
   "source": [
    "## What is it?\n",
    "Conjugate Gradient is an iterative method for solving special kinds of linear systems:\n",
    "$$\n",
    " Ax = b\n",
    "$$\n",
    "via iterative methods.\n",
    "!!! warning\n",
    "    The linear operator need to be symmetric positive definite and the preconditioner must be symmetric.\n",
    "See the [wikipedia](https://en.wikipedia.org/wiki/Conjugate_gradient_method) for more details."
   ],
   "metadata": {}
  },
  {
   "cell_type": "markdown",
   "source": [
    "## Basic Example\n",
    "First we must load a few things"
   ],
   "metadata": {}
  },
  {
   "outputs": [],
   "cell_type": "code",
   "source": [
    "using ClimateMachine\n",
    "using ClimateMachine.SystemSolvers\n",
    "using LinearAlgebra, Random"
   ],
   "metadata": {},
   "execution_count": 1
  },
  {
   "cell_type": "markdown",
   "source": [
    "Next we define a 3x3 symmetric positive definite linear system. (In the ClimateMachine code a symmetric positive definite system could arise from treating diffusion implicitly.)"
   ],
   "metadata": {}
  },
  {
   "outputs": [],
   "cell_type": "code",
   "source": [
    "A = [\n",
    "    2.0 -1.0 0.0\n",
    "    -1.0 2.0 -1.0\n",
    "    0.0 -1.0 2.0\n",
    "];"
   ],
   "metadata": {},
   "execution_count": 2
  },
  {
   "cell_type": "markdown",
   "source": [
    "We define the matrix `A` here as a global variable for convenience later."
   ],
   "metadata": {}
  },
  {
   "cell_type": "markdown",
   "source": [
    "We can see that it is symmetric. We can check that it is positive definite by checking the spectrum"
   ],
   "metadata": {}
  },
  {
   "outputs": [
    {
     "output_type": "execute_result",
     "data": {
      "text/plain": "3-element Array{Float64,1}:\n 0.585786437626905\n 1.9999999999999998\n 3.414213562373095"
     },
     "metadata": {},
     "execution_count": 3
    }
   ],
   "cell_type": "code",
   "source": [
    "eigvals(A)"
   ],
   "metadata": {},
   "execution_count": 3
  },
  {
   "cell_type": "markdown",
   "source": [
    "The linear operators that are passed into the abstract iterative solvers need to be defined as functions that act on vectors. Let us do that with our matrix. We are using function closures for type stability."
   ],
   "metadata": {}
  },
  {
   "outputs": [],
   "cell_type": "code",
   "source": [
    "function closure_linear_operator!(A)\n",
    "    function linear_operator!(x, y)\n",
    "        mul!(x, A, y)\n",
    "    end\n",
    "    return linear_operator!\n",
    "end;"
   ],
   "metadata": {},
   "execution_count": 4
  },
  {
   "cell_type": "markdown",
   "source": [
    "We now define our linear operator using the function closure"
   ],
   "metadata": {}
  },
  {
   "outputs": [
    {
     "output_type": "execute_result",
     "data": {
      "text/plain": "linear_operator! (generic function with 1 method)"
     },
     "metadata": {},
     "execution_count": 5
    }
   ],
   "cell_type": "code",
   "source": [
    "linear_operator! = closure_linear_operator!(A)"
   ],
   "metadata": {},
   "execution_count": 5
  },
  {
   "cell_type": "markdown",
   "source": [
    "We now define our `b` in the linear system"
   ],
   "metadata": {}
  },
  {
   "outputs": [],
   "cell_type": "code",
   "source": [
    "b = ones(typeof(1.0), 3);"
   ],
   "metadata": {},
   "execution_count": 6
  },
  {
   "cell_type": "markdown",
   "source": [
    "The exact solution to the system `Ax = b` is"
   ],
   "metadata": {}
  },
  {
   "outputs": [],
   "cell_type": "code",
   "source": [
    "x_exact = [1.5, 2.0, 1.5];"
   ],
   "metadata": {},
   "execution_count": 7
  },
  {
   "cell_type": "markdown",
   "source": [
    "Now we can set up the ConjugateGradient struct"
   ],
   "metadata": {}
  },
  {
   "outputs": [],
   "cell_type": "code",
   "source": [
    "linearsolver = ConjugateGradient(b);"
   ],
   "metadata": {},
   "execution_count": 8
  },
  {
   "cell_type": "markdown",
   "source": [
    "and an initial guess for the iterative solver."
   ],
   "metadata": {}
  },
  {
   "outputs": [],
   "cell_type": "code",
   "source": [
    "x = ones(typeof(1.0), 3);"
   ],
   "metadata": {},
   "execution_count": 9
  },
  {
   "cell_type": "markdown",
   "source": [
    "To solve the linear system we just need to pass to the linearsolve! function"
   ],
   "metadata": {}
  },
  {
   "outputs": [
    {
     "output_type": "execute_result",
     "data": {
      "text/plain": "2"
     },
     "metadata": {},
     "execution_count": 10
    }
   ],
   "cell_type": "code",
   "source": [
    "iters = linearsolve!(linear_operator!, nothing, linearsolver, x, b)"
   ],
   "metadata": {},
   "execution_count": 10
  },
  {
   "cell_type": "markdown",
   "source": [
    "The variable `x` gets overwritten during the linear solve\n",
    "The norm of the error is"
   ],
   "metadata": {}
  },
  {
   "outputs": [
    {
     "output_type": "execute_result",
     "data": {
      "text/plain": "0.0"
     },
     "metadata": {},
     "execution_count": 11
    }
   ],
   "cell_type": "code",
   "source": [
    "norm(x - x_exact) / norm(x_exact)"
   ],
   "metadata": {},
   "execution_count": 11
  },
  {
   "cell_type": "markdown",
   "source": [
    "The relative norm of the residual is"
   ],
   "metadata": {}
  },
  {
   "outputs": [
    {
     "output_type": "execute_result",
     "data": {
      "text/plain": "0.0"
     },
     "metadata": {},
     "execution_count": 12
    }
   ],
   "cell_type": "code",
   "source": [
    "norm(A * x - b) / norm(b)"
   ],
   "metadata": {},
   "execution_count": 12
  },
  {
   "cell_type": "markdown",
   "source": [
    "The number of iterations is"
   ],
   "metadata": {}
  },
  {
   "outputs": [
    {
     "output_type": "execute_result",
     "data": {
      "text/plain": "2"
     },
     "metadata": {},
     "execution_count": 13
    }
   ],
   "cell_type": "code",
   "source": [
    "iters"
   ],
   "metadata": {},
   "execution_count": 13
  },
  {
   "cell_type": "markdown",
   "source": [
    "Conjugate Gradient is guaranteed to converge in 3 iterations with perfect arithmetic in this case."
   ],
   "metadata": {}
  },
  {
   "cell_type": "markdown",
   "source": [
    "## Non-Example"
   ],
   "metadata": {}
  },
  {
   "cell_type": "markdown",
   "source": [
    "Conjugate Gradient is not guaranteed to converge with nonsymmetric matrices. Consider"
   ],
   "metadata": {}
  },
  {
   "outputs": [],
   "cell_type": "code",
   "source": [
    "A = [\n",
    "    2.0 -1.0 0.0\n",
    "    0.0 2.0 -1.0\n",
    "    0.0 0.0 2.0\n",
    "];"
   ],
   "metadata": {},
   "execution_count": 14
  },
  {
   "cell_type": "markdown",
   "source": [
    "We define the matrix `A` here as a global variable for convenience later."
   ],
   "metadata": {}
  },
  {
   "cell_type": "markdown",
   "source": [
    "We can see that it is not symmetric, but it does have all positive eigenvalues"
   ],
   "metadata": {}
  },
  {
   "outputs": [
    {
     "output_type": "execute_result",
     "data": {
      "text/plain": "3-element Array{Float64,1}:\n 2.0\n 2.0\n 2.0"
     },
     "metadata": {},
     "execution_count": 15
    }
   ],
   "cell_type": "code",
   "source": [
    "eigvals(A)"
   ],
   "metadata": {},
   "execution_count": 15
  },
  {
   "cell_type": "markdown",
   "source": [
    "The linear operators that are passed into the abstract iterative solvers need to be defined as functions that act on vectors. Let us do that with our matrix. We are using function closures for type stability."
   ],
   "metadata": {}
  },
  {
   "outputs": [],
   "cell_type": "code",
   "source": [
    "function closure_linear_operator!(A)\n",
    "    function linear_operator!(x, y)\n",
    "        mul!(x, A, y)\n",
    "    end\n",
    "    return linear_operator!\n",
    "end;"
   ],
   "metadata": {},
   "execution_count": 16
  },
  {
   "cell_type": "markdown",
   "source": [
    "We define the linear operator using our function closure"
   ],
   "metadata": {}
  },
  {
   "outputs": [
    {
     "output_type": "execute_result",
     "data": {
      "text/plain": "linear_operator! (generic function with 1 method)"
     },
     "metadata": {},
     "execution_count": 17
    }
   ],
   "cell_type": "code",
   "source": [
    "linear_operator! = closure_linear_operator!(A)"
   ],
   "metadata": {},
   "execution_count": 17
  },
  {
   "cell_type": "markdown",
   "source": [
    "We now define our `b` in the linear system"
   ],
   "metadata": {}
  },
  {
   "outputs": [],
   "cell_type": "code",
   "source": [
    "b = ones(typeof(1.0), 3);"
   ],
   "metadata": {},
   "execution_count": 18
  },
  {
   "cell_type": "markdown",
   "source": [
    "The exact solution to the system `Ax = b` is"
   ],
   "metadata": {}
  },
  {
   "outputs": [],
   "cell_type": "code",
   "source": [
    "x_exact = [0.875, 0.75, 0.5];"
   ],
   "metadata": {},
   "execution_count": 19
  },
  {
   "cell_type": "markdown",
   "source": [
    "Now we can set up the ConjugateGradient struct"
   ],
   "metadata": {}
  },
  {
   "outputs": [],
   "cell_type": "code",
   "source": [
    "linearsolver = ConjugateGradient(b, max_iter = 100);"
   ],
   "metadata": {},
   "execution_count": 20
  },
  {
   "cell_type": "markdown",
   "source": [
    "We also passed in the keyword argument \"max_iter\" for the maximum number of iterations of the iterative solver. By default it is assumed to be the size of the vector.\n",
    "As before we need to define an initial guess"
   ],
   "metadata": {}
  },
  {
   "outputs": [],
   "cell_type": "code",
   "source": [
    "x = ones(typeof(1.0), 3);"
   ],
   "metadata": {},
   "execution_count": 21
  },
  {
   "cell_type": "markdown",
   "source": [
    "To (not) solve the linear system we just need to pass to the linearsolve! function"
   ],
   "metadata": {}
  },
  {
   "outputs": [
    {
     "output_type": "execute_result",
     "data": {
      "text/plain": "100"
     },
     "metadata": {},
     "execution_count": 22
    }
   ],
   "cell_type": "code",
   "source": [
    "iters = linearsolve!(linear_operator!, nothing, linearsolver, x, b)"
   ],
   "metadata": {},
   "execution_count": 22
  },
  {
   "cell_type": "markdown",
   "source": [
    "The variable `x` gets overwitten during the linear solve\n",
    "The norm of the error is"
   ],
   "metadata": {}
  },
  {
   "outputs": [
    {
     "output_type": "execute_result",
     "data": {
      "text/plain": "1.0709260403075331"
     },
     "metadata": {},
     "execution_count": 23
    }
   ],
   "cell_type": "code",
   "source": [
    "norm(x - x_exact) / norm(x_exact)"
   ],
   "metadata": {},
   "execution_count": 23
  },
  {
   "cell_type": "markdown",
   "source": [
    "The relative norm of the residual is"
   ],
   "metadata": {}
  },
  {
   "outputs": [
    {
     "output_type": "execute_result",
     "data": {
      "text/plain": "1.3306597079172395"
     },
     "metadata": {},
     "execution_count": 24
    }
   ],
   "cell_type": "code",
   "source": [
    "norm(A * x - b) / norm(b)"
   ],
   "metadata": {},
   "execution_count": 24
  },
  {
   "cell_type": "markdown",
   "source": [
    "The number of iterations is"
   ],
   "metadata": {}
  },
  {
   "outputs": [
    {
     "output_type": "execute_result",
     "data": {
      "text/plain": "100"
     },
     "metadata": {},
     "execution_count": 25
    }
   ],
   "cell_type": "code",
   "source": [
    "iters"
   ],
   "metadata": {},
   "execution_count": 25
  },
  {
   "cell_type": "markdown",
   "source": [
    "Conjugate Gradient is guaranteed to converge in 3 iterations with perfect arithmetic for a symmetric positive definite matrix. Here we see that the matrix is not symmetric and it didn't converge even after 100 iterations."
   ],
   "metadata": {}
  },
  {
   "cell_type": "markdown",
   "source": [
    "## More Complex Example\n",
    "Here we show how to construct a column-wise iterative solver similar to what is is in the ClimateMachine code. The following is not for the faint of heart.\n",
    "We must first define a linear operator that acts like one in the ClimateMachine"
   ],
   "metadata": {}
  },
  {
   "outputs": [],
   "cell_type": "code",
   "source": [
    "function closure_linear_operator!(A, tup)\n",
    "    function linear_operator!(y, x)\n",
    "        alias_x = reshape(x, tup)\n",
    "        alias_y = reshape(y, tup)\n",
    "        for i6 in 1:tup[6]\n",
    "            for i4 in 1:tup[4]\n",
    "                for i2 in 1:tup[2]\n",
    "                    for i1 in 1:tup[1]\n",
    "                        tmp = alias_x[i1, i2, :, i4, :, i6][:]\n",
    "                        tmp2 = A[i1, i2, i4, i6] * tmp\n",
    "                        alias_y[i1, i2, :, i4, :, i6] .=\n",
    "                            reshape(tmp2, (tup[3], tup[5]))\n",
    "                    end\n",
    "                end\n",
    "            end\n",
    "        end\n",
    "    end\n",
    "end;"
   ],
   "metadata": {},
   "execution_count": 26
  },
  {
   "cell_type": "markdown",
   "source": [
    "Now that we have this function, we can define a linear system that we will solve columnwise\n",
    "First we define the structure of our array as `tup` in a manner that is similar to a stacked brick topology"
   ],
   "metadata": {}
  },
  {
   "outputs": [],
   "cell_type": "code",
   "source": [
    "tup = (3, 4, 7, 2, 20, 2);"
   ],
   "metadata": {},
   "execution_count": 27
  },
  {
   "cell_type": "markdown",
   "source": [
    "where\n",
    "1. tup[1] is the number of Gauss–Lobatto points in the x-direction\n",
    "2. tup[2] is the number of Gauss–Lobatto points in the y-direction\n",
    "3. tup[3] is the number of Gauss–Lobatto points in the z-direction\n",
    "4. tup[4] is the number of states\n",
    "6. tup[5] is the number of elements in the vertical direction\n",
    "7. tup[6] is the number of elements in the other directions"
   ],
   "metadata": {}
  },
  {
   "cell_type": "markdown",
   "source": [
    "Now we define our linear operator as a random matrix."
   ],
   "metadata": {}
  },
  {
   "outputs": [],
   "cell_type": "code",
   "source": [
    "Random.seed!(1235);\n",
    "B = [\n",
    "    randn(tup[3] * tup[5], tup[3] * tup[5])\n",
    "    for i1 in 1:tup[1], i2 in 1:tup[2], i4 in 1:tup[4], i6 in 1:tup[6]\n",
    "];\n",
    "columnwise_A = [\n",
    "    B[i1, i2, i4, i6] * B[i1, i2, i4, i6]' + 10I\n",
    "    for i1 in 1:tup[1], i2 in 1:tup[2], i4 in 1:tup[4], i6 in 1:tup[6]\n",
    "];\n",
    "columnwise_inv_A = [\n",
    "    inv(columnwise_A[i1, i2, i4, i6])\n",
    "    for i1 in 1:tup[1], i2 in 1:tup[2], i4 in 1:tup[4], i6 in 1:tup[6]\n",
    "];\n",
    "columnwise_linear_operator! = closure_linear_operator!(columnwise_A, tup);\n",
    "columnwise_inverse_linear_operator! =\n",
    "    closure_linear_operator!(columnwise_inv_A, tup);"
   ],
   "metadata": {},
   "execution_count": 28
  },
  {
   "cell_type": "markdown",
   "source": [
    "We define our `x` and `b` with matrix structures similar to an MPIStateArray"
   ],
   "metadata": {}
  },
  {
   "outputs": [],
   "cell_type": "code",
   "source": [
    "mpi_tup = (tup[1] * tup[2] * tup[3], tup[4], tup[5] * tup[6]);\n",
    "b = randn(mpi_tup);\n",
    "x = randn(mpi_tup);"
   ],
   "metadata": {},
   "execution_count": 29
  },
  {
   "cell_type": "markdown",
   "source": [
    "Now we solve the linear system columnwise"
   ],
   "metadata": {}
  },
  {
   "outputs": [],
   "cell_type": "code",
   "source": [
    "linearsolver = ConjugateGradient(\n",
    "    x,\n",
    "    max_iter = tup[3] * tup[5],\n",
    "    dims = (3, 5),\n",
    "    reshape_tuple = tup,\n",
    ");"
   ],
   "metadata": {},
   "execution_count": 30
  },
  {
   "cell_type": "markdown",
   "source": [
    "The keyword arguments dims is the reduction dimension for the linear solver. In this case dims = (3,5) are the ones associated with a column. The reshape_tuple argument is to convert the shapes of the array `x` in the a form that is more easily usable for reductions in the linear solver"
   ],
   "metadata": {}
  },
  {
   "cell_type": "markdown",
   "source": [
    "Now we can solve it"
   ],
   "metadata": {}
  },
  {
   "outputs": [],
   "cell_type": "code",
   "source": [
    "iters = linearsolve!(columnwise_linear_operator!, nothing, linearsolver, x, b);\n",
    "x_exact = copy(x);\n",
    "columnwise_inverse_linear_operator!(x_exact, b);"
   ],
   "metadata": {},
   "execution_count": 31
  },
  {
   "cell_type": "markdown",
   "source": [
    "The norm of the error is"
   ],
   "metadata": {}
  },
  {
   "outputs": [
    {
     "output_type": "execute_result",
     "data": {
      "text/plain": "6.85088498428242e-14"
     },
     "metadata": {},
     "execution_count": 32
    }
   ],
   "cell_type": "code",
   "source": [
    "norm(x - x_exact) / norm(x_exact)"
   ],
   "metadata": {},
   "execution_count": 32
  },
  {
   "cell_type": "markdown",
   "source": [
    "The number of iterations is"
   ],
   "metadata": {}
  },
  {
   "outputs": [
    {
     "output_type": "execute_result",
     "data": {
      "text/plain": "121"
     },
     "metadata": {},
     "execution_count": 33
    }
   ],
   "cell_type": "code",
   "source": [
    "iters"
   ],
   "metadata": {},
   "execution_count": 33
  },
  {
   "cell_type": "markdown",
   "source": [
    "The algorithm converges within `tup[3]*tup[5] = 140` iterations"
   ],
   "metadata": {}
  },
  {
   "cell_type": "markdown",
   "source": [
    "## Tips\n",
    "1. The convergence criteria should be changed, machine precision is too small and the maximum iterations is often too large\n",
    "2. Use a preconditioner if possible\n",
    "3. Make sure that the linear system really is symmetric and positive-definite"
   ],
   "metadata": {}
  },
  {
   "cell_type": "markdown",
   "source": [
    "---\n",
    "\n",
    "*This notebook was generated using [Literate.jl](https://github.com/fredrikekre/Literate.jl).*"
   ],
   "metadata": {}
  }
 ],
 "nbformat_minor": 3,
 "metadata": {
  "language_info": {
   "file_extension": ".jl",
   "mimetype": "application/julia",
   "name": "julia",
   "version": "1.5.2"
  },
  "kernelspec": {
   "name": "julia-1.5",
   "display_name": "Julia 1.5.2",
   "language": "julia"
  }
 },
 "nbformat": 4
}
