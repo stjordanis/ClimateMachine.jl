{
 "cells": [
  {
   "cell_type": "markdown",
   "source": [
    "# State debug statistics\n",
    "\n",
    "This page shows how to use the `StateCheck` functions to get basic\n",
    "statistics for nodal values of fields held in ClimateMachine `MPIStateArray`\n",
    "data structures. The `StateCheck` functions can be used to\n",
    "\n",
    "1. Generate statistics on `MPIStateArray` holding the state of a ClimateMachine experiment.\n",
    "\n",
    "   and to\n",
    "\n",
    "2. Compare against saved reference statistics from ClimateMachine `MPIStateArray`\n",
    "   variables. This can enable simple automated regression test checks for\n",
    "   detecting unexpected changes introduced into numerical experiments\n",
    "   by code updates.\n",
    "\n",
    "These two cases are shown below:"
   ],
   "metadata": {}
  },
  {
   "cell_type": "markdown",
   "source": [
    "## 1. Generating statistics for a set of MPIStateArrays\n",
    "\n",
    "Here we create a callback that can generate statistics for an arbitrary\n",
    "set of the MPIStateArray type variables of the sort that hold persistent state for\n",
    "ClimateMachine models. We then invoke the call back to show the statistics.\n",
    "\n",
    "In regular use the `MPIStateArray` variables will come from model configurations.\n",
    "Here we create a dummy set of `MPIStateArray` variables for use in stand alone\n",
    "examples."
   ],
   "metadata": {}
  },
  {
   "cell_type": "markdown",
   "source": [
    "### Create a dummy set of MPIStateArrays\n",
    "\n",
    "First we set up two `MPIStateArray` variables. This need a few packages to be in placeT,\n",
    "and utilizes some utility functions to create the array and add named\n",
    "persistent state variables.\n",
    "This is usually handled automatically as part of model definition in regular\n",
    "ClimateMachine activity.\n",
    "Calling `ClimateMachine.init()` includes initializing GPU CUDA and MPI parallel\n",
    "processing options that match the hardware/software system in use."
   ],
   "metadata": {}
  },
  {
   "cell_type": "markdown",
   "source": [
    "Set up a basic environment"
   ],
   "metadata": {}
  },
  {
   "outputs": [
    {
     "output_type": "execute_result",
     "data": {
      "text/plain": "Float64"
     },
     "metadata": {},
     "execution_count": 1
    }
   ],
   "cell_type": "code",
   "source": [
    "using MPI\n",
    "using StaticArrays\n",
    "using Random\n",
    "using ClimateMachine\n",
    "using ClimateMachine.VariableTemplates\n",
    "using ClimateMachine.MPIStateArrays\n",
    "using ClimateMachine.GenericCallbacks\n",
    "using ClimateMachine.StateCheck\n",
    "\n",
    "ClimateMachine.init()\n",
    "FT = Float64"
   ],
   "metadata": {},
   "execution_count": 1
  },
  {
   "cell_type": "markdown",
   "source": [
    "Define some dummy vector and tensor abstract variables with associated types\n",
    "and dimensions"
   ],
   "metadata": {}
  },
  {
   "outputs": [],
   "cell_type": "code",
   "source": [
    "F1 = @vars begin\n",
    "    ν∇u::SMatrix{3, 2, FT, 6}\n",
    "    κ∇θ::SVector{3, FT}\n",
    "end\n",
    "F2 = @vars begin\n",
    "    u::SVector{2, FT}\n",
    "    θ::SVector{1, FT}\n",
    "end\n",
    "nothing # hide"
   ],
   "metadata": {},
   "execution_count": 2
  },
  {
   "cell_type": "markdown",
   "source": [
    "Create `MPIStateArray` variables with arrays to hold elements of the\n",
    "vectors and tensors"
   ],
   "metadata": {}
  },
  {
   "outputs": [],
   "cell_type": "code",
   "source": [
    "Q1 = MPIStateArray{Float32, F1}(\n",
    "    MPI.COMM_WORLD,\n",
    "    ClimateMachine.array_type(),\n",
    "    4,\n",
    "    9,\n",
    "    8,\n",
    ")\n",
    "Q2 = MPIStateArray{Float64, F2}(\n",
    "    MPI.COMM_WORLD,\n",
    "    ClimateMachine.array_type(),\n",
    "    4,\n",
    "    3,\n",
    "    8,\n",
    ")\n",
    "nothing # hide"
   ],
   "metadata": {},
   "execution_count": 3
  },
  {
   "cell_type": "markdown",
   "source": [
    "### Create a call-back\n",
    "\n",
    "Now we can create a `StateCheck` call-back, _cb_, tied to the `MPIStateArray`\n",
    "variables _Q1_ and _Q2_. Each `MPIStateArray` in the array\n",
    "of `MPIStateArray` variables tracked is paired with a label\n",
    "to identify it. The call-back is also given a frequency (in time step numbers) and\n",
    "precision for printing summary tables."
   ],
   "metadata": {}
  },
  {
   "outputs": [
    {
     "name": "stdout",
     "output_type": "stream",
     "text": [
      "# SC Start: creating state check callback\n",
      "# SC Creating state check callback labeled \"My gradients\" for symbols\n",
      "# SC ν∇u\n",
      "# SC κ∇θ\n",
      "# SC Creating state check callback labeled \"My fields\" for symbols\n",
      "# SC u\n",
      "# SC θ\n",
      "# SC Finish: creating state check callback\n"
     ]
    }
   ],
   "cell_type": "code",
   "source": [
    "cb = ClimateMachine.StateCheck.sccreate(\n",
    "    [(Q1, \"My gradients\"), (Q2, \"My fields\")],\n",
    "    1;\n",
    "    prec = 15,\n",
    ")\n",
    "GenericCallbacks.init!(cb, nothing, nothing, nothing, nothing)\n",
    "nothing # hide"
   ],
   "metadata": {},
   "execution_count": 4
  },
  {
   "cell_type": "markdown",
   "source": [
    "### Invoke the call-back\n",
    "\n",
    "The call-back is of type `ClimateMachine.GenericCallbacks.EveryXSimulationSteps`\n",
    "and in regular use is designed to be passed to a ClimateMachine timestepping\n",
    "solver e.g."
   ],
   "metadata": {}
  },
  {
   "outputs": [
    {
     "output_type": "execute_result",
     "data": {
      "text/plain": "ClimateMachine.GenericCallbacks.EveryXSimulationSteps"
     },
     "metadata": {},
     "execution_count": 5
    }
   ],
   "cell_type": "code",
   "source": [
    "typeof(cb)"
   ],
   "metadata": {},
   "execution_count": 5
  },
  {
   "cell_type": "markdown",
   "source": [
    "Here, for demonstration purposes, we can invoke\n",
    "the call-back after simply initializing the `MPIStateArray` fields to a random\n",
    "set of values e.g."
   ],
   "metadata": {}
  },
  {
   "outputs": [
    {
     "name": "stdout",
     "output_type": "stream",
     "text": [
      "# SC +++++++++++ClimateMachine StateCheck call-back start+++++++++++++++++\n",
      "# SC  Step  |   Label    |  Field   |                            Stats                       \n",
      "# SC -------|------------|----------|                 min() |                 max() |                mean() |                 std() |\n",
      "# SC 0000000|My gradients|   ν∇u[1] |  1.343488693237305e-04|  9.847328662872314e-01|  5.235455036163330e-01|  3.082099258899689e-01|\n",
      "# SC 0000000|My gradients|   ν∇u[2] |  1.163178682327271e-01|  9.920883178710938e-01|  4.838006496429443e-01|  2.833504378795624e-01|\n",
      "# SC 0000000|My gradients|   ν∇u[3] |  1.058459281921387e-03|  9.517759084701538e-01|  4.654744267463684e-01|  2.736155688762665e-01|\n",
      "# SC 0000000|My gradients|   ν∇u[4] |  5.976688861846924e-02|  9.680480957031250e-01|  5.426180362701416e-01|  2.815708518028259e-01|\n",
      "# SC 0000000|My gradients|   ν∇u[5] |  8.310306072235107e-02|  9.359319210052490e-01|  5.054059028625488e-01|  2.460734993219376e-01|\n",
      "# SC 0000000|My gradients|   ν∇u[6] |  3.096818923950195e-02|  9.983414411544800e-01|  4.543755650520325e-01|  3.094610571861267e-01|\n",
      "# SC 0000000|My gradients|    κ∇θ[1 |  8.474481105804443e-02|  9.941806793212891e-01|  5.271573662757874e-01|  2.924559712409973e-01|\n",
      "# SC 0000000|My gradients|    κ∇θ[2 |  1.205146312713623e-02|  9.935276508331299e-01|  4.710635840892792e-01|  2.964490056037903e-01|\n",
      "# SC 0000000|My gradients|    κ∇θ[3 |  8.149802684783936e-02|  9.554433822631836e-01|  5.050389170646667e-01|  2.772010266780853e-01|\n",
      "# SC 0000000|   My fields|     u[1] |  3.534454914728768e-02|  9.731187745702308e-01|  4.535663766733649e-01|  3.286224482235063e-01|\n",
      "# SC 0000000|   My fields|     u[2] |  4.230166593202966e-02|  9.677995536192001e-01|  5.403072307285262e-01|  2.946031533277376e-01|\n",
      "# SC 0000000|   My fields|     θ[1] |  6.236755817015882e-02|  9.765501230411475e-01|  5.160463124183342e-01|  2.819832441649039e-01|\n",
      "# SC +++++++++++ClimateMachine StateCheck call-back end+++++++++++++++++++\n"
     ]
    }
   ],
   "cell_type": "code",
   "source": [
    "Q1.data .= rand(MersenneTwister(0), Float32, size(Q1.data))\n",
    "Q2.data .= rand(MersenneTwister(0), Float64, size(Q2.data))\n",
    "GenericCallbacks.call!(cb, nothing, nothing, nothing, nothing)"
   ],
   "metadata": {},
   "execution_count": 6
  },
  {
   "cell_type": "markdown",
   "source": [
    "## 2. Comparing to reference values"
   ],
   "metadata": {}
  },
  {
   "cell_type": "markdown",
   "source": [
    "### Generate arrays of reference values\n",
    "\n",
    "StateCheck functions can generate text that can be used to set the value of stored\n",
    "arrays that can be used in a reference test for subsequent regression testing. This\n",
    "involves 3 steps.\n",
    "\n",
    "**Step 1.** First a reference array setting program code is generated from the latest\n",
    "state of a given callback e.g."
   ],
   "metadata": {}
  },
  {
   "outputs": [
    {
     "name": "stdout",
     "output_type": "stream",
     "text": [
      "# BEGIN SCPRINT\n",
      "# varr - reference values (from reference run)    \n",
      "# parr - digits match precision (hand edit as needed) \n",
      "#\n",
      "# [\n",
      "#  [ MPIStateArray Name, Field Name, Maximum, Minimum, Mean, Standard Deviation ],\n",
      "#  [         :                :          :        :      :          :           ],\n",
      "# ]\n",
      "varr = [\n",
      " [ \"My gradients\", \"ν∇u[1]\",  1.34348869323730468750e-04,  9.84732866287231445313e-01,  5.23545503616333007813e-01,  3.08209925889968872070e-01 ],\n",
      " [ \"My gradients\", \"ν∇u[2]\",  1.16317868232727050781e-01,  9.92088317871093750000e-01,  4.83800649642944335938e-01,  2.83350437879562377930e-01 ],\n",
      " [ \"My gradients\", \"ν∇u[3]\",  1.05845928192138671875e-03,  9.51775908470153808594e-01,  4.65474426746368408203e-01,  2.73615568876266479492e-01 ],\n",
      " [ \"My gradients\", \"ν∇u[4]\",  5.97668886184692382813e-02,  9.68048095703125000000e-01,  5.42618036270141601563e-01,  2.81570851802825927734e-01 ],\n",
      " [ \"My gradients\", \"ν∇u[5]\",  8.31030607223510742188e-02,  9.35931921005249023438e-01,  5.05405902862548828125e-01,  2.46073499321937561035e-01 ],\n",
      " [ \"My gradients\", \"ν∇u[6]\",  3.09681892395019531250e-02,  9.98341441154479980469e-01,  4.54375565052032470703e-01,  3.09461057186126708984e-01 ],\n",
      " [ \"My gradients\", \"κ∇θ[1]\",  8.47448110580444335938e-02,  9.94180679321289062500e-01,  5.27157366275787353516e-01,  2.92455971240997314453e-01 ],\n",
      " [ \"My gradients\", \"κ∇θ[2]\",  1.20514631271362304688e-02,  9.93527650833129882813e-01,  4.71063584089279174805e-01,  2.96449005603790283203e-01 ],\n",
      " [ \"My gradients\", \"κ∇θ[3]\",  8.14980268478393554688e-02,  9.55443382263183593750e-01,  5.05038917064666748047e-01,  2.77201026678085327148e-01 ],\n",
      " [    \"My fields\",   \"u[1]\",  3.53445491472876849315e-02,  9.73118774570230771204e-01,  4.53566376673364857197e-01,  3.28622448223506280485e-01 ],\n",
      " [    \"My fields\",   \"u[2]\",  4.23016659320296639635e-02,  9.67799553619200114696e-01,  5.40307230728526155517e-01,  2.94603153327737565803e-01 ],\n",
      " [    \"My fields\",   \"θ[1]\",  6.23675581701588210848e-02,  9.76550123041147521974e-01,  5.16046312418334207628e-01,  2.81983244164903890105e-01 ],\n",
      "]\n",
      "parr = [\n",
      " [ \"My gradients\", \"ν∇u[1]\",    16,    16,    16,    16 ],\n",
      " [ \"My gradients\", \"ν∇u[2]\",    16,    16,    16,    16 ],\n",
      " [ \"My gradients\", \"ν∇u[3]\",    16,    16,    16,    16 ],\n",
      " [ \"My gradients\", \"ν∇u[4]\",    16,    16,    16,    16 ],\n",
      " [ \"My gradients\", \"ν∇u[5]\",    16,    16,    16,    16 ],\n",
      " [ \"My gradients\", \"ν∇u[6]\",    16,    16,    16,    16 ],\n",
      " [ \"My gradients\", \"κ∇θ[1]\",    16,    16,    16,    16 ],\n",
      " [ \"My gradients\", \"κ∇θ[2]\",    16,    16,    16,    16 ],\n",
      " [ \"My gradients\", \"κ∇θ[3]\",    16,    16,    16,    16 ],\n",
      " [    \"My fields\",   \"u[1]\",    16,    16,    16,    16 ],\n",
      " [    \"My fields\",   \"u[2]\",    16,    16,    16,    16 ],\n",
      " [    \"My fields\",   \"θ[1]\",    16,    16,    16,    16 ],\n",
      "]\n",
      "# END SCPRINT\n"
     ]
    }
   ],
   "cell_type": "code",
   "source": [
    "ClimateMachine.StateCheck.scprintref(cb)"
   ],
   "metadata": {},
   "execution_count": 7
  },
  {
   "cell_type": "markdown",
   "source": [
    "**Step 2.** Next the array setting program code is executed (see below). At this stage the _parr[]_ array\n",
    "context may be hand edited. The parr[] array sets a target number of decimal places for\n",
    "matching against reference values in _varr[]_. For different experiments and different fields\n",
    "the degree of precision that constitutes failing a regression test may vary. Choosing the\n",
    "_parr[]_ values requires some sense as to the stability of the particular numerical\n",
    "and physical scenario an experiment represents. In the example below some precision\n",
    "settings have been hand edited from the default of 16 to illustrate the process."
   ],
   "metadata": {}
  },
  {
   "outputs": [
    {
     "output_type": "execute_result",
     "data": {
      "text/plain": "12-element Array{Array{Any,1},1}:\n [\"My gradients\", \"ν∇u[1]\", 16, 7, 16, 0]\n [\"My gradients\", \"ν∇u[2]\", 16, 7, 16, 0]\n [\"My gradients\", \"ν∇u[3]\", 16, 7, 16, 0]\n [\"My gradients\", \"ν∇u[4]\", 16, 7, 16, 0]\n [\"My gradients\", \"ν∇u[5]\", 16, 7, 16, 0]\n [\"My gradients\", \"ν∇u[6]\", 16, 7, 16, 0]\n [\"My gradients\", \"κ∇θ[1]\", 16, 16, 16, 0]\n [\"My gradients\", \"κ∇θ[2]\", 16, 16, 16, 0]\n [\"My gradients\", \"κ∇θ[3]\", 16, 16, 16, 0]\n [\"My fields\", \"u[1]\", 16, 16, 16, 0]\n [\"My fields\", \"u[2]\", 16, 16, 16, 0]\n [\"My fields\", \"θ[1]\", 16, 16, 16, 0]"
     },
     "metadata": {},
     "execution_count": 8
    }
   ],
   "cell_type": "code",
   "source": [
    "#! format: off\n",
    "varr = [\n",
    " [ \"My gradients\", \"ν∇u[1]\",  1.34348869323730468750e-04,  9.84732866287231445313e-01,  5.23545503616333007813e-01,  3.08209930764271777814e-01 ],\n",
    " [ \"My gradients\", \"ν∇u[2]\",  1.16317868232727050781e-01,  9.92088317871093750000e-01,  4.83800649642944335938e-01,  2.83350456014221541157e-01 ],\n",
    " [ \"My gradients\", \"ν∇u[3]\",  1.05845928192138671875e-03,  9.51775908470153808594e-01,  4.65474426746368408203e-01,  2.73615551085745090099e-01 ],\n",
    " [ \"My gradients\", \"ν∇u[4]\",  5.97668886184692382813e-02,  9.68048095703125000000e-01,  5.42618036270141601563e-01,  2.81570862027933854765e-01 ],\n",
    " [ \"My gradients\", \"ν∇u[5]\",  8.31030607223510742188e-02,  9.35931921005249023438e-01,  5.05405902862548828125e-01,  2.46073509972619536290e-01 ],\n",
    " [ \"My gradients\", \"ν∇u[6]\",  3.09681892395019531250e-02,  9.98341441154479980469e-01,  4.54375565052032470703e-01,  3.09461067853178561915e-01 ],\n",
    " [ \"My gradients\", \"κ∇θ[1]\",  8.47448110580444335938e-02,  9.94180679321289062500e-01,  5.27157366275787353516e-01,  2.92455951648181833313e-01 ],\n",
    " [ \"My gradients\", \"κ∇θ[2]\",  1.20514631271362304688e-02,  9.93527650833129882813e-01,  4.71063584089279174805e-01,  2.96449027197666359346e-01 ],\n",
    " [ \"My gradients\", \"κ∇θ[3]\",  8.14980268478393554688e-02,  9.55443382263183593750e-01,  5.05038917064666748047e-01,  2.77201022741208891187e-01 ],\n",
    " [    \"My fields\",   \"u[1]\",  4.31410233294131639781e-02,  9.97140933049696531754e-01,  4.62139750850942054861e-01,  3.23076684924287371725e-01 ],\n",
    " [    \"My fields\",   \"u[2]\",  1.01416659908237782872e-02,  9.14712023896926407218e-01,  4.76160523012988778913e-01,  2.71443440757963339038e-01 ],\n",
    " [    \"My fields\",   \"θ[1]\",  6.58965491052394547467e-02,  9.73216404386510802738e-01,  4.60007166313864512830e-01,  2.87310472114545079059e-01 ],\n",
    "]\n",
    "parr = [\n",
    " [ \"My gradients\", \"ν∇u[1]\",    16,     7,    16,     0 ],\n",
    " [ \"My gradients\", \"ν∇u[2]\",    16,     7,    16,     0 ],\n",
    " [ \"My gradients\", \"ν∇u[3]\",    16,     7,    16,     0 ],\n",
    " [ \"My gradients\", \"ν∇u[4]\",    16,     7,    16,     0 ],\n",
    " [ \"My gradients\", \"ν∇u[5]\",    16,     7,    16,     0 ],\n",
    " [ \"My gradients\", \"ν∇u[6]\",    16,     7,    16,     0 ],\n",
    " [ \"My gradients\", \"κ∇θ[1]\",    16,    16,    16,     0 ],\n",
    " [ \"My gradients\", \"κ∇θ[2]\",    16,    16,    16,     0 ],\n",
    " [ \"My gradients\", \"κ∇θ[3]\",    16,    16,    16,     0 ],\n",
    " [    \"My fields\",   \"u[1]\",    16,    16,    16,     0 ],\n",
    " [    \"My fields\",   \"u[2]\",    16,    16,    16,     0 ],\n",
    " [    \"My fields\",   \"θ[1]\",    16,    16,    16,     0 ],\n",
    "]\n",
    "#! format: on"
   ],
   "metadata": {},
   "execution_count": 8
  },
  {
   "cell_type": "markdown",
   "source": [
    "**Step 3.** Finally a call-back stored value can be compared for consistency to with _parr[]_ decimal places"
   ],
   "metadata": {}
  },
  {
   "outputs": [
    {
     "name": "stdout",
     "output_type": "stream",
     "text": [
      "# SC +++++++++++ClimateMachine StateCheck ref val check start+++++++++++++++++\n",
      "# SC \"N( )\" bracketing indicates field failed to match      \n",
      "# SC \"P=\"  row pass count      \n",
      "# SC \"F=\"  row failure count   \n",
      "# SC \"NA=\" row not checked count      \n",
      "# SC \n",
      "# SC        Label         Field      min()      max()     mean()      std() \n",
      "# SC My gradients,       ν∇u[1],        19,        10,        19,         0 :: P=5, F=0, NA=1\n",
      "# SC My gradients,       ν∇u[2],        19,        10,        19,         0 :: P=5, F=0, NA=1\n",
      "# SC My gradients,       ν∇u[3],        19,        10,        19,         0 :: P=5, F=0, NA=1\n",
      "# SC My gradients,       ν∇u[4],        19,        10,        19,         0 :: P=5, F=0, NA=1\n",
      "# SC My gradients,       ν∇u[5],        19,        10,        19,         0 :: P=5, F=0, NA=1\n",
      "# SC My gradients,       ν∇u[6],        19,        10,        19,         0 :: P=5, F=0, NA=1\n",
      "# SC My gradients,       κ∇θ[1],        19,        19,        19,         0 :: P=5, F=0, NA=1\n",
      "# SC My gradients,       κ∇θ[2],        19,        19,        19,         0 :: P=5, F=0, NA=1\n",
      "# SC My gradients,       κ∇θ[3],        19,        19,        19,         0 :: P=5, F=0, NA=1\n",
      "# SC    My fields,         u[1],      N(1),      N(3),      N(3),         0 :: P=2, F=3, NA=1\n",
      "# SC    My fields,         u[2],      N(1),      N(3),      N(1),         0 :: P=2, F=3, NA=1\n",
      "# SC    My fields,         θ[1],      N(3),      N(4),      N(1),         0 :: P=2, F=3, NA=1\n",
      "# SC +++++++++++ClimateMachine StateCheck ref val check end+++++++++++++++++\n"
     ]
    }
   ],
   "cell_type": "code",
   "source": [
    "ClimateMachine.StateCheck.scdocheck(cb, (varr, parr))\n",
    "nothing # hide"
   ],
   "metadata": {},
   "execution_count": 9
  },
  {
   "cell_type": "markdown",
   "source": [
    "In this trivial case the match is guaranteed. The function will return _true_ to the calling\n",
    "routine and this can be passed to an `@test` block.\n",
    "\n",
    "However we can modify the reference test values to\n",
    "see the effect of a mismatch e.g."
   ],
   "metadata": {}
  },
  {
   "outputs": [
    {
     "name": "stdout",
     "output_type": "stream",
     "text": [
      "# SC +++++++++++ClimateMachine StateCheck ref val check start+++++++++++++++++\n",
      "# SC \"N( )\" bracketing indicates field failed to match      \n",
      "# SC \"P=\"  row pass count      \n",
      "# SC \"F=\"  row failure count   \n",
      "# SC \"NA=\" row not checked count      \n",
      "# SC \n",
      "# SC        Label         Field      min()      max()     mean()      std() \n",
      "# SC My gradients,       ν∇u[1],      N(0),        10,        19,         0 :: P=4, F=1, NA=1\n",
      "# SC My gradients,       ν∇u[2],        19,        10,        19,         0 :: P=5, F=0, NA=1\n",
      "# SC My gradients,       ν∇u[3],        19,        10,        19,         0 :: P=5, F=0, NA=1\n",
      "# SC My gradients,       ν∇u[4],        19,        10,        19,         0 :: P=5, F=0, NA=1\n",
      "# SC My gradients,       ν∇u[5],        19,        10,        19,         0 :: P=5, F=0, NA=1\n",
      "# SC My gradients,       ν∇u[6],        19,        10,        19,         0 :: P=5, F=0, NA=1\n",
      "# SC My gradients,       κ∇θ[1],        19,        19,        19,         0 :: P=5, F=0, NA=1\n",
      "# SC My gradients,       κ∇θ[2],        19,        19,        19,         0 :: P=5, F=0, NA=1\n",
      "# SC My gradients,       κ∇θ[3],        19,        19,        19,         0 :: P=5, F=0, NA=1\n",
      "# SC    My fields,         u[1],      N(1),      N(3),      N(3),         0 :: P=2, F=3, NA=1\n",
      "# SC    My fields,         u[2],      N(1),      N(3),      N(1),         0 :: P=2, F=3, NA=1\n",
      "# SC    My fields,         θ[1],      N(3),      N(4),      N(1),         0 :: P=2, F=3, NA=1\n",
      "# SC +++++++++++ClimateMachine StateCheck ref val check end+++++++++++++++++\n"
     ]
    }
   ],
   "cell_type": "code",
   "source": [
    "varr[1][3] = varr[1][3] * 10.0\n",
    "ClimateMachine.StateCheck.scdocheck(cb, (varr, parr))\n",
    "nothing # hide"
   ],
   "metadata": {},
   "execution_count": 10
  },
  {
   "cell_type": "markdown",
   "source": [
    "Here the mis-matching field is highlighted with _N(0)_ indicating that the precision\n",
    "was not met and actual match length was (in this case) 0. If any field fails the test returns false\n",
    "for use in any regression testing control logic."
   ],
   "metadata": {}
  },
  {
   "cell_type": "markdown",
   "source": [
    "---\n",
    "\n",
    "*This notebook was generated using [Literate.jl](https://github.com/fredrikekre/Literate.jl).*"
   ],
   "metadata": {}
  }
 ],
 "nbformat_minor": 3,
 "metadata": {
  "language_info": {
   "file_extension": ".jl",
   "mimetype": "application/julia",
   "name": "julia",
   "version": "1.5.2"
  },
  "kernelspec": {
   "name": "julia-1.5",
   "display_name": "Julia 1.5.2",
   "language": "julia"
  }
 },
 "nbformat": 4
}
