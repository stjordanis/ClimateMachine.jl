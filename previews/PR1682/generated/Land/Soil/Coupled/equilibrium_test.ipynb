{
 "cells": [
  {
   "cell_type": "markdown",
   "source": [
    "# Coupled heat and water equations tending towards equilibrium"
   ],
   "metadata": {}
  },
  {
   "cell_type": "markdown",
   "source": [
    "Other tutorials, such as the [soil heat tutorial](../Heat/bonan_heat_tutorial.md)\n",
    "and -link water tutorial here- demonstrate how to solve the heat\n",
    "equation or Richard's equation without considering\n",
    "dynamic interactions between the two. As an example, the user could\n",
    "prescribe a fixed function of space and time for the liquid water content,\n",
    "and use that to drive the heat equation, but without allowing the water\n",
    "content to dynamically evolve according to Richard's equation and without\n",
    "allowing the changing temperature of the soil to affect the water\n",
    "evolution."
   ],
   "metadata": {}
  },
  {
   "cell_type": "markdown",
   "source": [
    "Here we show how to solve the interacting heat and water equations,\n",
    "in sand, but without phase changes. This allows us to capture\n",
    "behavior that is not present in the decoupled equations."
   ],
   "metadata": {}
  },
  {
   "cell_type": "markdown",
   "source": [
    "The equations\n",
    "are:"
   ],
   "metadata": {}
  },
  {
   "cell_type": "markdown",
   "source": [
    "``\n",
    "\\frac{∂ ρe_{int}}{∂ t} =  ∇ ⋅ κ(θ_l, θ_i; ν, ...) ∇T + ∇ ⋅ ρe_{int_{liq}} K (T,θ_l, θ_i; ν, ...) \\nabla h( ϑ_l, z; ν, ...)\n",
    "``"
   ],
   "metadata": {}
  },
  {
   "cell_type": "markdown",
   "source": [
    "``\n",
    "\\frac{ ∂ ϑ_l}{∂ t} = ∇ ⋅ K (T,θ_l, θ_i; ν, ...) ∇h( ϑ_l, z; ν, ...).\n",
    "``"
   ],
   "metadata": {}
  },
  {
   "cell_type": "markdown",
   "source": [
    "Here"
   ],
   "metadata": {}
  },
  {
   "cell_type": "markdown",
   "source": [
    "``t`` is the time (s),"
   ],
   "metadata": {}
  },
  {
   "cell_type": "markdown",
   "source": [
    "``z`` is the location in the vertical (m),"
   ],
   "metadata": {}
  },
  {
   "cell_type": "markdown",
   "source": [
    "``ρe_{int}`` is the volumetric internal energy of the soil (J/m^3),"
   ],
   "metadata": {}
  },
  {
   "cell_type": "markdown",
   "source": [
    "``T`` is the temperature of the soil (K),"
   ],
   "metadata": {}
  },
  {
   "cell_type": "markdown",
   "source": [
    "``κ`` is the thermal conductivity (W/m/K),"
   ],
   "metadata": {}
  },
  {
   "cell_type": "markdown",
   "source": [
    "``ρe_{int_{liq}}`` is the volumetric internal energy of liquid water (J/m^3),"
   ],
   "metadata": {}
  },
  {
   "cell_type": "markdown",
   "source": [
    "``K`` is the hydraulic conductivity (m/s),"
   ],
   "metadata": {}
  },
  {
   "cell_type": "markdown",
   "source": [
    "``h`` is the hydraulic head (m),"
   ],
   "metadata": {}
  },
  {
   "cell_type": "markdown",
   "source": [
    "``ϑ_l`` is the augmented volumetric liquid water fraction,"
   ],
   "metadata": {}
  },
  {
   "cell_type": "markdown",
   "source": [
    "``θ_i`` is the volumetric ice fraction, and"
   ],
   "metadata": {}
  },
  {
   "cell_type": "markdown",
   "source": [
    "``ν, ...`` denotes parameters relating to soil type, such as porosity."
   ],
   "metadata": {}
  },
  {
   "cell_type": "markdown",
   "source": [
    "We will solve this equation in an effectively 1-d domain with ``z ∈ [-1,0]``,\n",
    "and with the following boundary and initial conditions:"
   ],
   "metadata": {}
  },
  {
   "cell_type": "markdown",
   "source": [
    "``- κ ∇T(t, z = 0) = 0 ẑ``"
   ],
   "metadata": {}
  },
  {
   "cell_type": "markdown",
   "source": [
    "`` -κ ∇T(t, z = -1) = 0 ẑ ``"
   ],
   "metadata": {}
  },
  {
   "cell_type": "markdown",
   "source": [
    "`` T(t = 0, z) = T_{min} + (T_{max}-T_{min}) e^{Cz}``"
   ],
   "metadata": {}
  },
  {
   "cell_type": "markdown",
   "source": [
    "``- K ∇h(t, z = 0) = 0 ẑ ``"
   ],
   "metadata": {}
  },
  {
   "cell_type": "markdown",
   "source": [
    "`` -K ∇h(t, z = -1) = 0 ẑ``"
   ],
   "metadata": {}
  },
  {
   "cell_type": "markdown",
   "source": [
    "`` ϑ(t = 0, z) = ϑ_{min} + (ϑ_{max}-ϑ_{min}) e^{Cz}, ``"
   ],
   "metadata": {}
  },
  {
   "cell_type": "markdown",
   "source": [
    "where ``C, T_{min}, T_{max}, ϑ_{min},`` and ``ϑ_{max}`` are\n",
    "constants."
   ],
   "metadata": {}
  },
  {
   "cell_type": "markdown",
   "source": [
    "If we evolve this system for times long compared to the dynamical timescales\n",
    "of the system, we expect it to reach an equilibrium where\n",
    "the LHS of these equations tends to zero.\n",
    "Assuming zero fluxes at the boundaries, the resulting equilibrium state\n",
    "should satisfy ``∂h/∂z = 0`` and ``∂T/∂z = 0``. Physically, this means that\n",
    "the water settles into a vertical profile in which\n",
    "the resulting pressure balances gravity and that the temperature\n",
    "is constant across the domain."
   ],
   "metadata": {}
  },
  {
   "cell_type": "markdown",
   "source": [
    " We verify that the system is approaching this equilibrium, and we also sketch out\n",
    "an analytic calculation for the final temperature in equilibrium."
   ],
   "metadata": {}
  },
  {
   "cell_type": "markdown",
   "source": [
    "# Import necessary modules\n",
    "External (non - CliMA) modules"
   ],
   "metadata": {}
  },
  {
   "outputs": [],
   "cell_type": "code",
   "source": [
    "using MPI\n",
    "using OrderedCollections\n",
    "using StaticArrays\n",
    "using Statistics\n",
    "using Plots"
   ],
   "metadata": {},
   "execution_count": 1
  },
  {
   "cell_type": "markdown",
   "source": [
    "CliMA Parameters"
   ],
   "metadata": {}
  },
  {
   "outputs": [],
   "cell_type": "code",
   "source": [
    "using CLIMAParameters\n",
    "using CLIMAParameters.Planet: ρ_cloud_liq, ρ_cloud_ice, cp_l, cp_i, T_0, LH_f0"
   ],
   "metadata": {},
   "execution_count": 2
  },
  {
   "cell_type": "markdown",
   "source": [
    "ClimateMachine modules"
   ],
   "metadata": {}
  },
  {
   "outputs": [],
   "cell_type": "code",
   "source": [
    "using ClimateMachine\n",
    "using ClimateMachine.Land\n",
    "using ClimateMachine.Land.SoilWaterParameterizations\n",
    "using ClimateMachine.Land.SoilHeatParameterizations\n",
    "using ClimateMachine.Mesh.Topologies\n",
    "using ClimateMachine.Mesh.Grids\n",
    "using ClimateMachine.Diagnostics\n",
    "using ClimateMachine.ConfigTypes\n",
    "using ClimateMachine.DGMethods\n",
    "using ClimateMachine.DGMethods.NumericalFluxes\n",
    "using ClimateMachine.DGMethods: BalanceLaw, LocalGeometry\n",
    "using ClimateMachine.MPIStateArrays\n",
    "using ClimateMachine.GenericCallbacks\n",
    "using ClimateMachine.ODESolvers\n",
    "using ClimateMachine.VariableTemplates\n",
    "using ClimateMachine.SingleStackUtils\n",
    "using ClimateMachine.BalanceLaws:\n",
    "    BalanceLaw, Prognostic, Auxiliary, Gradient, GradientFlux, vars_state"
   ],
   "metadata": {},
   "execution_count": 3
  },
  {
   "cell_type": "markdown",
   "source": [
    "# Preliminary set-up"
   ],
   "metadata": {}
  },
  {
   "cell_type": "markdown",
   "source": [
    "Get the parameter set, which holds constants used across CliMA models:"
   ],
   "metadata": {}
  },
  {
   "outputs": [],
   "cell_type": "code",
   "source": [
    "struct EarthParameterSet <: AbstractEarthParameterSet end\n",
    "const param_set = EarthParameterSet();"
   ],
   "metadata": {},
   "execution_count": 4
  },
  {
   "cell_type": "markdown",
   "source": [
    "Initialize and pick a floating point precision:"
   ],
   "metadata": {}
  },
  {
   "outputs": [],
   "cell_type": "code",
   "source": [
    "ClimateMachine.init()\n",
    "FT = Float64;"
   ],
   "metadata": {},
   "execution_count": 5
  },
  {
   "cell_type": "markdown",
   "source": [
    "Load a function that will interpolate output of simulation:"
   ],
   "metadata": {}
  },
  {
   "outputs": [],
   "cell_type": "code",
   "source": [
    "const clima_dir = dirname(dirname(pathof(ClimateMachine)));\n",
    "include(joinpath(\n",
    "    clima_dir,\n",
    "    \"tutorials\",\n",
    "    \"Land\",\n",
    "    \"Soil\",\n",
    "    \"interpolation_helper.jl\",\n",
    "));"
   ],
   "metadata": {},
   "execution_count": 6
  },
  {
   "cell_type": "markdown",
   "source": [
    "Set soil parameters to be consistent with sand.\n",
    "Please see e.g. the [soil heat tutorial](../Heat/bonan_heat_tutorial.md)\n",
    "for other soil type parameters, or [2]."
   ],
   "metadata": {}
  },
  {
   "cell_type": "markdown",
   "source": [
    "The porosity:"
   ],
   "metadata": {}
  },
  {
   "outputs": [],
   "cell_type": "code",
   "source": [
    "porosity = FT(0.395);"
   ],
   "metadata": {},
   "execution_count": 7
  },
  {
   "cell_type": "markdown",
   "source": [
    "Soil solids\n",
    "are the components of soil besides water, ice, gases, and air.\n",
    "We specify the soil component fractions, relative to all soil solids.\n",
    "These should sum to unity; they do not account for pore space."
   ],
   "metadata": {}
  },
  {
   "outputs": [],
   "cell_type": "code",
   "source": [
    "ν_ss_quartz = FT(0.92)\n",
    "ν_ss_minerals = FT(0.08)\n",
    "ν_ss_om = FT(0.0)\n",
    "ν_ss_gravel = FT(0.0);"
   ],
   "metadata": {},
   "execution_count": 8
  },
  {
   "cell_type": "markdown",
   "source": [
    "Other parameters include the hydraulic conductivity at saturation, the specific\n",
    "storage, and the van Genuchten parameters for sand.\n",
    "We recommend Chapter 8 of [1] for finding parameters\n",
    "for other soil types."
   ],
   "metadata": {}
  },
  {
   "outputs": [],
   "cell_type": "code",
   "source": [
    "Ksat = FT(4.42 / 3600 / 100) # m/s\n",
    "S_s = FT(1e-3) #inverse meters\n",
    "vg_n = FT(1.89)\n",
    "vg_α = FT(7.5); # inverse meters"
   ],
   "metadata": {},
   "execution_count": 9
  },
  {
   "cell_type": "markdown",
   "source": [
    "Other constants needed:"
   ],
   "metadata": {}
  },
  {
   "outputs": [],
   "cell_type": "code",
   "source": [
    "κ_quartz = FT(7.7) # W/m/K\n",
    "κ_minerals = FT(2.5) # W/m/K\n",
    "κ_om = FT(0.25) # W/m/K\n",
    "κ_liq = FT(0.57) # W/m/K\n",
    "κ_ice = FT(2.29); # W/m/K"
   ],
   "metadata": {},
   "execution_count": 10
  },
  {
   "cell_type": "markdown",
   "source": [
    "The particle density of organic material-free soil is\n",
    "equal to the particle density of quartz and other minerals [3]:"
   ],
   "metadata": {}
  },
  {
   "outputs": [],
   "cell_type": "code",
   "source": [
    "ρp = FT(2700); # kg/m^3"
   ],
   "metadata": {},
   "execution_count": 11
  },
  {
   "cell_type": "markdown",
   "source": [
    "We calculate the thermal conductivities for the solid material\n",
    "and for saturated soil. These functions are taken from Balland and Arp (2005) [3]."
   ],
   "metadata": {}
  },
  {
   "outputs": [],
   "cell_type": "code",
   "source": [
    "κ_solid = k_solid(ν_ss_om, ν_ss_quartz, κ_quartz, κ_minerals, κ_om)\n",
    "κ_sat_frozen = ksat_frozen(κ_solid, porosity, κ_ice)\n",
    "κ_sat_unfrozen = ksat_unfrozen(κ_solid, porosity, κ_liq);"
   ],
   "metadata": {},
   "execution_count": 12
  },
  {
   "cell_type": "markdown",
   "source": [
    "Next, we calculate the volumetric heat capacity of dry soil. Dry soil\n",
    "refers to soil that has no water content."
   ],
   "metadata": {}
  },
  {
   "outputs": [],
   "cell_type": "code",
   "source": [
    "ρc_ds = FT((1 - porosity) * 1.926e06); # J/m^3/K"
   ],
   "metadata": {},
   "execution_count": 13
  },
  {
   "cell_type": "markdown",
   "source": [
    "We collect the majority of the parameters needed\n",
    "for modeling heat and water flow in soil in `soil_param_functions`.\n",
    "The van Genuchten parameters are stored in the water model, in an object\n",
    "called `hydraulics`, however."
   ],
   "metadata": {}
  },
  {
   "outputs": [],
   "cell_type": "code",
   "source": [
    "soil_param_functions = SoilParamFunctions{FT}(\n",
    "    Ksat = Ksat,\n",
    "    S_s = S_s,\n",
    "    porosity = porosity,\n",
    "    ν_ss_gravel = ν_ss_gravel,\n",
    "    ν_ss_om = ν_ss_om,\n",
    "    ν_ss_quartz = ν_ss_quartz,\n",
    "    ρc_ds = ρc_ds,\n",
    "    ρp = ρp,\n",
    "    κ_solid = κ_solid,\n",
    "    κ_sat_unfrozen = κ_sat_unfrozen,\n",
    "    κ_sat_frozen = κ_sat_frozen,\n",
    ");"
   ],
   "metadata": {},
   "execution_count": 14
  },
  {
   "cell_type": "markdown",
   "source": [
    "# Initial and Boundary conditions"
   ],
   "metadata": {}
  },
  {
   "cell_type": "markdown",
   "source": [
    "The initial temperature profile:"
   ],
   "metadata": {}
  },
  {
   "outputs": [],
   "cell_type": "code",
   "source": [
    "function T_init(aux)\n",
    "    FT = eltype(aux)\n",
    "    zmax = FT(0)\n",
    "    zmin = FT(-1)\n",
    "    T_max = FT(289.0)\n",
    "    T_min = FT(288.0)\n",
    "    c = FT(20.0)\n",
    "    z = aux.z\n",
    "    output = T_min + (T_max - T_min) * exp(-(z - zmax) / (zmin - zmax) * c)\n",
    "    return output\n",
    "end;"
   ],
   "metadata": {},
   "execution_count": 15
  },
  {
   "cell_type": "markdown",
   "source": [
    "The initial water profile:"
   ],
   "metadata": {}
  },
  {
   "outputs": [],
   "cell_type": "code",
   "source": [
    "function ϑ_l0(aux)\n",
    "    FT = eltype(aux)\n",
    "    zmax = FT(0)\n",
    "    zmin = FT(-1)\n",
    "    theta_max = FT(porosity * 0.5)\n",
    "    theta_min = FT(porosity * 0.4)\n",
    "    c = FT(20.0)\n",
    "    z = aux.z\n",
    "    output =\n",
    "        theta_min +\n",
    "        (theta_max - theta_min) * exp(-(z - zmax) / (zmin - zmax) * c)\n",
    "    return output\n",
    "end;"
   ],
   "metadata": {},
   "execution_count": 16
  },
  {
   "cell_type": "markdown",
   "source": [
    "The boundary value problem in this case\n",
    "requires a boundary condition at the top and the bottom of the domain\n",
    "for each equation being solved. These conditions can be Dirichlet, or Neumann."
   ],
   "metadata": {}
  },
  {
   "cell_type": "markdown",
   "source": [
    "Dirichlet boundary conditions are on `ϑ_l` and\n",
    "`T`, while Neumann boundary conditions are on `-κ∇T` and `-K∇h`. For Neumann\n",
    "conditions, the user supplies a scalar, which is multiplied by `ẑ` within the code."
   ],
   "metadata": {}
  },
  {
   "cell_type": "markdown",
   "source": [
    "The user should set the unused fields to `nothing`\n",
    "to indicate that they do not want to supply a boundary condition of that type.\n",
    "For example, below we indicate that we are applying (and supplying!) Neumann\n",
    "conditions for each variable at the top and the bottom of the domain."
   ],
   "metadata": {}
  },
  {
   "cell_type": "markdown",
   "source": [
    "Water boundary conditions:"
   ],
   "metadata": {}
  },
  {
   "outputs": [],
   "cell_type": "code",
   "source": [
    "surface_water_flux = (aux, t) -> eltype(aux)(0.0)\n",
    "bottom_water_flux = (aux, t) -> eltype(aux)(0.0)\n",
    "surface_water_state = nothing\n",
    "bottom_water_state = nothing;"
   ],
   "metadata": {},
   "execution_count": 17
  },
  {
   "cell_type": "markdown",
   "source": [
    "As we are not including the equations for phase changes in this tutorial,\n",
    "we chose temperatures that are above the freezing point of water."
   ],
   "metadata": {}
  },
  {
   "cell_type": "markdown",
   "source": [
    "The boundary conditions for the heat equation:"
   ],
   "metadata": {}
  },
  {
   "outputs": [],
   "cell_type": "code",
   "source": [
    "surface_heat_flux = (aux, t) -> eltype(aux)(0.0)\n",
    "bottom_heat_flux = (aux, t) -> eltype(aux)(0.0)\n",
    "surface_heat_state = nothing\n",
    "bottom_heat_state = nothing;"
   ],
   "metadata": {},
   "execution_count": 18
  },
  {
   "cell_type": "markdown",
   "source": [
    "Next, we define the required `init_soil!` function, which takes the user\n",
    "specified functions of space for `T_init` and `ϑ_l0` and initializes the state\n",
    "variables of volumetric internal energy and augmented liquid fraction. This requires\n",
    "a conversion from `T` to `ρe_int`."
   ],
   "metadata": {}
  },
  {
   "outputs": [],
   "cell_type": "code",
   "source": [
    "function init_soil!(land, state, aux, localgeo, time)\n",
    "    myFT = eltype(state)\n",
    "    ϑ_l = myFT(land.soil.water.initialϑ_l(aux))\n",
    "    θ_i = myFT(land.soil.water.initialθ_i(aux))\n",
    "    state.soil.water.ϑ_l = ϑ_l\n",
    "    state.soil.water.θ_i = θ_i\n",
    "\n",
    "    θ_l = volumetric_liquid_fraction(ϑ_l, land.soil.param_functions.porosity)\n",
    "    ρc_ds = land.soil.param_functions.ρc_ds\n",
    "    ρc_s = volumetric_heat_capacity(θ_l, θ_i, ρc_ds, land.param_set)\n",
    "\n",
    "    state.soil.heat.ρe_int = volumetric_internal_energy(\n",
    "        θ_i,\n",
    "        ρc_s,\n",
    "        land.soil.heat.initialT(aux),\n",
    "        land.param_set,\n",
    "    )\n",
    "end;"
   ],
   "metadata": {},
   "execution_count": 19
  },
  {
   "cell_type": "markdown",
   "source": [
    "# Create the soil model structure\n",
    "First, for water (this is where the van Genuchten parameters\n",
    "are supplied):"
   ],
   "metadata": {}
  },
  {
   "outputs": [],
   "cell_type": "code",
   "source": [
    "soil_water_model = SoilWaterModel(\n",
    "    FT;\n",
    "    viscosity_factor = TemperatureDependentViscosity{FT}(),\n",
    "    moisture_factor = MoistureDependent{FT}(),\n",
    "    hydraulics = vanGenuchten{FT}(α = vg_α, n = vg_n),\n",
    "    initialϑ_l = ϑ_l0,\n",
    "    dirichlet_bc = Dirichlet(\n",
    "        surface_state = surface_water_state,\n",
    "        bottom_state = bottom_water_state,\n",
    "    ),\n",
    "    neumann_bc = Neumann(\n",
    "        surface_flux = surface_water_flux,\n",
    "        bottom_flux = bottom_water_flux,\n",
    "    ),\n",
    ");"
   ],
   "metadata": {},
   "execution_count": 20
  },
  {
   "cell_type": "markdown",
   "source": [
    "Note that the viscosity of water depends on temperature.\n",
    "We account for the effect that has on the hydraulic conductivity\n",
    "by specifying `viscosity_factor = TemperatureDependentViscosity{FT}()`.\n",
    "The default, if no `viscosity_factor` keyword argument is supplied,\n",
    "is to not include the effect of `T` on viscosity. More guidance about\n",
    "specifying the\n",
    "hydraulic conductivity, and the `hydraulics` model,\n",
    "can be found in the [`hydraulic functions`](../Water/hydraulic_functions.md)\n",
    "tutorial."
   ],
   "metadata": {}
  },
  {
   "cell_type": "markdown",
   "source": [
    "Repeat for heat:"
   ],
   "metadata": {}
  },
  {
   "outputs": [],
   "cell_type": "code",
   "source": [
    "soil_heat_model = SoilHeatModel(\n",
    "    FT;\n",
    "    initialT = T_init,\n",
    "    dirichlet_bc = Dirichlet(\n",
    "        surface_state = surface_heat_state,\n",
    "        bottom_state = bottom_heat_state,\n",
    "    ),\n",
    "    neumann_bc = Neumann(\n",
    "        surface_flux = surface_heat_flux,\n",
    "        bottom_flux = bottom_heat_flux,\n",
    "    ),\n",
    ");"
   ],
   "metadata": {},
   "execution_count": 21
  },
  {
   "cell_type": "markdown",
   "source": [
    "Combine into a single soil model:"
   ],
   "metadata": {}
  },
  {
   "outputs": [],
   "cell_type": "code",
   "source": [
    "m_soil = SoilModel(soil_param_functions, soil_water_model, soil_heat_model);"
   ],
   "metadata": {},
   "execution_count": 22
  },
  {
   "cell_type": "markdown",
   "source": [
    "We aren't using any sources or sinks in the equations here, but this is where\n",
    "freeze/thaw terms, runoff, root extraction, etc. would go."
   ],
   "metadata": {}
  },
  {
   "outputs": [],
   "cell_type": "code",
   "source": [
    "sources = ();"
   ],
   "metadata": {},
   "execution_count": 23
  },
  {
   "cell_type": "markdown",
   "source": [
    "Create the LandModel - without other components (canopy, carbon, etc):"
   ],
   "metadata": {}
  },
  {
   "outputs": [],
   "cell_type": "code",
   "source": [
    "m = LandModel(\n",
    "    param_set,\n",
    "    m_soil;\n",
    "    source = sources,\n",
    "    init_state_prognostic = init_soil!,\n",
    ");"
   ],
   "metadata": {},
   "execution_count": 24
  },
  {
   "cell_type": "markdown",
   "source": [
    "# Specify the numerical details\n",
    "Choose a resolution, domain boundaries, integration time,\n",
    "timestep, and ODE solver."
   ],
   "metadata": {}
  },
  {
   "outputs": [
    {
     "name": "stdout",
     "output_type": "stream",
     "text": [
      "┌ Info: Model composition\n",
      "│     param_set = Main.##367.EarthParameterSet()\n",
      "│     soil = ClimateMachine.Land.SoilModel{ClimateMachine.Land.SoilParamFunctions{Float64},ClimateMachine.Land.SoilWaterModel{Float64,ClimateMachine.Land.SoilWaterParameterizations.NoImpedance{Float64},ClimateMachine.Land.SoilWaterParameterizations.TemperatureDependentViscosity{Float64},ClimateMachine.Land.SoilWaterParameterizations.MoistureDependent{Float64},ClimateMachine.Land.SoilWaterParameterizations.vanGenuchten{Float64},typeof(Main.##367.ϑ_l0),ClimateMachine.Land.var\"#18#22\",ClimateMachine.Land.Dirichlet{Nothing,Nothing},ClimateMachine.Land.Neumann{Main.##367.var\"#1#2\",Main.##367.var\"#3#4\"}},ClimateMachine.Land.SoilHeatModel{Float64,typeof(Main.##367.T_init),ClimateMachine.Land.Dirichlet{Nothing,Nothing},ClimateMachine.Land.Neumann{Main.##367.var\"#5#6\",Main.##367.var\"#7#8\"}}}(ClimateMachine.Land.SoilParamFunctions{Float64}(0.395, 1.2277777777777777e-5, 0.001, 0.0, 0.0, 0.92, 1.16523e6, 2700.0, 7.037309762302548, 2.6076638236870164, 4.516645961171465, 0.24, 18.1, 0.053), ClimateMachine.Land.SoilWaterModel{Float64,ClimateMachine.Land.SoilWaterParameterizations.NoImpedance{Float64},ClimateMachine.Land.SoilWaterParameterizations.TemperatureDependentViscosity{Float64},ClimateMachine.Land.SoilWaterParameterizations.MoistureDependent{Float64},ClimateMachine.Land.SoilWaterParameterizations.vanGenuchten{Float64},typeof(Main.##367.ϑ_l0),ClimateMachine.Land.var\"#18#22\",ClimateMachine.Land.Dirichlet{Nothing,Nothing},ClimateMachine.Land.Neumann{Main.##367.var\"#1#2\",Main.##367.var\"#3#4\"}}(ClimateMachine.Land.SoilWaterParameterizations.NoImpedance{Float64}(), ClimateMachine.Land.SoilWaterParameterizations.TemperatureDependentViscosity{Float64}(0.0264, 288.0), ClimateMachine.Land.SoilWaterParameterizations.MoistureDependent{Float64}(), ClimateMachine.Land.SoilWaterParameterizations.vanGenuchten{Float64}(1.89, 7.5, 0.4708994708994708), Main.##367.ϑ_l0, ClimateMachine.Land.var\"#18#22\"(), ClimateMachine.Land.Dirichlet{Nothing,Nothing}(nothing, nothing), ClimateMachine.Land.Neumann{Main.##367.var\"#1#2\",Main.##367.var\"#3#4\"}(Main.##367.var\"#1#2\"(), Main.##367.var\"#3#4\"())), ClimateMachine.Land.SoilHeatModel{Float64,typeof(Main.##367.T_init),ClimateMachine.Land.Dirichlet{Nothing,Nothing},ClimateMachine.Land.Neumann{Main.##367.var\"#5#6\",Main.##367.var\"#7#8\"}}(Main.##367.T_init, ClimateMachine.Land.Dirichlet{Nothing,Nothing}(nothing, nothing), ClimateMachine.Land.Neumann{Main.##367.var\"#5#6\",Main.##367.var\"#7#8\"}(Main.##367.var\"#5#6\"(), Main.##367.var\"#7#8\"())))\n",
      "│     source = ()\n",
      "│     init_state_prognostic = init_soil!\n",
      "└ @ ClimateMachine /home/runner/work/ClimateMachine.jl/ClimateMachine.jl/src/Driver/driver_configs.jl:107\n",
      "┌ Info: Establishing single stack configuration for LandModel\n",
      "│     precision        = Float64\n",
      "│     polynomial order = 1\n",
      "│     domain_min       = 0.00 m x0.00 m x-1.00 m\n",
      "│     domain_max       = 1.00 m x1.00 m x0.00 m\n",
      "│     #vert elems      = 50\n",
      "│     MPI ranks        = 1\n",
      "│     min(Δ_horz)      = 1.00 m\n",
      "│     min(Δ_vert)      = 0.02 m\n",
      "└ @ ClimateMachine /home/runner/work/ClimateMachine.jl/ClimateMachine.jl/src/Driver/driver_configs.jl:543\n",
      "┌ Info: Initializing LandModel\n",
      "└ @ ClimateMachine /home/runner/work/ClimateMachine.jl/ClimateMachine.jl/src/Driver/solver_configs.jl:161\n"
     ]
    }
   ],
   "cell_type": "code",
   "source": [
    "N_poly = 1\n",
    "nelem_vert = 50\n",
    "zmin = FT(-1)\n",
    "zmax = FT(0)\n",
    "\n",
    "driver_config = ClimateMachine.SingleStackConfiguration(\n",
    "    \"LandModel\",\n",
    "    N_poly,\n",
    "    nelem_vert,\n",
    "    zmax,\n",
    "    param_set,\n",
    "    m;\n",
    "    zmin = zmin,\n",
    "    numerical_flux_first_order = CentralNumericalFluxFirstOrder(),\n",
    ")\n",
    "\n",
    "t0 = FT(0)\n",
    "timeend = FT(60 * 60 * 72)\n",
    "dt = FT(30.0)\n",
    "\n",
    "\n",
    "solver_config =\n",
    "    ClimateMachine.SolverConfiguration(t0, timeend, driver_config, ode_dt = dt);"
   ],
   "metadata": {},
   "execution_count": 25
  },
  {
   "cell_type": "markdown",
   "source": [
    "Determine how often you want output:"
   ],
   "metadata": {}
  },
  {
   "outputs": [],
   "cell_type": "code",
   "source": [
    "const n_outputs = 4\n",
    "const every_x_simulation_time = ceil(Int, timeend / n_outputs);"
   ],
   "metadata": {},
   "execution_count": 26
  },
  {
   "cell_type": "markdown",
   "source": [
    "Create a place to store this output, and determine which indices in the state\n",
    "vector correspond to the variables we are interested in:"
   ],
   "metadata": {}
  },
  {
   "outputs": [],
   "cell_type": "code",
   "source": [
    "all_data = Dict([k => Dict() for k in 1:n_outputs]...)\n",
    "\n",
    "K∇h_vert_ind = varsindex(vars_state(m, GradientFlux(), FT), :soil, :water)[3]\n",
    "κ∇T_vert_ind = varsindex(vars_state(m, GradientFlux(), FT), :soil, :heat)[3]\n",
    "ϑ_l_ind = varsindex(vars_state(m, Prognostic(), FT), :soil, :water, :ϑ_l)\n",
    "T_ind = varsindex(vars_state(m, Auxiliary(), FT), :soil, :heat, :T)\n",
    "z_ind = varsindex(vars_state(m, Auxiliary(), FT), :z)\n",
    "\n",
    "t = ODESolvers.gettime(solver_config.solver)\n",
    "thegrid = solver_config.dg.grid\n",
    "Q = solver_config.Q;\n",
    "aux = solver_config.dg.state_auxiliary;\n",
    "grads = solver_config.dg.state_gradient_flux\n",
    "ϑ_l = Q[:, ϑ_l_ind, :][:]\n",
    "z = aux[:, z_ind, :][:]\n",
    "T = aux[:, T_ind, :][:];"
   ],
   "metadata": {},
   "execution_count": 27
  },
  {
   "cell_type": "markdown",
   "source": [
    "Gradients aren't calculated until the integration starts; we would\n",
    "need to use the specified inital conditions to determine them. However,\n",
    "we care more about showing that they tend to zero over time, as the system\n",
    "approaches equlibrium, so we won't calculate them."
   ],
   "metadata": {}
  },
  {
   "cell_type": "markdown",
   "source": [
    "Save initial condition:"
   ],
   "metadata": {}
  },
  {
   "outputs": [],
   "cell_type": "code",
   "source": [
    "initial_state = Dict{String, Array}(\n",
    "    \"t\" => [t],\n",
    "    \"ϑ_l\" => ϑ_l,\n",
    "    \"T\" => T,\n",
    "    \"K∇h_vert\" => [nothing],\n",
    "    \"κ∇T_vert\" => [nothing],\n",
    ");"
   ],
   "metadata": {},
   "execution_count": 28
  },
  {
   "cell_type": "markdown",
   "source": [
    "We specify a function which evaluates `every_x_simulation_time` and returns\n",
    "the state vector, appending the variables we are interested in into\n",
    "`all_data`."
   ],
   "metadata": {}
  },
  {
   "cell_type": "markdown",
   "source": [
    "We also create an additional cartesian grid upon which an interpolated solution\n",
    "of the DG output is evaluated. This is useful because the DG output is multi-valued\n",
    "at element boundaries."
   ],
   "metadata": {}
  },
  {
   "outputs": [],
   "cell_type": "code",
   "source": [
    "zres = FT(0.02)\n",
    "boundaries = [\n",
    "    FT(0) FT(0) zmin\n",
    "    FT(1) FT(1) zmax\n",
    "]\n",
    "resolution = (FT(2), FT(2), zres)\n",
    "thegrid = solver_config.dg.grid\n",
    "intrp_brck = create_interpolation_grid(boundaries, resolution, thegrid)\n",
    "step = [1];\n",
    "callback = GenericCallbacks.EveryXSimulationTime(\n",
    "    every_x_simulation_time,\n",
    ") do (init = false)\n",
    "    t = ODESolvers.gettime(solver_config.solver)\n",
    "    iQ, iaux, igrads = interpolate_variables((Q, aux, grads), intrp_brck)\n",
    "    ϑ_l = iQ[:, ϑ_l_ind, :][:]\n",
    "    T = iaux[:, T_ind, :][:]\n",
    "    K∇h_vert = igrads[:, K∇h_vert_ind, :][:]\n",
    "    κ∇T_vert = igrads[:, κ∇T_vert_ind, :][:]\n",
    "    all_vars = Dict{String, Array}(\n",
    "        \"t\" => [t],\n",
    "        \"ϑ_l\" => ϑ_l,\n",
    "        \"T\" => T,\n",
    "        \"K∇h_vert\" => K∇h_vert,\n",
    "        \"κ∇T_vert\" => κ∇T_vert,\n",
    "    )\n",
    "    all_data[step[1]] = all_vars\n",
    "\n",
    "    step[1] += 1\n",
    "    nothing\n",
    "end;"
   ],
   "metadata": {},
   "execution_count": 29
  },
  {
   "cell_type": "markdown",
   "source": [
    "# Run the integration"
   ],
   "metadata": {}
  },
  {
   "outputs": [
    {
     "name": "stdout",
     "output_type": "stream",
     "text": [
      "┌ Info: Starting LandModel\n",
      "│     dt              = 3.00000e+01\n",
      "│     timeend         = 259200.00\n",
      "│     number of steps = 8640\n",
      "│     norm(Q)         = 2.7324714577227090e+07\n",
      "└ @ ClimateMachine /home/runner/work/ClimateMachine.jl/ClimateMachine.jl/src/Driver/Driver.jl:675\n",
      "┌ Info: Update\n",
      "│     simtime = 248820.00 / 259200.00\n",
      "│     runtime = 00:01:00\n",
      "│     norm(Q) = 2.7365990374002095e+07\n",
      "└ @ ClimateMachine.Callbacks /home/runner/work/ClimateMachine.jl/ClimateMachine.jl/src/Driver/Callbacks/Callbacks.jl:61\n",
      "┌ Info: Finished\n",
      "│     norm(Q)            = 2.7369613412716873e+07\n",
      "│     norm(Q) / norm(Q₀) = 1.0016431584440850e+00\n",
      "│     norm(Q) - norm(Q₀) = 4.4898835489783436e+04\n",
      "└ @ ClimateMachine /home/runner/work/ClimateMachine.jl/ClimateMachine.jl/src/Driver/Driver.jl:713\n"
     ]
    }
   ],
   "cell_type": "code",
   "source": [
    "ClimateMachine.invoke!(solver_config; user_callbacks = (callback,));"
   ],
   "metadata": {},
   "execution_count": 30
  },
  {
   "cell_type": "markdown",
   "source": [
    "Get the final state and create plots:"
   ],
   "metadata": {}
  },
  {
   "outputs": [],
   "cell_type": "code",
   "source": [
    "t = ODESolvers.gettime(solver_config.solver)\n",
    "iQ, iaux, igrads = interpolate_variables((Q, aux, grads), intrp_brck)\n",
    "\n",
    "ϑ_l = iQ[:, ϑ_l_ind, :][:]\n",
    "T = iaux[:, T_ind, :][:]\n",
    "K∇h_vert = igrads[:, K∇h_vert_ind, :][:]\n",
    "κ∇T_vert = igrads[:, κ∇T_vert_ind, :][:]\n",
    "all_vars = Dict{String, Array}(\n",
    "    \"t\" => [t],\n",
    "    \"ϑ_l\" => ϑ_l,\n",
    "    \"T\" => T,\n",
    "    \"K∇h_vert\" => K∇h_vert,\n",
    "    \"κ∇T_vert\" => κ∇T_vert,\n",
    ")\n",
    "all_data[n_outputs] = all_vars\n",
    "iz = iaux[:, z_ind, :][:]\n",
    "\n",
    "t = [all_data[k][\"t\"][1] for k in 1:n_outputs]\n",
    "t = ceil.(Int64, t ./ 60)\n",
    "\n",
    "ϑ_plot =\n",
    "    plot(initial_state[\"ϑ_l\"], z, label = \"t = 0\", ylabel = \"z\", xlabel = \"ϑ_l\")\n",
    "plot!(all_data[1][\"ϑ_l\"], iz, label = \"t = 0.75 days\")\n",
    "plot!(all_data[2][\"ϑ_l\"], iz, label = \"t = 1.5 days\")\n",
    "plot!(all_data[3][\"ϑ_l\"], iz, label = \"t = 2.25 days\")\n",
    "plot!(all_data[4][\"ϑ_l\"], iz, label = \"t = 3 days\")\n",
    "\n",
    "\n",
    "K∇h_z_plot = plot(\n",
    "    all_data[1][\"K∇h_vert\"],\n",
    "    iz,\n",
    "    label = \"0.75 days\",\n",
    "    xlabel = \"K∇h_z (m/s)\",\n",
    ")\n",
    "plot!(all_data[2][\"K∇h_vert\"], iz, label = \"1.5 days\")\n",
    "plot!(all_data[3][\"K∇h_vert\"], iz, label = \"2.25 days\")\n",
    "plot!(all_data[4][\"K∇h_vert\"], iz, label = \"3 days\")\n",
    "plot!(legend = :bottomleft)\n",
    "plot(ϑ_plot, K∇h_z_plot)\n",
    "savefig(\"eq_moisture_plot.png\")"
   ],
   "metadata": {},
   "execution_count": 31
  },
  {
   "cell_type": "markdown",
   "source": [
    "![](eq_moisture_plot.png)"
   ],
   "metadata": {}
  },
  {
   "outputs": [],
   "cell_type": "code",
   "source": [
    "T_plot =\n",
    "    plot(initial_state[\"T\"], z, label = \"t = 0\", ylabel = \"z\", xlabel = \"T (K)\")\n",
    "plot!(all_data[1][\"T\"], iz, label = \"t = 0.75 days\")\n",
    "plot!(all_data[2][\"T\"], iz, label = \"t = 1.5 days\")\n",
    "plot!(all_data[3][\"T\"], iz, label = \"t = 2.25 days\")\n",
    "plot!(all_data[4][\"T\"], iz, label = \"t = 3 days\")\n",
    "plot!(legend = :bottomright)\n",
    "\n",
    "κ∇T_z_plot = plot(\n",
    "    all_data[1][\"κ∇T_vert\"],\n",
    "    iz,\n",
    "    label = \"0.75 days\",\n",
    "    xlabel = \"κ∇T_z (W/m^2)\",\n",
    ")\n",
    "plot!(all_data[2][\"κ∇T_vert\"], iz, label = \"1.5 days\")\n",
    "plot!(all_data[3][\"κ∇T_vert\"], iz, label = \"2.25 days\")\n",
    "plot!(all_data[4][\"κ∇T_vert\"], iz, label = \"3 days\")\n",
    "plot!(legend = :bottomright)\n",
    "plot(T_plot, κ∇T_z_plot)\n",
    "savefig(\"eq_temperature_plot.png\")"
   ],
   "metadata": {},
   "execution_count": 32
  },
  {
   "cell_type": "markdown",
   "source": [
    "![](eq_temperature_plot.png)"
   ],
   "metadata": {}
  },
  {
   "cell_type": "markdown",
   "source": [
    "# Analytic Expectations"
   ],
   "metadata": {}
  },
  {
   "cell_type": "markdown",
   "source": [
    "We can determine a priori what we expect the final temperature to be in\n",
    "equilibrium."
   ],
   "metadata": {}
  },
  {
   "cell_type": "markdown",
   "source": [
    "Regardless of the final water profile in equilibrium, we know that\n",
    "the final temperature `T_f` will be a constant across the domain. All\n",
    "water that began with a temperature above this point will cool to `T_f`,\n",
    "and water that began with a temperature below this point will warm to\n",
    "`T_f`. The initial function `T(z)` is equal to `T_f` at a value of\n",
    "`z = z̃`. This is the location in space which divides these two groups\n",
    "(water that warms over time and water that cools over time) spatially.\n",
    "We can solve for `z̃(T_f)` using `T_f = T(z̃)`."
   ],
   "metadata": {}
  },
  {
   "cell_type": "markdown",
   "source": [
    "Next, we can determine the change in energy required to cool\n",
    "the water above `z̃` to `T_f`: it is the integral from `z̃` to the surface\n",
    "at `z = 0` of ` c θ(z) T(z) `, where `c` is the volumetric heat capacity -\n",
    "a constant here - and `θ(z)` is the initial water profile. Compute the energy\n",
    "required to warm the water below `z̃` to `T_f` in a similar way, set equal, and solve\n",
    "for `T_f`. This results in `T_f = 288.056`, which is very close to the mean `T` we observe\n",
    "after 3 days, of `288.054`."
   ],
   "metadata": {}
  },
  {
   "cell_type": "markdown",
   "source": [
    "One could also solve the ordinary differential equation for `ϑ_l` specified by\n",
    "``∂ h/∂ z = 0`` to determine the functional form of the\n",
    "equilibrium profile of the liquid water."
   ],
   "metadata": {}
  },
  {
   "cell_type": "markdown",
   "source": [
    "# References"
   ],
   "metadata": {}
  },
  {
   "cell_type": "markdown",
   "source": [
    "[1] Bonan, G. Climate Change and Terrestrial Ecosystem Modeling (2019),\n",
    "Cambridge University Press"
   ],
   "metadata": {}
  },
  {
   "cell_type": "markdown",
   "source": [
    "[2] Cosby, B. J., Hornberger, G. M., Clapp, R. B., and Ginn, T. R. (1984).\n",
    "A statistical exploration of the relationships of soil moisture\n",
    "characteristics to the physical properties of soils. Water Resources\n",
    "Research, 20, 682–690."
   ],
   "metadata": {}
  },
  {
   "cell_type": "markdown",
   "source": [
    "[3] Balland and Arp (2005) Modeling soil thermal conductivities over a wide\n",
    "range of conditions, J. Env. Eng. Sci., 4, 549–558."
   ],
   "metadata": {}
  },
  {
   "cell_type": "markdown",
   "source": [
    "---\n",
    "\n",
    "*This notebook was generated using [Literate.jl](https://github.com/fredrikekre/Literate.jl).*"
   ],
   "metadata": {}
  }
 ],
 "nbformat_minor": 3,
 "metadata": {
  "language_info": {
   "file_extension": ".jl",
   "mimetype": "application/julia",
   "name": "julia",
   "version": "1.5.2"
  },
  "kernelspec": {
   "name": "julia-1.5",
   "display_name": "Julia 1.5.2",
   "language": "julia"
  }
 },
 "nbformat": 4
}
