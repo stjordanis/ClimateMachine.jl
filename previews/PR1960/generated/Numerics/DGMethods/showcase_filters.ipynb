{
 "cells": [
  {
   "cell_type": "markdown",
   "source": [
    "# Filters\n",
    "In this tutorial we show the result of applying filters\n",
    "available in the CliMA codebase in a 1 dimensional box advection setup.\n",
    "See [Filters API](https://clima.github.io/ClimateMachine.jl/latest/APIs/Numerics/Meshes/Mesh/#Filters-1) for filters interface details."
   ],
   "metadata": {}
  },
  {
   "outputs": [],
   "cell_type": "code",
   "source": [
    "using ClimateMachine\n",
    "const clima_dir = dirname(dirname(pathof(ClimateMachine)));\n",
    "include(joinpath(clima_dir, \"tutorials\", \"Numerics\", \"DGMethods\", \"Box1D.jl\"))\n",
    "\n",
    "const FT = Float64\n",
    "\n",
    "output_dir = @__DIR__;\n",
    "mkpath(output_dir);"
   ],
   "metadata": {},
   "execution_count": 1
  },
  {
   "cell_type": "markdown",
   "source": [
    "The unfiltered result of the box advection test for order 4 polynomial with\n",
    "central flux is"
   ],
   "metadata": {}
  },
  {
   "outputs": [
    {
     "name": "stdout",
     "output_type": "stream",
     "text": [
      "ClimateMachine.array_type() = Array\n",
      "┌ Info: Model composition\n",
      "│     param_set = Main.##372.EarthParameterSet()\n",
      "│     init_q = 0.0\n",
      "│     amplitude = 1.0\n",
      "│     velo = 1.0\n",
      "└ @ ClimateMachine /central/scratch/climaci/climatemachine-docs/664/climatemachine-docs/src/Driver/driver_configs.jl:163\n",
      "┌ Info: Defining `prognostic_vars` and\n",
      "│ `eq_tends` for Box1D will\n",
      "│ enable printing a table of tendencies.\n",
      "└ @ ClimateMachine.BalanceLaws /central/scratch/climaci/climatemachine-docs/664/climatemachine-docs/src/BalanceLaws/show_tendencies.jl:62\n",
      "┌ Info: Establishing single stack configuration for Box1D\n",
      "│     precision               = Float64\n",
      "│     horiz polynomial order  = 4\n",
      "│     vert polynomial order   = 4\n",
      "│     domain_min              = 0.00 m, 0.00 m, 0.00 m\n",
      "│     domain_max              = 1.00 m, 1.00 m, 350.00 m\n",
      "│     # vert elems            = 128\n",
      "│     MPI ranks               = 1\n",
      "│     min(Δ_horz)             = 0.17 m\n",
      "│     min(Δ_vert)             = 0.47 m\n",
      "└ @ ClimateMachine /central/scratch/climaci/climatemachine-docs/664/climatemachine-docs/src/Driver/driver_configs.jl:553\n",
      "┌ Info: Initializing Box1D\n",
      "└ @ ClimateMachine /central/scratch/climaci/climatemachine-docs/664/climatemachine-docs/src/Driver/solver_configs.jl:167\n",
      "┌ Info: Starting Box1D\n",
      "│     dt              = 4.71698e-01\n",
      "│     timeend         =   450.00\n",
      "│     number of steps = 954\n",
      "│     norm(Q)         = 7.0845587175365115e+00\n",
      "└ @ ClimateMachine /central/scratch/climaci/climatemachine-docs/664/climatemachine-docs/src/Driver/Driver.jl:746\n",
      "┌ Info: Finished\n",
      "│     norm(Q)            = 7.0629054001769553e+00\n",
      "│     norm(Q) / norm(Q₀) = 9.9694358982360365e-01\n",
      "│     norm(Q) - norm(Q₀) = -2.1653317359556112e-02\n",
      "└ @ ClimateMachine /central/scratch/climaci/climatemachine-docs/664/climatemachine-docs/src/Driver/Driver.jl:784\n",
      "┌ Info: Mass Conservation:\n",
      "│     initial mass          = 5.0190972222222605e+01\n",
      "│     final mass            = 5.0190972222224218e+01\n",
      "│     difference            = 1.6129320101754274e-12\n",
      "│     normalized difference = 3.2135898922900007e-14\n",
      "└ @ Main.##372 /central/scratch/climaci/climatemachine-docs/664/climatemachine-docs/tutorials/Numerics/DGMethods/Box1D.jl:276\n"
     ]
    }
   ],
   "cell_type": "code",
   "source": [
    "run_box1D(\n",
    "    4,\n",
    "    FT(0.0),\n",
    "    FT(1.0),\n",
    "    FT(1.0),\n",
    "    joinpath(output_dir, \"box_1D_4_no_filter.svg\"),\n",
    ")"
   ],
   "metadata": {},
   "execution_count": 2
  },
  {
   "cell_type": "markdown",
   "source": [
    "![](box_1D_4_no_filter.svg)"
   ],
   "metadata": {}
  },
  {
   "cell_type": "markdown",
   "source": [
    "The unfiltered result of the box advection test for order 4 polynomial with\n",
    "Rusanov flux (aka upwinding for advection) is"
   ],
   "metadata": {}
  },
  {
   "outputs": [
    {
     "name": "stdout",
     "output_type": "stream",
     "text": [
      "ClimateMachine.array_type() = Array\n",
      "┌ Info: Model composition\n",
      "│     param_set = Main.##372.EarthParameterSet()\n",
      "│     init_q = 0.0\n",
      "│     amplitude = 1.0\n",
      "│     velo = 1.0\n",
      "└ @ ClimateMachine /central/scratch/climaci/climatemachine-docs/664/climatemachine-docs/src/Driver/driver_configs.jl:163\n",
      "┌ Info: Defining `prognostic_vars` and\n",
      "│ `eq_tends` for Box1D will\n",
      "│ enable printing a table of tendencies.\n",
      "└ @ ClimateMachine.BalanceLaws /central/scratch/climaci/climatemachine-docs/664/climatemachine-docs/src/BalanceLaws/show_tendencies.jl:62\n",
      "┌ Info: Establishing single stack configuration for Box1D\n",
      "│     precision               = Float64\n",
      "│     horiz polynomial order  = 4\n",
      "│     vert polynomial order   = 4\n",
      "│     domain_min              = 0.00 m, 0.00 m, 0.00 m\n",
      "│     domain_max              = 1.00 m, 1.00 m, 350.00 m\n",
      "│     # vert elems            = 128\n",
      "│     MPI ranks               = 1\n",
      "│     min(Δ_horz)             = 0.17 m\n",
      "│     min(Δ_vert)             = 0.47 m\n",
      "└ @ ClimateMachine /central/scratch/climaci/climatemachine-docs/664/climatemachine-docs/src/Driver/driver_configs.jl:553\n",
      "┌ Info: Initializing Box1D\n",
      "└ @ ClimateMachine /central/scratch/climaci/climatemachine-docs/664/climatemachine-docs/src/Driver/solver_configs.jl:167\n",
      "┌ Info: Starting Box1D\n",
      "│     dt              = 4.71698e-01\n",
      "│     timeend         =   450.00\n",
      "│     number of steps = 954\n",
      "│     norm(Q)         = 7.0845587175365115e+00\n",
      "└ @ ClimateMachine /central/scratch/climaci/climatemachine-docs/664/climatemachine-docs/src/Driver/Driver.jl:746\n",
      "┌ Info: Finished\n",
      "│     norm(Q)            = 7.0513534001494440e+00\n",
      "│     norm(Q) / norm(Q₀) = 9.9531300131582312e-01\n",
      "│     norm(Q) - norm(Q₀) = -3.3205317387067446e-02\n",
      "└ @ ClimateMachine /central/scratch/climaci/climatemachine-docs/664/climatemachine-docs/src/Driver/Driver.jl:784\n",
      "┌ Info: Mass Conservation:\n",
      "│     initial mass          = 5.0190972222222605e+01\n",
      "│     final mass            = 5.0190972222224502e+01\n",
      "│     difference            = 1.8971491044794675e-12\n",
      "│     normalized difference = 3.7798612389490313e-14\n",
      "└ @ Main.##372 /central/scratch/climaci/climatemachine-docs/664/climatemachine-docs/tutorials/Numerics/DGMethods/Box1D.jl:276\n"
     ]
    }
   ],
   "cell_type": "code",
   "source": [
    "run_box1D(\n",
    "    4,\n",
    "    FT(0.0),\n",
    "    FT(1.0),\n",
    "    FT(1.0),\n",
    "    joinpath(output_dir, \"box_1D_4_no_filter_upwind.svg\"),\n",
    "    numerical_flux_first_order = RusanovNumericalFlux(),\n",
    ")"
   ],
   "metadata": {},
   "execution_count": 3
  },
  {
   "cell_type": "markdown",
   "source": [
    "![](box_1D_4_no_filter_upwind.svg)"
   ],
   "metadata": {}
  },
  {
   "cell_type": "markdown",
   "source": [
    "Below we show results for the same box advection test\n",
    "but using different filters.\n",
    "\n",
    "As seen in the results, when the TMAR filter is used mass is not necessarily\n",
    "conserved (mass increases are possible)."
   ],
   "metadata": {}
  },
  {
   "cell_type": "markdown",
   "source": [
    "`TMARFilter()` with central numerical flux:"
   ],
   "metadata": {}
  },
  {
   "outputs": [
    {
     "name": "stdout",
     "output_type": "stream",
     "text": [
      "ClimateMachine.array_type() = Array\n",
      "┌ Info: Model composition\n",
      "│     param_set = Main.##372.EarthParameterSet()\n",
      "│     init_q = 0.0\n",
      "│     amplitude = 1.0\n",
      "│     velo = 1.0\n",
      "└ @ ClimateMachine /central/scratch/climaci/climatemachine-docs/664/climatemachine-docs/src/Driver/driver_configs.jl:163\n",
      "┌ Info: Defining `prognostic_vars` and\n",
      "│ `eq_tends` for Box1D will\n",
      "│ enable printing a table of tendencies.\n",
      "└ @ ClimateMachine.BalanceLaws /central/scratch/climaci/climatemachine-docs/664/climatemachine-docs/src/BalanceLaws/show_tendencies.jl:62\n",
      "┌ Info: Establishing single stack configuration for Box1D\n",
      "│     precision               = Float64\n",
      "│     horiz polynomial order  = 4\n",
      "│     vert polynomial order   = 4\n",
      "│     domain_min              = 0.00 m, 0.00 m, 0.00 m\n",
      "│     domain_max              = 1.00 m, 1.00 m, 350.00 m\n",
      "│     # vert elems            = 128\n",
      "│     MPI ranks               = 1\n",
      "│     min(Δ_horz)             = 0.17 m\n",
      "│     min(Δ_vert)             = 0.47 m\n",
      "└ @ ClimateMachine /central/scratch/climaci/climatemachine-docs/664/climatemachine-docs/src/Driver/driver_configs.jl:553\n",
      "┌ Info: Initializing Box1D\n",
      "└ @ ClimateMachine /central/scratch/climaci/climatemachine-docs/664/climatemachine-docs/src/Driver/solver_configs.jl:167\n",
      "┌ Info: Starting Box1D\n",
      "│     dt              = 4.71698e-01\n",
      "│     timeend         =   450.00\n",
      "│     number of steps = 954\n",
      "│     norm(Q)         = 7.0845587175365115e+00\n",
      "└ @ ClimateMachine /central/scratch/climaci/climatemachine-docs/664/climatemachine-docs/src/Driver/Driver.jl:746\n",
      "┌ Info: Finished\n",
      "│     norm(Q)            = 7.0284834766751603e+00\n",
      "│     norm(Q) / norm(Q₀) = 9.9208486468994217e-01\n",
      "│     norm(Q) - norm(Q₀) = -5.6075240861351183e-02\n",
      "└ @ ClimateMachine /central/scratch/climaci/climatemachine-docs/664/climatemachine-docs/src/Driver/Driver.jl:784\n",
      "┌ Info: Mass Conservation:\n",
      "│     initial mass          = 5.0190972222222605e+01\n",
      "│     final mass            = 5.0273717773327995e+01\n",
      "│     difference            = 8.2745551105389836e-02\n",
      "│     normalized difference = 1.6486142316397157e-03\n",
      "└ @ Main.##372 /central/scratch/climaci/climatemachine-docs/664/climatemachine-docs/tutorials/Numerics/DGMethods/Box1D.jl:276\n"
     ]
    }
   ],
   "cell_type": "code",
   "source": [
    "run_box1D(\n",
    "    4,\n",
    "    FT(0.0),\n",
    "    FT(1.0),\n",
    "    FT(1.0),\n",
    "    joinpath(output_dir, \"box_1D_4_tmar.svg\");\n",
    "    tmar_filter = true,\n",
    ")"
   ],
   "metadata": {},
   "execution_count": 4
  },
  {
   "cell_type": "markdown",
   "source": [
    "![](box_1D_4_tmar.svg)"
   ],
   "metadata": {}
  },
  {
   "cell_type": "markdown",
   "source": [
    "Running the TMAR filter with Rusanov the mass conservation since some of the\n",
    "are reduced, but mass is still not conserved.\n",
    "`TMARFilter()` with Rusanov numerical flux:"
   ],
   "metadata": {}
  },
  {
   "outputs": [
    {
     "name": "stdout",
     "output_type": "stream",
     "text": [
      "ClimateMachine.array_type() = Array\n",
      "┌ Info: Model composition\n",
      "│     param_set = Main.##372.EarthParameterSet()\n",
      "│     init_q = 0.0\n",
      "│     amplitude = 1.0\n",
      "│     velo = 1.0\n",
      "└ @ ClimateMachine /central/scratch/climaci/climatemachine-docs/664/climatemachine-docs/src/Driver/driver_configs.jl:163\n",
      "┌ Info: Defining `prognostic_vars` and\n",
      "│ `eq_tends` for Box1D will\n",
      "│ enable printing a table of tendencies.\n",
      "└ @ ClimateMachine.BalanceLaws /central/scratch/climaci/climatemachine-docs/664/climatemachine-docs/src/BalanceLaws/show_tendencies.jl:62\n",
      "┌ Info: Establishing single stack configuration for Box1D\n",
      "│     precision               = Float64\n",
      "│     horiz polynomial order  = 4\n",
      "│     vert polynomial order   = 4\n",
      "│     domain_min              = 0.00 m, 0.00 m, 0.00 m\n",
      "│     domain_max              = 1.00 m, 1.00 m, 350.00 m\n",
      "│     # vert elems            = 128\n",
      "│     MPI ranks               = 1\n",
      "│     min(Δ_horz)             = 0.17 m\n",
      "│     min(Δ_vert)             = 0.47 m\n",
      "└ @ ClimateMachine /central/scratch/climaci/climatemachine-docs/664/climatemachine-docs/src/Driver/driver_configs.jl:553\n",
      "┌ Info: Initializing Box1D\n",
      "└ @ ClimateMachine /central/scratch/climaci/climatemachine-docs/664/climatemachine-docs/src/Driver/solver_configs.jl:167\n",
      "┌ Info: Starting Box1D\n",
      "│     dt              = 4.71698e-01\n",
      "│     timeend         =   450.00\n",
      "│     number of steps = 954\n",
      "│     norm(Q)         = 7.0845587175365115e+00\n",
      "└ @ ClimateMachine /central/scratch/climaci/climatemachine-docs/664/climatemachine-docs/src/Driver/Driver.jl:746\n",
      "┌ Info: Finished\n",
      "│     norm(Q)            = 7.0195965557948750e+00\n",
      "│     norm(Q) / norm(Q₀) = 9.9083045757234889e-01\n",
      "│     norm(Q) - norm(Q₀) = -6.4962161741636493e-02\n",
      "└ @ ClimateMachine /central/scratch/climaci/climatemachine-docs/664/climatemachine-docs/src/Driver/Driver.jl:784\n",
      "┌ Info: Mass Conservation:\n",
      "│     initial mass          = 5.0190972222222605e+01\n",
      "│     final mass            = 5.0231802188006426e+01\n",
      "│     difference            = 4.0829965783821365e-02\n",
      "│     normalized difference = 8.1349222730822993e-04\n",
      "└ @ Main.##372 /central/scratch/climaci/climatemachine-docs/664/climatemachine-docs/tutorials/Numerics/DGMethods/Box1D.jl:276\n"
     ]
    }
   ],
   "cell_type": "code",
   "source": [
    "run_box1D(\n",
    "    4,\n",
    "    FT(0.0),\n",
    "    FT(1.0),\n",
    "    FT(1.0),\n",
    "    joinpath(output_dir, \"box_1D_4_tmar_upwind.svg\");\n",
    "    tmar_filter = true,\n",
    "    numerical_flux_first_order = RusanovNumericalFlux(),\n",
    ")"
   ],
   "metadata": {},
   "execution_count": 5
  },
  {
   "cell_type": "markdown",
   "source": [
    "![](box_1D_4_tmar_upwind.svg)"
   ],
   "metadata": {}
  },
  {
   "cell_type": "markdown",
   "source": [
    "`CutoffFilter(grid, Nc=1)` with central numerical flux:"
   ],
   "metadata": {}
  },
  {
   "outputs": [
    {
     "name": "stdout",
     "output_type": "stream",
     "text": [
      "ClimateMachine.array_type() = Array\n",
      "┌ Info: Model composition\n",
      "│     param_set = Main.##372.EarthParameterSet()\n",
      "│     init_q = 0.0\n",
      "│     amplitude = 1.0\n",
      "│     velo = 1.0\n",
      "└ @ ClimateMachine /central/scratch/climaci/climatemachine-docs/664/climatemachine-docs/src/Driver/driver_configs.jl:163\n",
      "┌ Info: Defining `prognostic_vars` and\n",
      "│ `eq_tends` for Box1D will\n",
      "│ enable printing a table of tendencies.\n",
      "└ @ ClimateMachine.BalanceLaws /central/scratch/climaci/climatemachine-docs/664/climatemachine-docs/src/BalanceLaws/show_tendencies.jl:62\n",
      "┌ Info: Establishing single stack configuration for Box1D\n",
      "│     precision               = Float64\n",
      "│     horiz polynomial order  = 4\n",
      "│     vert polynomial order   = 4\n",
      "│     domain_min              = 0.00 m, 0.00 m, 0.00 m\n",
      "│     domain_max              = 1.00 m, 1.00 m, 350.00 m\n",
      "│     # vert elems            = 128\n",
      "│     MPI ranks               = 1\n",
      "│     min(Δ_horz)             = 0.17 m\n",
      "│     min(Δ_vert)             = 0.47 m\n",
      "└ @ ClimateMachine /central/scratch/climaci/climatemachine-docs/664/climatemachine-docs/src/Driver/driver_configs.jl:553\n",
      "┌ Info: Initializing Box1D\n",
      "└ @ ClimateMachine /central/scratch/climaci/climatemachine-docs/664/climatemachine-docs/src/Driver/solver_configs.jl:167\n",
      "┌ Info: Starting Box1D\n",
      "│     dt              = 4.71698e-01\n",
      "│     timeend         =   450.00\n",
      "│     number of steps = 954\n",
      "│     norm(Q)         = 7.0845587175365115e+00\n",
      "└ @ ClimateMachine /central/scratch/climaci/climatemachine-docs/664/climatemachine-docs/src/Driver/Driver.jl:746\n",
      "┌ Info: Finished\n",
      "│     norm(Q)            = 4.3749269099690329e+00\n",
      "│     norm(Q) / norm(Q₀) = 6.1752991038661487e-01\n",
      "│     norm(Q) - norm(Q₀) = -2.7096318075674786e+00\n",
      "└ @ ClimateMachine /central/scratch/climaci/climatemachine-docs/664/climatemachine-docs/src/Driver/Driver.jl:784\n",
      "┌ Info: Mass Conservation:\n",
      "│     initial mass          = 5.0190972222222605e+01\n",
      "│     final mass            = 5.0190972222251148e+01\n",
      "│     difference            = 2.8542501695483224e-11\n",
      "│     normalized difference = 5.6867799988233175e-13\n",
      "└ @ Main.##372 /central/scratch/climaci/climatemachine-docs/664/climatemachine-docs/tutorials/Numerics/DGMethods/Box1D.jl:276\n"
     ]
    }
   ],
   "cell_type": "code",
   "source": [
    "run_box1D(\n",
    "    4,\n",
    "    FT(0.0),\n",
    "    FT(1.0),\n",
    "    FT(1.0),\n",
    "    joinpath(output_dir, \"box_1D_4_cutoff_1.svg\");\n",
    "    cutoff_filter = true,\n",
    "    cutoff_param = 1,\n",
    ")"
   ],
   "metadata": {},
   "execution_count": 6
  },
  {
   "cell_type": "markdown",
   "source": [
    "![](box_1D_4_cutoff_1.svg)"
   ],
   "metadata": {}
  },
  {
   "cell_type": "markdown",
   "source": [
    "`CutoffFilter(grid, Nc=3)` with central numerical flux:"
   ],
   "metadata": {}
  },
  {
   "outputs": [
    {
     "name": "stdout",
     "output_type": "stream",
     "text": [
      "ClimateMachine.array_type() = Array\n",
      "┌ Info: Model composition\n",
      "│     param_set = Main.##372.EarthParameterSet()\n",
      "│     init_q = 0.0\n",
      "│     amplitude = 1.0\n",
      "│     velo = 1.0\n",
      "└ @ ClimateMachine /central/scratch/climaci/climatemachine-docs/664/climatemachine-docs/src/Driver/driver_configs.jl:163\n",
      "┌ Info: Defining `prognostic_vars` and\n",
      "│ `eq_tends` for Box1D will\n",
      "│ enable printing a table of tendencies.\n",
      "└ @ ClimateMachine.BalanceLaws /central/scratch/climaci/climatemachine-docs/664/climatemachine-docs/src/BalanceLaws/show_tendencies.jl:62\n",
      "┌ Info: Establishing single stack configuration for Box1D\n",
      "│     precision               = Float64\n",
      "│     horiz polynomial order  = 4\n",
      "│     vert polynomial order   = 4\n",
      "│     domain_min              = 0.00 m, 0.00 m, 0.00 m\n",
      "│     domain_max              = 1.00 m, 1.00 m, 350.00 m\n",
      "│     # vert elems            = 128\n",
      "│     MPI ranks               = 1\n",
      "│     min(Δ_horz)             = 0.17 m\n",
      "│     min(Δ_vert)             = 0.47 m\n",
      "└ @ ClimateMachine /central/scratch/climaci/climatemachine-docs/664/climatemachine-docs/src/Driver/driver_configs.jl:553\n",
      "┌ Info: Initializing Box1D\n",
      "└ @ ClimateMachine /central/scratch/climaci/climatemachine-docs/664/climatemachine-docs/src/Driver/solver_configs.jl:167\n",
      "┌ Info: Starting Box1D\n",
      "│     dt              = 4.71698e-01\n",
      "│     timeend         =   450.00\n",
      "│     number of steps = 954\n",
      "│     norm(Q)         = 7.0845587175365115e+00\n",
      "└ @ ClimateMachine /central/scratch/climaci/climatemachine-docs/664/climatemachine-docs/src/Driver/Driver.jl:746\n",
      "┌ Info: Finished\n",
      "│     norm(Q)            = 7.0138240459748733e+00\n",
      "│     norm(Q) / norm(Q₀) = 9.9001565596646868e-01\n",
      "│     norm(Q) - norm(Q₀) = -7.0734671561638152e-02\n",
      "└ @ ClimateMachine /central/scratch/climaci/climatemachine-docs/664/climatemachine-docs/src/Driver/Driver.jl:784\n",
      "┌ Info: Mass Conservation:\n",
      "│     initial mass          = 5.0190972222222605e+01\n",
      "│     final mass            = 5.0190972222237605e+01\n",
      "│     difference            = 1.4999557151895715e-11\n",
      "│     normalized difference = 2.9884970319930354e-13\n",
      "└ @ Main.##372 /central/scratch/climaci/climatemachine-docs/664/climatemachine-docs/tutorials/Numerics/DGMethods/Box1D.jl:276\n"
     ]
    }
   ],
   "cell_type": "code",
   "source": [
    "run_box1D(\n",
    "    4,\n",
    "    FT(0.0),\n",
    "    FT(1.0),\n",
    "    FT(1.0),\n",
    "    joinpath(output_dir, \"box_1D_4_cutoff_3.svg\");\n",
    "    cutoff_filter = true,\n",
    "    cutoff_param = 3,\n",
    ")"
   ],
   "metadata": {},
   "execution_count": 7
  },
  {
   "cell_type": "markdown",
   "source": [
    "![](box_1D_4_cutoff_3.svg)"
   ],
   "metadata": {}
  },
  {
   "cell_type": "markdown",
   "source": [
    "`ExponentialFilter(grid, Nc=1, s=4)` with central numerical flux:"
   ],
   "metadata": {}
  },
  {
   "outputs": [
    {
     "name": "stdout",
     "output_type": "stream",
     "text": [
      "ClimateMachine.array_type() = Array\n",
      "┌ Info: Model composition\n",
      "│     param_set = Main.##372.EarthParameterSet()\n",
      "│     init_q = 0.0\n",
      "│     amplitude = 1.0\n",
      "│     velo = 1.0\n",
      "└ @ ClimateMachine /central/scratch/climaci/climatemachine-docs/664/climatemachine-docs/src/Driver/driver_configs.jl:163\n",
      "┌ Info: Defining `prognostic_vars` and\n",
      "│ `eq_tends` for Box1D will\n",
      "│ enable printing a table of tendencies.\n",
      "└ @ ClimateMachine.BalanceLaws /central/scratch/climaci/climatemachine-docs/664/climatemachine-docs/src/BalanceLaws/show_tendencies.jl:62\n",
      "┌ Info: Establishing single stack configuration for Box1D\n",
      "│     precision               = Float64\n",
      "│     horiz polynomial order  = 4\n",
      "│     vert polynomial order   = 4\n",
      "│     domain_min              = 0.00 m, 0.00 m, 0.00 m\n",
      "│     domain_max              = 1.00 m, 1.00 m, 350.00 m\n",
      "│     # vert elems            = 128\n",
      "│     MPI ranks               = 1\n",
      "│     min(Δ_horz)             = 0.17 m\n",
      "│     min(Δ_vert)             = 0.47 m\n",
      "└ @ ClimateMachine /central/scratch/climaci/climatemachine-docs/664/climatemachine-docs/src/Driver/driver_configs.jl:553\n",
      "┌ Info: Initializing Box1D\n",
      "└ @ ClimateMachine /central/scratch/climaci/climatemachine-docs/664/climatemachine-docs/src/Driver/solver_configs.jl:167\n",
      "┌ Info: Starting Box1D\n",
      "│     dt              = 4.71698e-01\n",
      "│     timeend         =   450.00\n",
      "│     number of steps = 954\n",
      "│     norm(Q)         = 7.0845587175365115e+00\n",
      "└ @ ClimateMachine /central/scratch/climaci/climatemachine-docs/664/climatemachine-docs/src/Driver/Driver.jl:746\n",
      "┌ Info: Finished\n",
      "│     norm(Q)            = 6.9333444856518298e+00\n",
      "│     norm(Q) / norm(Q₀) = 9.7865580088843374e-01\n",
      "│     norm(Q) - norm(Q₀) = -1.5121423188468164e-01\n",
      "└ @ ClimateMachine /central/scratch/climaci/climatemachine-docs/664/climatemachine-docs/src/Driver/Driver.jl:784\n",
      "┌ Info: Mass Conservation:\n",
      "│     initial mass          = 5.0190972222222605e+01\n",
      "│     final mass            = 5.0190972222230513e+01\n",
      "│     difference            = 7.9083406490099151e-12\n",
      "│     normalized difference = 1.5756500220787536e-13\n",
      "└ @ Main.##372 /central/scratch/climaci/climatemachine-docs/664/climatemachine-docs/tutorials/Numerics/DGMethods/Box1D.jl:276\n"
     ]
    }
   ],
   "cell_type": "code",
   "source": [
    "run_box1D(\n",
    "    4,\n",
    "    FT(0.0),\n",
    "    FT(1.0),\n",
    "    FT(1.0),\n",
    "    joinpath(output_dir, \"box_1D_4_exp_1_4.svg\");\n",
    "    exp_filter = true,\n",
    "    exp_param_1 = 1,\n",
    "    exp_param_2 = 4,\n",
    ")"
   ],
   "metadata": {},
   "execution_count": 8
  },
  {
   "cell_type": "markdown",
   "source": [
    "![](box_1D_4_exp_1_4.svg)"
   ],
   "metadata": {}
  },
  {
   "cell_type": "markdown",
   "source": [
    "`ExponentialFilter(grid, Nc=1, s=8)` with central numerical flux:"
   ],
   "metadata": {}
  },
  {
   "outputs": [
    {
     "name": "stdout",
     "output_type": "stream",
     "text": [
      "ClimateMachine.array_type() = Array\n",
      "┌ Info: Model composition\n",
      "│     param_set = Main.##372.EarthParameterSet()\n",
      "│     init_q = 0.0\n",
      "│     amplitude = 1.0\n",
      "│     velo = 1.0\n",
      "└ @ ClimateMachine /central/scratch/climaci/climatemachine-docs/664/climatemachine-docs/src/Driver/driver_configs.jl:163\n",
      "┌ Info: Defining `prognostic_vars` and\n",
      "│ `eq_tends` for Box1D will\n",
      "│ enable printing a table of tendencies.\n",
      "└ @ ClimateMachine.BalanceLaws /central/scratch/climaci/climatemachine-docs/664/climatemachine-docs/src/BalanceLaws/show_tendencies.jl:62\n",
      "┌ Info: Establishing single stack configuration for Box1D\n",
      "│     precision               = Float64\n",
      "│     horiz polynomial order  = 4\n",
      "│     vert polynomial order   = 4\n",
      "│     domain_min              = 0.00 m, 0.00 m, 0.00 m\n",
      "│     domain_max              = 1.00 m, 1.00 m, 350.00 m\n",
      "│     # vert elems            = 128\n",
      "│     MPI ranks               = 1\n",
      "│     min(Δ_horz)             = 0.17 m\n",
      "│     min(Δ_vert)             = 0.47 m\n",
      "└ @ ClimateMachine /central/scratch/climaci/climatemachine-docs/664/climatemachine-docs/src/Driver/driver_configs.jl:553\n",
      "┌ Info: Initializing Box1D\n",
      "└ @ ClimateMachine /central/scratch/climaci/climatemachine-docs/664/climatemachine-docs/src/Driver/solver_configs.jl:167\n",
      "┌ Info: Starting Box1D\n",
      "│     dt              = 4.71698e-01\n",
      "│     timeend         =   450.00\n",
      "│     number of steps = 954\n",
      "│     norm(Q)         = 7.0845587175365115e+00\n",
      "└ @ ClimateMachine /central/scratch/climaci/climatemachine-docs/664/climatemachine-docs/src/Driver/Driver.jl:746\n",
      "┌ Info: Finished\n",
      "│     norm(Q)            = 7.0143099503303743e+00\n",
      "│     norm(Q) / norm(Q₀) = 9.9008424236328940e-01\n",
      "│     norm(Q) - norm(Q₀) = -7.0248767206137153e-02\n",
      "└ @ ClimateMachine /central/scratch/climaci/climatemachine-docs/664/climatemachine-docs/src/Driver/Driver.jl:784\n",
      "┌ Info: Mass Conservation:\n",
      "│     initial mass          = 5.0190972222222605e+01\n",
      "│     final mass            = 5.0190972222235352e+01\n",
      "│     difference            = 1.2747136679536197e-11\n",
      "│     normalized difference = 2.5397269897657535e-13\n",
      "└ @ Main.##372 /central/scratch/climaci/climatemachine-docs/664/climatemachine-docs/tutorials/Numerics/DGMethods/Box1D.jl:276\n"
     ]
    }
   ],
   "cell_type": "code",
   "source": [
    "run_box1D(\n",
    "    4,\n",
    "    FT(0.0),\n",
    "    FT(1.0),\n",
    "    FT(1.0),\n",
    "    joinpath(output_dir, \"box_1D_4_exp_1_8.svg\");\n",
    "    exp_filter = true,\n",
    "    exp_param_1 = 1,\n",
    "    exp_param_2 = 8,\n",
    ")"
   ],
   "metadata": {},
   "execution_count": 9
  },
  {
   "cell_type": "markdown",
   "source": [
    "![](box_1D_4_exp_1_8.svg)"
   ],
   "metadata": {}
  },
  {
   "cell_type": "markdown",
   "source": [
    "`ExponentialFilter(grid, Nc=1, s=32)` with central numerical flux:"
   ],
   "metadata": {}
  },
  {
   "outputs": [
    {
     "name": "stdout",
     "output_type": "stream",
     "text": [
      "ClimateMachine.array_type() = Array\n",
      "┌ Info: Model composition\n",
      "│     param_set = Main.##372.EarthParameterSet()\n",
      "│     init_q = 0.0\n",
      "│     amplitude = 1.0\n",
      "│     velo = 1.0\n",
      "└ @ ClimateMachine /central/scratch/climaci/climatemachine-docs/664/climatemachine-docs/src/Driver/driver_configs.jl:163\n",
      "┌ Info: Defining `prognostic_vars` and\n",
      "│ `eq_tends` for Box1D will\n",
      "│ enable printing a table of tendencies.\n",
      "└ @ ClimateMachine.BalanceLaws /central/scratch/climaci/climatemachine-docs/664/climatemachine-docs/src/BalanceLaws/show_tendencies.jl:62\n",
      "┌ Info: Establishing single stack configuration for Box1D\n",
      "│     precision               = Float64\n",
      "│     horiz polynomial order  = 4\n",
      "│     vert polynomial order   = 4\n",
      "│     domain_min              = 0.00 m, 0.00 m, 0.00 m\n",
      "│     domain_max              = 1.00 m, 1.00 m, 350.00 m\n",
      "│     # vert elems            = 128\n",
      "│     MPI ranks               = 1\n",
      "│     min(Δ_horz)             = 0.17 m\n",
      "│     min(Δ_vert)             = 0.47 m\n",
      "└ @ ClimateMachine /central/scratch/climaci/climatemachine-docs/664/climatemachine-docs/src/Driver/driver_configs.jl:553\n",
      "┌ Info: Initializing Box1D\n",
      "└ @ ClimateMachine /central/scratch/climaci/climatemachine-docs/664/climatemachine-docs/src/Driver/solver_configs.jl:167\n",
      "┌ Info: Starting Box1D\n",
      "│     dt              = 4.71698e-01\n",
      "│     timeend         =   450.00\n",
      "│     number of steps = 954\n",
      "│     norm(Q)         = 7.0845587175365115e+00\n",
      "└ @ ClimateMachine /central/scratch/climaci/climatemachine-docs/664/climatemachine-docs/src/Driver/Driver.jl:746\n",
      "┌ Info: Finished\n",
      "│     norm(Q)            = 7.0543517922299213e+00\n",
      "│     norm(Q) / norm(Q₀) = 9.9573623051047366e-01\n",
      "│     norm(Q) - norm(Q₀) = -3.0206925306590193e-02\n",
      "└ @ ClimateMachine /central/scratch/climaci/climatemachine-docs/664/climatemachine-docs/src/Driver/Driver.jl:784\n",
      "┌ Info: Mass Conservation:\n",
      "│     initial mass          = 5.0190972222222605e+01\n",
      "│     final mass            = 5.0190972222228595e+01\n",
      "│     difference            = 5.9898752624576446e-12\n",
      "│     normalized difference = 1.1934168630839076e-13\n",
      "└ @ Main.##372 /central/scratch/climaci/climatemachine-docs/664/climatemachine-docs/tutorials/Numerics/DGMethods/Box1D.jl:276\n"
     ]
    }
   ],
   "cell_type": "code",
   "source": [
    "run_box1D(\n",
    "    4,\n",
    "    FT(0.0),\n",
    "    FT(1.0),\n",
    "    FT(1.0),\n",
    "    joinpath(output_dir, \"box_1D_4_exp_1_32.svg\");\n",
    "    exp_filter = true,\n",
    "    exp_param_1 = 1,\n",
    "    exp_param_2 = 32,\n",
    ")"
   ],
   "metadata": {},
   "execution_count": 10
  },
  {
   "cell_type": "markdown",
   "source": [
    "![](box_1D_4_exp_1_32.svg)"
   ],
   "metadata": {}
  },
  {
   "cell_type": "markdown",
   "source": [
    "`BoydVandevenFilter(grid, Nc=1, s=4)` with central numerical flux:"
   ],
   "metadata": {}
  },
  {
   "outputs": [
    {
     "name": "stdout",
     "output_type": "stream",
     "text": [
      "ClimateMachine.array_type() = Array\n",
      "┌ Info: Model composition\n",
      "│     param_set = Main.##372.EarthParameterSet()\n",
      "│     init_q = 0.0\n",
      "│     amplitude = 1.0\n",
      "│     velo = 1.0\n",
      "└ @ ClimateMachine /central/scratch/climaci/climatemachine-docs/664/climatemachine-docs/src/Driver/driver_configs.jl:163\n",
      "┌ Info: Defining `prognostic_vars` and\n",
      "│ `eq_tends` for Box1D will\n",
      "│ enable printing a table of tendencies.\n",
      "└ @ ClimateMachine.BalanceLaws /central/scratch/climaci/climatemachine-docs/664/climatemachine-docs/src/BalanceLaws/show_tendencies.jl:62\n",
      "┌ Info: Establishing single stack configuration for Box1D\n",
      "│     precision               = Float64\n",
      "│     horiz polynomial order  = 4\n",
      "│     vert polynomial order   = 4\n",
      "│     domain_min              = 0.00 m, 0.00 m, 0.00 m\n",
      "│     domain_max              = 1.00 m, 1.00 m, 350.00 m\n",
      "│     # vert elems            = 128\n",
      "│     MPI ranks               = 1\n",
      "│     min(Δ_horz)             = 0.17 m\n",
      "│     min(Δ_vert)             = 0.47 m\n",
      "└ @ ClimateMachine /central/scratch/climaci/climatemachine-docs/664/climatemachine-docs/src/Driver/driver_configs.jl:553\n",
      "┌ Info: Initializing Box1D\n",
      "└ @ ClimateMachine /central/scratch/climaci/climatemachine-docs/664/climatemachine-docs/src/Driver/solver_configs.jl:167\n",
      "┌ Info: Starting Box1D\n",
      "│     dt              = 4.71698e-01\n",
      "│     timeend         =   450.00\n",
      "│     number of steps = 954\n",
      "│     norm(Q)         = 7.0845587175365115e+00\n",
      "└ @ ClimateMachine /central/scratch/climaci/climatemachine-docs/664/climatemachine-docs/src/Driver/Driver.jl:746\n",
      "┌ Info: Finished\n",
      "│     norm(Q)            = 6.9612435701243669e+00\n",
      "│     norm(Q) / norm(Q₀) = 9.8259381390870526e-01\n",
      "│     norm(Q) - norm(Q₀) = -1.2331514741214455e-01\n",
      "└ @ ClimateMachine /central/scratch/climaci/climatemachine-docs/664/climatemachine-docs/src/Driver/Driver.jl:784\n",
      "┌ Info: Mass Conservation:\n",
      "│     initial mass          = 5.0190972222222605e+01\n",
      "│     final mass            = 5.0190972222241932e+01\n",
      "│     difference            = 1.9326762412674725e-11\n",
      "│     normalized difference = 3.8506451572814101e-13\n",
      "└ @ Main.##372 /central/scratch/climaci/climatemachine-docs/664/climatemachine-docs/tutorials/Numerics/DGMethods/Box1D.jl:276\n"
     ]
    }
   ],
   "cell_type": "code",
   "source": [
    "run_box1D(\n",
    "    4,\n",
    "    FT(0.0),\n",
    "    FT(1.0),\n",
    "    FT(1.0),\n",
    "    joinpath(output_dir, \"box_1D_4_boyd_1_4.svg\");\n",
    "    boyd_filter = true,\n",
    "    boyd_param_1 = 1,\n",
    "    boyd_param_2 = 4,\n",
    ")"
   ],
   "metadata": {},
   "execution_count": 11
  },
  {
   "cell_type": "markdown",
   "source": [
    "![](box_1D_4_boyd_1_4.svg)"
   ],
   "metadata": {}
  },
  {
   "cell_type": "markdown",
   "source": [
    "`BoydVandevenFilter(grid, Nc=1, s=8)` with central numerical flux:"
   ],
   "metadata": {}
  },
  {
   "outputs": [
    {
     "name": "stdout",
     "output_type": "stream",
     "text": [
      "ClimateMachine.array_type() = Array\n",
      "┌ Info: Model composition\n",
      "│     param_set = Main.##372.EarthParameterSet()\n",
      "│     init_q = 0.0\n",
      "│     amplitude = 1.0\n",
      "│     velo = 1.0\n",
      "└ @ ClimateMachine /central/scratch/climaci/climatemachine-docs/664/climatemachine-docs/src/Driver/driver_configs.jl:163\n",
      "┌ Info: Defining `prognostic_vars` and\n",
      "│ `eq_tends` for Box1D will\n",
      "│ enable printing a table of tendencies.\n",
      "└ @ ClimateMachine.BalanceLaws /central/scratch/climaci/climatemachine-docs/664/climatemachine-docs/src/BalanceLaws/show_tendencies.jl:62\n",
      "┌ Info: Establishing single stack configuration for Box1D\n",
      "│     precision               = Float64\n",
      "│     horiz polynomial order  = 4\n",
      "│     vert polynomial order   = 4\n",
      "│     domain_min              = 0.00 m, 0.00 m, 0.00 m\n",
      "│     domain_max              = 1.00 m, 1.00 m, 350.00 m\n",
      "│     # vert elems            = 128\n",
      "│     MPI ranks               = 1\n",
      "│     min(Δ_horz)             = 0.17 m\n",
      "│     min(Δ_vert)             = 0.47 m\n",
      "└ @ ClimateMachine /central/scratch/climaci/climatemachine-docs/664/climatemachine-docs/src/Driver/driver_configs.jl:553\n",
      "┌ Info: Initializing Box1D\n",
      "└ @ ClimateMachine /central/scratch/climaci/climatemachine-docs/664/climatemachine-docs/src/Driver/solver_configs.jl:167\n",
      "┌ Info: Starting Box1D\n",
      "│     dt              = 4.71698e-01\n",
      "│     timeend         =   450.00\n",
      "│     number of steps = 954\n",
      "│     norm(Q)         = 7.0845587175365115e+00\n",
      "└ @ ClimateMachine /central/scratch/climaci/climatemachine-docs/664/climatemachine-docs/src/Driver/Driver.jl:746\n",
      "┌ Info: Finished\n",
      "│     norm(Q)            = 6.9798736717003287e+00\n",
      "│     norm(Q) / norm(Q₀) = 9.8522349097381967e-01\n",
      "│     norm(Q) - norm(Q₀) = -1.0468504583618277e-01\n",
      "└ @ ClimateMachine /central/scratch/climaci/climatemachine-docs/664/climatemachine-docs/src/Driver/Driver.jl:784\n",
      "┌ Info: Mass Conservation:\n",
      "│     initial mass          = 5.0190972222222605e+01\n",
      "│     final mass            = 5.0190972222212103e+01\n",
      "│     difference            = -1.0501821634534281e-11\n",
      "│     normalized difference = -2.0923726259051192e-13\n",
      "└ @ Main.##372 /central/scratch/climaci/climatemachine-docs/664/climatemachine-docs/tutorials/Numerics/DGMethods/Box1D.jl:276\n"
     ]
    }
   ],
   "cell_type": "code",
   "source": [
    "run_box1D(\n",
    "    4,\n",
    "    FT(0.0),\n",
    "    FT(1.0),\n",
    "    FT(1.0),\n",
    "    joinpath(output_dir, \"box_1D_4_boyd_1_8.svg\");\n",
    "    boyd_filter = true,\n",
    "    boyd_param_1 = 1,\n",
    "    boyd_param_2 = 8,\n",
    ")"
   ],
   "metadata": {},
   "execution_count": 12
  },
  {
   "cell_type": "markdown",
   "source": [
    "![](box_1D_4_boyd_1_8.svg)"
   ],
   "metadata": {}
  },
  {
   "cell_type": "markdown",
   "source": [
    "`BoydVandevenFilter(grid, Nc=1, s=32)` with central numerical flux:"
   ],
   "metadata": {}
  },
  {
   "outputs": [
    {
     "name": "stdout",
     "output_type": "stream",
     "text": [
      "ClimateMachine.array_type() = Array\n",
      "┌ Info: Model composition\n",
      "│     param_set = Main.##372.EarthParameterSet()\n",
      "│     init_q = 0.0\n",
      "│     amplitude = 1.0\n",
      "│     velo = 1.0\n",
      "└ @ ClimateMachine /central/scratch/climaci/climatemachine-docs/664/climatemachine-docs/src/Driver/driver_configs.jl:163\n",
      "┌ Info: Defining `prognostic_vars` and\n",
      "│ `eq_tends` for Box1D will\n",
      "│ enable printing a table of tendencies.\n",
      "└ @ ClimateMachine.BalanceLaws /central/scratch/climaci/climatemachine-docs/664/climatemachine-docs/src/BalanceLaws/show_tendencies.jl:62\n",
      "┌ Info: Establishing single stack configuration for Box1D\n",
      "│     precision               = Float64\n",
      "│     horiz polynomial order  = 4\n",
      "│     vert polynomial order   = 4\n",
      "│     domain_min              = 0.00 m, 0.00 m, 0.00 m\n",
      "│     domain_max              = 1.00 m, 1.00 m, 350.00 m\n",
      "│     # vert elems            = 128\n",
      "│     MPI ranks               = 1\n",
      "│     min(Δ_horz)             = 0.17 m\n",
      "│     min(Δ_vert)             = 0.47 m\n",
      "└ @ ClimateMachine /central/scratch/climaci/climatemachine-docs/664/climatemachine-docs/src/Driver/driver_configs.jl:553\n",
      "┌ Info: Initializing Box1D\n",
      "└ @ ClimateMachine /central/scratch/climaci/climatemachine-docs/664/climatemachine-docs/src/Driver/solver_configs.jl:167\n",
      "┌ Info: Starting Box1D\n",
      "│     dt              = 4.71698e-01\n",
      "│     timeend         =   450.00\n",
      "│     number of steps = 954\n",
      "│     norm(Q)         = 7.0845587175365115e+00\n",
      "└ @ ClimateMachine /central/scratch/climaci/climatemachine-docs/664/climatemachine-docs/src/Driver/Driver.jl:746\n",
      "┌ Info: Finished\n",
      "│     norm(Q)            = 7.0120419256462405e+00\n",
      "│     norm(Q) / norm(Q₀) = 9.8976410602529563e-01\n",
      "│     norm(Q) - norm(Q₀) = -7.2516791890270937e-02\n",
      "└ @ ClimateMachine /central/scratch/climaci/climatemachine-docs/664/climatemachine-docs/src/Driver/Driver.jl:784\n",
      "┌ Info: Mass Conservation:\n",
      "│     initial mass          = 5.0190972222222605e+01\n",
      "│     final mass            = 5.0190972222235835e+01\n",
      "│     difference            = 1.3230305739853065e-11\n",
      "│     normalized difference = 2.6359931186977886e-13\n",
      "└ @ Main.##372 /central/scratch/climaci/climatemachine-docs/664/climatemachine-docs/tutorials/Numerics/DGMethods/Box1D.jl:276\n"
     ]
    }
   ],
   "cell_type": "code",
   "source": [
    "run_box1D(\n",
    "    4,\n",
    "    FT(0.0),\n",
    "    FT(1.0),\n",
    "    FT(1.0),\n",
    "    joinpath(output_dir, \"box_1D_4_boyd_1_32.svg\");\n",
    "    boyd_filter = true,\n",
    "    boyd_param_1 = 1,\n",
    "    boyd_param_2 = 32,\n",
    ")"
   ],
   "metadata": {},
   "execution_count": 13
  },
  {
   "cell_type": "markdown",
   "source": [
    "![](box_1D_4_boyd_1_32.svg)"
   ],
   "metadata": {}
  },
  {
   "cell_type": "markdown",
   "source": [
    "`ExponentialFilter(grid, Nc=1, s=8)` and `TMARFilter()` with central numerical\n",
    "flux:"
   ],
   "metadata": {}
  },
  {
   "outputs": [
    {
     "name": "stdout",
     "output_type": "stream",
     "text": [
      "ClimateMachine.array_type() = Array\n",
      "┌ Info: Model composition\n",
      "│     param_set = Main.##372.EarthParameterSet()\n",
      "│     init_q = 0.0\n",
      "│     amplitude = 1.0\n",
      "│     velo = 1.0\n",
      "└ @ ClimateMachine /central/scratch/climaci/climatemachine-docs/664/climatemachine-docs/src/Driver/driver_configs.jl:163\n",
      "┌ Info: Defining `prognostic_vars` and\n",
      "│ `eq_tends` for Box1D will\n",
      "│ enable printing a table of tendencies.\n",
      "└ @ ClimateMachine.BalanceLaws /central/scratch/climaci/climatemachine-docs/664/climatemachine-docs/src/BalanceLaws/show_tendencies.jl:62\n",
      "┌ Info: Establishing single stack configuration for Box1D\n",
      "│     precision               = Float64\n",
      "│     horiz polynomial order  = 4\n",
      "│     vert polynomial order   = 4\n",
      "│     domain_min              = 0.00 m, 0.00 m, 0.00 m\n",
      "│     domain_max              = 1.00 m, 1.00 m, 350.00 m\n",
      "│     # vert elems            = 128\n",
      "│     MPI ranks               = 1\n",
      "│     min(Δ_horz)             = 0.17 m\n",
      "│     min(Δ_vert)             = 0.47 m\n",
      "└ @ ClimateMachine /central/scratch/climaci/climatemachine-docs/664/climatemachine-docs/src/Driver/driver_configs.jl:553\n",
      "┌ Info: Initializing Box1D\n",
      "└ @ ClimateMachine /central/scratch/climaci/climatemachine-docs/664/climatemachine-docs/src/Driver/solver_configs.jl:167\n",
      "┌ Info: Starting Box1D\n",
      "│     dt              = 4.71698e-01\n",
      "│     timeend         =   450.00\n",
      "│     number of steps = 954\n",
      "│     norm(Q)         = 7.0845587175365115e+00\n",
      "└ @ ClimateMachine /central/scratch/climaci/climatemachine-docs/664/climatemachine-docs/src/Driver/Driver.jl:746\n",
      "┌ Info: Finished\n",
      "│     norm(Q)            = 6.9859473293750973e+00\n",
      "│     norm(Q) / norm(Q₀) = 9.8608080021733469e-01\n",
      "│     norm(Q) - norm(Q₀) = -9.8611388161414126e-02\n",
      "└ @ ClimateMachine /central/scratch/climaci/climatemachine-docs/664/climatemachine-docs/src/Driver/Driver.jl:784\n",
      "┌ Info: Mass Conservation:\n",
      "│     initial mass          = 5.0190972222222605e+01\n",
      "│     final mass            = 5.0255956701552577e+01\n",
      "│     difference            = 6.4984479329972089e-02\n",
      "│     normalized difference = 1.2947443823612466e-03\n",
      "└ @ Main.##372 /central/scratch/climaci/climatemachine-docs/664/climatemachine-docs/tutorials/Numerics/DGMethods/Box1D.jl:276\n"
     ]
    }
   ],
   "cell_type": "code",
   "source": [
    "run_box1D(\n",
    "    4,\n",
    "    FT(0.0),\n",
    "    FT(1.0),\n",
    "    FT(1.0),\n",
    "    joinpath(output_dir, \"box_1D_4_tmar_exp_1_8.svg\");\n",
    "    exp_filter = true,\n",
    "    tmar_filter = true,\n",
    "    exp_param_1 = 1,\n",
    "    exp_param_2 = 8,\n",
    ")"
   ],
   "metadata": {},
   "execution_count": 14
  },
  {
   "cell_type": "markdown",
   "source": [
    "![](box_1D_4_tmar_exp_1_8.svg)"
   ],
   "metadata": {}
  },
  {
   "cell_type": "markdown",
   "source": [
    "`BoydVandevenFilter(grid, Nc=1, s=8)` and `TMARFilter()` with central\n",
    "numerical flux:"
   ],
   "metadata": {}
  },
  {
   "outputs": [
    {
     "name": "stdout",
     "output_type": "stream",
     "text": [
      "ClimateMachine.array_type() = Array\n",
      "┌ Info: Model composition\n",
      "│     param_set = Main.##372.EarthParameterSet()\n",
      "│     init_q = 0.0\n",
      "│     amplitude = 1.0\n",
      "│     velo = 1.0\n",
      "└ @ ClimateMachine /central/scratch/climaci/climatemachine-docs/664/climatemachine-docs/src/Driver/driver_configs.jl:163\n",
      "┌ Info: Defining `prognostic_vars` and\n",
      "│ `eq_tends` for Box1D will\n",
      "│ enable printing a table of tendencies.\n",
      "└ @ ClimateMachine.BalanceLaws /central/scratch/climaci/climatemachine-docs/664/climatemachine-docs/src/BalanceLaws/show_tendencies.jl:62\n",
      "┌ Info: Establishing single stack configuration for Box1D\n",
      "│     precision               = Float64\n",
      "│     horiz polynomial order  = 4\n",
      "│     vert polynomial order   = 4\n",
      "│     domain_min              = 0.00 m, 0.00 m, 0.00 m\n",
      "│     domain_max              = 1.00 m, 1.00 m, 350.00 m\n",
      "│     # vert elems            = 128\n",
      "│     MPI ranks               = 1\n",
      "│     min(Δ_horz)             = 0.17 m\n",
      "│     min(Δ_vert)             = 0.47 m\n",
      "└ @ ClimateMachine /central/scratch/climaci/climatemachine-docs/664/climatemachine-docs/src/Driver/driver_configs.jl:553\n",
      "┌ Info: Initializing Box1D\n",
      "└ @ ClimateMachine /central/scratch/climaci/climatemachine-docs/664/climatemachine-docs/src/Driver/solver_configs.jl:167\n",
      "┌ Info: Starting Box1D\n",
      "│     dt              = 4.71698e-01\n",
      "│     timeend         =   450.00\n",
      "│     number of steps = 954\n",
      "│     norm(Q)         = 7.0845587175365115e+00\n",
      "└ @ ClimateMachine /central/scratch/climaci/climatemachine-docs/664/climatemachine-docs/src/Driver/Driver.jl:746\n",
      "┌ Info: Finished\n",
      "│     norm(Q)            = 6.9548646819374671e+00\n",
      "│     norm(Q) / norm(Q₀) = 9.8169342075209132e-01\n",
      "│     norm(Q) - norm(Q₀) = -1.2969403559904435e-01\n",
      "└ @ ClimateMachine /central/scratch/climaci/climatemachine-docs/664/climatemachine-docs/src/Driver/Driver.jl:784\n",
      "┌ Info: Mass Conservation:\n",
      "│     initial mass          = 5.0190972222222605e+01\n",
      "│     final mass            = 5.0269145317345739e+01\n",
      "│     difference            = 7.8173095123133862e-02\n",
      "│     normalized difference = 1.5575130678285977e-03\n",
      "└ @ Main.##372 /central/scratch/climaci/climatemachine-docs/664/climatemachine-docs/tutorials/Numerics/DGMethods/Box1D.jl:276\n"
     ]
    }
   ],
   "cell_type": "code",
   "source": [
    "run_box1D(\n",
    "    4,\n",
    "    FT(0.0),\n",
    "    FT(1.0),\n",
    "    FT(1.0),\n",
    "    joinpath(output_dir, \"box_1D_4_tmar_boyd_1_8.svg\");\n",
    "    boyd_filter = true,\n",
    "    tmar_filter = true,\n",
    "    boyd_param_1 = 1,\n",
    "    boyd_param_2 = 8,\n",
    ")"
   ],
   "metadata": {},
   "execution_count": 15
  },
  {
   "cell_type": "markdown",
   "source": [
    "![](box_1D_4_tmar_boyd_1_8.svg)"
   ],
   "metadata": {}
  },
  {
   "cell_type": "markdown",
   "source": [
    "---\n",
    "\n",
    "*This notebook was generated using [Literate.jl](https://github.com/fredrikekre/Literate.jl).*"
   ],
   "metadata": {}
  }
 ],
 "nbformat_minor": 3,
 "metadata": {
  "language_info": {
   "file_extension": ".jl",
   "mimetype": "application/julia",
   "name": "julia",
   "version": "1.5.2"
  },
  "kernelspec": {
   "name": "julia-1.5",
   "display_name": "Julia 1.5.2",
   "language": "julia"
  }
 },
 "nbformat": 4
}
