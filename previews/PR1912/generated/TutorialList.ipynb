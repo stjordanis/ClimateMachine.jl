{
 "cells": [
  {
   "cell_type": "markdown",
   "source": [
    "# Tutorials\n",
    "A suite of concrete examples are provided here as a guidance for constructing experiments.\n",
    "## Balance Law\n",
    "An introduction on components within a balance law is provided.\n",
    "## Atmos\n",
    "Showcase drivers for atmospheric modelling in GCM, single stack, and LES simulations are provided.\n",
    "- Dry Idealzed GCM:  The Held-Suarez configuration is used as a guidance to create a driver that runs a simple GCM simulation.\n",
    "- Single Element Stack:  The Burgers Equations with a passive tracer is used as a guidance to run the simulation on a single element stack.\n",
    "- LES Experiment:  The dry rising bubble case is used as a quigance in creating an LES driver.\n",
    "- Topography:  Experiments of dry flow over prescirbe topography (Agnesi mountain) are provided for:\n",
    "    * Linear Hydrostatic Mountain\n",
    "    * Linear Non-Hydrostatic Mountain\n",
    "## Ocean\n",
    "A showcase for Ocean model is still under construction.\n",
    "## Land\n",
    "Examples are provided in constructing balance law and solving for fundemental equations in land modelling.\n",
    "- Heat:  A tutorial shows how to create a HeatModel to solve the heat equation and visualize the outputs.\n",
    "- Soil:  Examples of solving fundemental equations in the soil model are provided.\n",
    "    * Hydraulic Functions:  a tutorial to specify the hydraulic function in the Richard's equation.\n",
    "    * Soil Heat Equations:  a tutorial for solving the heat equation in the soil.\n",
    "    * Coupled Water and Heat:  a tutorial for solving interactive heat and wateri in the soil model.\n",
    "## Numerics (need to be moved to How-to-Guide)\n",
    "- System Solvers:  Two numerical methods to solve the linear system Ax=b are provided.\n",
    "    * Conjugate Gradient\n",
    "    * Batched Generalized Minimal Residual\n",
    "- DG Methods\n",
    "    * Filters\n",
    "## Diagnostics\n",
    "A diagnostic tool that can\n",
    "- generate statistics for MPIStateArrays\n",
    "- validate with reference values\n",
    "for debugging purposes."
   ],
   "metadata": {}
  },
  {
   "cell_type": "markdown",
   "source": [
    "---\n",
    "\n",
    "*This notebook was generated using [Literate.jl](https://github.com/fredrikekre/Literate.jl).*"
   ],
   "metadata": {}
  }
 ],
 "nbformat_minor": 3,
 "metadata": {
  "language_info": {
   "file_extension": ".jl",
   "mimetype": "application/julia",
   "name": "julia",
   "version": "1.5.2"
  },
  "kernelspec": {
   "name": "julia-1.5",
   "display_name": "Julia 1.5.2",
   "language": "julia"
  }
 },
 "nbformat": 4
}
