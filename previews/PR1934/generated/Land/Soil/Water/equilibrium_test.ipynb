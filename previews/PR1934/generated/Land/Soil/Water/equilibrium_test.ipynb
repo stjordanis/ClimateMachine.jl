{
 "cells": [
  {
   "cell_type": "markdown",
   "source": [
    "# Hydrostatic Equilibrium test for Richards Equation"
   ],
   "metadata": {}
  },
  {
   "cell_type": "markdown",
   "source": [
    "This tutorial shows how to use `ClimateMachine` code to solve\n",
    "Richards equation in a column of soil. We choose boundary\n",
    "conditions of zero flux at the top and bottom of the column,\n",
    "and then run the simulation long enough to see that the system\n",
    "is approaching hydrostatic equilibrium, where the gradient of the\n",
    "pressure head is equal and opposite the gradient of the\n",
    "gravitational head. Note that the [`SoilWaterModel`](@ref\n",
    "ClimateMachine.Land.SoilWaterModel) includes\n",
    "a prognostic equation for the volumetric ice fraction,\n",
    "as ice is a form of water that must be accounted for to ensure\n",
    "water mass conservation. If freezing and thawing are not turned on\n",
    "(the default), the amount of ice in the model is zero for all space and time\n",
    "(again by default)."
   ],
   "metadata": {}
  },
  {
   "cell_type": "markdown",
   "source": [
    "The equations are:"
   ],
   "metadata": {}
  },
  {
   "cell_type": "markdown",
   "source": [
    "``\n",
    "\\frac{ ∂ ϑ_l}{∂ t} = ∇ ⋅ K (T, ϑ_l, θ_i; ν, ...) ∇h( ϑ_l, z; ν, ...).\n",
    "``"
   ],
   "metadata": {}
  },
  {
   "cell_type": "markdown",
   "source": [
    "``\n",
    "\\frac{ ∂ θ_i}{∂ t} = 0\n",
    "``"
   ],
   "metadata": {}
  },
  {
   "cell_type": "markdown",
   "source": [
    "Here"
   ],
   "metadata": {}
  },
  {
   "cell_type": "markdown",
   "source": [
    "``t`` is the time (s),"
   ],
   "metadata": {}
  },
  {
   "cell_type": "markdown",
   "source": [
    "``z`` is the location in the vertical (m),"
   ],
   "metadata": {}
  },
  {
   "cell_type": "markdown",
   "source": [
    "``T`` is the temperature of the soil (K),"
   ],
   "metadata": {}
  },
  {
   "cell_type": "markdown",
   "source": [
    "``K`` is the hydraulic conductivity (m/s),"
   ],
   "metadata": {}
  },
  {
   "cell_type": "markdown",
   "source": [
    "``h`` is the hydraulic head (m),"
   ],
   "metadata": {}
  },
  {
   "cell_type": "markdown",
   "source": [
    "``ϑ_l`` is the augmented volumetric liquid water fraction,"
   ],
   "metadata": {}
  },
  {
   "cell_type": "markdown",
   "source": [
    "``θ_i`` is the volumetric ice fraction, and"
   ],
   "metadata": {}
  },
  {
   "cell_type": "markdown",
   "source": [
    "``ν, ...`` denotes parameters relating to soil type, such as porosity."
   ],
   "metadata": {}
  },
  {
   "cell_type": "markdown",
   "source": [
    "We will solve this equation in an effectively 1-d domain with ``z ∈ [-10,0]``,\n",
    "and with the following boundary and initial conditions:"
   ],
   "metadata": {}
  },
  {
   "cell_type": "markdown",
   "source": [
    "``- K ∇h(t, z = 0) = 0 ẑ ``"
   ],
   "metadata": {}
  },
  {
   "cell_type": "markdown",
   "source": [
    "`` -K ∇h(t, z = -10) = 0 ẑ``"
   ],
   "metadata": {}
  },
  {
   "cell_type": "markdown",
   "source": [
    "`` ϑ(t = 0, z) = ν-0.001 ``"
   ],
   "metadata": {}
  },
  {
   "cell_type": "markdown",
   "source": [
    "`` θ_i(t = 0, z) = 0.0. ``"
   ],
   "metadata": {}
  },
  {
   "cell_type": "markdown",
   "source": [
    "where ``\\nu`` is the porosity."
   ],
   "metadata": {}
  },
  {
   "cell_type": "markdown",
   "source": [
    "A word about the hydraulic conductivity: please see the\n",
    "[`hydraulic functions`](./hydraulic_functions.md) tutorial\n",
    "for options regarding this function. The user can choose to make it depend\n",
    "on the temperature and the amount of ice in the soil; the default, which we use\n",
    "here, is that `K` only depends on the liquid moisture content."
   ],
   "metadata": {}
  },
  {
   "cell_type": "markdown",
   "source": [
    "Lastly, our formulation of this equation allows for a continuous solution in both\n",
    "saturated and unsaturated areas, following [1]."
   ],
   "metadata": {}
  },
  {
   "cell_type": "markdown",
   "source": [
    "# Preliminary setup"
   ],
   "metadata": {}
  },
  {
   "cell_type": "markdown",
   "source": [
    "- Load external packages"
   ],
   "metadata": {}
  },
  {
   "outputs": [],
   "cell_type": "code",
   "source": [
    "using MPI\n",
    "using OrderedCollections\n",
    "using StaticArrays\n",
    "using Statistics"
   ],
   "metadata": {},
   "execution_count": 1
  },
  {
   "cell_type": "markdown",
   "source": [
    "- Load CLIMAParameters and ClimateMachine modules"
   ],
   "metadata": {}
  },
  {
   "outputs": [],
   "cell_type": "code",
   "source": [
    "using CLIMAParameters\n",
    "struct EarthParameterSet <: AbstractEarthParameterSet end\n",
    "const param_set = EarthParameterSet()\n",
    "\n",
    "using ClimateMachine\n",
    "using ClimateMachine.Land\n",
    "using ClimateMachine.Land.SoilWaterParameterizations\n",
    "using ClimateMachine.Mesh.Topologies\n",
    "using ClimateMachine.Mesh.Grids\n",
    "using ClimateMachine.DGMethods\n",
    "using ClimateMachine.DGMethods.NumericalFluxes\n",
    "using ClimateMachine.DGMethods: BalanceLaw, LocalGeometry\n",
    "using ClimateMachine.MPIStateArrays\n",
    "using ClimateMachine.GenericCallbacks\n",
    "using ClimateMachine.ODESolvers\n",
    "using ClimateMachine.VariableTemplates\n",
    "using ClimateMachine.SingleStackUtils\n",
    "using ClimateMachine.BalanceLaws:\n",
    "    BalanceLaw, Prognostic, Auxiliary, Gradient, GradientFlux, vars_state"
   ],
   "metadata": {},
   "execution_count": 2
  },
  {
   "cell_type": "markdown",
   "source": [
    "- Define the float type desired (`Float64` or `Float32`)"
   ],
   "metadata": {}
  },
  {
   "outputs": [],
   "cell_type": "code",
   "source": [
    "const FT = Float64;"
   ],
   "metadata": {},
   "execution_count": 3
  },
  {
   "cell_type": "markdown",
   "source": [
    "- Initialize ClimateMachine for CPU"
   ],
   "metadata": {}
  },
  {
   "outputs": [],
   "cell_type": "code",
   "source": [
    "ClimateMachine.init(; disable_gpu = true);"
   ],
   "metadata": {},
   "execution_count": 4
  },
  {
   "cell_type": "markdown",
   "source": [
    "Load plot helpers:"
   ],
   "metadata": {}
  },
  {
   "outputs": [],
   "cell_type": "code",
   "source": [
    "const clima_dir = dirname(dirname(pathof(ClimateMachine)));\n",
    "include(joinpath(clima_dir, \"docs\", \"plothelpers.jl\"));"
   ],
   "metadata": {},
   "execution_count": 5
  },
  {
   "cell_type": "markdown",
   "source": [
    "# Set up the soil model"
   ],
   "metadata": {}
  },
  {
   "cell_type": "markdown",
   "source": [
    "We want to solve Richards equation alone, without simultaneously\n",
    "solving the heat equation. Because of that, we choose a\n",
    "[`PrescribedTemperatureModel`](@ref\n",
    "ClimateMachine.Land.PrescribedTemperatureModel).\n",
    "The user can supply a function for temperature,\n",
    "depending on time and space; if this option is desired, one could also\n",
    "choose to model the temperature dependence of viscosity, or to drive\n",
    "a freeze/thaw cycle, for example. If the user simply wants to model\n",
    "Richards equation for liquid water, the defaults will allow for that.\n",
    "Here we ignore the effects of temperature and freezing and thawing,\n",
    "using the defaults."
   ],
   "metadata": {}
  },
  {
   "outputs": [],
   "cell_type": "code",
   "source": [
    "soil_heat_model = PrescribedTemperatureModel();"
   ],
   "metadata": {},
   "execution_count": 6
  },
  {
   "cell_type": "markdown",
   "source": [
    "Define the porosity, Ksat, and specific storage values for the soil. Note\n",
    "that all values must be given in mks units. The soil parameters chosen\n",
    "roughly correspond to Yolo light clay."
   ],
   "metadata": {}
  },
  {
   "outputs": [],
   "cell_type": "code",
   "source": [
    "soil_param_functions = SoilParamFunctions{FT}(\n",
    "    porosity = 0.495,\n",
    "    Ksat = 0.0443 / (3600 * 100),\n",
    "    S_s = 1e-3,\n",
    ");"
   ],
   "metadata": {},
   "execution_count": 7
  },
  {
   "cell_type": "markdown",
   "source": [
    "Define the boundary conditions. The user can specify two conditions,\n",
    "either at the top or at the bottom, and they can either be Dirichlet\n",
    "(on `ϑ_l`) or Neumann (on `-K∇h`). Note that fluxes are supplied as\n",
    "scalars, inside the code they are multiplied by ẑ."
   ],
   "metadata": {}
  },
  {
   "outputs": [],
   "cell_type": "code",
   "source": [
    "surface_flux = (aux, t) -> eltype(aux)(0.0)\n",
    "bottom_flux = (aux, t) -> eltype(aux)(0.0);"
   ],
   "metadata": {},
   "execution_count": 8
  },
  {
   "cell_type": "markdown",
   "source": [
    "Our problem is effectively 1D, so we do not need to specify lateral boundary\n",
    "conditions."
   ],
   "metadata": {}
  },
  {
   "outputs": [],
   "cell_type": "code",
   "source": [
    "bc = LandDomainBC(\n",
    "    bottom_bc = LandComponentBC(soil_water = Neumann(bottom_flux)),\n",
    "    surface_bc = LandComponentBC(soil_water = Neumann(surface_flux)),\n",
    ");"
   ],
   "metadata": {},
   "execution_count": 9
  },
  {
   "cell_type": "markdown",
   "source": [
    "Define the initial state function. The default for `θ_i` is zero."
   ],
   "metadata": {}
  },
  {
   "outputs": [],
   "cell_type": "code",
   "source": [
    "ϑ_l0 = (aux) -> eltype(aux)(0.494);"
   ],
   "metadata": {},
   "execution_count": 10
  },
  {
   "cell_type": "markdown",
   "source": [
    "Create the SoilWaterModel. The defaults are a temperature independent\n",
    "viscosity, and no impedance factor due to ice. We choose to make the\n",
    "hydraulic conductivity a function of the moisture content `ϑ_l`,\n",
    "and employ the vanGenuchten hydraulic model with `n` = 2.0. The van\n",
    "Genuchten parameter `m` is calculated from `n`, and we use the default\n",
    "value for `α`."
   ],
   "metadata": {}
  },
  {
   "outputs": [],
   "cell_type": "code",
   "source": [
    "soil_water_model = SoilWaterModel(\n",
    "    FT;\n",
    "    moisture_factor = MoistureDependent{FT}(),\n",
    "    hydraulics = vanGenuchten{FT}(n = 2.0),\n",
    "    initialϑ_l = ϑ_l0,\n",
    ");"
   ],
   "metadata": {},
   "execution_count": 11
  },
  {
   "cell_type": "markdown",
   "source": [
    "Create the soil model - the coupled soil water and soil heat models."
   ],
   "metadata": {}
  },
  {
   "outputs": [],
   "cell_type": "code",
   "source": [
    "m_soil = SoilModel(soil_param_functions, soil_water_model, soil_heat_model);"
   ],
   "metadata": {},
   "execution_count": 12
  },
  {
   "cell_type": "markdown",
   "source": [
    "We are ignoring sources and sinks here, like runoff or freezing and thawing."
   ],
   "metadata": {}
  },
  {
   "outputs": [],
   "cell_type": "code",
   "source": [
    "sources = ();"
   ],
   "metadata": {},
   "execution_count": 13
  },
  {
   "cell_type": "markdown",
   "source": [
    "Define the function that initializes the prognostic variables. This\n",
    "in turn calls the functions supplied to `soil_water_model`."
   ],
   "metadata": {}
  },
  {
   "outputs": [
    {
     "output_type": "execute_result",
     "data": {
      "text/plain": "init_soil_water! (generic function with 1 method)"
     },
     "metadata": {},
     "execution_count": 14
    }
   ],
   "cell_type": "code",
   "source": [
    "function init_soil_water!(land, state, aux, localgeo, time)\n",
    "    state.soil.water.ϑ_l = eltype(state)(land.soil.water.initialϑ_l(aux))\n",
    "    state.soil.water.θ_i = eltype(state)(land.soil.water.initialθ_i(aux))\n",
    "end"
   ],
   "metadata": {},
   "execution_count": 14
  },
  {
   "cell_type": "markdown",
   "source": [
    "Create the land model - in this tutorial, it only includes the soil."
   ],
   "metadata": {}
  },
  {
   "outputs": [],
   "cell_type": "code",
   "source": [
    "m = LandModel(\n",
    "    param_set,\n",
    "    m_soil;\n",
    "    boundary_conditions = bc,\n",
    "    source = sources,\n",
    "    init_state_prognostic = init_soil_water!,\n",
    ");"
   ],
   "metadata": {},
   "execution_count": 15
  },
  {
   "cell_type": "markdown",
   "source": [
    "# Specify the numerical configuration and output data."
   ],
   "metadata": {}
  },
  {
   "cell_type": "markdown",
   "source": [
    "Specify the polynomial order and vertical resolution."
   ],
   "metadata": {}
  },
  {
   "outputs": [],
   "cell_type": "code",
   "source": [
    "N_poly = 5;\n",
    "nelem_vert = 20;"
   ],
   "metadata": {},
   "execution_count": 16
  },
  {
   "cell_type": "markdown",
   "source": [
    "Specify the domain boundaries."
   ],
   "metadata": {}
  },
  {
   "outputs": [],
   "cell_type": "code",
   "source": [
    "zmax = FT(0);\n",
    "zmin = FT(-10);"
   ],
   "metadata": {},
   "execution_count": 17
  },
  {
   "cell_type": "markdown",
   "source": [
    "Create the driver configuration."
   ],
   "metadata": {}
  },
  {
   "outputs": [
    {
     "name": "stdout",
     "output_type": "stream",
     "text": [
      "ClimateMachine.array_type() = Array\n",
      "┌ Info: Model composition\n",
      "│     param_set = Main.##357.EarthParameterSet()\n",
      "│     soil = ClimateMachine.Land.SoilModel{ClimateMachine.Land.SoilParamFunctions{Float64},ClimateMachine.Land.SoilWaterModel{Float64,ClimateMachine.Land.SoilWaterParameterizations.NoImpedance{Float64},ClimateMachine.Land.SoilWaterParameterizations.ConstantViscosity{Float64},ClimateMachine.Land.SoilWaterParameterizations.MoistureDependent{Float64},ClimateMachine.Land.SoilWaterParameterizations.vanGenuchten{Float64},Main.##357.var\"#15#16\",ClimateMachine.Land.var\"#23#27\"},ClimateMachine.Land.PrescribedTemperatureModel{ClimateMachine.Land.var\"#28#29\"}}(ClimateMachine.Land.SoilParamFunctions{Float64}(0.495, 1.2305555555555556e-7, 0.001, NaN, NaN, NaN, NaN, NaN, NaN, NaN, NaN, 0.24, 18.1, 0.053), ClimateMachine.Land.SoilWaterModel{Float64,ClimateMachine.Land.SoilWaterParameterizations.NoImpedance{Float64},ClimateMachine.Land.SoilWaterParameterizations.ConstantViscosity{Float64},ClimateMachine.Land.SoilWaterParameterizations.MoistureDependent{Float64},ClimateMachine.Land.SoilWaterParameterizations.vanGenuchten{Float64},Main.##357.var\"#15#16\",ClimateMachine.Land.var\"#23#27\"}(ClimateMachine.Land.SoilWaterParameterizations.NoImpedance{Float64}(), ClimateMachine.Land.SoilWaterParameterizations.ConstantViscosity{Float64}(), ClimateMachine.Land.SoilWaterParameterizations.MoistureDependent{Float64}(), ClimateMachine.Land.SoilWaterParameterizations.vanGenuchten{Float64}(2.0, 2.6, 0.5), Main.##357.var\"#15#16\"(), ClimateMachine.Land.var\"#23#27\"()), ClimateMachine.Land.PrescribedTemperatureModel{ClimateMachine.Land.var\"#28#29\"}(ClimateMachine.Land.var\"#28#29\"()))\n",
      "│     boundary_conditions = ClimateMachine.Land.LandDomainBC{ClimateMachine.Land.LandComponentBC{ClimateMachine.Land.Neumann{Main.##357.var\"#11#12\"},ClimateMachine.Land.NoBC},ClimateMachine.Land.LandComponentBC{ClimateMachine.Land.Neumann{Main.##357.var\"#13#14\"},ClimateMachine.Land.NoBC},ClimateMachine.Land.LandComponentBC{ClimateMachine.Land.NoBC,ClimateMachine.Land.NoBC}}(ClimateMachine.Land.LandComponentBC{ClimateMachine.Land.Neumann{Main.##357.var\"#11#12\"},ClimateMachine.Land.NoBC}(ClimateMachine.Land.Neumann{Main.##357.var\"#11#12\"}(Main.##357.var\"#11#12\"()), ClimateMachine.Land.NoBC()), ClimateMachine.Land.LandComponentBC{ClimateMachine.Land.Neumann{Main.##357.var\"#13#14\"},ClimateMachine.Land.NoBC}(ClimateMachine.Land.Neumann{Main.##357.var\"#13#14\"}(Main.##357.var\"#13#14\"()), ClimateMachine.Land.NoBC()), ClimateMachine.Land.LandComponentBC{ClimateMachine.Land.NoBC,ClimateMachine.Land.NoBC}(ClimateMachine.Land.NoBC(), ClimateMachine.Land.NoBC()))\n",
      "│     source = ()\n",
      "│     init_state_prognostic = init_soil_water!\n",
      "└ @ ClimateMachine /central/scratch/climaci/climatemachine-docs/583/climatemachine-docs/src/Driver/driver_configs.jl:144\n",
      "┌ Info: Defining `prognostic_vars` and\n",
      "│ `eq_tends` for LandModel will\n",
      "│ enable printing a table of tendencies.\n",
      "└ @ ClimateMachine.BalanceLaws /central/scratch/climaci/climatemachine-docs/583/climatemachine-docs/src/BalanceLaws/show_tendencies.jl:62\n",
      "┌ Info: Establishing single stack configuration for LandModel\n",
      "│     precision               = Float64\n",
      "│     horiz polynomial order  = 5\n",
      "│     vert polynomial order   = 5\n",
      "│     domain_min              = 0.00 m x0.00 m x-10.00 m\n",
      "│     domain_max              = 1.00 m x1.00 m x0.00 m\n",
      "│     # vert elems            = 20\n",
      "│     MPI ranks               = 1\n",
      "│     min(Δ_horz)             = 0.12 m\n",
      "│     min(Δ_vert)             = 0.06 m\n",
      "└ @ ClimateMachine /central/scratch/climaci/climatemachine-docs/583/climatemachine-docs/src/Driver/driver_configs.jl:449\n"
     ]
    }
   ],
   "cell_type": "code",
   "source": [
    "driver_config = ClimateMachine.SingleStackConfiguration(\n",
    "    \"LandModel\",\n",
    "    N_poly,\n",
    "    nelem_vert,\n",
    "    zmax,\n",
    "    param_set,\n",
    "    m;\n",
    "    zmin = zmin,\n",
    "    numerical_flux_first_order = CentralNumericalFluxFirstOrder(),\n",
    ");"
   ],
   "metadata": {},
   "execution_count": 18
  },
  {
   "cell_type": "markdown",
   "source": [
    "Choose the initial and final times, as well as a timestep."
   ],
   "metadata": {}
  },
  {
   "outputs": [],
   "cell_type": "code",
   "source": [
    "t0 = FT(0)\n",
    "timeend = FT(60 * 60 * 24 * 4)\n",
    "dt = FT(5);"
   ],
   "metadata": {},
   "execution_count": 19
  },
  {
   "cell_type": "markdown",
   "source": [
    "Create the solver configuration."
   ],
   "metadata": {}
  },
  {
   "outputs": [
    {
     "name": "stdout",
     "output_type": "stream",
     "text": [
      "┌ Info: Initializing LandModel\n",
      "└ @ ClimateMachine /central/scratch/climaci/climatemachine-docs/583/climatemachine-docs/src/Driver/solver_configs.jl:167\n"
     ]
    }
   ],
   "cell_type": "code",
   "source": [
    "solver_config =\n",
    "    ClimateMachine.SolverConfiguration(t0, timeend, driver_config, ode_dt = dt);"
   ],
   "metadata": {},
   "execution_count": 20
  },
  {
   "cell_type": "markdown",
   "source": [
    "Determine how often you want output."
   ],
   "metadata": {}
  },
  {
   "outputs": [],
   "cell_type": "code",
   "source": [
    "const n_outputs = 5;\n",
    "\n",
    "const every_x_simulation_time = ceil(Int, timeend / n_outputs);"
   ],
   "metadata": {},
   "execution_count": 21
  },
  {
   "cell_type": "markdown",
   "source": [
    "Create a place to store this output."
   ],
   "metadata": {}
  },
  {
   "outputs": [],
   "cell_type": "code",
   "source": [
    "state_types = (Prognostic(), Auxiliary(), GradientFlux())\n",
    "dons_arr = Dict[dict_of_nodal_states(solver_config, state_types; interp = true)]\n",
    "time_data = FT[0] # store time data\n",
    "\n",
    "callback = GenericCallbacks.EveryXSimulationTime(every_x_simulation_time) do\n",
    "    dons = dict_of_nodal_states(solver_config, state_types; interp = true)\n",
    "    push!(dons_arr, dons)\n",
    "    push!(time_data, gettime(solver_config.solver))\n",
    "    nothing\n",
    "end;"
   ],
   "metadata": {},
   "execution_count": 22
  },
  {
   "cell_type": "markdown",
   "source": [
    "# Run the integration"
   ],
   "metadata": {}
  },
  {
   "outputs": [
    {
     "name": "stdout",
     "output_type": "stream",
     "text": [
      "┌ Info: Starting LandModel\n",
      "│     dt              = 5.00000e+00\n",
      "│     timeend         = 345600.00\n",
      "│     number of steps = 69120\n",
      "│     norm(Q)         = 1.5621651641231766e+00\n",
      "└ @ ClimateMachine /central/scratch/climaci/climatemachine-docs/583/climatemachine-docs/src/Driver/Driver.jl:705\n",
      "┌ Info: Update\n",
      "│     simtime = 15430.00 / 345600.00\n",
      "│     wallclock = 00:01:00\n",
      "│     efficiency (simtime / wallclock) = 254.9023\n",
      "│     wallclock end (estimated) = 00:22:35\n",
      "│     norm(Q) = 1.5621713696122193e+00\n",
      "└ @ ClimateMachine.Callbacks /central/scratch/climaci/climatemachine-docs/583/climatemachine-docs/src/Driver/Callbacks/Callbacks.jl:75\n",
      "┌ Info: Update\n",
      "│     simtime = 37185.00 / 345600.00\n",
      "│     wallclock = 00:02:00\n",
      "│     efficiency (simtime / wallclock) = 309.8698\n",
      "│     wallclock end (estimated) = 00:18:35\n",
      "│     norm(Q) = 1.5621881096753498e+00\n",
      "└ @ ClimateMachine.Callbacks /central/scratch/climaci/climatemachine-docs/583/climatemachine-docs/src/Driver/Callbacks/Callbacks.jl:75\n",
      "┌ Info: Update\n",
      "│     simtime = 61710.00 / 345600.00\n",
      "│     wallclock = 00:03:00\n",
      "│     efficiency (simtime / wallclock) = 342.8257\n",
      "│     wallclock end (estimated) = 00:16:48\n",
      "│     norm(Q) = 1.5622136958329647e+00\n",
      "└ @ ClimateMachine.Callbacks /central/scratch/climaci/climatemachine-docs/583/climatemachine-docs/src/Driver/Callbacks/Callbacks.jl:75\n",
      "┌ Info: Update\n",
      "│     simtime = 90095.00 / 345600.00\n",
      "│     wallclock = 00:04:00\n",
      "│     efficiency (simtime / wallclock) = 375.3755\n",
      "│     wallclock end (estimated) = 00:15:20\n",
      "│     norm(Q) = 1.5622495826506040e+00\n",
      "└ @ ClimateMachine.Callbacks /central/scratch/climaci/climatemachine-docs/583/climatemachine-docs/src/Driver/Callbacks/Callbacks.jl:75\n",
      "┌ Info: Update\n",
      "│     simtime = 123370.00 / 345600.00\n",
      "│     wallclock = 00:05:00\n",
      "│     efficiency (simtime / wallclock) = 411.2073\n",
      "│     wallclock end (estimated) = 00:14:00\n",
      "│     norm(Q) = 1.5622981354675634e+00\n",
      "└ @ ClimateMachine.Callbacks /central/scratch/climaci/climatemachine-docs/583/climatemachine-docs/src/Driver/Callbacks/Callbacks.jl:75\n",
      "┌ Info: Update\n",
      "│     simtime = 163455.00 / 345600.00\n",
      "│     wallclock = 00:06:00\n",
      "│     efficiency (simtime / wallclock) = 454.0114\n",
      "│     wallclock end (estimated) = 00:12:41\n",
      "│     norm(Q) = 1.5623638608009478e+00\n",
      "└ @ ClimateMachine.Callbacks /central/scratch/climaci/climatemachine-docs/583/climatemachine-docs/src/Driver/Callbacks/Callbacks.jl:75\n",
      "┌ Info: Update\n",
      "│     simtime = 211625.00 / 345600.00\n",
      "│     wallclock = 00:07:00\n",
      "│     efficiency (simtime / wallclock) = 503.8391\n",
      "│     wallclock end (estimated) = 00:11:25\n",
      "│     norm(Q) = 1.5624510528625988e+00\n",
      "└ @ ClimateMachine.Callbacks /central/scratch/climaci/climatemachine-docs/583/climatemachine-docs/src/Driver/Callbacks/Callbacks.jl:75\n",
      "┌ Info: Update\n",
      "│     simtime = 270485.00 / 345600.00\n",
      "│     wallclock = 00:08:00\n",
      "│     efficiency (simtime / wallclock) = 563.4775\n",
      "│     wallclock end (estimated) = 00:10:13\n",
      "│     norm(Q) = 1.5625660872774403e+00\n",
      "└ @ ClimateMachine.Callbacks /central/scratch/climaci/climatemachine-docs/583/climatemachine-docs/src/Driver/Callbacks/Callbacks.jl:75\n",
      "┌ Info: Update\n",
      "│     simtime = 338175.00 / 345600.00\n",
      "│     wallclock = 00:09:00\n",
      "│     efficiency (simtime / wallclock) = 626.2164\n",
      "│     wallclock end (estimated) = 00:09:11\n",
      "│     norm(Q) = 1.5627042800037088e+00\n",
      "└ @ ClimateMachine.Callbacks /central/scratch/climaci/climatemachine-docs/583/climatemachine-docs/src/Driver/Callbacks/Callbacks.jl:75\n",
      "┌ Info: Finished\n",
      "│     norm(Q)            = 1.5627196524958249e+00\n",
      "│     norm(Q) / norm(Q₀) = 1.0003549486221961e+00\n",
      "│     norm(Q) - norm(Q₀) = 5.5448837264826523e-04\n",
      "└ @ ClimateMachine /central/scratch/climaci/climatemachine-docs/583/climatemachine-docs/src/Driver/Driver.jl:743\n"
     ]
    }
   ],
   "cell_type": "code",
   "source": [
    "ClimateMachine.invoke!(solver_config; user_callbacks = (callback,));"
   ],
   "metadata": {},
   "execution_count": 23
  },
  {
   "cell_type": "markdown",
   "source": [
    "Get the final state and create plots:"
   ],
   "metadata": {}
  },
  {
   "outputs": [],
   "cell_type": "code",
   "source": [
    "dons = dict_of_nodal_states(solver_config, state_types; interp = true)\n",
    "push!(dons_arr, dons)\n",
    "push!(time_data, gettime(solver_config.solver));"
   ],
   "metadata": {},
   "execution_count": 24
  },
  {
   "cell_type": "markdown",
   "source": [
    "Get z-coordinate"
   ],
   "metadata": {}
  },
  {
   "outputs": [],
   "cell_type": "code",
   "source": [
    "z = get_z(solver_config.dg.grid; rm_dupes = true);"
   ],
   "metadata": {},
   "execution_count": 25
  },
  {
   "cell_type": "markdown",
   "source": [
    "# Create some plots\n",
    "We'll plot the moisture content vs depth in the soil, as well as\n",
    "the expected slope of `ϑ_l` in hydrostatic equilibrium when the soil\n",
    "is saturated. For `ϑ_l` values above porosity, the soil is\n",
    "saturated, and the pressure head changes from being equal to the matric\n",
    "potential to the pressure generated by compression of water and the soil\n",
    "matrix. The pressure head is continuous at porosity, but the derivative\n",
    "is not."
   ],
   "metadata": {}
  },
  {
   "outputs": [],
   "cell_type": "code",
   "source": [
    "slope = -1e-3\n",
    "\n",
    "output_dir = @__DIR__;\n",
    "\n",
    "t = time_data ./ (60 * 60 * 24);\n",
    "\n",
    "plot(\n",
    "    dons_arr[1][\"soil.water.ϑ_l\"],\n",
    "    dons_arr[1][\"z\"],\n",
    "    label = string(\"t = \", string(t[1]), \"days\"),\n",
    "    xlim = [0.47, 0.501],\n",
    "    ylabel = \"z\",\n",
    "    xlabel = \"ϑ_l\",\n",
    "    legend = :bottomleft,\n",
    "    title = \"Equilibrium test\",\n",
    ");\n",
    "plot!(\n",
    "    dons_arr[4][\"soil.water.ϑ_l\"],\n",
    "    dons_arr[4][\"z\"],\n",
    "    label = string(\"t = \", string(t[4]), \"days\"),\n",
    ");\n",
    "plot!(\n",
    "    dons_arr[6][\"soil.water.ϑ_l\"],\n",
    "    dons_arr[6][\"z\"],\n",
    "    label = string(\"t = \", string(t[6]), \"days\"),\n",
    ");\n",
    "plot!(\n",
    "    (dons_arr[1][\"z\"] .+ 10.0) .* slope .+ dons_arr[6][\"soil.water.ϑ_l\"][1],\n",
    "    dons_arr[1][\"z\"],\n",
    "    label = \"expected\",\n",
    ");\n",
    "\n",
    "plot!(\n",
    "    1e-3 .+ dons_arr[1][\"soil.water.ϑ_l\"],\n",
    "    dons_arr[1][\"z\"],\n",
    "    label = \"porosity\",\n",
    ");"
   ],
   "metadata": {},
   "execution_count": 26
  },
  {
   "cell_type": "markdown",
   "source": [
    "save the output."
   ],
   "metadata": {}
  },
  {
   "outputs": [],
   "cell_type": "code",
   "source": [
    "savefig(joinpath(output_dir, \"equilibrium_test_ϑ_l_vG.png\"))"
   ],
   "metadata": {},
   "execution_count": 27
  },
  {
   "cell_type": "markdown",
   "source": [
    "![](equilibrium_test_ϑ_l_vG.png)\n",
    "# References\n",
    "[1] Woodward, C. S., and C. N. Dawson (2000), Analysis of expanded mixed\n",
    "finite element methods for a nonlinear parabolic equation modeling\n",
    "flow into variably saturated porous media, SIAM J. Numer. Anal., 37, 701–724"
   ],
   "metadata": {}
  },
  {
   "cell_type": "markdown",
   "source": [
    "---\n",
    "\n",
    "*This notebook was generated using [Literate.jl](https://github.com/fredrikekre/Literate.jl).*"
   ],
   "metadata": {}
  }
 ],
 "nbformat_minor": 3,
 "metadata": {
  "language_info": {
   "file_extension": ".jl",
   "mimetype": "application/julia",
   "name": "julia",
   "version": "1.5.2"
  },
  "kernelspec": {
   "name": "julia-1.5",
   "display_name": "Julia 1.5.2",
   "language": "julia"
  }
 },
 "nbformat": 4
}
