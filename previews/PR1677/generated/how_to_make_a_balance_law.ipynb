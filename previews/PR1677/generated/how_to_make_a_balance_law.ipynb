{
 "cells": [
  {
   "cell_type": "markdown",
   "source": [
    "# How to make a Balance law"
   ],
   "metadata": {}
  },
  {
   "cell_type": "markdown",
   "source": [
    "```@meta\n",
    "CurrentModule = ClimateMachine.BalanceLaws\n",
    "```"
   ],
   "metadata": {}
  },
  {
   "cell_type": "markdown",
   "source": [
    "Defining the set of solved PDEs in ClimateMachine revolve around defining a\n",
    "`BalanceLaw`. A balance law solves equations of the form:"
   ],
   "metadata": {}
  },
  {
   "cell_type": "markdown",
   "source": [
    "```\n",
    "∂Y\n",
    "-- = - ∇ • ( F_{first_order}(Y) + F_{second_order}(Y, Σ) ) + S_{non_conservative}(Y, Σ)\n",
    "∂t\n",
    "```"
   ],
   "metadata": {}
  },
  {
   "cell_type": "markdown",
   "source": [
    "Here, `Y`, `Σ`, `F_{first_order}`, `F_{second_order}`, and\n",
    "`S_{non_conservative}` can be thought of column vectors[^1] expressing:"
   ],
   "metadata": {}
  },
  {
   "cell_type": "markdown",
   "source": [
    " - `Y` the prognostic state variables, or unknowns of the PDEs to be solved"
   ],
   "metadata": {}
  },
  {
   "cell_type": "markdown",
   "source": [
    " - `Σ` the gradients of functions of the prognostic state variables"
   ],
   "metadata": {}
  },
  {
   "cell_type": "markdown",
   "source": [
    " - `F_{first-order}` contains all first-order fluxes (e.g. **not** functions\n",
    " of gradients of any variables)"
   ],
   "metadata": {}
  },
  {
   "cell_type": "markdown",
   "source": [
    " - `F_{second-order}` contains all second-order and higher-order fluxes\n",
    " (e.g. functions of gradients of any variables)"
   ],
   "metadata": {}
  },
  {
   "cell_type": "markdown",
   "source": [
    " - `S_{non_conservative}` non-conservative sources[^2]"
   ],
   "metadata": {}
  },
  {
   "cell_type": "markdown",
   "source": [
    "In order to alleviate users from being concerned with the burden of\n",
    "spatial discretization, users must provide their own implementations of\n",
    "the following methods, which are computed locally at each nodal point:"
   ],
   "metadata": {}
  },
  {
   "cell_type": "markdown",
   "source": [
    "## Variable name specification methods"
   ],
   "metadata": {}
  },
  {
   "cell_type": "markdown",
   "source": [
    "The `vars_state` method is used to specify the names of the variables for the following state variable types:"
   ],
   "metadata": {}
  },
  {
   "cell_type": "markdown",
   "source": [
    "| **Type** | Purpose |\n",
    "|:-----|:----|\n",
    "| `Prognostic` | the variables in the prognostic state vector, typically mass, momentum, and various tracers. |\n",
    "| `Auxiliary` | any variables required for the balance law that aren't related to derivatives of the state variables (e.g. spatial coordinates or various integrals) or those needed to solve expensive auxiliary equations (e.g., temperature via a non-linear equation solve)     |\n",
    "| `Gradient` | the gradients of functions of the prognostic state variables. used to represent values before **and** after differentiation |\n",
    "| `GradientFlux` | the gradient fluxes necessary to impose Neumann boundary conditions. typically the product of a diffusivity tensor with a gradient state variable, potentially equivalent to the second-order flux for a prognostic state variable |\n",
    "| `UpwardIntegrals` | any one-dimensional vertical integrals from **bottom to top** of the domain required for the balance law. used to represent both the integrand **and** the resulting indefinite integral |\n",
    "| `DownwardIntegrals` | any one-dimensional vertical integral from **top to bottom** of the domain required for the balance law. each variable here must also exist in `vars_state` since the reverse integral kernels use subtraction to reverse the integral instead of performing a new integral. use to represent the value before **and** after reversing direction |"
   ],
   "metadata": {}
  },
  {
   "cell_type": "markdown",
   "source": [
    "## Methods to compute gradients and integrals\n",
    "| **Method** |  Purpose |\n",
    "|:-----|:-----|\n",
    "| `compute_gradient_argument!` | specify how to compute the arguments to the gradients. can be functions of prognostic state  and auxiliary variables. |\n",
    "| `compute_gradient_flux!` | specify how to compute gradient fluxes. can be a functions of the gradient state, the prognostic state, and auxiliary variables.|\n",
    "| `integral_load_auxiliary_state!` | specify how to compute integrands. can be functions of the prognostic state and auxiliary variables. |\n",
    "| `integral_set_auxiliary_state!` | specify which auxiliary variables are used to store the output of the integrals. |\n",
    "| `reverse_integral_load_auxiliary_state!` | specify auxiliary variables need their integrals reversed. |\n",
    "| `reverse_integral_set_auxiliary_state!` | specify which auxiliary variables are used to store the output of the reversed integrals. |\n",
    "| `update_auxiliary_state!` | perform any updates to the auxiliary variables needed at the beginning of each time-step. Can be used to solve non-linear equations, calculate integrals, and apply filters. |\n",
    "| `update_auxiliary_state_gradient!` | same as above, but after computing gradients and gradient fluxes in case these variables are needed during the update. |"
   ],
   "metadata": {}
  },
  {
   "cell_type": "markdown",
   "source": [
    "## Methods to compute fluxes and sources\n",
    "| **Method** | Purpose |\n",
    "|:-----|:-----|\n",
    "| `flux_first_order!` |  specify `F_{first_order}` for each prognostic state variable. can be functions of the prognostic state and auxiliary variables. |\n",
    "| `flux_second_order!`    |  specify `F_{second_order}` for each prognostic state variable. can be functions of the prognostic state, gradient flux state, and auxiliary variables. |\n",
    "| `source!`            |  specify `S_{non_conservative}`  for each prognostic state variable. can be functions of the prognostic state, gradient flux state, and auxiliary variables. |"
   ],
   "metadata": {}
  },
  {
   "cell_type": "markdown",
   "source": [
    "## Methods to compute numerical fluxes\n",
    "| **Method** | Purpose |\n",
    "|:-----|:-----|\n",
    "| `wavespeed` | specify how to compute the local wavespeed if using the `RusanovNumericalFlux`. |\n",
    "| `boundary_state!` | define exterior nodal values of the prognostic state and gradient flux state used to compute the numerical boundary fluxes. |"
   ],
   "metadata": {}
  },
  {
   "cell_type": "markdown",
   "source": [
    "## Methods to set initial conditions\n",
    "| **Method** | Purpose |\n",
    "|:-----|:-----|\n",
    "| `init_state_prognostic!` | provide initial values for the prognostic state as a function of time and space. |\n",
    "| `init_state_auxiliary!` | provide initial values for the auxiliary variables as a function of the geometry. |"
   ],
   "metadata": {}
  },
  {
   "cell_type": "markdown",
   "source": [
    "## General Remarks"
   ],
   "metadata": {}
  },
  {
   "cell_type": "markdown",
   "source": [
    "While `Y` can be thought of a column vector (each _row_ of which corresponds\n",
    "to each state variable and its prognostic equation), the _second_ function\n",
    "argument inside these methods behave as dictionaries, for example:"
   ],
   "metadata": {}
  },
  {
   "cell_type": "markdown",
   "source": [
    "```julia\n",
    "struct MyModel <: BalanceLaw end"
   ],
   "metadata": {}
  },
  {
   "cell_type": "markdown",
   "source": [
    "function vars_state(m::MyModel, ::Prognostic, FT)\n",
    "    @vars begin\n",
    "        ρ::FT\n",
    "        T::FT\n",
    "    end\n",
    "end"
   ],
   "metadata": {}
  },
  {
   "cell_type": "markdown",
   "source": [
    "function source!(m::MyModel, source::Vars, args...)\n",
    "    source.ρ = 1 # adds a source of 1 to RHS of ρ equation\n",
    "    source.T = 1 # adds a source of 1 to RHS of T equation\n",
    "end\n",
    "```"
   ],
   "metadata": {}
  },
  {
   "cell_type": "markdown",
   "source": [
    "All equations are marched simultaneously in time."
   ],
   "metadata": {}
  },
  {
   "cell_type": "markdown",
   "source": [
    "# Reference links"
   ],
   "metadata": {}
  },
  {
   "cell_type": "markdown",
   "source": [
    "[^1]: [Column Vectors](https://en.wikipedia.org/wiki/Row_and_column_vectors)"
   ],
   "metadata": {}
  },
  {
   "cell_type": "markdown",
   "source": [
    "[^2]: Note that using non-conservative sources should be a final resort,\n",
    "as this can leak conservation of the unknowns and lead to numerical\n",
    "instabilities. It is recommended to use either `F_{diffusive}` or\n",
    "`F_{non_diffusive}`, as these fluxes are communicated across elements[^3]"
   ],
   "metadata": {}
  },
  {
   "cell_type": "markdown",
   "source": [
    "[^3]: MPI communication occurs only across elements, not within each element,\n",
    "where there may be many [Gauss-Lobatto][^4] points"
   ],
   "metadata": {}
  },
  {
   "cell_type": "markdown",
   "source": [
    "[^4]: [Gauss-Lobatto](https://en.wikipedia.org/wiki/Gaussian_quadrature#Gauss%E2%80%93Lobatto_rules)"
   ],
   "metadata": {}
  },
  {
   "cell_type": "markdown",
   "source": [
    "---\n",
    "\n",
    "*This notebook was generated using [Literate.jl](https://github.com/fredrikekre/Literate.jl).*"
   ],
   "metadata": {}
  }
 ],
 "nbformat_minor": 3,
 "metadata": {
  "language_info": {
   "file_extension": ".jl",
   "mimetype": "application/julia",
   "name": "julia",
   "version": "1.5.2"
  },
  "kernelspec": {
   "name": "julia-1.5",
   "display_name": "Julia 1.5.2",
   "language": "julia"
  }
 },
 "nbformat": 4
}
