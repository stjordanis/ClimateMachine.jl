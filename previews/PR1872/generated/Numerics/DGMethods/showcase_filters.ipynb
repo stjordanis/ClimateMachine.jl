{
 "cells": [
  {
   "cell_type": "markdown",
   "source": [
    "# Filters\n",
    "In this tutorial we show the result of applying filters\n",
    "available in the CliMA codebase in a 1 dimensional box advection setup.\n",
    "See [Filters API](https://clima.github.io/ClimateMachine.jl/latest/APIs/Numerics/Meshes/Mesh/#Filters-1) for filters interface details."
   ],
   "metadata": {}
  },
  {
   "outputs": [],
   "cell_type": "code",
   "source": [
    "using ClimateMachine\n",
    "const clima_dir = dirname(dirname(pathof(ClimateMachine)));\n",
    "include(joinpath(clima_dir, \"tutorials\", \"Numerics\", \"DGMethods\", \"Box1D.jl\"))\n",
    "\n",
    "const FT = Float64\n",
    "\n",
    "output_dir = @__DIR__;\n",
    "mkpath(output_dir);"
   ],
   "metadata": {},
   "execution_count": 1
  },
  {
   "cell_type": "markdown",
   "source": [
    "The unfiltered result of the box advection test for order 4 polynomial with\n",
    "central flux is"
   ],
   "metadata": {}
  },
  {
   "outputs": [
    {
     "name": "stdout",
     "output_type": "stream",
     "text": [
      "┌ Info: Model composition\n",
      "│     param_set = Main.##372.EarthParameterSet()\n",
      "│     init_q = 0.0\n",
      "│     amplitude = 1.0\n",
      "│     velo = 1.0\n",
      "└ @ ClimateMachine /central/scratch/climaci/climatemachine-docs/409/climatemachine-docs/src/Driver/driver_configs.jl:103\n",
      "┌ Info: Defining `prognostic_vars` and\n",
      "│ `eq_tends` for Box1D will\n",
      "│ enable printing a table of tendencies.\n",
      "└ @ ClimateMachine.BalanceLaws /central/scratch/climaci/climatemachine-docs/409/climatemachine-docs/src/BalanceLaws/show_tendencies.jl:62\n",
      "┌ Info: Establishing single stack configuration for Box1D\n",
      "│     precision              = Float64\n",
      "│     horiz polynomial order = 4\n",
      "│     vert polynomial order  = 4\n",
      "│     domain_min             = 0.00 m x0.00 m x0.00 m\n",
      "│     domain_max             = 1.00 m x1.00 m x350.00 m\n",
      "│     # vert elems           = 128\n",
      "│     MPI ranks              = 1\n",
      "│     min(Δ_horz)            = 0.17 m\n",
      "│     min(Δ_vert)            = 0.47 m\n",
      "└ @ ClimateMachine /central/scratch/climaci/climatemachine-docs/409/climatemachine-docs/src/Driver/driver_configs.jl:400\n",
      "┌ Info: Initializing Box1D\n",
      "└ @ ClimateMachine /central/scratch/climaci/climatemachine-docs/409/climatemachine-docs/src/Driver/solver_configs.jl:165\n",
      "┌ Info: Starting Box1D\n",
      "│     dt              = 4.71698e-01\n",
      "│     timeend         =   450.00\n",
      "│     number of steps = 954\n",
      "│     norm(Q)         = 7.0845587175365097e+00\n",
      "└ @ ClimateMachine /central/scratch/climaci/climatemachine-docs/409/climatemachine-docs/src/Driver/Driver.jl:697\n",
      "┌ Info: Finished\n",
      "│     norm(Q)            = 7.0629054001769571e+00\n",
      "│     norm(Q) / norm(Q₀) = 9.9694358982360409e-01\n",
      "│     norm(Q) - norm(Q₀) = -2.1653317359552560e-02\n",
      "└ @ ClimateMachine /central/scratch/climaci/climatemachine-docs/409/climatemachine-docs/src/Driver/Driver.jl:735\n",
      "┌ Info: Mass Conservation:\n",
      "│     initial mass          = 5.0190972222222605e+01\n",
      "│     final mass            = 5.0190972222224218e+01\n",
      "│     difference            = 1.6129320101754274e-12\n",
      "│     normalized difference = 3.2135898922900007e-14\n",
      "└ @ Main.##372 /central/scratch/climaci/climatemachine-docs/409/climatemachine-docs/tutorials/Numerics/DGMethods/Box1D.jl:276\n"
     ]
    }
   ],
   "cell_type": "code",
   "source": [
    "run_box1D(\n",
    "    4,\n",
    "    FT(0.0),\n",
    "    FT(1.0),\n",
    "    FT(1.0),\n",
    "    joinpath(output_dir, \"box_1D_4_no_filter.svg\"),\n",
    ")"
   ],
   "metadata": {},
   "execution_count": 2
  },
  {
   "cell_type": "markdown",
   "source": [
    "![](box_1D_4_no_filter.svg)"
   ],
   "metadata": {}
  },
  {
   "cell_type": "markdown",
   "source": [
    "The unfiltered result of the box advection test for order 4 polynomial with\n",
    "Rusanov flux (aka upwinding for advection) is"
   ],
   "metadata": {}
  },
  {
   "outputs": [
    {
     "name": "stdout",
     "output_type": "stream",
     "text": [
      "┌ Info: Model composition\n",
      "│     param_set = Main.##372.EarthParameterSet()\n",
      "│     init_q = 0.0\n",
      "│     amplitude = 1.0\n",
      "│     velo = 1.0\n",
      "└ @ ClimateMachine /central/scratch/climaci/climatemachine-docs/409/climatemachine-docs/src/Driver/driver_configs.jl:103\n",
      "┌ Info: Defining `prognostic_vars` and\n",
      "│ `eq_tends` for Box1D will\n",
      "│ enable printing a table of tendencies.\n",
      "└ @ ClimateMachine.BalanceLaws /central/scratch/climaci/climatemachine-docs/409/climatemachine-docs/src/BalanceLaws/show_tendencies.jl:62\n",
      "┌ Info: Establishing single stack configuration for Box1D\n",
      "│     precision              = Float64\n",
      "│     horiz polynomial order = 4\n",
      "│     vert polynomial order  = 4\n",
      "│     domain_min             = 0.00 m x0.00 m x0.00 m\n",
      "│     domain_max             = 1.00 m x1.00 m x350.00 m\n",
      "│     # vert elems           = 128\n",
      "│     MPI ranks              = 1\n",
      "│     min(Δ_horz)            = 0.17 m\n",
      "│     min(Δ_vert)            = 0.47 m\n",
      "└ @ ClimateMachine /central/scratch/climaci/climatemachine-docs/409/climatemachine-docs/src/Driver/driver_configs.jl:400\n",
      "┌ Info: Initializing Box1D\n",
      "└ @ ClimateMachine /central/scratch/climaci/climatemachine-docs/409/climatemachine-docs/src/Driver/solver_configs.jl:165\n",
      "┌ Info: Starting Box1D\n",
      "│     dt              = 4.71698e-01\n",
      "│     timeend         =   450.00\n",
      "│     number of steps = 954\n",
      "│     norm(Q)         = 7.0845587175365097e+00\n",
      "└ @ ClimateMachine /central/scratch/climaci/climatemachine-docs/409/climatemachine-docs/src/Driver/Driver.jl:697\n",
      "┌ Info: Finished\n",
      "│     norm(Q)            = 7.0513534001494413e+00\n",
      "│     norm(Q) / norm(Q₀) = 9.9531300131582301e-01\n",
      "│     norm(Q) - norm(Q₀) = -3.3205317387068334e-02\n",
      "└ @ ClimateMachine /central/scratch/climaci/climatemachine-docs/409/climatemachine-docs/src/Driver/Driver.jl:735\n",
      "┌ Info: Mass Conservation:\n",
      "│     initial mass          = 5.0190972222222605e+01\n",
      "│     final mass            = 5.0190972222224502e+01\n",
      "│     difference            = 1.8971491044794675e-12\n",
      "│     normalized difference = 3.7798612389490313e-14\n",
      "└ @ Main.##372 /central/scratch/climaci/climatemachine-docs/409/climatemachine-docs/tutorials/Numerics/DGMethods/Box1D.jl:276\n"
     ]
    }
   ],
   "cell_type": "code",
   "source": [
    "run_box1D(\n",
    "    4,\n",
    "    FT(0.0),\n",
    "    FT(1.0),\n",
    "    FT(1.0),\n",
    "    joinpath(output_dir, \"box_1D_4_no_filter_upwind.svg\"),\n",
    "    numerical_flux_first_order = RusanovNumericalFlux(),\n",
    ")"
   ],
   "metadata": {},
   "execution_count": 3
  },
  {
   "cell_type": "markdown",
   "source": [
    "![](box_1D_4_no_filter_upwind.svg)"
   ],
   "metadata": {}
  },
  {
   "cell_type": "markdown",
   "source": [
    "Below we show results for the same box advection test\n",
    "but using different filters.\n",
    "\n",
    "As seen in the results, when the TMAR filter is used mass is not necessarily\n",
    "conserved (mass increases are possible)."
   ],
   "metadata": {}
  },
  {
   "cell_type": "markdown",
   "source": [
    "`TMARFilter()` with central numerical flux:"
   ],
   "metadata": {}
  },
  {
   "outputs": [
    {
     "name": "stdout",
     "output_type": "stream",
     "text": [
      "┌ Info: Model composition\n",
      "│     param_set = Main.##372.EarthParameterSet()\n",
      "│     init_q = 0.0\n",
      "│     amplitude = 1.0\n",
      "│     velo = 1.0\n",
      "└ @ ClimateMachine /central/scratch/climaci/climatemachine-docs/409/climatemachine-docs/src/Driver/driver_configs.jl:103\n",
      "┌ Info: Defining `prognostic_vars` and\n",
      "│ `eq_tends` for Box1D will\n",
      "│ enable printing a table of tendencies.\n",
      "└ @ ClimateMachine.BalanceLaws /central/scratch/climaci/climatemachine-docs/409/climatemachine-docs/src/BalanceLaws/show_tendencies.jl:62\n",
      "┌ Info: Establishing single stack configuration for Box1D\n",
      "│     precision              = Float64\n",
      "│     horiz polynomial order = 4\n",
      "│     vert polynomial order  = 4\n",
      "│     domain_min             = 0.00 m x0.00 m x0.00 m\n",
      "│     domain_max             = 1.00 m x1.00 m x350.00 m\n",
      "│     # vert elems           = 128\n",
      "│     MPI ranks              = 1\n",
      "│     min(Δ_horz)            = 0.17 m\n",
      "│     min(Δ_vert)            = 0.47 m\n",
      "└ @ ClimateMachine /central/scratch/climaci/climatemachine-docs/409/climatemachine-docs/src/Driver/driver_configs.jl:400\n",
      "┌ Info: Initializing Box1D\n",
      "└ @ ClimateMachine /central/scratch/climaci/climatemachine-docs/409/climatemachine-docs/src/Driver/solver_configs.jl:165\n",
      "┌ Info: Starting Box1D\n",
      "│     dt              = 4.71698e-01\n",
      "│     timeend         =   450.00\n",
      "│     number of steps = 954\n",
      "│     norm(Q)         = 7.0845587175365097e+00\n",
      "└ @ ClimateMachine /central/scratch/climaci/climatemachine-docs/409/climatemachine-docs/src/Driver/Driver.jl:697\n",
      "┌ Info: Finished\n",
      "│     norm(Q)            = 7.0284834766751576e+00\n",
      "│     norm(Q) / norm(Q₀) = 9.9208486468994206e-01\n",
      "│     norm(Q) - norm(Q₀) = -5.6075240861352071e-02\n",
      "└ @ ClimateMachine /central/scratch/climaci/climatemachine-docs/409/climatemachine-docs/src/Driver/Driver.jl:735\n",
      "┌ Info: Mass Conservation:\n",
      "│     initial mass          = 5.0190972222222605e+01\n",
      "│     final mass            = 5.0273717773327995e+01\n",
      "│     difference            = 8.2745551105389836e-02\n",
      "│     normalized difference = 1.6486142316397157e-03\n",
      "└ @ Main.##372 /central/scratch/climaci/climatemachine-docs/409/climatemachine-docs/tutorials/Numerics/DGMethods/Box1D.jl:276\n"
     ]
    }
   ],
   "cell_type": "code",
   "source": [
    "run_box1D(\n",
    "    4,\n",
    "    FT(0.0),\n",
    "    FT(1.0),\n",
    "    FT(1.0),\n",
    "    joinpath(output_dir, \"box_1D_4_tmar.svg\");\n",
    "    tmar_filter = true,\n",
    ")"
   ],
   "metadata": {},
   "execution_count": 4
  },
  {
   "cell_type": "markdown",
   "source": [
    "![](box_1D_4_tmar.svg)"
   ],
   "metadata": {}
  },
  {
   "cell_type": "markdown",
   "source": [
    "Running the TMAR filter with Rusanov the mass conservation since some of the\n",
    "are reduced, but mass is still not conserved.\n",
    "`TMARFilter()` with Rusanov numerical flux:"
   ],
   "metadata": {}
  },
  {
   "outputs": [
    {
     "name": "stdout",
     "output_type": "stream",
     "text": [
      "┌ Info: Model composition\n",
      "│     param_set = Main.##372.EarthParameterSet()\n",
      "│     init_q = 0.0\n",
      "│     amplitude = 1.0\n",
      "│     velo = 1.0\n",
      "└ @ ClimateMachine /central/scratch/climaci/climatemachine-docs/409/climatemachine-docs/src/Driver/driver_configs.jl:103\n",
      "┌ Info: Defining `prognostic_vars` and\n",
      "│ `eq_tends` for Box1D will\n",
      "│ enable printing a table of tendencies.\n",
      "└ @ ClimateMachine.BalanceLaws /central/scratch/climaci/climatemachine-docs/409/climatemachine-docs/src/BalanceLaws/show_tendencies.jl:62\n",
      "┌ Info: Establishing single stack configuration for Box1D\n",
      "│     precision              = Float64\n",
      "│     horiz polynomial order = 4\n",
      "│     vert polynomial order  = 4\n",
      "│     domain_min             = 0.00 m x0.00 m x0.00 m\n",
      "│     domain_max             = 1.00 m x1.00 m x350.00 m\n",
      "│     # vert elems           = 128\n",
      "│     MPI ranks              = 1\n",
      "│     min(Δ_horz)            = 0.17 m\n",
      "│     min(Δ_vert)            = 0.47 m\n",
      "└ @ ClimateMachine /central/scratch/climaci/climatemachine-docs/409/climatemachine-docs/src/Driver/driver_configs.jl:400\n",
      "┌ Info: Initializing Box1D\n",
      "└ @ ClimateMachine /central/scratch/climaci/climatemachine-docs/409/climatemachine-docs/src/Driver/solver_configs.jl:165\n",
      "┌ Info: Starting Box1D\n",
      "│     dt              = 4.71698e-01\n",
      "│     timeend         =   450.00\n",
      "│     number of steps = 954\n",
      "│     norm(Q)         = 7.0845587175365097e+00\n",
      "└ @ ClimateMachine /central/scratch/climaci/climatemachine-docs/409/climatemachine-docs/src/Driver/Driver.jl:697\n",
      "┌ Info: Finished\n",
      "│     norm(Q)            = 7.0195965557948785e+00\n",
      "│     norm(Q) / norm(Q₀) = 9.9083045757234967e-01\n",
      "│     norm(Q) - norm(Q₀) = -6.4962161741631164e-02\n",
      "└ @ ClimateMachine /central/scratch/climaci/climatemachine-docs/409/climatemachine-docs/src/Driver/Driver.jl:735\n",
      "┌ Info: Mass Conservation:\n",
      "│     initial mass          = 5.0190972222222605e+01\n",
      "│     final mass            = 5.0231802188006426e+01\n",
      "│     difference            = 4.0829965783821365e-02\n",
      "│     normalized difference = 8.1349222730822993e-04\n",
      "└ @ Main.##372 /central/scratch/climaci/climatemachine-docs/409/climatemachine-docs/tutorials/Numerics/DGMethods/Box1D.jl:276\n"
     ]
    }
   ],
   "cell_type": "code",
   "source": [
    "run_box1D(\n",
    "    4,\n",
    "    FT(0.0),\n",
    "    FT(1.0),\n",
    "    FT(1.0),\n",
    "    joinpath(output_dir, \"box_1D_4_tmar_upwind.svg\");\n",
    "    tmar_filter = true,\n",
    "    numerical_flux_first_order = RusanovNumericalFlux(),\n",
    ")"
   ],
   "metadata": {},
   "execution_count": 5
  },
  {
   "cell_type": "markdown",
   "source": [
    "![](box_1D_4_tmar_upwind.svg)"
   ],
   "metadata": {}
  },
  {
   "cell_type": "markdown",
   "source": [
    "`CutoffFilter(grid, Nc=1)` with central numerical flux:"
   ],
   "metadata": {}
  },
  {
   "outputs": [
    {
     "name": "stdout",
     "output_type": "stream",
     "text": [
      "┌ Info: Model composition\n",
      "│     param_set = Main.##372.EarthParameterSet()\n",
      "│     init_q = 0.0\n",
      "│     amplitude = 1.0\n",
      "│     velo = 1.0\n",
      "└ @ ClimateMachine /central/scratch/climaci/climatemachine-docs/409/climatemachine-docs/src/Driver/driver_configs.jl:103\n",
      "┌ Info: Defining `prognostic_vars` and\n",
      "│ `eq_tends` for Box1D will\n",
      "│ enable printing a table of tendencies.\n",
      "└ @ ClimateMachine.BalanceLaws /central/scratch/climaci/climatemachine-docs/409/climatemachine-docs/src/BalanceLaws/show_tendencies.jl:62\n",
      "┌ Info: Establishing single stack configuration for Box1D\n",
      "│     precision              = Float64\n",
      "│     horiz polynomial order = 4\n",
      "│     vert polynomial order  = 4\n",
      "│     domain_min             = 0.00 m x0.00 m x0.00 m\n",
      "│     domain_max             = 1.00 m x1.00 m x350.00 m\n",
      "│     # vert elems           = 128\n",
      "│     MPI ranks              = 1\n",
      "│     min(Δ_horz)            = 0.17 m\n",
      "│     min(Δ_vert)            = 0.47 m\n",
      "└ @ ClimateMachine /central/scratch/climaci/climatemachine-docs/409/climatemachine-docs/src/Driver/driver_configs.jl:400\n",
      "┌ Info: Initializing Box1D\n",
      "└ @ ClimateMachine /central/scratch/climaci/climatemachine-docs/409/climatemachine-docs/src/Driver/solver_configs.jl:165\n",
      "┌ Info: Starting Box1D\n",
      "│     dt              = 4.71698e-01\n",
      "│     timeend         =   450.00\n",
      "│     number of steps = 954\n",
      "│     norm(Q)         = 7.0845587175365097e+00\n",
      "└ @ ClimateMachine /central/scratch/climaci/climatemachine-docs/409/climatemachine-docs/src/Driver/Driver.jl:697\n",
      "┌ Info: Finished\n",
      "│     norm(Q)            = 4.3749269099663559e+00\n",
      "│     norm(Q) / norm(Q₀) = 6.1752991038623717e-01\n",
      "│     norm(Q) - norm(Q₀) = -2.7096318075701538e+00\n",
      "└ @ ClimateMachine /central/scratch/climaci/climatemachine-docs/409/climatemachine-docs/src/Driver/Driver.jl:735\n",
      "┌ Info: Mass Conservation:\n",
      "│     initial mass          = 5.0190972222222605e+01\n",
      "│     final mass            = 5.0190972222220267e+01\n",
      "│     difference            = -2.3376856006507296e-12\n",
      "│     normalized difference = -4.6575818262705289e-14\n",
      "└ @ Main.##372 /central/scratch/climaci/climatemachine-docs/409/climatemachine-docs/tutorials/Numerics/DGMethods/Box1D.jl:276\n"
     ]
    }
   ],
   "cell_type": "code",
   "source": [
    "run_box1D(\n",
    "    4,\n",
    "    FT(0.0),\n",
    "    FT(1.0),\n",
    "    FT(1.0),\n",
    "    joinpath(output_dir, \"box_1D_4_cutoff_1.svg\");\n",
    "    cutoff_filter = true,\n",
    "    cutoff_param = 1,\n",
    ")"
   ],
   "metadata": {},
   "execution_count": 6
  },
  {
   "cell_type": "markdown",
   "source": [
    "![](box_1D_4_cutoff_1.svg)"
   ],
   "metadata": {}
  },
  {
   "cell_type": "markdown",
   "source": [
    "`CutoffFilter(grid, Nc=3)` with central numerical flux:"
   ],
   "metadata": {}
  },
  {
   "outputs": [
    {
     "name": "stdout",
     "output_type": "stream",
     "text": [
      "┌ Info: Model composition\n",
      "│     param_set = Main.##372.EarthParameterSet()\n",
      "│     init_q = 0.0\n",
      "│     amplitude = 1.0\n",
      "│     velo = 1.0\n",
      "└ @ ClimateMachine /central/scratch/climaci/climatemachine-docs/409/climatemachine-docs/src/Driver/driver_configs.jl:103\n",
      "┌ Info: Defining `prognostic_vars` and\n",
      "│ `eq_tends` for Box1D will\n",
      "│ enable printing a table of tendencies.\n",
      "└ @ ClimateMachine.BalanceLaws /central/scratch/climaci/climatemachine-docs/409/climatemachine-docs/src/BalanceLaws/show_tendencies.jl:62\n",
      "┌ Info: Establishing single stack configuration for Box1D\n",
      "│     precision              = Float64\n",
      "│     horiz polynomial order = 4\n",
      "│     vert polynomial order  = 4\n",
      "│     domain_min             = 0.00 m x0.00 m x0.00 m\n",
      "│     domain_max             = 1.00 m x1.00 m x350.00 m\n",
      "│     # vert elems           = 128\n",
      "│     MPI ranks              = 1\n",
      "│     min(Δ_horz)            = 0.17 m\n",
      "│     min(Δ_vert)            = 0.47 m\n",
      "└ @ ClimateMachine /central/scratch/climaci/climatemachine-docs/409/climatemachine-docs/src/Driver/driver_configs.jl:400\n",
      "┌ Info: Initializing Box1D\n",
      "└ @ ClimateMachine /central/scratch/climaci/climatemachine-docs/409/climatemachine-docs/src/Driver/solver_configs.jl:165\n",
      "┌ Info: Starting Box1D\n",
      "│     dt              = 4.71698e-01\n",
      "│     timeend         =   450.00\n",
      "│     number of steps = 954\n",
      "│     norm(Q)         = 7.0845587175365097e+00\n",
      "└ @ ClimateMachine /central/scratch/climaci/climatemachine-docs/409/climatemachine-docs/src/Driver/Driver.jl:697\n",
      "┌ Info: Finished\n",
      "│     norm(Q)            = 7.0138240459750643e+00\n",
      "│     norm(Q) / norm(Q₀) = 9.9001565596649588e-01\n",
      "│     norm(Q) - norm(Q₀) = -7.0734671561445417e-02\n",
      "└ @ ClimateMachine /central/scratch/climaci/climatemachine-docs/409/climatemachine-docs/src/Driver/Driver.jl:735\n",
      "┌ Info: Mass Conservation:\n",
      "│     initial mass          = 5.0190972222222605e+01\n",
      "│     final mass            = 5.0190972222238941e+01\n",
      "│     difference            = 1.6335377495124703e-11\n",
      "│     normalized difference = 3.2546445649227800e-13\n",
      "└ @ Main.##372 /central/scratch/climaci/climatemachine-docs/409/climatemachine-docs/tutorials/Numerics/DGMethods/Box1D.jl:276\n"
     ]
    }
   ],
   "cell_type": "code",
   "source": [
    "run_box1D(\n",
    "    4,\n",
    "    FT(0.0),\n",
    "    FT(1.0),\n",
    "    FT(1.0),\n",
    "    joinpath(output_dir, \"box_1D_4_cutoff_3.svg\");\n",
    "    cutoff_filter = true,\n",
    "    cutoff_param = 3,\n",
    ")"
   ],
   "metadata": {},
   "execution_count": 7
  },
  {
   "cell_type": "markdown",
   "source": [
    "![](box_1D_4_cutoff_3.svg)"
   ],
   "metadata": {}
  },
  {
   "cell_type": "markdown",
   "source": [
    "`ExponentialFilter(grid, Nc=1, s=4)` with central numerical flux:"
   ],
   "metadata": {}
  },
  {
   "outputs": [
    {
     "name": "stdout",
     "output_type": "stream",
     "text": [
      "┌ Info: Model composition\n",
      "│     param_set = Main.##372.EarthParameterSet()\n",
      "│     init_q = 0.0\n",
      "│     amplitude = 1.0\n",
      "│     velo = 1.0\n",
      "└ @ ClimateMachine /central/scratch/climaci/climatemachine-docs/409/climatemachine-docs/src/Driver/driver_configs.jl:103\n",
      "┌ Info: Defining `prognostic_vars` and\n",
      "│ `eq_tends` for Box1D will\n",
      "│ enable printing a table of tendencies.\n",
      "└ @ ClimateMachine.BalanceLaws /central/scratch/climaci/climatemachine-docs/409/climatemachine-docs/src/BalanceLaws/show_tendencies.jl:62\n",
      "┌ Info: Establishing single stack configuration for Box1D\n",
      "│     precision              = Float64\n",
      "│     horiz polynomial order = 4\n",
      "│     vert polynomial order  = 4\n",
      "│     domain_min             = 0.00 m x0.00 m x0.00 m\n",
      "│     domain_max             = 1.00 m x1.00 m x350.00 m\n",
      "│     # vert elems           = 128\n",
      "│     MPI ranks              = 1\n",
      "│     min(Δ_horz)            = 0.17 m\n",
      "│     min(Δ_vert)            = 0.47 m\n",
      "└ @ ClimateMachine /central/scratch/climaci/climatemachine-docs/409/climatemachine-docs/src/Driver/driver_configs.jl:400\n",
      "┌ Info: Initializing Box1D\n",
      "└ @ ClimateMachine /central/scratch/climaci/climatemachine-docs/409/climatemachine-docs/src/Driver/solver_configs.jl:165\n",
      "┌ Info: Starting Box1D\n",
      "│     dt              = 4.71698e-01\n",
      "│     timeend         =   450.00\n",
      "│     number of steps = 954\n",
      "│     norm(Q)         = 7.0845587175365097e+00\n",
      "└ @ ClimateMachine /central/scratch/climaci/climatemachine-docs/409/climatemachine-docs/src/Driver/Driver.jl:697\n",
      "┌ Info: Finished\n",
      "│     norm(Q)            = 6.9333444856505588e+00\n",
      "│     norm(Q) / norm(Q₀) = 9.7865580088825466e-01\n",
      "│     norm(Q) - norm(Q₀) = -1.5121423188595084e-01\n",
      "└ @ ClimateMachine /central/scratch/climaci/climatemachine-docs/409/climatemachine-docs/src/Driver/Driver.jl:735\n",
      "┌ Info: Mass Conservation:\n",
      "│     initial mass          = 5.0190972222222605e+01\n",
      "│     final mass            = 5.0190972222221319e+01\n",
      "│     difference            = -1.2860823517257813e-12\n",
      "│     normalized difference = -2.5623778436321147e-14\n",
      "└ @ Main.##372 /central/scratch/climaci/climatemachine-docs/409/climatemachine-docs/tutorials/Numerics/DGMethods/Box1D.jl:276\n"
     ]
    }
   ],
   "cell_type": "code",
   "source": [
    "run_box1D(\n",
    "    4,\n",
    "    FT(0.0),\n",
    "    FT(1.0),\n",
    "    FT(1.0),\n",
    "    joinpath(output_dir, \"box_1D_4_exp_1_4.svg\");\n",
    "    exp_filter = true,\n",
    "    exp_param_1 = 1,\n",
    "    exp_param_2 = 4,\n",
    ")"
   ],
   "metadata": {},
   "execution_count": 8
  },
  {
   "cell_type": "markdown",
   "source": [
    "![](box_1D_4_exp_1_4.svg)"
   ],
   "metadata": {}
  },
  {
   "cell_type": "markdown",
   "source": [
    "`ExponentialFilter(grid, Nc=1, s=8)` with central numerical flux:"
   ],
   "metadata": {}
  },
  {
   "outputs": [
    {
     "name": "stdout",
     "output_type": "stream",
     "text": [
      "┌ Info: Model composition\n",
      "│     param_set = Main.##372.EarthParameterSet()\n",
      "│     init_q = 0.0\n",
      "│     amplitude = 1.0\n",
      "│     velo = 1.0\n",
      "└ @ ClimateMachine /central/scratch/climaci/climatemachine-docs/409/climatemachine-docs/src/Driver/driver_configs.jl:103\n",
      "┌ Info: Defining `prognostic_vars` and\n",
      "│ `eq_tends` for Box1D will\n",
      "│ enable printing a table of tendencies.\n",
      "└ @ ClimateMachine.BalanceLaws /central/scratch/climaci/climatemachine-docs/409/climatemachine-docs/src/BalanceLaws/show_tendencies.jl:62\n",
      "┌ Info: Establishing single stack configuration for Box1D\n",
      "│     precision              = Float64\n",
      "│     horiz polynomial order = 4\n",
      "│     vert polynomial order  = 4\n",
      "│     domain_min             = 0.00 m x0.00 m x0.00 m\n",
      "│     domain_max             = 1.00 m x1.00 m x350.00 m\n",
      "│     # vert elems           = 128\n",
      "│     MPI ranks              = 1\n",
      "│     min(Δ_horz)            = 0.17 m\n",
      "│     min(Δ_vert)            = 0.47 m\n",
      "└ @ ClimateMachine /central/scratch/climaci/climatemachine-docs/409/climatemachine-docs/src/Driver/driver_configs.jl:400\n",
      "┌ Info: Initializing Box1D\n",
      "└ @ ClimateMachine /central/scratch/climaci/climatemachine-docs/409/climatemachine-docs/src/Driver/solver_configs.jl:165\n",
      "┌ Info: Starting Box1D\n",
      "│     dt              = 4.71698e-01\n",
      "│     timeend         =   450.00\n",
      "│     number of steps = 954\n",
      "│     norm(Q)         = 7.0845587175365097e+00\n",
      "└ @ ClimateMachine /central/scratch/climaci/climatemachine-docs/409/climatemachine-docs/src/Driver/Driver.jl:697\n",
      "┌ Info: Finished\n",
      "│     norm(Q)            = 7.0143099503307367e+00\n",
      "│     norm(Q) / norm(Q₀) = 9.9008424236334081e-01\n",
      "│     norm(Q) - norm(Q₀) = -7.0248767205772999e-02\n",
      "└ @ ClimateMachine /central/scratch/climaci/climatemachine-docs/409/climatemachine-docs/src/Driver/Driver.jl:735\n",
      "┌ Info: Mass Conservation:\n",
      "│     initial mass          = 5.0190972222222605e+01\n",
      "│     final mass            = 5.0190972222237889e+01\n",
      "│     difference            = 1.5283774246199755e-11\n",
      "│     normalized difference = 3.0451241666589387e-13\n",
      "└ @ Main.##372 /central/scratch/climaci/climatemachine-docs/409/climatemachine-docs/tutorials/Numerics/DGMethods/Box1D.jl:276\n"
     ]
    }
   ],
   "cell_type": "code",
   "source": [
    "run_box1D(\n",
    "    4,\n",
    "    FT(0.0),\n",
    "    FT(1.0),\n",
    "    FT(1.0),\n",
    "    joinpath(output_dir, \"box_1D_4_exp_1_8.svg\");\n",
    "    exp_filter = true,\n",
    "    exp_param_1 = 1,\n",
    "    exp_param_2 = 8,\n",
    ")"
   ],
   "metadata": {},
   "execution_count": 9
  },
  {
   "cell_type": "markdown",
   "source": [
    "![](box_1D_4_exp_1_8.svg)"
   ],
   "metadata": {}
  },
  {
   "cell_type": "markdown",
   "source": [
    "`ExponentialFilter(grid, Nc=1, s=32)` with central numerical flux:"
   ],
   "metadata": {}
  },
  {
   "outputs": [
    {
     "name": "stdout",
     "output_type": "stream",
     "text": [
      "┌ Info: Model composition\n",
      "│     param_set = Main.##372.EarthParameterSet()\n",
      "│     init_q = 0.0\n",
      "│     amplitude = 1.0\n",
      "│     velo = 1.0\n",
      "└ @ ClimateMachine /central/scratch/climaci/climatemachine-docs/409/climatemachine-docs/src/Driver/driver_configs.jl:103\n",
      "┌ Info: Defining `prognostic_vars` and\n",
      "│ `eq_tends` for Box1D will\n",
      "│ enable printing a table of tendencies.\n",
      "└ @ ClimateMachine.BalanceLaws /central/scratch/climaci/climatemachine-docs/409/climatemachine-docs/src/BalanceLaws/show_tendencies.jl:62\n",
      "┌ Info: Establishing single stack configuration for Box1D\n",
      "│     precision              = Float64\n",
      "│     horiz polynomial order = 4\n",
      "│     vert polynomial order  = 4\n",
      "│     domain_min             = 0.00 m x0.00 m x0.00 m\n",
      "│     domain_max             = 1.00 m x1.00 m x350.00 m\n",
      "│     # vert elems           = 128\n",
      "│     MPI ranks              = 1\n",
      "│     min(Δ_horz)            = 0.17 m\n",
      "│     min(Δ_vert)            = 0.47 m\n",
      "└ @ ClimateMachine /central/scratch/climaci/climatemachine-docs/409/climatemachine-docs/src/Driver/driver_configs.jl:400\n",
      "┌ Info: Initializing Box1D\n",
      "└ @ ClimateMachine /central/scratch/climaci/climatemachine-docs/409/climatemachine-docs/src/Driver/solver_configs.jl:165\n",
      "┌ Info: Starting Box1D\n",
      "│     dt              = 4.71698e-01\n",
      "│     timeend         =   450.00\n",
      "│     number of steps = 954\n",
      "│     norm(Q)         = 7.0845587175365097e+00\n",
      "└ @ ClimateMachine /central/scratch/climaci/climatemachine-docs/409/climatemachine-docs/src/Driver/Driver.jl:697\n",
      "┌ Info: Finished\n",
      "│     norm(Q)            = 7.0543517922303485e+00\n",
      "│     norm(Q) / norm(Q₀) = 9.9573623051053417e-01\n",
      "│     norm(Q) - norm(Q₀) = -3.0206925306161203e-02\n",
      "└ @ ClimateMachine /central/scratch/climaci/climatemachine-docs/409/climatemachine-docs/src/Driver/Driver.jl:735\n",
      "┌ Info: Mass Conservation:\n",
      "│     initial mass          = 5.0190972222222605e+01\n",
      "│     final mass            = 5.0190972222231721e+01\n",
      "│     difference            = 9.1162632998020854e-12\n",
      "│     normalized difference = 1.8163153444088415e-13\n",
      "└ @ Main.##372 /central/scratch/climaci/climatemachine-docs/409/climatemachine-docs/tutorials/Numerics/DGMethods/Box1D.jl:276\n"
     ]
    }
   ],
   "cell_type": "code",
   "source": [
    "run_box1D(\n",
    "    4,\n",
    "    FT(0.0),\n",
    "    FT(1.0),\n",
    "    FT(1.0),\n",
    "    joinpath(output_dir, \"box_1D_4_exp_1_32.svg\");\n",
    "    exp_filter = true,\n",
    "    exp_param_1 = 1,\n",
    "    exp_param_2 = 32,\n",
    ")"
   ],
   "metadata": {},
   "execution_count": 10
  },
  {
   "cell_type": "markdown",
   "source": [
    "![](box_1D_4_exp_1_32.svg)"
   ],
   "metadata": {}
  },
  {
   "cell_type": "markdown",
   "source": [
    "`BoydVandevenFilter(grid, Nc=1, s=4)` with central numerical flux:"
   ],
   "metadata": {}
  },
  {
   "outputs": [
    {
     "name": "stdout",
     "output_type": "stream",
     "text": [
      "┌ Info: Model composition\n",
      "│     param_set = Main.##372.EarthParameterSet()\n",
      "│     init_q = 0.0\n",
      "│     amplitude = 1.0\n",
      "│     velo = 1.0\n",
      "└ @ ClimateMachine /central/scratch/climaci/climatemachine-docs/409/climatemachine-docs/src/Driver/driver_configs.jl:103\n",
      "┌ Info: Defining `prognostic_vars` and\n",
      "│ `eq_tends` for Box1D will\n",
      "│ enable printing a table of tendencies.\n",
      "└ @ ClimateMachine.BalanceLaws /central/scratch/climaci/climatemachine-docs/409/climatemachine-docs/src/BalanceLaws/show_tendencies.jl:62\n",
      "┌ Info: Establishing single stack configuration for Box1D\n",
      "│     precision              = Float64\n",
      "│     horiz polynomial order = 4\n",
      "│     vert polynomial order  = 4\n",
      "│     domain_min             = 0.00 m x0.00 m x0.00 m\n",
      "│     domain_max             = 1.00 m x1.00 m x350.00 m\n",
      "│     # vert elems           = 128\n",
      "│     MPI ranks              = 1\n",
      "│     min(Δ_horz)            = 0.17 m\n",
      "│     min(Δ_vert)            = 0.47 m\n",
      "└ @ ClimateMachine /central/scratch/climaci/climatemachine-docs/409/climatemachine-docs/src/Driver/driver_configs.jl:400\n",
      "┌ Info: Initializing Box1D\n",
      "└ @ ClimateMachine /central/scratch/climaci/climatemachine-docs/409/climatemachine-docs/src/Driver/solver_configs.jl:165\n",
      "┌ Info: Starting Box1D\n",
      "│     dt              = 4.71698e-01\n",
      "│     timeend         =   450.00\n",
      "│     number of steps = 954\n",
      "│     norm(Q)         = 7.0845587175365097e+00\n",
      "└ @ ClimateMachine /central/scratch/climaci/climatemachine-docs/409/climatemachine-docs/src/Driver/Driver.jl:697\n",
      "┌ Info: Finished\n",
      "│     norm(Q)            = 6.9612435701255677e+00\n",
      "│     norm(Q) / norm(Q₀) = 9.8259381390887501e-01\n",
      "│     norm(Q) - norm(Q₀) = -1.2331514741094196e-01\n",
      "└ @ ClimateMachine /central/scratch/climaci/climatemachine-docs/409/climatemachine-docs/src/Driver/Driver.jl:735\n",
      "┌ Info: Mass Conservation:\n",
      "│     initial mass          = 5.0190972222222605e+01\n",
      "│     final mass            = 5.0190972222250650e+01\n",
      "│     difference            = 2.8045121780451154e-11\n",
      "│     normalized difference = 5.5876825131579874e-13\n",
      "└ @ Main.##372 /central/scratch/climaci/climatemachine-docs/409/climatemachine-docs/tutorials/Numerics/DGMethods/Box1D.jl:276\n"
     ]
    }
   ],
   "cell_type": "code",
   "source": [
    "run_box1D(\n",
    "    4,\n",
    "    FT(0.0),\n",
    "    FT(1.0),\n",
    "    FT(1.0),\n",
    "    joinpath(output_dir, \"box_1D_4_boyd_1_4.svg\");\n",
    "    boyd_filter = true,\n",
    "    boyd_param_1 = 1,\n",
    "    boyd_param_2 = 4,\n",
    ")"
   ],
   "metadata": {},
   "execution_count": 11
  },
  {
   "cell_type": "markdown",
   "source": [
    "![](box_1D_4_boyd_1_4.svg)"
   ],
   "metadata": {}
  },
  {
   "cell_type": "markdown",
   "source": [
    "`BoydVandevenFilter(grid, Nc=1, s=8)` with central numerical flux:"
   ],
   "metadata": {}
  },
  {
   "outputs": [
    {
     "name": "stdout",
     "output_type": "stream",
     "text": [
      "┌ Info: Model composition\n",
      "│     param_set = Main.##372.EarthParameterSet()\n",
      "│     init_q = 0.0\n",
      "│     amplitude = 1.0\n",
      "│     velo = 1.0\n",
      "└ @ ClimateMachine /central/scratch/climaci/climatemachine-docs/409/climatemachine-docs/src/Driver/driver_configs.jl:103\n",
      "┌ Info: Defining `prognostic_vars` and\n",
      "│ `eq_tends` for Box1D will\n",
      "│ enable printing a table of tendencies.\n",
      "└ @ ClimateMachine.BalanceLaws /central/scratch/climaci/climatemachine-docs/409/climatemachine-docs/src/BalanceLaws/show_tendencies.jl:62\n",
      "┌ Info: Establishing single stack configuration for Box1D\n",
      "│     precision              = Float64\n",
      "│     horiz polynomial order = 4\n",
      "│     vert polynomial order  = 4\n",
      "│     domain_min             = 0.00 m x0.00 m x0.00 m\n",
      "│     domain_max             = 1.00 m x1.00 m x350.00 m\n",
      "│     # vert elems           = 128\n",
      "│     MPI ranks              = 1\n",
      "│     min(Δ_horz)            = 0.17 m\n",
      "│     min(Δ_vert)            = 0.47 m\n",
      "└ @ ClimateMachine /central/scratch/climaci/climatemachine-docs/409/climatemachine-docs/src/Driver/driver_configs.jl:400\n",
      "┌ Info: Initializing Box1D\n",
      "└ @ ClimateMachine /central/scratch/climaci/climatemachine-docs/409/climatemachine-docs/src/Driver/solver_configs.jl:165\n",
      "┌ Info: Starting Box1D\n",
      "│     dt              = 4.71698e-01\n",
      "│     timeend         =   450.00\n",
      "│     number of steps = 954\n",
      "│     norm(Q)         = 7.0845587175365097e+00\n",
      "└ @ ClimateMachine /central/scratch/climaci/climatemachine-docs/409/climatemachine-docs/src/Driver/Driver.jl:697\n",
      "┌ Info: Finished\n",
      "│     norm(Q)            = 6.9798736717024275e+00\n",
      "│     norm(Q) / norm(Q₀) = 9.8522349097411621e-01\n",
      "│     norm(Q) - norm(Q₀) = -1.0468504583408222e-01\n",
      "└ @ ClimateMachine /central/scratch/climaci/climatemachine-docs/409/climatemachine-docs/src/Driver/Driver.jl:735\n",
      "┌ Info: Mass Conservation:\n",
      "│     initial mass          = 5.0190972222222605e+01\n",
      "│     final mass            = 5.0190972222227202e+01\n",
      "│     difference            = 4.5972115003678482e-12\n",
      "│     normalized difference = 9.1594390322098253e-14\n",
      "└ @ Main.##372 /central/scratch/climaci/climatemachine-docs/409/climatemachine-docs/tutorials/Numerics/DGMethods/Box1D.jl:276\n"
     ]
    }
   ],
   "cell_type": "code",
   "source": [
    "run_box1D(\n",
    "    4,\n",
    "    FT(0.0),\n",
    "    FT(1.0),\n",
    "    FT(1.0),\n",
    "    joinpath(output_dir, \"box_1D_4_boyd_1_8.svg\");\n",
    "    boyd_filter = true,\n",
    "    boyd_param_1 = 1,\n",
    "    boyd_param_2 = 8,\n",
    ")"
   ],
   "metadata": {},
   "execution_count": 12
  },
  {
   "cell_type": "markdown",
   "source": [
    "![](box_1D_4_boyd_1_8.svg)"
   ],
   "metadata": {}
  },
  {
   "cell_type": "markdown",
   "source": [
    "`BoydVandevenFilter(grid, Nc=1, s=32)` with central numerical flux:"
   ],
   "metadata": {}
  },
  {
   "outputs": [
    {
     "name": "stdout",
     "output_type": "stream",
     "text": [
      "┌ Info: Model composition\n",
      "│     param_set = Main.##372.EarthParameterSet()\n",
      "│     init_q = 0.0\n",
      "│     amplitude = 1.0\n",
      "│     velo = 1.0\n",
      "└ @ ClimateMachine /central/scratch/climaci/climatemachine-docs/409/climatemachine-docs/src/Driver/driver_configs.jl:103\n",
      "┌ Info: Defining `prognostic_vars` and\n",
      "│ `eq_tends` for Box1D will\n",
      "│ enable printing a table of tendencies.\n",
      "└ @ ClimateMachine.BalanceLaws /central/scratch/climaci/climatemachine-docs/409/climatemachine-docs/src/BalanceLaws/show_tendencies.jl:62\n",
      "┌ Info: Establishing single stack configuration for Box1D\n",
      "│     precision              = Float64\n",
      "│     horiz polynomial order = 4\n",
      "│     vert polynomial order  = 4\n",
      "│     domain_min             = 0.00 m x0.00 m x0.00 m\n",
      "│     domain_max             = 1.00 m x1.00 m x350.00 m\n",
      "│     # vert elems           = 128\n",
      "│     MPI ranks              = 1\n",
      "│     min(Δ_horz)            = 0.17 m\n",
      "│     min(Δ_vert)            = 0.47 m\n",
      "└ @ ClimateMachine /central/scratch/climaci/climatemachine-docs/409/climatemachine-docs/src/Driver/driver_configs.jl:400\n",
      "┌ Info: Initializing Box1D\n",
      "└ @ ClimateMachine /central/scratch/climaci/climatemachine-docs/409/climatemachine-docs/src/Driver/solver_configs.jl:165\n",
      "┌ Info: Starting Box1D\n",
      "│     dt              = 4.71698e-01\n",
      "│     timeend         =   450.00\n",
      "│     number of steps = 954\n",
      "│     norm(Q)         = 7.0845587175365097e+00\n",
      "└ @ ClimateMachine /central/scratch/climaci/climatemachine-docs/409/climatemachine-docs/src/Driver/Driver.jl:697\n",
      "┌ Info: Finished\n",
      "│     norm(Q)            = 7.0120419256480178e+00\n",
      "│     norm(Q) / norm(Q₀) = 9.8976410602554676e-01\n",
      "│     norm(Q) - norm(Q₀) = -7.2516791888491916e-02\n",
      "└ @ ClimateMachine /central/scratch/climaci/climatemachine-docs/409/climatemachine-docs/src/Driver/Driver.jl:735\n",
      "┌ Info: Mass Conservation:\n",
      "│     initial mass          = 5.0190972222222605e+01\n",
      "│     final mass            = 5.0190972222248625e+01\n",
      "│     difference            = 2.6020074983534869e-11\n",
      "│     normalized difference = 5.1842141786634284e-13\n",
      "└ @ Main.##372 /central/scratch/climaci/climatemachine-docs/409/climatemachine-docs/tutorials/Numerics/DGMethods/Box1D.jl:276\n"
     ]
    }
   ],
   "cell_type": "code",
   "source": [
    "run_box1D(\n",
    "    4,\n",
    "    FT(0.0),\n",
    "    FT(1.0),\n",
    "    FT(1.0),\n",
    "    joinpath(output_dir, \"box_1D_4_boyd_1_32.svg\");\n",
    "    boyd_filter = true,\n",
    "    boyd_param_1 = 1,\n",
    "    boyd_param_2 = 32,\n",
    ")"
   ],
   "metadata": {},
   "execution_count": 13
  },
  {
   "cell_type": "markdown",
   "source": [
    "![](box_1D_4_boyd_1_32.svg)"
   ],
   "metadata": {}
  },
  {
   "cell_type": "markdown",
   "source": [
    "`ExponentialFilter(grid, Nc=1, s=8)` and `TMARFilter()` with central numerical\n",
    "flux:"
   ],
   "metadata": {}
  },
  {
   "outputs": [
    {
     "name": "stdout",
     "output_type": "stream",
     "text": [
      "┌ Info: Model composition\n",
      "│     param_set = Main.##372.EarthParameterSet()\n",
      "│     init_q = 0.0\n",
      "│     amplitude = 1.0\n",
      "│     velo = 1.0\n",
      "└ @ ClimateMachine /central/scratch/climaci/climatemachine-docs/409/climatemachine-docs/src/Driver/driver_configs.jl:103\n",
      "┌ Info: Defining `prognostic_vars` and\n",
      "│ `eq_tends` for Box1D will\n",
      "│ enable printing a table of tendencies.\n",
      "└ @ ClimateMachine.BalanceLaws /central/scratch/climaci/climatemachine-docs/409/climatemachine-docs/src/BalanceLaws/show_tendencies.jl:62\n",
      "┌ Info: Establishing single stack configuration for Box1D\n",
      "│     precision              = Float64\n",
      "│     horiz polynomial order = 4\n",
      "│     vert polynomial order  = 4\n",
      "│     domain_min             = 0.00 m x0.00 m x0.00 m\n",
      "│     domain_max             = 1.00 m x1.00 m x350.00 m\n",
      "│     # vert elems           = 128\n",
      "│     MPI ranks              = 1\n",
      "│     min(Δ_horz)            = 0.17 m\n",
      "│     min(Δ_vert)            = 0.47 m\n",
      "└ @ ClimateMachine /central/scratch/climaci/climatemachine-docs/409/climatemachine-docs/src/Driver/driver_configs.jl:400\n",
      "┌ Info: Initializing Box1D\n",
      "└ @ ClimateMachine /central/scratch/climaci/climatemachine-docs/409/climatemachine-docs/src/Driver/solver_configs.jl:165\n",
      "┌ Info: Starting Box1D\n",
      "│     dt              = 4.71698e-01\n",
      "│     timeend         =   450.00\n",
      "│     number of steps = 954\n",
      "│     norm(Q)         = 7.0845587175365097e+00\n",
      "└ @ ClimateMachine /central/scratch/climaci/climatemachine-docs/409/climatemachine-docs/src/Driver/Driver.jl:697\n",
      "┌ Info: Finished\n",
      "│     norm(Q)            = 6.9859473293754473e+00\n",
      "│     norm(Q) / norm(Q₀) = 9.8608080021738431e-01\n",
      "│     norm(Q) - norm(Q₀) = -9.8611388161062408e-02\n",
      "└ @ ClimateMachine /central/scratch/climaci/climatemachine-docs/409/climatemachine-docs/src/Driver/Driver.jl:735\n",
      "┌ Info: Mass Conservation:\n",
      "│     initial mass          = 5.0190972222222605e+01\n",
      "│     final mass            = 5.0255956701555093e+01\n",
      "│     difference            = 6.4984479332487410e-02\n",
      "│     normalized difference = 1.2947443824113615e-03\n",
      "└ @ Main.##372 /central/scratch/climaci/climatemachine-docs/409/climatemachine-docs/tutorials/Numerics/DGMethods/Box1D.jl:276\n"
     ]
    }
   ],
   "cell_type": "code",
   "source": [
    "run_box1D(\n",
    "    4,\n",
    "    FT(0.0),\n",
    "    FT(1.0),\n",
    "    FT(1.0),\n",
    "    joinpath(output_dir, \"box_1D_4_tmar_exp_1_8.svg\");\n",
    "    exp_filter = true,\n",
    "    tmar_filter = true,\n",
    "    exp_param_1 = 1,\n",
    "    exp_param_2 = 8,\n",
    ")"
   ],
   "metadata": {},
   "execution_count": 14
  },
  {
   "cell_type": "markdown",
   "source": [
    "![](box_1D_4_tmar_exp_1_8.svg)"
   ],
   "metadata": {}
  },
  {
   "cell_type": "markdown",
   "source": [
    "`BoydVandevenFilter(grid, Nc=1, s=8)` and `TMARFilter()` with central\n",
    "numerical flux:"
   ],
   "metadata": {}
  },
  {
   "outputs": [
    {
     "name": "stdout",
     "output_type": "stream",
     "text": [
      "┌ Info: Model composition\n",
      "│     param_set = Main.##372.EarthParameterSet()\n",
      "│     init_q = 0.0\n",
      "│     amplitude = 1.0\n",
      "│     velo = 1.0\n",
      "└ @ ClimateMachine /central/scratch/climaci/climatemachine-docs/409/climatemachine-docs/src/Driver/driver_configs.jl:103\n",
      "┌ Info: Defining `prognostic_vars` and\n",
      "│ `eq_tends` for Box1D will\n",
      "│ enable printing a table of tendencies.\n",
      "└ @ ClimateMachine.BalanceLaws /central/scratch/climaci/climatemachine-docs/409/climatemachine-docs/src/BalanceLaws/show_tendencies.jl:62\n",
      "┌ Info: Establishing single stack configuration for Box1D\n",
      "│     precision              = Float64\n",
      "│     horiz polynomial order = 4\n",
      "│     vert polynomial order  = 4\n",
      "│     domain_min             = 0.00 m x0.00 m x0.00 m\n",
      "│     domain_max             = 1.00 m x1.00 m x350.00 m\n",
      "│     # vert elems           = 128\n",
      "│     MPI ranks              = 1\n",
      "│     min(Δ_horz)            = 0.17 m\n",
      "│     min(Δ_vert)            = 0.47 m\n",
      "└ @ ClimateMachine /central/scratch/climaci/climatemachine-docs/409/climatemachine-docs/src/Driver/driver_configs.jl:400\n",
      "┌ Info: Initializing Box1D\n",
      "└ @ ClimateMachine /central/scratch/climaci/climatemachine-docs/409/climatemachine-docs/src/Driver/solver_configs.jl:165\n",
      "┌ Info: Starting Box1D\n",
      "│     dt              = 4.71698e-01\n",
      "│     timeend         =   450.00\n",
      "│     number of steps = 954\n",
      "│     norm(Q)         = 7.0845587175365097e+00\n",
      "└ @ ClimateMachine /central/scratch/climaci/climatemachine-docs/409/climatemachine-docs/src/Driver/Driver.jl:697\n",
      "┌ Info: Finished\n",
      "│     norm(Q)            = 6.9548646819395552e+00\n",
      "│     norm(Q) / norm(Q₀) = 9.8169342075238630e-01\n",
      "│     norm(Q) - norm(Q₀) = -1.2969403559695447e-01\n",
      "└ @ ClimateMachine /central/scratch/climaci/climatemachine-docs/409/climatemachine-docs/src/Driver/Driver.jl:735\n",
      "┌ Info: Mass Conservation:\n",
      "│     initial mass          = 5.0190972222222605e+01\n",
      "│     final mass            = 5.0269145317360824e+01\n",
      "│     difference            = 7.8173095138218684e-02\n",
      "│     normalized difference = 1.5575130681291464e-03\n",
      "└ @ Main.##372 /central/scratch/climaci/climatemachine-docs/409/climatemachine-docs/tutorials/Numerics/DGMethods/Box1D.jl:276\n"
     ]
    }
   ],
   "cell_type": "code",
   "source": [
    "run_box1D(\n",
    "    4,\n",
    "    FT(0.0),\n",
    "    FT(1.0),\n",
    "    FT(1.0),\n",
    "    joinpath(output_dir, \"box_1D_4_tmar_boyd_1_8.svg\");\n",
    "    boyd_filter = true,\n",
    "    tmar_filter = true,\n",
    "    boyd_param_1 = 1,\n",
    "    boyd_param_2 = 8,\n",
    ")"
   ],
   "metadata": {},
   "execution_count": 15
  },
  {
   "cell_type": "markdown",
   "source": [
    "![](box_1D_4_tmar_boyd_1_8.svg)"
   ],
   "metadata": {}
  },
  {
   "cell_type": "markdown",
   "source": [
    "---\n",
    "\n",
    "*This notebook was generated using [Literate.jl](https://github.com/fredrikekre/Literate.jl).*"
   ],
   "metadata": {}
  }
 ],
 "nbformat_minor": 3,
 "metadata": {
  "language_info": {
   "file_extension": ".jl",
   "mimetype": "application/julia",
   "name": "julia",
   "version": "1.5.2"
  },
  "kernelspec": {
   "name": "julia-1.5",
   "display_name": "Julia 1.5.2",
   "language": "julia"
  }
 },
 "nbformat": 4
}
