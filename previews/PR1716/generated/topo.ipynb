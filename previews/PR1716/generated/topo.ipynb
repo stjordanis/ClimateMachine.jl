{
 "cells": [
  {
   "outputs": [
    {
     "output_type": "execute_result",
     "data": {
      "text/plain": "MPI.Comm(1140850688)"
     },
     "metadata": {},
     "execution_count": 1
    }
   ],
   "cell_type": "code",
   "source": [
    "using MPI\n",
    "using ClimateMachine\n",
    "using Logging\n",
    "using ClimateMachine.Mesh.Topologies\n",
    "using ClimateMachine.MPIStateArrays\n",
    "\n",
    "MPI.Initialized() || MPI.Init()\n",
    "mpicomm = MPI.COMM_WORLD"
   ],
   "metadata": {},
   "execution_count": 1
  },
  {
   "cell_type": "markdown",
   "source": [
    "set up domain"
   ],
   "metadata": {}
  },
  {
   "outputs": [
    {
     "name": "stdout",
     "output_type": "stream",
     "text": [
      "MPI.Comm_rank(mpicomm) = 0\n",
      "length(topl.realelems) = 300\n"
     ]
    },
    {
     "output_type": "execute_result",
     "data": {
      "text/plain": "300"
     },
     "metadata": {},
     "execution_count": 2
    }
   ],
   "cell_type": "code",
   "source": [
    "topl = StackedBrickTopology(\n",
    "    mpicomm,\n",
    "    (0:10, 0:10, 0:3);\n",
    "    periodicity = (false, false, false),\n",
    "    boundary = ((1, 1), (1, 2), (1, 2)),\n",
    ")\n",
    "\n",
    "@show MPI.Comm_rank(mpicomm) length(topl.realelems)"
   ],
   "metadata": {},
   "execution_count": 2
  },
  {
   "cell_type": "markdown",
   "source": [
    "---\n",
    "\n",
    "*This notebook was generated using [Literate.jl](https://github.com/fredrikekre/Literate.jl).*"
   ],
   "metadata": {}
  }
 ],
 "nbformat_minor": 3,
 "metadata": {
  "language_info": {
   "file_extension": ".jl",
   "mimetype": "application/julia",
   "name": "julia",
   "version": "1.4.2"
  },
  "kernelspec": {
   "name": "julia-1.4",
   "display_name": "Julia 1.4.2",
   "language": "julia"
  }
 },
 "nbformat": 4
}
