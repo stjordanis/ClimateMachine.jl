{
 "cells": [
  {
   "cell_type": "markdown",
   "source": [
    "# Rising Thermal Bubble\n",
    "\n",
    "In this example, we demonstrate the usage of the `ClimateMachine`\n",
    "AtmosModel machinery to solve the fluid\n",
    "dynamics of a thermal perturbation in a neutrally stratified background state\n",
    "defined by its uniform potential temperature. We solve a flow in a box configuration -\n",
    "this is representative of a large-eddy simulation. Several versions of the problem\n",
    "setup may be found in literature, but the general idea is to examine the\n",
    "vertical ascent of a thermal bubble (we can interpret these as simple\n",
    "representation of convective updrafts).\n",
    "\n",
    "## Description of experiment\n",
    "1) Dry Rising Bubble (circular potential temperature perturbation)\n",
    "2) Boundaries\n",
    "   Top and Bottom boundaries:\n",
    "   - `Impenetrable(FreeSlip())` - Top and bottom: no momentum flux, no mass flux through\n",
    "     walls.\n",
    "   - `Impermeable()` - non-porous walls, i.e. no diffusive fluxes through\n",
    "      walls.\n",
    "   Lateral boundaries\n",
    "   - Laterally periodic\n",
    "3) Domain - 2500m (horizontal) x 2500m (horizontal) x 2500m (vertical)\n",
    "4) Resolution - 50m effective resolution\n",
    "5) Total simulation time - 1000s\n",
    "6) Mesh Aspect Ratio (Effective resolution) 1:1\n",
    "7) Overrides defaults for\n",
    "   - CPU Initialisation\n",
    "   - Time integrator\n",
    "   - Sources\n",
    "   - Smagorinsky Coefficient"
   ],
   "metadata": {}
  },
  {
   "cell_type": "markdown",
   "source": [
    "## Loading code"
   ],
   "metadata": {}
  },
  {
   "cell_type": "markdown",
   "source": [
    "Before setting up our experiment, we recognize that we need to import some\n",
    "pre-defined functions from other packages. Julia allows us to use existing\n",
    "modules (variable workspaces), or write our own to do so.  Complete\n",
    "documentation for the Julia module system can be found\n",
    "[here](https://docs.julialang.org/en/v1/manual/modules/#)."
   ],
   "metadata": {}
  },
  {
   "cell_type": "markdown",
   "source": [
    "We need to use the `ClimateMachine` module! This imports all functions\n",
    "specific to atmospheric and ocean flow modeling."
   ],
   "metadata": {}
  },
  {
   "outputs": [],
   "cell_type": "code",
   "source": [
    "using ClimateMachine\n",
    "ClimateMachine.init()\n",
    "using ClimateMachine.Atmos\n",
    "using ClimateMachine.Orientations\n",
    "using ClimateMachine.ConfigTypes\n",
    "using ClimateMachine.Diagnostics\n",
    "using ClimateMachine.GenericCallbacks\n",
    "using ClimateMachine.ODESolvers\n",
    "using ClimateMachine.TemperatureProfiles\n",
    "using ClimateMachine.Thermodynamics\n",
    "using ClimateMachine.TurbulenceClosures\n",
    "using ClimateMachine.VariableTemplates"
   ],
   "metadata": {},
   "execution_count": 1
  },
  {
   "cell_type": "markdown",
   "source": [
    "In ClimateMachine we use `StaticArrays` for our variable arrays.\n",
    "We also use the `Test` package to help with unit tests and continuous\n",
    "integration systems to design sensible tests for our experiment to ensure new\n",
    "/ modified blocks of code don't damage the fidelity of the physics. The test\n",
    "defined within this experiment is not a unit test for a specific\n",
    "subcomponent, but ensures time-integration of the defined problem conditions\n",
    "within a reasonable tolerance. Immediately useful macros and functions from\n",
    "this include `@test` and `@testset` which will allow us to define the testing\n",
    "parameter sets."
   ],
   "metadata": {}
  },
  {
   "outputs": [],
   "cell_type": "code",
   "source": [
    "using StaticArrays\n",
    "using Test\n",
    "using CLIMAParameters\n",
    "using CLIMAParameters.Atmos.SubgridScale: C_smag\n",
    "using CLIMAParameters.Planet: R_d, cp_d, cv_d, MSLP, grav\n",
    "struct EarthParameterSet <: AbstractEarthParameterSet end\n",
    "const param_set = EarthParameterSet();"
   ],
   "metadata": {},
   "execution_count": 2
  },
  {
   "cell_type": "markdown",
   "source": [
    "## Initial Conditions\n",
    "This example demonstrates the use of functions defined\n",
    "in the `Thermodynamics` package to\n",
    "generate the appropriate initial state for our problem."
   ],
   "metadata": {}
  },
  {
   "outputs": [
    {
     "output_type": "execute_result",
     "data": {
      "text/plain": "init_risingbubble! (generic function with 1 method)"
     },
     "metadata": {},
     "execution_count": 3
    }
   ],
   "cell_type": "code",
   "source": [
    "function init_risingbubble!(problem, bl, state, aux, localgeo, t)\n",
    "    (x, y, z) = localgeo.coord\n",
    "\n",
    "    # Problem float-type\n",
    "    FT = eltype(state)\n",
    "\n",
    "    # Unpack constant parameters\n",
    "    R_gas::FT = R_d(bl.param_set)\n",
    "    c_p::FT = cp_d(bl.param_set)\n",
    "    c_v::FT = cv_d(bl.param_set)\n",
    "    p0::FT = MSLP(bl.param_set)\n",
    "    _grav::FT = grav(bl.param_set)\n",
    "    γ::FT = c_p / c_v\n",
    "\n",
    "    # Define bubble center and background potential temperature\n",
    "    xc::FT = 5000\n",
    "    yc::FT = 1000\n",
    "    zc::FT = 2000\n",
    "    r = sqrt((x - xc)^2 + (z - zc)^2)\n",
    "    rc::FT = 2000\n",
    "    θamplitude::FT = 2\n",
    "\n",
    "    # This is configured in the reference hydrostatic state\n",
    "    θ_ref::FT = bl.ref_state.virtual_temperature_profile.T_surface\n",
    "\n",
    "    # Add the thermal perturbation:\n",
    "    Δθ::FT = 0\n",
    "    if r <= rc\n",
    "        Δθ = θamplitude * (1.0 - r / rc)\n",
    "    end\n",
    "\n",
    "    # Compute perturbed thermodynamic state:\n",
    "    θ = θ_ref + Δθ                                      ## potential temperature\n",
    "    π_exner = FT(1) - _grav / (c_p * θ) * z             ## exner pressure\n",
    "    ρ = p0 / (R_gas * θ) * (π_exner)^(c_v / R_gas)      ## density\n",
    "    T = θ * π_exner\n",
    "    e_int = internal_energy(bl.param_set, T)\n",
    "    ts = PhaseDry(bl.param_set, e_int, ρ)\n",
    "    ρu = SVector(FT(0), FT(0), FT(0))                   ## momentum\n",
    "    # State (prognostic) variable assignment\n",
    "    e_kin = FT(0)                                       ## kinetic energy\n",
    "    e_pot = gravitational_potential(bl, aux)            ## potential energy\n",
    "    ρe_tot = ρ * total_energy(e_kin, e_pot, ts)         ## total energy\n",
    "\n",
    "    ρχ = FT(0)                                          ## tracer\n",
    "\n",
    "    # We inject tracers at the initial condition at some specified z coordinates\n",
    "    if 500 < z <= 550\n",
    "        ρχ += FT(0.05)\n",
    "    end\n",
    "\n",
    "    # We want 4 tracers\n",
    "    ntracers = 4\n",
    "\n",
    "    # Define 4 tracers, (arbitrary scaling for this demo problem)\n",
    "    ρχ = SVector{ntracers, FT}(ρχ, ρχ / 2, ρχ / 3, ρχ / 4)\n",
    "\n",
    "    # Assign State Variables\n",
    "    state.ρ = ρ\n",
    "    state.ρu = ρu\n",
    "    state.ρe = ρe_tot\n",
    "    state.tracers.ρχ = ρχ\n",
    "end"
   ],
   "metadata": {},
   "execution_count": 3
  },
  {
   "cell_type": "markdown",
   "source": [
    "## Model Configuration\n",
    "We define a configuration function to assist in prescribing the physical\n",
    "model. The purpose of this is to populate the\n",
    "`ClimateMachine.AtmosLESConfiguration` with arguments\n",
    "appropriate to the problem being considered."
   ],
   "metadata": {}
  },
  {
   "outputs": [
    {
     "output_type": "execute_result",
     "data": {
      "text/plain": "config_risingbubble (generic function with 1 method)"
     },
     "metadata": {},
     "execution_count": 4
    }
   ],
   "cell_type": "code",
   "source": [
    "function config_risingbubble(FT, N, resolution, xmax, ymax, zmax)\n",
    "\n",
    "    # Choose an Explicit Single-rate Solver from the existing `ODESolvers` options.\n",
    "    # Apply the outer constructor to define the `ode_solver`.\n",
    "    # The 1D-IMEX method is less appropriate for the problem given the current\n",
    "    # mesh aspect ratio (1:1).\n",
    "    ode_solver = ClimateMachine.ExplicitSolverType(\n",
    "        solver_method = LSRK144NiegemannDiehlBusch,\n",
    "    )\n",
    "    # If the user prefers a multi-rate explicit time integrator,\n",
    "    # the ode_solver above can be replaced with\n",
    "    #\n",
    "    # `ode_solver = ClimateMachine.MultirateSolverType(\n",
    "    #    fast_model = AtmosAcousticGravityLinearModel,\n",
    "    #    slow_method = LSRK144NiegemannDiehlBusch,\n",
    "    #    fast_method = LSRK144NiegemannDiehlBusch,\n",
    "    #    timestep_ratio = 10,\n",
    "    # )`\n",
    "    # See ODESolvers for all of the available solvers.\n",
    "\n",
    "\n",
    "    # Since we want four tracers, we specify this and include the appropriate\n",
    "    # diffusivity scaling coefficients (normally these would be physically\n",
    "    # informed but for this demonstration we use integers corresponding to the\n",
    "    # tracer index identifier)\n",
    "    ntracers = 4\n",
    "    δ_χ = SVector{ntracers, FT}(1, 2, 3, 4)\n",
    "    # To assemble `AtmosModel` with no tracers, set `tracers = NoTracers()`.\n",
    "\n",
    "    # The model coefficient for the turbulence closure is defined via the\n",
    "    # [CLIMAParameters\n",
    "    # package](https://CliMA.github.io/CLIMAParameters.jl/latest/) A reference\n",
    "    # state for the linearisation step is also defined.\n",
    "    T_surface = FT(300)\n",
    "    T_min_ref = FT(0)\n",
    "    T_profile = DryAdiabaticProfile{FT}(param_set, T_surface, T_min_ref)\n",
    "    ref_state = HydrostaticState(T_profile)\n",
    "\n",
    "    # Here we assemble the `AtmosModel`.\n",
    "    _C_smag = FT(C_smag(param_set))\n",
    "    model = AtmosModel{FT}(\n",
    "        AtmosLESConfigType,                            ## Flow in a box, requires the AtmosLESConfigType\n",
    "        param_set;                                     ## Parameter set corresponding to earth parameters\n",
    "        init_state_prognostic = init_risingbubble!,    ## Apply the initial condition\n",
    "        ref_state = ref_state,                         ## Reference state\n",
    "        turbulence = SmagorinskyLilly(_C_smag),        ## Turbulence closure model\n",
    "        moisture = DryModel(),                         ## Exclude moisture variables\n",
    "        source = (Gravity(),),                         ## Gravity is the only source term here\n",
    "        tracers = NTracers{ntracers, FT}(δ_χ),         ## Tracer model with diffusivity coefficients\n",
    "    )\n",
    "\n",
    "    # Finally, we pass a `Problem Name` string, the mesh information, and the\n",
    "    # model type to  the [`AtmosLESConfiguration`] object.\n",
    "    config = ClimateMachine.AtmosLESConfiguration(\n",
    "        \"DryRisingBubble\",       ## Problem title [String]\n",
    "        N,                       ## Polynomial order [Int]\n",
    "        resolution,              ## (Δx, Δy, Δz) effective resolution [m]\n",
    "        xmax,                    ## Domain maximum size [m]\n",
    "        ymax,                    ## Domain maximum size [m]\n",
    "        zmax,                    ## Domain maximum size [m]\n",
    "        param_set,               ## Parameter set.\n",
    "        init_risingbubble!,      ## Function specifying initial condition\n",
    "        solver_type = ode_solver,## Time-integrator type\n",
    "        model = model,           ## Model type\n",
    "    )\n",
    "    return config\n",
    "end"
   ],
   "metadata": {},
   "execution_count": 4
  },
  {
   "cell_type": "markdown",
   "source": [
    "## Diagnostics\n",
    "Here we define the diagnostic configuration specific to this problem."
   ],
   "metadata": {}
  },
  {
   "outputs": [
    {
     "output_type": "execute_result",
     "data": {
      "text/plain": "main (generic function with 1 method)"
     },
     "metadata": {},
     "execution_count": 5
    }
   ],
   "cell_type": "code",
   "source": [
    "function config_diagnostics(driver_config)\n",
    "    interval = \"10000steps\"\n",
    "    dgngrp = setup_atmos_default_diagnostics(\n",
    "        AtmosLESConfigType(),\n",
    "        interval,\n",
    "        driver_config.name,\n",
    "    )\n",
    "    return ClimateMachine.DiagnosticsConfiguration([dgngrp])\n",
    "end\n",
    "\n",
    "function main()\n",
    "    # These are essentially arguments passed to the\n",
    "    # `config_risingbubble` function.  For type\n",
    "    # consistency we explicitly define the problem floating-precision.\n",
    "    FT = Float64\n",
    "    # We need to specify the polynomial order for the DG discretization,\n",
    "    # effective resolution, simulation end-time, the domain bounds, and the\n",
    "    # courant-number for the time-integrator. Note how the time-integration\n",
    "    # components `solver_config` are distinct from the spatial / model\n",
    "    # components in `driver_config`. `init_on_cpu` is a helper keyword argument\n",
    "    # that forces problem initialization on CPU (thereby allowing the use of\n",
    "    # random seeds, spline interpolants and other special functions at the\n",
    "    # initialization step.)\n",
    "    N = 4\n",
    "    Δh = FT(125)\n",
    "    Δv = FT(125)\n",
    "    resolution = (Δh, Δh, Δv)\n",
    "    xmax = FT(10000)\n",
    "    ymax = FT(500)\n",
    "    zmax = FT(10000)\n",
    "    t0 = FT(0)\n",
    "    timeend = FT(100)\n",
    "    # For full simulation set `timeend = 1000`\n",
    "\n",
    "    # Use up to 1.7 if ode_solver is the single rate LSRK144.\n",
    "    CFL = FT(1.7)\n",
    "\n",
    "    # Assign configurations so they can be passed to the `invoke!` function\n",
    "    driver_config = config_risingbubble(FT, N, resolution, xmax, ymax, zmax)\n",
    "    solver_config = ClimateMachine.SolverConfiguration(\n",
    "        t0,\n",
    "        timeend,\n",
    "        driver_config,\n",
    "        init_on_cpu = true,\n",
    "        Courant_number = CFL,\n",
    "    )\n",
    "    dgn_config = config_diagnostics(driver_config)\n",
    "\n",
    "    # Invoke solver (calls `solve!` function for time-integrator), pass the driver,\n",
    "    # solver and diagnostic config information.\n",
    "    result = ClimateMachine.invoke!(\n",
    "        solver_config;\n",
    "        diagnostics_config = dgn_config,\n",
    "        user_callbacks = (),\n",
    "        check_euclidean_distance = true,\n",
    "    )\n",
    "\n",
    "    # Check that the solution norm is reasonable.\n",
    "    @test isapprox(result, FT(1); atol = 1.5e-3)\n",
    "end"
   ],
   "metadata": {},
   "execution_count": 5
  },
  {
   "cell_type": "markdown",
   "source": [
    "The experiment definition is now complete. Time to run it."
   ],
   "metadata": {}
  },
  {
   "cell_type": "markdown",
   "source": [
    "## Running the file\n",
    "`julia --project tutorials/Atmos/risingbubble.jl` will run the\n",
    "experiment from the main ClimateMachine.jl directory, with diagnostics output\n",
    "at the intervals specified in [`config_diagnostics`](@ref\n",
    "config_diagnostics).  You can also prescribe command line arguments for\n",
    "simulation update and output specifications.  For\n",
    "rapid turnaround, we recommend that you run this experiment on a GPU."
   ],
   "metadata": {}
  },
  {
   "cell_type": "markdown",
   "source": [
    "VTK output can be controlled via command line by\n",
    "setting `parse_clargs=true` in the `ClimateMachine.init`\n",
    "arguments, and then using `--vtk=<interval>`."
   ],
   "metadata": {}
  },
  {
   "cell_type": "markdown",
   "source": [
    "## Output Visualisation\n",
    "See the `ClimateMachine` API interface documentation\n",
    "for generating output.\n",
    "\n",
    "\n",
    "- [VisIt](https://wci.llnl.gov/simulation/computer-codes/visit/)\n",
    "- [Paraview](https://wci.llnl.gov/simulation/computer-codes/visit/)\n",
    "are two commonly used programs for `.vtu` files.\n",
    "\n",
    "For NetCDF or JLD2 diagnostics you may use any of the following tools:\n",
    "Julia's\n",
    "[`NCDatasets`](https://github.com/Alexander-Barth/NCDatasets.jl) and\n",
    "[`JLD2`](https://github.com/JuliaIO/JLD2.jl) packages with a suitable\n",
    "\n",
    "or the known and quick NCDF visualization tool:\n",
    "[`ncview`](http://meteora.ucsd.edu/~pierce/ncview_home_page.html)\n",
    "plotting program."
   ],
   "metadata": {}
  },
  {
   "outputs": [
    {
     "name": "stdout",
     "output_type": "stream",
     "text": [
      "┌ Info: Model composition\n",
      "│     param_set = Main.##363.EarthParameterSet()\n",
      "│     problem = ClimateMachine.Atmos.AtmosProblem{ClimateMachine.Atmos.AtmosBC{ClimateMachine.Atmos.Impenetrable{ClimateMachine.Atmos.FreeSlip},ClimateMachine.Atmos.Insulating,ClimateMachine.Atmos.Impermeable,ClimateMachine.Atmos.ImpermeableTracer,ClimateMachine.TurbulenceConvection.NoTurbConvBC},typeof(Main.##363.init_risingbubble!),typeof(ClimateMachine.Atmos.atmos_problem_init_state_auxiliary)}(ClimateMachine.Atmos.AtmosBC{ClimateMachine.Atmos.Impenetrable{ClimateMachine.Atmos.FreeSlip},ClimateMachine.Atmos.Insulating,ClimateMachine.Atmos.Impermeable,ClimateMachine.Atmos.ImpermeableTracer,ClimateMachine.TurbulenceConvection.NoTurbConvBC}(ClimateMachine.Atmos.Impenetrable{ClimateMachine.Atmos.FreeSlip}(ClimateMachine.Atmos.FreeSlip()), ClimateMachine.Atmos.Insulating(), ClimateMachine.Atmos.Impermeable(), ClimateMachine.Atmos.ImpermeableTracer(), ClimateMachine.TurbulenceConvection.NoTurbConvBC()), Main.##363.init_risingbubble!, ClimateMachine.Atmos.atmos_problem_init_state_auxiliary)\n",
      "│     orientation = ClimateMachine.Orientations.FlatOrientation()\n",
      "│     ref_state = ClimateMachine.Atmos.HydrostaticState{ClimateMachine.TemperatureProfiles.DryAdiabaticProfile{Float64},Float64}(ClimateMachine.TemperatureProfiles.DryAdiabaticProfile{Float64}(300.0, 0.0), 0.0)\n",
      "│     turbulence = ClimateMachine.TurbulenceClosures.SmagorinskyLilly{Float64}(0.21)\n",
      "│     turbconv = ClimateMachine.TurbulenceConvection.NoTurbConv()\n",
      "│     hyperdiffusion = ClimateMachine.TurbulenceClosures.NoHyperDiffusion()\n",
      "│     viscoussponge = ClimateMachine.TurbulenceClosures.NoViscousSponge()\n",
      "│     moisture = ClimateMachine.Atmos.DryModel()\n",
      "│     precipitation = ClimateMachine.Atmos.NoPrecipitation()\n",
      "│     radiation = ClimateMachine.Atmos.NoRadiation()\n",
      "│     source = (ClimateMachine.Atmos.Gravity(),)\n",
      "│     tracers = ClimateMachine.Atmos.NTracers{4,Float64}([1.0, 2.0, 3.0, 4.0])\n",
      "│     data_config = nothing\n",
      "└ @ ClimateMachine /home/runner/work/ClimateMachine.jl/ClimateMachine.jl/src/Driver/driver_configs.jl:107\n",
      "┌ Info: Establishing Atmos LES configuration for DryRisingBubble\n",
      "│     precision        = Float64\n",
      "│     polynomial order = 4\n",
      "│     domain           = 10000.00 m x500.00 m x10000.00 m\n",
      "│     resolution       = 125x125x125\n",
      "│     MPI ranks        = 1\n",
      "│     min(Δ_horz)      = 86.34 m\n",
      "│     min(Δ_vert)      = 86.34 m\n",
      "└ @ ClimateMachine /home/runner/work/ClimateMachine.jl/ClimateMachine.jl/src/Driver/driver_configs.jl:163\n",
      "┌ Info: Initializing DryRisingBubble\n",
      "└ @ ClimateMachine /home/runner/work/ClimateMachine.jl/ClimateMachine.jl/src/Driver/solver_configs.jl:161\n",
      "┌ Info: Starting DryRisingBubble\n",
      "│     dt              = 4.21941e-01\n",
      "│     timeend         =   100.00\n",
      "│     number of steps = 237\n",
      "│     norm(Q)         = 5.3834517091450920e+09\n",
      "└ @ ClimateMachine /home/runner/work/ClimateMachine.jl/ClimateMachine.jl/src/Driver/Driver.jl:675\n",
      "┌ Info: Update\n",
      "│     simtime =     8.44 /   100.00\n",
      "│     runtime = 00:01:00\n",
      "│     norm(Q) = 5.3834345819179087e+09\n",
      "└ @ ClimateMachine.Callbacks /home/runner/work/ClimateMachine.jl/ClimateMachine.jl/src/Driver/Callbacks/Callbacks.jl:61\n",
      "┌ Info: Update\n",
      "│     simtime =    35.44 /   100.00\n",
      "│     runtime = 00:02:00\n",
      "│     norm(Q) = 5.3833067690889683e+09\n",
      "└ @ ClimateMachine.Callbacks /home/runner/work/ClimateMachine.jl/ClimateMachine.jl/src/Driver/Callbacks/Callbacks.jl:61\n",
      "┌ Info: Update\n",
      "│     simtime =    62.87 /   100.00\n",
      "│     runtime = 00:03:00\n",
      "│     norm(Q) = 5.3834337515345869e+09\n",
      "└ @ ClimateMachine.Callbacks /home/runner/work/ClimateMachine.jl/ClimateMachine.jl/src/Driver/Callbacks/Callbacks.jl:61\n",
      "┌ Info: Update\n",
      "│     simtime =    90.30 /   100.00\n",
      "│     runtime = 00:04:01\n",
      "│     norm(Q) = 5.3833245488402777e+09\n",
      "└ @ ClimateMachine.Callbacks /home/runner/work/ClimateMachine.jl/ClimateMachine.jl/src/Driver/Callbacks/Callbacks.jl:61\n",
      "┌ Info: Finished\n",
      "│     norm(Q)            = 5.3833337636290894e+09\n",
      "│     norm(Q) / norm(Q₀) = 9.9997809109798419e-01\n",
      "│     norm(Q) - norm(Q₀) = -1.1794551600265503e+05\n",
      "└ @ ClimateMachine /home/runner/work/ClimateMachine.jl/ClimateMachine.jl/src/Driver/Driver.jl:713\n",
      "┌ Info: Euclidean distance\n",
      "│     norm(Q - Qe)            = 7.6257985218695877e+06\n",
      "│     norm(Q - Qe) / norm(Qe) = 1.4165258525334831e-03\n",
      "└ @ ClimateMachine /home/runner/work/ClimateMachine.jl/ClimateMachine.jl/src/Driver/Driver.jl:729\n"
     ]
    },
    {
     "output_type": "execute_result",
     "data": {
      "text/plain": "\u001b[32m\u001b[1mTest Passed\u001b[22m\u001b[39m"
     },
     "metadata": {},
     "execution_count": 6
    }
   ],
   "cell_type": "code",
   "source": [
    "main()"
   ],
   "metadata": {},
   "execution_count": 6
  },
  {
   "cell_type": "markdown",
   "source": [
    "---\n",
    "\n",
    "*This notebook was generated using [Literate.jl](https://github.com/fredrikekre/Literate.jl).*"
   ],
   "metadata": {}
  }
 ],
 "nbformat_minor": 3,
 "metadata": {
  "language_info": {
   "file_extension": ".jl",
   "mimetype": "application/julia",
   "name": "julia",
   "version": "1.5.2"
  },
  "kernelspec": {
   "name": "julia-1.5",
   "display_name": "Julia 1.5.2",
   "language": "julia"
  }
 },
 "nbformat": 4
}
