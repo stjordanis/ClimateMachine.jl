{
 "cells": [
  {
   "cell_type": "markdown",
   "source": [
    "# Heat equation tutorial"
   ],
   "metadata": {}
  },
  {
   "cell_type": "markdown",
   "source": [
    "In this tutorial, we'll be solving the [heat\n",
    "equation](https://en.wikipedia.org/wiki/Heat_equation):"
   ],
   "metadata": {}
  },
  {
   "cell_type": "markdown",
   "source": [
    "``\n",
    "\\frac{∂ ρcT}{∂ t} + ∇ ⋅ (-α ∇ρcT) = 0\n",
    "``"
   ],
   "metadata": {}
  },
  {
   "cell_type": "markdown",
   "source": [
    "where\n",
    " - `t` is time\n",
    " - `α` is the thermal diffusivity\n",
    " - `T` is the temperature\n",
    " - `ρ` is the density\n",
    " - `c` is the heat capacity\n",
    " - `ρcT` is the thermal energy"
   ],
   "metadata": {}
  },
  {
   "cell_type": "markdown",
   "source": [
    "To put this in the form of ClimateMachine's [`BalanceLaw`](@ref\n",
    "ClimateMachine.BalanceLaws.BalanceLaw), we'll re-write the equation as:"
   ],
   "metadata": {}
  },
  {
   "cell_type": "markdown",
   "source": [
    "``\n",
    "\\frac{∂ ρcT}{∂ t} + ∇ ⋅ (F(α, ρcT, t)) = 0\n",
    "``"
   ],
   "metadata": {}
  },
  {
   "cell_type": "markdown",
   "source": [
    "where\n",
    " - ``F(α, ρcT, t) = -α ∇ρcT`` is the second-order flux"
   ],
   "metadata": {}
  },
  {
   "cell_type": "markdown",
   "source": [
    "with boundary conditions\n",
    " - Fixed temperature ``T_{surface}`` at ``z_{min}`` (non-zero Dirichlet)\n",
    " - No thermal flux at ``z_{min}`` (zero Neumann)"
   ],
   "metadata": {}
  },
  {
   "cell_type": "markdown",
   "source": [
    "Solving these equations is broken down into the following steps:\n",
    "1) Preliminary configuration\n",
    "2) PDEs\n",
    "3) Space discretization\n",
    "4) Time discretization / solver\n",
    "5) Solver hooks / callbacks\n",
    "6) Solve\n",
    "7) Post-processing"
   ],
   "metadata": {}
  },
  {
   "cell_type": "markdown",
   "source": [
    "# Preliminary configuration"
   ],
   "metadata": {}
  },
  {
   "cell_type": "markdown",
   "source": [
    "## Loading code"
   ],
   "metadata": {}
  },
  {
   "cell_type": "markdown",
   "source": [
    "First, we'll load our pre-requisites:\n",
    " - load external packages:"
   ],
   "metadata": {}
  },
  {
   "outputs": [],
   "cell_type": "code",
   "source": [
    "using MPI\n",
    "using OrderedCollections\n",
    "using Plots\n",
    "using StaticArrays\n",
    "using OrdinaryDiffEq\n",
    "using DiffEqBase"
   ],
   "metadata": {},
   "execution_count": 1
  },
  {
   "cell_type": "markdown",
   "source": [
    " - load CLIMAParameters and set up to use it:"
   ],
   "metadata": {}
  },
  {
   "outputs": [
    {
     "output_type": "execute_result",
     "data": {
      "text/plain": "Main.##369.EarthParameterSet()"
     },
     "metadata": {},
     "execution_count": 2
    }
   ],
   "cell_type": "code",
   "source": [
    "using CLIMAParameters\n",
    "struct EarthParameterSet <: AbstractEarthParameterSet end\n",
    "const param_set = EarthParameterSet()"
   ],
   "metadata": {},
   "execution_count": 2
  },
  {
   "cell_type": "markdown",
   "source": [
    " - load necessary ClimateMachine modules:"
   ],
   "metadata": {}
  },
  {
   "outputs": [],
   "cell_type": "code",
   "source": [
    "using ClimateMachine\n",
    "using ClimateMachine.Mesh.Topologies\n",
    "using ClimateMachine.Mesh.Grids\n",
    "using ClimateMachine.DGMethods\n",
    "using ClimateMachine.DGMethods.NumericalFluxes\n",
    "using ClimateMachine.BalanceLaws:\n",
    "    BalanceLaw, Prognostic, Auxiliary, Gradient, GradientFlux\n",
    "\n",
    "using ClimateMachine.Mesh.Geometry: LocalGeometry\n",
    "using ClimateMachine.MPIStateArrays\n",
    "using ClimateMachine.GenericCallbacks\n",
    "using ClimateMachine.ODESolvers\n",
    "using ClimateMachine.VariableTemplates\n",
    "using ClimateMachine.SingleStackUtils"
   ],
   "metadata": {},
   "execution_count": 3
  },
  {
   "cell_type": "markdown",
   "source": [
    " - import necessary ClimateMachine modules: (`import`ing enables us to\n",
    " provide implementations of these structs/methods)"
   ],
   "metadata": {}
  },
  {
   "outputs": [],
   "cell_type": "code",
   "source": [
    "import ClimateMachine.BalanceLaws:\n",
    "    vars_state,\n",
    "    source!,\n",
    "    flux_second_order!,\n",
    "    flux_first_order!,\n",
    "    compute_gradient_argument!,\n",
    "    compute_gradient_flux!,\n",
    "    nodal_update_auxiliary_state!,\n",
    "    nodal_init_state_auxiliary!,\n",
    "    init_state_prognostic!,\n",
    "    boundary_state!\n",
    "\n",
    "import ClimateMachine.DGMethods: calculate_dt"
   ],
   "metadata": {},
   "execution_count": 4
  },
  {
   "cell_type": "markdown",
   "source": [
    "## Initialization"
   ],
   "metadata": {}
  },
  {
   "cell_type": "markdown",
   "source": [
    "Define the float type (`Float64` or `Float32`)"
   ],
   "metadata": {}
  },
  {
   "outputs": [],
   "cell_type": "code",
   "source": [
    "FT = Float64;"
   ],
   "metadata": {},
   "execution_count": 5
  },
  {
   "cell_type": "markdown",
   "source": [
    "Initialize ClimateMachine for CPU."
   ],
   "metadata": {}
  },
  {
   "outputs": [],
   "cell_type": "code",
   "source": [
    "ClimateMachine.init(; disable_gpu = true);\n",
    "\n",
    "const clima_dir = dirname(dirname(pathof(ClimateMachine)));"
   ],
   "metadata": {},
   "execution_count": 6
  },
  {
   "cell_type": "markdown",
   "source": [
    "Load some helper functions for plotting"
   ],
   "metadata": {}
  },
  {
   "outputs": [],
   "cell_type": "code",
   "source": [
    "include(joinpath(clima_dir, \"docs\", \"plothelpers.jl\"));"
   ],
   "metadata": {},
   "execution_count": 7
  },
  {
   "cell_type": "markdown",
   "source": [
    "# Define the set of Partial Differential Equations (PDEs)"
   ],
   "metadata": {}
  },
  {
   "cell_type": "markdown",
   "source": [
    "## Define the model"
   ],
   "metadata": {}
  },
  {
   "cell_type": "markdown",
   "source": [
    "Model parameters can be stored in the particular [`BalanceLaw`](@ref\n",
    "ClimateMachine.BalanceLaws.BalanceLaw), in this case, a `HeatModel`:"
   ],
   "metadata": {}
  },
  {
   "outputs": [],
   "cell_type": "code",
   "source": [
    "Base.@kwdef struct HeatModel{FT, APS} <: BalanceLaw\n",
    "    \"Parameters\"\n",
    "    param_set::APS\n",
    "    \"Heat capacity\"\n",
    "    ρc::FT = 1\n",
    "    \"Thermal diffusivity\"\n",
    "    α::FT = 0.01\n",
    "    \"Initial conditions for temperature\"\n",
    "    initialT::FT = 295.15\n",
    "    \"Bottom boundary value for temperature (Dirichlet boundary conditions)\"\n",
    "    T_bottom::FT = 300.0\n",
    "    \"Top flux (α∇ρcT) at top boundary (Neumann boundary conditions)\"\n",
    "    flux_top::FT = 0.0\n",
    "end"
   ],
   "metadata": {},
   "execution_count": 8
  },
  {
   "cell_type": "markdown",
   "source": [
    "Create an instance of the `HeatModel`:"
   ],
   "metadata": {}
  },
  {
   "outputs": [],
   "cell_type": "code",
   "source": [
    "m = HeatModel{FT, typeof(param_set)}(; param_set = param_set);"
   ],
   "metadata": {},
   "execution_count": 9
  },
  {
   "cell_type": "markdown",
   "source": [
    "This model dictates the flow control, using [Dynamic Multiple\n",
    "Dispatch](https://en.wikipedia.org/wiki/Multiple_dispatch), for which\n",
    "kernels are executed."
   ],
   "metadata": {}
  },
  {
   "cell_type": "markdown",
   "source": [
    "## Define the variables"
   ],
   "metadata": {}
  },
  {
   "cell_type": "markdown",
   "source": [
    "All of the methods defined in this section were `import`ed in\n",
    "Loading code to let us provide\n",
    "implementations for our `HeatModel` as they will be used by\n",
    "the solver."
   ],
   "metadata": {}
  },
  {
   "cell_type": "markdown",
   "source": [
    "Specify auxiliary variables for `HeatModel`"
   ],
   "metadata": {}
  },
  {
   "outputs": [],
   "cell_type": "code",
   "source": [
    "vars_state(::HeatModel, ::Auxiliary, FT) = @vars(z::FT, T::FT);"
   ],
   "metadata": {},
   "execution_count": 10
  },
  {
   "cell_type": "markdown",
   "source": [
    "Specify prognostic variables, the variables solved for in the PDEs, for\n",
    "`HeatModel`"
   ],
   "metadata": {}
  },
  {
   "outputs": [],
   "cell_type": "code",
   "source": [
    "vars_state(::HeatModel, ::Prognostic, FT) = @vars(ρcT::FT);"
   ],
   "metadata": {},
   "execution_count": 11
  },
  {
   "cell_type": "markdown",
   "source": [
    "Specify state variables whose gradients are needed for `HeatModel`"
   ],
   "metadata": {}
  },
  {
   "outputs": [],
   "cell_type": "code",
   "source": [
    "vars_state(::HeatModel, ::Gradient, FT) = @vars(ρcT::FT);"
   ],
   "metadata": {},
   "execution_count": 12
  },
  {
   "cell_type": "markdown",
   "source": [
    "Specify gradient variables for `HeatModel`"
   ],
   "metadata": {}
  },
  {
   "outputs": [],
   "cell_type": "code",
   "source": [
    "vars_state(::HeatModel, ::GradientFlux, FT) = @vars(α∇ρcT::SVector{3, FT});"
   ],
   "metadata": {},
   "execution_count": 13
  },
  {
   "cell_type": "markdown",
   "source": [
    "## Define the compute kernels"
   ],
   "metadata": {}
  },
  {
   "cell_type": "markdown",
   "source": [
    "Specify the initial values in `aux::Vars`, which are available in\n",
    "`init_state_prognostic!`. Note that\n",
    "- this method is only called at `t=0`\n",
    "- `aux.z` and `aux.T` are available here because we've specified `z` and `T`\n",
    "in `vars_state` given `Auxiliary`\n",
    "in `vars_state`"
   ],
   "metadata": {}
  },
  {
   "outputs": [],
   "cell_type": "code",
   "source": [
    "function nodal_init_state_auxiliary!(\n",
    "    m::HeatModel,\n",
    "    aux::Vars,\n",
    "    tmp::Vars,\n",
    "    geom::LocalGeometry,\n",
    ")\n",
    "    aux.z = geom.coord[3]\n",
    "    aux.T = m.initialT\n",
    "end;"
   ],
   "metadata": {},
   "execution_count": 14
  },
  {
   "cell_type": "markdown",
   "source": [
    "Specify the initial values in `state::Vars`. Note that\n",
    "- this method is only called at `t=0`\n",
    "- `state.ρcT` is available here because we've specified `ρcT` in\n",
    "`vars_state` given `Prognostic`"
   ],
   "metadata": {}
  },
  {
   "outputs": [],
   "cell_type": "code",
   "source": [
    "function init_state_prognostic!(\n",
    "    m::HeatModel,\n",
    "    state::Vars,\n",
    "    aux::Vars,\n",
    "    localgeo,\n",
    "    t::Real,\n",
    ")\n",
    "    state.ρcT = m.ρc * aux.T\n",
    "end;"
   ],
   "metadata": {},
   "execution_count": 15
  },
  {
   "cell_type": "markdown",
   "source": [
    "The remaining methods, defined in this section, are called at every\n",
    "time-step in the solver by the [`BalanceLaw`](@ref\n",
    "ClimateMachine.BalanceLaws.BalanceLaw) framework."
   ],
   "metadata": {}
  },
  {
   "cell_type": "markdown",
   "source": [
    "Compute/update all auxiliary variables at each node. Note that\n",
    "- `aux.T` is available here because we've specified `T` in\n",
    "`vars_state` given `Auxiliary`"
   ],
   "metadata": {}
  },
  {
   "outputs": [],
   "cell_type": "code",
   "source": [
    "function nodal_update_auxiliary_state!(\n",
    "    m::HeatModel,\n",
    "    state::Vars,\n",
    "    aux::Vars,\n",
    "    t::Real,\n",
    ")\n",
    "    aux.T = state.ρcT / m.ρc\n",
    "end;"
   ],
   "metadata": {},
   "execution_count": 16
  },
  {
   "cell_type": "markdown",
   "source": [
    "Since we have second-order fluxes, we must tell `ClimateMachine` to compute\n",
    "the gradient of `ρcT`. Here, we specify how `ρcT` is computed. Note that\n",
    " - `transform.ρcT` is available here because we've specified `ρcT` in\n",
    " `vars_state` given `Gradient`"
   ],
   "metadata": {}
  },
  {
   "outputs": [],
   "cell_type": "code",
   "source": [
    "function compute_gradient_argument!(\n",
    "    m::HeatModel,\n",
    "    transform::Vars,\n",
    "    state::Vars,\n",
    "    aux::Vars,\n",
    "    t::Real,\n",
    ")\n",
    "    transform.ρcT = state.ρcT\n",
    "end;"
   ],
   "metadata": {},
   "execution_count": 17
  },
  {
   "cell_type": "markdown",
   "source": [
    "Specify where in `diffusive::Vars` to store the computed gradient from\n",
    "`compute_gradient_argument!`. Note that:\n",
    " - `diffusive.α∇ρcT` is available here because we've specified `α∇ρcT` in\n",
    " `vars_state` given `Gradient`\n",
    " - `∇transform.ρcT` is available here because we've specified `ρcT`  in\n",
    " `vars_state` given `Gradient`"
   ],
   "metadata": {}
  },
  {
   "outputs": [],
   "cell_type": "code",
   "source": [
    "function compute_gradient_flux!(\n",
    "    m::HeatModel,\n",
    "    diffusive::Vars,\n",
    "    ∇transform::Grad,\n",
    "    state::Vars,\n",
    "    aux::Vars,\n",
    "    t::Real,\n",
    ")\n",
    "    diffusive.α∇ρcT = -m.α * ∇transform.ρcT\n",
    "end;"
   ],
   "metadata": {},
   "execution_count": 18
  },
  {
   "cell_type": "markdown",
   "source": [
    "We have no sources, nor non-diffusive fluxes."
   ],
   "metadata": {}
  },
  {
   "outputs": [],
   "cell_type": "code",
   "source": [
    "function source!(m::HeatModel, _...) end;\n",
    "function flux_first_order!(m::HeatModel, _...) end;"
   ],
   "metadata": {},
   "execution_count": 19
  },
  {
   "cell_type": "markdown",
   "source": [
    "Compute diffusive flux (``F(α, ρcT, t) = -α ∇ρcT`` in the original PDE).\n",
    "Note that:\n",
    "- `diffusive.α∇ρcT` is available here because we've specified `α∇ρcT` in\n",
    "`vars_state` given `GradientFlux`"
   ],
   "metadata": {}
  },
  {
   "outputs": [],
   "cell_type": "code",
   "source": [
    "function flux_second_order!(\n",
    "    m::HeatModel,\n",
    "    flux::Grad,\n",
    "    state::Vars,\n",
    "    diffusive::Vars,\n",
    "    hyperdiffusive::Vars,\n",
    "    aux::Vars,\n",
    "    t::Real,\n",
    ")\n",
    "    flux.ρcT += diffusive.α∇ρcT\n",
    "end;"
   ],
   "metadata": {},
   "execution_count": 20
  },
  {
   "cell_type": "markdown",
   "source": [
    "### Boundary conditions"
   ],
   "metadata": {}
  },
  {
   "cell_type": "markdown",
   "source": [
    "Second-order terms in our equations, ``∇⋅(F)`` where ``F = -α∇ρcT``, are\n",
    "internally reformulated to first-order unknowns.\n",
    "Boundary conditions must be specified for all unknowns, both first-order and\n",
    "second-order unknowns which have been reformulated."
   ],
   "metadata": {}
  },
  {
   "cell_type": "markdown",
   "source": [
    "The boundary conditions for `ρcT` (first order unknown)"
   ],
   "metadata": {}
  },
  {
   "outputs": [],
   "cell_type": "code",
   "source": [
    "function boundary_state!(\n",
    "    nf,\n",
    "    m::HeatModel,\n",
    "    state⁺::Vars,\n",
    "    aux⁺::Vars,\n",
    "    n⁻,\n",
    "    state⁻::Vars,\n",
    "    aux⁻::Vars,\n",
    "    bctype,\n",
    "    t,\n",
    "    _...,\n",
    ")\n",
    "    # Apply Dirichlet BCs\n",
    "    if bctype == 1 # At bottom\n",
    "        state⁺.ρcT = m.ρc * m.T_bottom\n",
    "    elseif bctype == 2 # At top\n",
    "        nothing\n",
    "    end\n",
    "end;"
   ],
   "metadata": {},
   "execution_count": 21
  },
  {
   "cell_type": "markdown",
   "source": [
    "The boundary conditions for `ρcT` are specified here for second-order\n",
    "unknowns"
   ],
   "metadata": {}
  },
  {
   "outputs": [],
   "cell_type": "code",
   "source": [
    "function boundary_state!(\n",
    "    nf,\n",
    "    m::HeatModel,\n",
    "    state⁺::Vars,\n",
    "    diff⁺::Vars,\n",
    "    aux⁺::Vars,\n",
    "    n⁻,\n",
    "    state⁻::Vars,\n",
    "    diff⁻::Vars,\n",
    "    aux⁻::Vars,\n",
    "    bctype,\n",
    "    t,\n",
    "    _...,\n",
    ")\n",
    "    # Apply Neumann BCs\n",
    "    if bctype == 1 # At bottom\n",
    "        nothing\n",
    "    elseif bctype == 2 # At top\n",
    "        diff⁺.α∇ρcT = n⁻ * m.flux_top\n",
    "    end\n",
    "end;"
   ],
   "metadata": {},
   "execution_count": 22
  },
  {
   "cell_type": "markdown",
   "source": [
    "# Spatial discretization"
   ],
   "metadata": {}
  },
  {
   "cell_type": "markdown",
   "source": [
    "Prescribe polynomial order of basis functions in finite elements"
   ],
   "metadata": {}
  },
  {
   "outputs": [],
   "cell_type": "code",
   "source": [
    "N_poly = 5;"
   ],
   "metadata": {},
   "execution_count": 23
  },
  {
   "cell_type": "markdown",
   "source": [
    "Specify the number of vertical elements"
   ],
   "metadata": {}
  },
  {
   "outputs": [],
   "cell_type": "code",
   "source": [
    "nelem_vert = 10;"
   ],
   "metadata": {},
   "execution_count": 24
  },
  {
   "cell_type": "markdown",
   "source": [
    "Specify the domain height"
   ],
   "metadata": {}
  },
  {
   "outputs": [],
   "cell_type": "code",
   "source": [
    "zmax = FT(1);"
   ],
   "metadata": {},
   "execution_count": 25
  },
  {
   "cell_type": "markdown",
   "source": [
    "Establish a `ClimateMachine` single stack configuration"
   ],
   "metadata": {}
  },
  {
   "outputs": [
    {
     "name": "stdout",
     "output_type": "stream",
     "text": [
      "┌ Info: Model composition\n",
      "│     param_set = Main.##369.EarthParameterSet()\n",
      "│     ρc = 1.0\n",
      "│     α = 0.01\n",
      "│     initialT = 295.15\n",
      "│     T_bottom = 300.0\n",
      "│     flux_top = 0.0\n",
      "└ @ ClimateMachine /home/runner/work/ClimateMachine.jl/ClimateMachine.jl/src/Driver/driver_configs.jl:107\n",
      "┌ Info: Establishing single stack configuration for HeatEquation\n",
      "│     precision        = Float64\n",
      "│     polynomial order = 5\n",
      "│     domain_min       = 0.00 m x0.00 m x0.00 m\n",
      "│     domain_max       = 1.00 m x1.00 m x1.00 m\n",
      "│     #vert elems      = 10\n",
      "│     MPI ranks        = 1\n",
      "│     min(Δ_horz)      = 0.12 m\n",
      "│     min(Δ_vert)      = 0.01 m\n",
      "└ @ ClimateMachine /home/runner/work/ClimateMachine.jl/ClimateMachine.jl/src/Driver/driver_configs.jl:543\n"
     ]
    }
   ],
   "cell_type": "code",
   "source": [
    "driver_config = ClimateMachine.SingleStackConfiguration(\n",
    "    \"HeatEquation\",\n",
    "    N_poly,\n",
    "    nelem_vert,\n",
    "    zmax,\n",
    "    param_set,\n",
    "    m,\n",
    "    numerical_flux_first_order = CentralNumericalFluxFirstOrder(),\n",
    ");"
   ],
   "metadata": {},
   "execution_count": 26
  },
  {
   "cell_type": "markdown",
   "source": [
    "# Time discretization / solver"
   ],
   "metadata": {}
  },
  {
   "cell_type": "markdown",
   "source": [
    "Specify simulation time (SI units)"
   ],
   "metadata": {}
  },
  {
   "outputs": [
    {
     "output_type": "execute_result",
     "data": {
      "text/plain": "40.0"
     },
     "metadata": {},
     "execution_count": 27
    }
   ],
   "cell_type": "code",
   "source": [
    "t0 = FT(0)\n",
    "timeend = FT(40)"
   ],
   "metadata": {},
   "execution_count": 27
  },
  {
   "cell_type": "markdown",
   "source": [
    "In this section, we initialize the state vector and allocate memory for\n",
    "the solution in space (`dg` has the model `m`, which describes the PDEs\n",
    "as well as the function used for initialization). `SolverConfiguration`\n",
    "initializes the ODE solver, by default an explicit Low-Storage\n",
    "[Runge-Kutta](https://en.wikipedia.org/wiki/Runge%E2%80%93Kutta_methods)\n",
    "method. In this tutorial, we prescribe an option for an implicit\n",
    "`Kvaerno3` method."
   ],
   "metadata": {}
  },
  {
   "cell_type": "markdown",
   "source": [
    "First, let's define how the time-step is computed, based on the\n",
    "[Fourier number](https://en.wikipedia.org/wiki/Fourier_number)\n",
    "(i.e., diffusive Courant number) is defined. Because\n",
    "the `HeatModel` is a custom model, we must define how both are computed.\n",
    "First, we must define our own implementation of `DGMethods.calculate_dt`,\n",
    "(which we imported):"
   ],
   "metadata": {}
  },
  {
   "outputs": [
    {
     "output_type": "execute_result",
     "data": {
      "text/plain": "calculate_dt (generic function with 5 methods)"
     },
     "metadata": {},
     "execution_count": 28
    }
   ],
   "cell_type": "code",
   "source": [
    "function calculate_dt(dg, model::HeatModel, Q, Courant_number, t, direction)\n",
    "    Δt = one(eltype(Q))\n",
    "    CFL = DGMethods.courant(diffusive_courant, dg, model, Q, Δt, t, direction)\n",
    "    return Courant_number / CFL\n",
    "end"
   ],
   "metadata": {},
   "execution_count": 28
  },
  {
   "cell_type": "markdown",
   "source": [
    "Next, we'll define our implementation of `diffusive_courant`:"
   ],
   "metadata": {}
  },
  {
   "outputs": [
    {
     "output_type": "execute_result",
     "data": {
      "text/plain": "diffusive_courant (generic function with 1 method)"
     },
     "metadata": {},
     "execution_count": 29
    }
   ],
   "cell_type": "code",
   "source": [
    "function diffusive_courant(\n",
    "    m::HeatModel,\n",
    "    state::Vars,\n",
    "    aux::Vars,\n",
    "    diffusive::Vars,\n",
    "    Δx,\n",
    "    Δt,\n",
    "    t,\n",
    "    direction,\n",
    ")\n",
    "    return Δt * m.α / (Δx * Δx)\n",
    "end"
   ],
   "metadata": {},
   "execution_count": 29
  },
  {
   "cell_type": "markdown",
   "source": [
    "Finally, we initialize the state vector and solver\n",
    "configuration based on the given Fourier number.\n",
    "Note that, we can use a much larger Fourier number\n",
    "for implicit solvers as compared to explicit solvers."
   ],
   "metadata": {}
  },
  {
   "outputs": [
    {
     "name": "stdout",
     "output_type": "stream",
     "text": [
      "┌ Info: Initializing HeatEquation\n",
      "└ @ ClimateMachine /home/runner/work/ClimateMachine.jl/ClimateMachine.jl/src/Driver/solver_configs.jl:161\n"
     ]
    }
   ],
   "cell_type": "code",
   "source": [
    "use_implicit_solver = false\n",
    "if use_implicit_solver\n",
    "    given_Fourier = FT(30)\n",
    "\n",
    "    solver_config = ClimateMachine.SolverConfiguration(\n",
    "        t0,\n",
    "        timeend,\n",
    "        driver_config;\n",
    "        ode_solver_type = ImplicitSolverType(OrdinaryDiffEq.Kvaerno3(\n",
    "            autodiff = false,\n",
    "            linsolve = LinSolveGMRES(),\n",
    "        )),\n",
    "        Courant_number = given_Fourier,\n",
    "        CFL_direction = VerticalDirection(),\n",
    "    )\n",
    "else\n",
    "    given_Fourier = FT(0.7)\n",
    "\n",
    "    solver_config = ClimateMachine.SolverConfiguration(\n",
    "        t0,\n",
    "        timeend,\n",
    "        driver_config;\n",
    "        Courant_number = given_Fourier,\n",
    "        CFL_direction = VerticalDirection(),\n",
    "    )\n",
    "end;\n",
    "\n",
    "\n",
    "grid = solver_config.dg.grid;\n",
    "Q = solver_config.Q;\n",
    "aux = solver_config.dg.state_auxiliary;"
   ],
   "metadata": {},
   "execution_count": 30
  },
  {
   "cell_type": "markdown",
   "source": [
    "## Inspect the initial conditions"
   ],
   "metadata": {}
  },
  {
   "cell_type": "markdown",
   "source": [
    "Let's export a plot of the initial state"
   ],
   "metadata": {}
  },
  {
   "outputs": [],
   "cell_type": "code",
   "source": [
    "output_dir = @__DIR__;\n",
    "\n",
    "mkpath(output_dir);\n",
    "\n",
    "z_scale = 100; # convert from meters to cm\n",
    "z_key = \"z\";\n",
    "z_label = \"z [cm]\";\n",
    "z = get_z(grid; z_scale = z_scale, rm_dupes = true);"
   ],
   "metadata": {},
   "execution_count": 31
  },
  {
   "cell_type": "markdown",
   "source": [
    "Create an array to store the solution:"
   ],
   "metadata": {}
  },
  {
   "outputs": [],
   "cell_type": "code",
   "source": [
    "all_data = Dict[dict_of_nodal_states(solver_config; interp = true)]  # store initial condition at ``t=0``\n",
    "time_data = FT[0]                                      # store time data\n",
    "\n",
    "export_plot(\n",
    "    z,\n",
    "    time_data,\n",
    "    all_data,\n",
    "    (\"ρcT\",),\n",
    "    joinpath(output_dir, \"initial_condition.png\");\n",
    "    xlabel = \"ρcT\",\n",
    "    ylabel = z_label,\n",
    "    xlims = (m.initialT - 1, m.T_bottom + 1),\n",
    ");"
   ],
   "metadata": {},
   "execution_count": 32
  },
  {
   "cell_type": "markdown",
   "source": [
    "![](initial_condition.png)"
   ],
   "metadata": {}
  },
  {
   "cell_type": "markdown",
   "source": [
    "It matches what we have in `init_state_prognostic!(m::HeatModel, ...)`, so\n",
    "let's continue."
   ],
   "metadata": {}
  },
  {
   "cell_type": "markdown",
   "source": [
    "# Solver hooks / callbacks"
   ],
   "metadata": {}
  },
  {
   "cell_type": "markdown",
   "source": [
    "Define the number of outputs from `t0` to `timeend`"
   ],
   "metadata": {}
  },
  {
   "outputs": [],
   "cell_type": "code",
   "source": [
    "const n_outputs = 5;"
   ],
   "metadata": {},
   "execution_count": 33
  },
  {
   "cell_type": "markdown",
   "source": [
    "This equates to exports every ceil(Int, timeend/n_outputs) time-step:"
   ],
   "metadata": {}
  },
  {
   "outputs": [],
   "cell_type": "code",
   "source": [
    "const every_x_simulation_time = ceil(Int, timeend / n_outputs);"
   ],
   "metadata": {},
   "execution_count": 34
  },
  {
   "cell_type": "markdown",
   "source": [
    "The `ClimateMachine`'s time-steppers provide hooks, or callbacks, which\n",
    "allow users to inject code to be executed at specified intervals. In this\n",
    "callback, a dictionary of prognostic and auxiliary states are appended to\n",
    "`all_data` for time the callback is executed. In addition, time is collected\n",
    "and appended to `time_data`."
   ],
   "metadata": {}
  },
  {
   "outputs": [],
   "cell_type": "code",
   "source": [
    "callback = GenericCallbacks.EveryXSimulationTime(every_x_simulation_time) do\n",
    "    push!(all_data, dict_of_nodal_states(solver_config; interp = true))\n",
    "    push!(time_data, gettime(solver_config.solver))\n",
    "    nothing\n",
    "end;"
   ],
   "metadata": {},
   "execution_count": 35
  },
  {
   "cell_type": "markdown",
   "source": [
    "# Solve"
   ],
   "metadata": {}
  },
  {
   "cell_type": "markdown",
   "source": [
    "This is the main `ClimateMachine` solver invocation. While users do not have\n",
    "access to the time-stepping loop, code may be injected via `user_callbacks`,\n",
    "which is a `Tuple` of callbacks in `GenericCallbacks`."
   ],
   "metadata": {}
  },
  {
   "outputs": [
    {
     "name": "stdout",
     "output_type": "stream",
     "text": [
      "┌ Info: Starting HeatEquation\n",
      "│     dt              = 9.65950e-03\n",
      "│     timeend         =    40.00\n",
      "│     number of steps = 4141\n",
      "│     norm(Q)         = 2.9515000000000060e+02\n",
      "└ @ ClimateMachine /home/runner/work/ClimateMachine.jl/ClimateMachine.jl/src/Driver/Driver.jl:675\n",
      "┌ Info: Finished\n",
      "│     norm(Q)            = 2.9853556724952728e+02\n",
      "│     norm(Q) / norm(Q₀) = 1.0114706666085944e+00\n",
      "│     norm(Q) - norm(Q₀) = 3.3855672495266731e+00\n",
      "└ @ ClimateMachine /home/runner/work/ClimateMachine.jl/ClimateMachine.jl/src/Driver/Driver.jl:713\n"
     ]
    }
   ],
   "cell_type": "code",
   "source": [
    "ClimateMachine.invoke!(solver_config; user_callbacks = (callback,));"
   ],
   "metadata": {},
   "execution_count": 36
  },
  {
   "cell_type": "markdown",
   "source": [
    "Append result at the end of the last time step:"
   ],
   "metadata": {}
  },
  {
   "outputs": [],
   "cell_type": "code",
   "source": [
    "push!(all_data, dict_of_nodal_states(solver_config; interp = true));\n",
    "push!(time_data, gettime(solver_config.solver));"
   ],
   "metadata": {},
   "execution_count": 37
  },
  {
   "cell_type": "markdown",
   "source": [
    "# Post-processing"
   ],
   "metadata": {}
  },
  {
   "cell_type": "markdown",
   "source": [
    "Our solution is stored in the array of dictionaries `all_data` whose keys are\n",
    "the output interval. The next level keys are the variable names, and the\n",
    "values are the values along the grid:"
   ],
   "metadata": {}
  },
  {
   "cell_type": "markdown",
   "source": [
    "To get `T` at ``t=0``, we can use `T_at_t_0 = all_data[1][\"T\"][:]`"
   ],
   "metadata": {}
  },
  {
   "outputs": [
    {
     "name": "stdout",
     "output_type": "stream",
     "text": [
      "keys(all_data[1]) = [\"T\", \"z\", \"ρcT\"]\n"
     ]
    },
    {
     "output_type": "execute_result",
     "data": {
      "text/plain": "Base.KeySet for a Dict{String,Array{Float64,1}} with 3 entries. Keys:\n  \"T\"\n  \"z\"\n  \"ρcT\""
     },
     "metadata": {},
     "execution_count": 38
    }
   ],
   "cell_type": "code",
   "source": [
    "@show keys(all_data[1])"
   ],
   "metadata": {},
   "execution_count": 38
  },
  {
   "cell_type": "markdown",
   "source": [
    "Let's plot the solution:"
   ],
   "metadata": {}
  },
  {
   "outputs": [],
   "cell_type": "code",
   "source": [
    "export_plot(\n",
    "    z,\n",
    "    time_data,\n",
    "    all_data,\n",
    "    (\"ρcT\",),\n",
    "    joinpath(output_dir, \"solution_vs_time.png\");\n",
    "    xlabel = \"ρcT\",\n",
    "    ylabel = z_label,\n",
    ");"
   ],
   "metadata": {},
   "execution_count": 39
  },
  {
   "cell_type": "markdown",
   "source": [
    "![](solution_vs_time.png)"
   ],
   "metadata": {}
  },
  {
   "outputs": [],
   "cell_type": "code",
   "source": [
    "export_contour(\n",
    "    z,\n",
    "    time_data,\n",
    "    all_data,\n",
    "    \"ρcT\",\n",
    "    joinpath(output_dir, \"solution_contour.png\");\n",
    "    ylabel = \"z [cm]\",\n",
    ")"
   ],
   "metadata": {},
   "execution_count": 40
  },
  {
   "cell_type": "markdown",
   "source": [
    "![](solution_contour.png)"
   ],
   "metadata": {}
  },
  {
   "cell_type": "markdown",
   "source": [
    "The results look as we would expect: a fixed temperature at the bottom is\n",
    "resulting in heat flux that propagates up the domain. To run this file, and\n",
    "inspect the solution in `all_data`, include this tutorial in the Julia REPL\n",
    "with:"
   ],
   "metadata": {}
  },
  {
   "cell_type": "markdown",
   "source": [
    "```julia\n",
    "include(joinpath(\"tutorials\", \"Land\", \"Heat\", \"heat_equation.jl\"))\n",
    "```"
   ],
   "metadata": {}
  },
  {
   "cell_type": "markdown",
   "source": [
    "---\n",
    "\n",
    "*This notebook was generated using [Literate.jl](https://github.com/fredrikekre/Literate.jl).*"
   ],
   "metadata": {}
  }
 ],
 "nbformat_minor": 3,
 "metadata": {
  "language_info": {
   "file_extension": ".jl",
   "mimetype": "application/julia",
   "name": "julia",
   "version": "1.5.2"
  },
  "kernelspec": {
   "name": "julia-1.5",
   "display_name": "Julia 1.5.2",
   "language": "julia"
  }
 },
 "nbformat": 4
}
