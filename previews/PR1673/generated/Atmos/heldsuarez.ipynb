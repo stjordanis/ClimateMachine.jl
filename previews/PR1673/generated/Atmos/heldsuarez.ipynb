{
 "cells": [
  {
   "cell_type": "markdown",
   "source": [
    "# Dry atmosphere GCM with Held-Suarez forcing\n",
    "\n",
    "The Held-Suarez setup (Held and Suarez, 1994) is a textbook example for a\n",
    "simplified atmospheric global circulation model configuration which has been\n",
    "used as a benchmark experiment for development of the dynamical cores (i.e.,\n",
    "GCMs without continents, moisture or parametrization schemes of the physics)\n",
    "for atmospheric models.  It is forced by a thermal relaxation to a reference\n",
    "state and damped by linear (Rayleigh) friction. This example demonstrates how\n",
    "\n",
    "  * to set up a ClimateMachine-Atmos GCM configuration;\n",
    "  * to select and save GCM diagnostics output.\n",
    "\n",
    "To begin, we load ClimateMachine and a few miscellaneous useful Julia packages."
   ],
   "metadata": {}
  },
  {
   "outputs": [],
   "cell_type": "code",
   "source": [
    "using Distributions\n",
    "using Random\n",
    "using StaticArrays"
   ],
   "metadata": {},
   "execution_count": 1
  },
  {
   "cell_type": "markdown",
   "source": [
    "ClimateMachine specific modules needed to make this example work (e.g., we will need\n",
    "spectral filters, etc.)."
   ],
   "metadata": {}
  },
  {
   "outputs": [],
   "cell_type": "code",
   "source": [
    "using ClimateMachine\n",
    "using ClimateMachine.Atmos\n",
    "using ClimateMachine.Orientations\n",
    "using ClimateMachine.ConfigTypes\n",
    "using ClimateMachine.Diagnostics\n",
    "using ClimateMachine.GenericCallbacks\n",
    "using ClimateMachine.Mesh.Grids\n",
    "using ClimateMachine.Mesh.Filters\n",
    "using ClimateMachine.TemperatureProfiles\n",
    "using ClimateMachine.SystemSolvers\n",
    "using ClimateMachine.ODESolvers\n",
    "using ClimateMachine.Thermodynamics\n",
    "using ClimateMachine.TurbulenceClosures\n",
    "using ClimateMachine.VariableTemplates"
   ],
   "metadata": {},
   "execution_count": 2
  },
  {
   "cell_type": "markdown",
   "source": [
    "[ClimateMachine parameters](https://github.com/CliMA/CLIMAParameters.jl) are\n",
    "needed to have access to Earth's physical parameters."
   ],
   "metadata": {}
  },
  {
   "outputs": [],
   "cell_type": "code",
   "source": [
    "using CLIMAParameters\n",
    "using CLIMAParameters.Planet: R_d, day, grav, cp_d, cv_d, planet_radius"
   ],
   "metadata": {},
   "execution_count": 3
  },
  {
   "cell_type": "markdown",
   "source": [
    "We need to load the physical parameters for Earth to have an Earth-like simulation :)."
   ],
   "metadata": {}
  },
  {
   "outputs": [],
   "cell_type": "code",
   "source": [
    "struct EarthParameterSet <: AbstractEarthParameterSet end\n",
    "const param_set = EarthParameterSet();"
   ],
   "metadata": {},
   "execution_count": 4
  },
  {
   "cell_type": "markdown",
   "source": [
    "Construct the Held-Suarez forcing function. We can view this as part the\n",
    "right-hand-side of our governing equations. It forces the total energy field\n",
    "in a way that the resulting steady-state velocity and temperature fields of\n",
    "the simulation resemble those of an idealized dry planet."
   ],
   "metadata": {}
  },
  {
   "outputs": [],
   "cell_type": "code",
   "source": [
    "function held_suarez_forcing!(\n",
    "    balance_law,\n",
    "    source,\n",
    "    state,\n",
    "    diffusive,\n",
    "    aux,\n",
    "    time::Real,\n",
    "    direction,\n",
    ")\n",
    "    FT = eltype(state)\n",
    "\n",
    "    # Parameters\n",
    "    T_ref::FT = 255 # reference temperature for Held-Suarez forcing (K)\n",
    "\n",
    "    # Extract the state\n",
    "    ρ = state.ρ\n",
    "    ρu = state.ρu\n",
    "    ρe = state.ρe\n",
    "\n",
    "    coord = aux.coord\n",
    "    e_int = internal_energy(balance_law, state, aux)\n",
    "    T = air_temperature(balance_law.param_set, e_int)\n",
    "    _R_d = FT(R_d(balance_law.param_set))\n",
    "    _day = FT(day(balance_law.param_set))\n",
    "    _grav = FT(grav(balance_law.param_set))\n",
    "    _cp_d = FT(cp_d(balance_law.param_set))\n",
    "    _cv_d = FT(cv_d(balance_law.param_set))\n",
    "\n",
    "    # Held-Suarez parameters\n",
    "    k_a = FT(1 / (40 * _day))\n",
    "    k_f = FT(1 / _day)\n",
    "    k_s = FT(1 / (4 * _day))\n",
    "    ΔT_y = FT(60)\n",
    "    Δθ_z = FT(10)\n",
    "    T_equator = FT(315)\n",
    "    T_min = FT(200)\n",
    "    σ_b = FT(7 / 10)\n",
    "\n",
    "    # Held-Suarez forcing\n",
    "    φ = latitude(balance_law, aux)\n",
    "    p = air_pressure(balance_law.param_set, T, ρ)\n",
    "\n",
    "    ##TODO: replace _p0 with dynamic surface pressure in Δσ calculations to\n",
    "    #account for topography, but leave unchanged for calculations of σ involved\n",
    "    #in T_equil\n",
    "    _p0 = FT(1.01325e5)\n",
    "    σ = p / _p0\n",
    "    exner_p = σ^(_R_d / _cp_d)\n",
    "    Δσ = (σ - σ_b) / (1 - σ_b)\n",
    "    height_factor = max(0, Δσ)\n",
    "    T_equil = (T_equator - ΔT_y * sin(φ)^2 - Δθ_z * log(σ) * cos(φ)^2) * exner_p\n",
    "    T_equil = max(T_min, T_equil)\n",
    "    k_T = k_a + (k_s - k_a) * height_factor * cos(φ)^4\n",
    "    k_v = k_f * height_factor\n",
    "\n",
    "    # Apply Held-Suarez forcing\n",
    "    source.ρu -= k_v * projection_tangential(balance_law, aux, ρu)\n",
    "    source.ρe -= k_T * ρ * _cv_d * (T - T_equil)\n",
    "end;"
   ],
   "metadata": {},
   "execution_count": 5
  },
  {
   "cell_type": "markdown",
   "source": [
    "## Set initial condition\n",
    "When using ClimateMachine, we need to define a function that sets the initial\n",
    "state of our model run. In our case, we use the reference state of the\n",
    "simulation (defined below) and add a little bit of noise. Note that the\n",
    "initial states includes a zero initial velocity field."
   ],
   "metadata": {}
  },
  {
   "outputs": [],
   "cell_type": "code",
   "source": [
    "function init_heldsuarez!(problem, balance_law, state, aux, localgeo, time)\n",
    "    FT = eltype(state)\n",
    "\n",
    "    # Set initial state to reference state with random perturbation\n",
    "    rnd = FT(1 + rand(Uniform(-1e-3, 1e-3)))\n",
    "    state.ρ = aux.ref_state.ρ\n",
    "    state.ρu = SVector{3, FT}(0, 0, 0)\n",
    "    state.ρe = rnd * aux.ref_state.ρe\n",
    "end;"
   ],
   "metadata": {},
   "execution_count": 6
  },
  {
   "cell_type": "markdown",
   "source": [
    "## Initialize ClimateMachine\n",
    "Before we do anything further, we need to initialize ClimateMachine. Among\n",
    "other things, this will initialize the MPI us."
   ],
   "metadata": {}
  },
  {
   "outputs": [],
   "cell_type": "code",
   "source": [
    "ClimateMachine.init();"
   ],
   "metadata": {},
   "execution_count": 7
  },
  {
   "cell_type": "markdown",
   "source": [
    "## Setting the floating-type precision\n",
    "ClimateMachine allows us to run a model with different floating-type\n",
    "precisions, with lower precision we get our results faster, and with higher\n",
    "precision, we may get more accurate results, depending on the questions we\n",
    "are after."
   ],
   "metadata": {}
  },
  {
   "outputs": [],
   "cell_type": "code",
   "source": [
    "FT = Float32;"
   ],
   "metadata": {},
   "execution_count": 8
  },
  {
   "cell_type": "markdown",
   "source": [
    "## Setup model configuration\n",
    "Now that we have defined our forcing and initialization functions, and have\n",
    "initialized ClimateMachine, we can set up the model.\n",
    "\n",
    "## Set up a reference state\n",
    "We start by setting up a reference state. This is simply a vector field that\n",
    "we subtract from the solutions to the governing equations to both improve\n",
    "numerical stability of the implicit time stepper and enable faster model\n",
    "spin-up. The reference state assumes hydrostatic balance and ideal gas law,\n",
    "with a pressure $p_r(z)$ and density $\\rho_r(z)$ that only depend on altitude\n",
    "$z$ and are in hydrostatic balance with each other.\n",
    "\n",
    "In this example, the reference temperature field smoothly transitions from a\n",
    "linearly decaying profile near the surface to a constant temperature profile\n",
    "at the top of the domain."
   ],
   "metadata": {}
  },
  {
   "outputs": [],
   "cell_type": "code",
   "source": [
    "temp_profile_ref = DecayingTemperatureProfile{FT}(param_set)\n",
    "ref_state = HydrostaticState(temp_profile_ref);"
   ],
   "metadata": {},
   "execution_count": 9
  },
  {
   "cell_type": "markdown",
   "source": [
    "## Set up a Rayleigh sponge layer\n",
    "To avoid wave reflection at the top of the domain, the model applies a sponge\n",
    "layer that linearly damps the momentum equations."
   ],
   "metadata": {}
  },
  {
   "outputs": [],
   "cell_type": "code",
   "source": [
    "domain_height = FT(30e3)               # height of the computational domain (m)\n",
    "z_sponge = FT(12e3)                    # height at which sponge begins (m)\n",
    "α_relax = FT(1 / 60 / 15)              # sponge relaxation rate (1/s)\n",
    "exponent = FT(2)                       # sponge exponent for squared-sinusoid profile\n",
    "u_relax = SVector(FT(0), FT(0), FT(0)) # relaxation velocity (m/s)\n",
    "sponge = RayleighSponge(domain_height, z_sponge, α_relax, u_relax, exponent);"
   ],
   "metadata": {},
   "execution_count": 10
  },
  {
   "cell_type": "markdown",
   "source": [
    "## Set up turbulence models\n",
    "In order to produce a stable simulation, we need to dissipate energy and\n",
    "enstrophy at the smallest scales of the developed flow field. To achieve this\n",
    "we set up diffusive forcing functions."
   ],
   "metadata": {}
  },
  {
   "outputs": [],
   "cell_type": "code",
   "source": [
    "c_smag = FT(0.21);   # Smagorinsky constant\n",
    "τ_hyper = FT(4 * 3600); # hyperdiffusion time scale\n",
    "turbulence_model = SmagorinskyLilly(c_smag);\n",
    "hyperdiffusion_model = DryBiharmonic(FT(4 * 3600));"
   ],
   "metadata": {},
   "execution_count": 11
  },
  {
   "cell_type": "markdown",
   "source": [
    "## Instantiate the model\n",
    "The Held Suarez setup was designed to produce an equilibrated state that is\n",
    "comparable to the zonal mean of the Earth’s atmosphere."
   ],
   "metadata": {}
  },
  {
   "outputs": [],
   "cell_type": "code",
   "source": [
    "model = AtmosModel{FT}(\n",
    "    AtmosGCMConfigType,\n",
    "    param_set;\n",
    "    init_state_prognostic = init_heldsuarez!,\n",
    "    ref_state = ref_state,\n",
    "    turbulence = turbulence_model,\n",
    "    hyperdiffusion = hyperdiffusion_model,\n",
    "    moisture = DryModel(),\n",
    "    source = (Gravity(), Coriolis(), held_suarez_forcing!, sponge),\n",
    ");"
   ],
   "metadata": {},
   "execution_count": 12
  },
  {
   "cell_type": "markdown",
   "source": [
    "This concludes the setup of the physical model!"
   ],
   "metadata": {}
  },
  {
   "cell_type": "markdown",
   "source": [
    "## Set up the driver\n",
    "We just need to set up a few parameters that define the resolution of the\n",
    "discontinuous Galerkin method and for how long we want to run our model\n",
    "setup."
   ],
   "metadata": {}
  },
  {
   "outputs": [],
   "cell_type": "code",
   "source": [
    "poly_order = 5;                        ## discontinuous Galerkin polynomial order\n",
    "n_horz = 2;                            ## horizontal element number\n",
    "n_vert = 2;                            ## vertical element number\n",
    "resolution = (n_horz, n_vert)\n",
    "n_days = 0.1;                          ## experiment day number\n",
    "timestart = FT(0);                     ## start time (s)\n",
    "timeend = FT(n_days * day(param_set)); ## end time (s);"
   ],
   "metadata": {},
   "execution_count": 13
  },
  {
   "cell_type": "markdown",
   "source": [
    "The next lines set up the spatial grid."
   ],
   "metadata": {}
  },
  {
   "outputs": [
    {
     "name": "stdout",
     "output_type": "stream",
     "text": [
      "┌ Info: Model composition\n",
      "│     param_set = Main.##349.EarthParameterSet()\n",
      "│     problem = ClimateMachine.Atmos.AtmosProblem{ClimateMachine.Atmos.AtmosBC{ClimateMachine.Atmos.Impenetrable{ClimateMachine.Atmos.FreeSlip},ClimateMachine.Atmos.Insulating,ClimateMachine.Atmos.Impermeable,ClimateMachine.Atmos.ImpermeableTracer,ClimateMachine.TurbulenceConvection.NoTurbConvBC},typeof(Main.##349.init_heldsuarez!),typeof(ClimateMachine.Atmos.atmos_problem_init_state_auxiliary)}(ClimateMachine.Atmos.AtmosBC{ClimateMachine.Atmos.Impenetrable{ClimateMachine.Atmos.FreeSlip},ClimateMachine.Atmos.Insulating,ClimateMachine.Atmos.Impermeable,ClimateMachine.Atmos.ImpermeableTracer,ClimateMachine.TurbulenceConvection.NoTurbConvBC}(ClimateMachine.Atmos.Impenetrable{ClimateMachine.Atmos.FreeSlip}(ClimateMachine.Atmos.FreeSlip()), ClimateMachine.Atmos.Insulating(), ClimateMachine.Atmos.Impermeable(), ClimateMachine.Atmos.ImpermeableTracer(), ClimateMachine.TurbulenceConvection.NoTurbConvBC()), Main.##349.init_heldsuarez!, ClimateMachine.Atmos.atmos_problem_init_state_auxiliary)\n",
      "│     orientation = ClimateMachine.Orientations.SphericalOrientation()\n",
      "│     ref_state = ClimateMachine.Atmos.HydrostaticState{ClimateMachine.TemperatureProfiles.DecayingTemperatureProfile{Float32},Float32}(ClimateMachine.TemperatureProfiles.DecayingTemperatureProfile{Float32}(290.0f0, 220.0f0, 8484.2705f0), 0.0f0)\n",
      "│     turbulence = ClimateMachine.TurbulenceClosures.SmagorinskyLilly{Float32}(0.21f0)\n",
      "│     turbconv = ClimateMachine.TurbulenceConvection.NoTurbConv()\n",
      "│     hyperdiffusion = ClimateMachine.TurbulenceClosures.DryBiharmonic{Float32}(14400.0f0)\n",
      "│     viscoussponge = ClimateMachine.TurbulenceClosures.NoViscousSponge()\n",
      "│     moisture = ClimateMachine.Atmos.DryModel()\n",
      "│     precipitation = ClimateMachine.Atmos.NoPrecipitation()\n",
      "│     radiation = ClimateMachine.Atmos.NoRadiation()\n",
      "│     source = (ClimateMachine.Atmos.Gravity(), ClimateMachine.Atmos.Coriolis(), Main.##349.held_suarez_forcing!, ClimateMachine.Atmos.RayleighSponge{Float32}(30000.0f0, 12000.0f0, 0.0011111111f0, Float32[0.0, 0.0, 0.0], 2.0f0))\n",
      "│     tracers = ClimateMachine.Atmos.NoTracers()\n",
      "│     data_config = nothing\n",
      "└ @ ClimateMachine /home/runner/work/ClimateMachine.jl/ClimateMachine.jl/src/Driver/driver_configs.jl:107\n",
      "┌ Info: Establishing Atmos GCM configuration for HeldSuarez\n",
      "│     precision        = Float32\n",
      "│     polynomial order = 5\n",
      "│     #horiz elems     = 2\n",
      "│     #vert elems      = 2\n",
      "│     domain height    = 3.00e+04 m\n",
      "│     MPI ranks        = 1\n",
      "│     min(Δ_horz)      = 416156.75 m\n",
      "│     min(Δ_vert)      = 1760.58 m\n",
      "└ @ ClimateMachine /home/runner/work/ClimateMachine.jl/ClimateMachine.jl/src/Driver/driver_configs.jl:250\n"
     ]
    }
   ],
   "cell_type": "code",
   "source": [
    "driver_config = ClimateMachine.AtmosGCMConfiguration(\n",
    "    \"HeldSuarez\",\n",
    "    poly_order,\n",
    "    resolution,\n",
    "    domain_height,\n",
    "    param_set,\n",
    "    init_heldsuarez!;\n",
    "    model = model,\n",
    ");"
   ],
   "metadata": {},
   "execution_count": 14
  },
  {
   "cell_type": "markdown",
   "source": [
    "The next lines set up the time stepper. Since the resolution\n",
    "in the vertical is much finer than in the horizontal,\n",
    "the 'stiff' parts of the PDE will be in the vertical.\n",
    "Setting `splitting_type = HEVISplitting()` will treat\n",
    "vertical acoustic waves implicitly, while all other dynamics\n",
    "are treated explicitly."
   ],
   "metadata": {}
  },
  {
   "outputs": [
    {
     "name": "stdout",
     "output_type": "stream",
     "text": [
      "┌ Info: Initializing HeldSuarez\n",
      "└ @ ClimateMachine /home/runner/work/ClimateMachine.jl/ClimateMachine.jl/src/Driver/solver_configs.jl:172\n"
     ]
    }
   ],
   "cell_type": "code",
   "source": [
    "ode_solver_type = ClimateMachine.IMEXSolverType(\n",
    "    splitting_type = HEVISplitting(),\n",
    "    implicit_model = AtmosAcousticGravityLinearModel,\n",
    "    implicit_solver = ManyColumnLU,\n",
    "    solver_method = ARK2GiraldoKellyConstantinescu,\n",
    ");\n",
    "\n",
    "solver_config = ClimateMachine.SolverConfiguration(\n",
    "    timestart,\n",
    "    timeend,\n",
    "    driver_config,\n",
    "    Courant_number = FT(0.1),\n",
    "    ode_solver_type = ode_solver_type,\n",
    "    init_on_cpu = true,\n",
    "    CFL_direction = HorizontalDirection(),\n",
    "    diffdir = HorizontalDirection(),\n",
    ");"
   ],
   "metadata": {},
   "execution_count": 15
  },
  {
   "cell_type": "markdown",
   "source": [
    "## Set up spectral exponential filter\n",
    "After every completed time step we apply a spectral filter to remove\n",
    "remaining small-scale noise introduced by the numerical procedures. This\n",
    "assures that our run remains stable."
   ],
   "metadata": {}
  },
  {
   "outputs": [],
   "cell_type": "code",
   "source": [
    "filterorder = 10;\n",
    "filter = ExponentialFilter(solver_config.dg.grid, 0, filterorder);\n",
    "cbfilter = GenericCallbacks.EveryXSimulationSteps(1) do\n",
    "    Filters.apply!(\n",
    "        solver_config.Q,\n",
    "        AtmosFilterPerturbations(model),\n",
    "        solver_config.dg.grid,\n",
    "        filter,\n",
    "        state_auxiliary = solver_config.dg.state_auxiliary,\n",
    "    )\n",
    "    nothing\n",
    "end;"
   ],
   "metadata": {},
   "execution_count": 16
  },
  {
   "cell_type": "markdown",
   "source": [
    "## Setup diagnostic output\n",
    "\n",
    "Choose frequency and resolution of output, and a diagnostics group (dgngrp)\n",
    "which defines output variables. This needs to be defined in\n",
    "`Diagnostics`."
   ],
   "metadata": {}
  },
  {
   "outputs": [],
   "cell_type": "code",
   "source": [
    "interval = \"1000steps\";\n",
    "_planet_radius = FT(planet_radius(param_set));\n",
    "info = driver_config.config_info;\n",
    "boundaries = [\n",
    "    FT(-90.0) FT(-180.0) _planet_radius\n",
    "    FT(90.0) FT(180.0) FT(_planet_radius + info.domain_height)\n",
    "];\n",
    "resolution = (FT(10), FT(10), FT(1000)); # in (deg, deg, m)\n",
    "interpol = ClimateMachine.InterpolationConfiguration(\n",
    "    driver_config,\n",
    "    boundaries,\n",
    "    resolution,\n",
    ");\n",
    "\n",
    "dgngrps = [\n",
    "    setup_dump_state_diagnostics(\n",
    "        AtmosGCMConfigType(),\n",
    "        interval,\n",
    "        driver_config.name,\n",
    "        interpol = interpol,\n",
    "    ),\n",
    "    setup_dump_aux_diagnostics(\n",
    "        AtmosGCMConfigType(),\n",
    "        interval,\n",
    "        driver_config.name,\n",
    "        interpol = interpol,\n",
    "    ),\n",
    "];\n",
    "dgn_config = ClimateMachine.DiagnosticsConfiguration(dgngrps);"
   ],
   "metadata": {},
   "execution_count": 17
  },
  {
   "cell_type": "markdown",
   "source": [
    "## Run the model\n",
    "Finally, we can run the model using the physical setup and solvers from\n",
    "above. We use the spectral filter in our callbacks after every time step, and\n",
    "collect the diagnostics output."
   ],
   "metadata": {}
  },
  {
   "outputs": [
    {
     "name": "stdout",
     "output_type": "stream",
     "text": [
      "┌ Info: Starting HeldSuarez\n",
      "│     dt              = 1.21690e+02\n",
      "│     timeend         =  8640.00\n",
      "│     number of steps = 71\n",
      "│     norm(Q)         = 7.7110978805760000e+13\n",
      "└ @ ClimateMachine /home/runner/work/ClimateMachine.jl/ClimateMachine.jl/src/Driver/Driver.jl:675\n",
      "┌ Info: Update\n",
      "│     simtime =  5476.06 /  8640.00\n",
      "│     runtime = 00:01:00\n",
      "│     norm(Q) = 7.7115768700928000e+13\n",
      "└ @ ClimateMachine.Callbacks /home/runner/work/ClimateMachine.jl/ClimateMachine.jl/src/Driver/Callbacks/Callbacks.jl:61\n",
      "┌ Info: Finished\n",
      "│     norm(Q)            = 7.7119551963136000e+13\n",
      "│     norm(Q) / norm(Q₀) = 1.0001112222671509e+00\n",
      "│     norm(Q) - norm(Q₀) = 8.5731573760000000e+09\n",
      "└ @ ClimateMachine /home/runner/work/ClimateMachine.jl/ClimateMachine.jl/src/Driver/Driver.jl:713\n",
      "┌ Info: Euclidean distance\n",
      "│     norm(Q - Qe)            = 1.3422243020800000e+11\n",
      "│     norm(Q - Qe) / norm(Qe) = 1.7406314145773649e-03\n",
      "└ @ ClimateMachine /home/runner/work/ClimateMachine.jl/ClimateMachine.jl/src/Driver/Driver.jl:729\n"
     ]
    }
   ],
   "cell_type": "code",
   "source": [
    "result = ClimateMachine.invoke!(\n",
    "    solver_config;\n",
    "    diagnostics_config = dgn_config,\n",
    "    user_callbacks = (cbfilter,),\n",
    "    check_euclidean_distance = true,\n",
    ");"
   ],
   "metadata": {},
   "execution_count": 18
  },
  {
   "cell_type": "markdown",
   "source": [
    "## References\n",
    "\n",
    "- Held, I.M. and M.J. Suarez, 1994: A Proposal for the Intercomparison\n",
    "the Dynamical Cores of Atmospheric General Circulation Models. Bull. #\n",
    "Amer. Meteor. Soc., 75, 1825–1830, https://doi.org/10.1175/1520-0477(1994)075<1825:APFTIO>2.0.CO;2"
   ],
   "metadata": {}
  },
  {
   "cell_type": "markdown",
   "source": [
    "---\n",
    "\n",
    "*This notebook was generated using [Literate.jl](https://github.com/fredrikekre/Literate.jl).*"
   ],
   "metadata": {}
  }
 ],
 "nbformat_minor": 3,
 "metadata": {
  "language_info": {
   "file_extension": ".jl",
   "mimetype": "application/julia",
   "name": "julia",
   "version": "1.5.2"
  },
  "kernelspec": {
   "name": "julia-1.5",
   "display_name": "Julia 1.5.2",
   "language": "julia"
  }
 },
 "nbformat": 4
}
