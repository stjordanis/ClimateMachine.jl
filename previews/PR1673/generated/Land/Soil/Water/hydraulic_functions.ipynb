{
 "cells": [
  {
   "cell_type": "markdown",
   "source": [
    "# Hydraulic functions"
   ],
   "metadata": {}
  },
  {
   "cell_type": "markdown",
   "source": [
    "This tutorial shows how to specify the hydraulic functions\n",
    "used in Richard's equation. In particular,\n",
    "we show how to choose the formalism for matric potential and hydraulic\n",
    "conductivity, and how to make the hydraulic conductivity account for\n",
    "the presence of ice as well as the temperature dependence of the\n",
    "viscosity of liquid water."
   ],
   "metadata": {}
  },
  {
   "cell_type": "markdown",
   "source": [
    "ClimateMachine's Land model allows the user to pick between two hydraulics models,\n",
    "that of van Genuchten [1] or that of Brooks and Corey [2, 3]. The\n",
    "same model is consistently used for the matric potential\n",
    "and hydraulic conductivity."
   ],
   "metadata": {}
  },
  {
   "cell_type": "markdown",
   "source": [
    "# Preliminary setup"
   ],
   "metadata": {}
  },
  {
   "cell_type": "markdown",
   "source": [
    "External modules"
   ],
   "metadata": {}
  },
  {
   "outputs": [],
   "cell_type": "code",
   "source": [
    "using Plots"
   ],
   "metadata": {},
   "execution_count": 1
  },
  {
   "cell_type": "markdown",
   "source": [
    "ClimateMachine modules"
   ],
   "metadata": {}
  },
  {
   "outputs": [],
   "cell_type": "code",
   "source": [
    "using ClimateMachine\n",
    "using ClimateMachine.Land\n",
    "using ClimateMachine.Land.SoilWaterParameterizations\n",
    "\n",
    "FT = Float32;"
   ],
   "metadata": {},
   "execution_count": 2
  },
  {
   "cell_type": "markdown",
   "source": [
    "# Specifying a  `hydraulics` model\n",
    "The van Genuchten model requires two free parameters, `α` and `n`.\n",
    "A third parameter, `m`, is computed from `n`. Of these, only `α` carries\n",
    "units, of inverse meters. The Brooks and Corey model also uses\n",
    "two free parameters, `ψ_b`, the magnitude of the matric potential at saturation,\n",
    " and a constant `M`. `ψ_b` carries units of meters. The hydraulic conductivity\n",
    "requires an additional parameter, `Ksat` (m/s), which is the hydraulic conductivity\n",
    "in saturated soil. This parameter is the same between the two models for a given\n",
    "soil type, and is not stored in the `hydraulics` model, but rather as part of the\n",
    "`SoilParamFunctions`."
   ],
   "metadata": {}
  },
  {
   "cell_type": "markdown",
   "source": [
    "Below we show how to create two concrete examples of these hydraulics models,\n",
    "for sandy loam [1]. Note that the parameters chosen are a function of soil type."
   ],
   "metadata": {}
  },
  {
   "outputs": [],
   "cell_type": "code",
   "source": [
    "vg_α = FT(7.5) # m^-1\n",
    "vg_n = FT(1.89)\n",
    "hydraulics = vanGenuchten{FT}(α = vg_α, n = vg_n)\n",
    "\n",
    "ψ_sat = 0.09 # m\n",
    "Mval = 0.228\n",
    "hydraulics_bc = BrooksCorey{FT}(ψb = ψ_sat, m = Mval);"
   ],
   "metadata": {},
   "execution_count": 3
  },
  {
   "cell_type": "markdown",
   "source": [
    "# Matric Potential\n",
    "The matric potential `ψ` represents how much water clings to soil. Drier soil\n",
    "holds onto water more tightly, making diffusion more difficult. As soil becomes\n",
    "wetter, the matric potential decreases in magnitude, making diffusion easier."
   ],
   "metadata": {}
  },
  {
   "cell_type": "markdown",
   "source": [
    "The van Genuchten expression for matric potential is\n",
    "``\n",
    "ψ = -\\frac{1}{α} S_l^{-1/(nm)}\\times (1-S_l^{1/m})^{1/n},\n",
    "``"
   ],
   "metadata": {}
  },
  {
   "cell_type": "markdown",
   "source": [
    "and the Brooks and Corey expression is\n",
    "``\n",
    "ψ = -ψ_b S_l^{-M}.\n",
    "``"
   ],
   "metadata": {}
  },
  {
   "cell_type": "markdown",
   "source": [
    "Here `S_l` is the effective saturation of liquid water, `θ_l/ν`, where `ν` is\n",
    "porosity of the soil. We neglect the residual pore space in the CliMA model."
   ],
   "metadata": {}
  },
  {
   "cell_type": "markdown",
   "source": [
    "In the CliMA code, we use [multiple dispatch](https://en.wikipedia.org/wiki/Multiple_dispatch).\n",
    "With multiple dispatch, a function can have many\n",
    "ways of executing (called methods), depending on the *type* of the\n",
    "variables passed in. A simple example of multiple dispatch is the division operation.\n",
    "Integer division takes two numbers as input, and returns an integer - ignoring the decimal.\n",
    "Float division takes two numbers as input, and returns a floating point number, including the decimal.\n",
    "In Julia, we might write these as:"
   ],
   "metadata": {}
  },
  {
   "cell_type": "markdown",
   "source": [
    "```julia\n",
    "function division(a::Int, b::Int)\n",
    "     return floor(Int, a/b)\n",
    "end\n",
    "```\n",
    "```julia\n",
    "function division(a::Float64, b::Float64)\n",
    "     return a/b\n",
    "end\n",
    "```"
   ],
   "metadata": {}
  },
  {
   "cell_type": "markdown",
   "source": [
    "We can see that `division` is now a function with two methods."
   ],
   "metadata": {}
  },
  {
   "cell_type": "markdown",
   "source": [
    "```julia\n",
    "julia> division\n",
    "division (generic function with 2 methods)\n",
    "```"
   ],
   "metadata": {}
  },
  {
   "cell_type": "markdown",
   "source": [
    "Now, using the same function signature, we can carry out integer\n",
    "division or floating point division, depending on the types of the\n",
    "arguments:"
   ],
   "metadata": {}
  },
  {
   "cell_type": "markdown",
   "source": [
    "```julia\n",
    "julia> division(1,2)\n",
    "0\n",
    "\n",
    "julia> division(1.0,2.0)\n",
    "0.5\n",
    "```"
   ],
   "metadata": {}
  },
  {
   "cell_type": "markdown",
   "source": [
    "Here is a more pertinent example:\n",
    "`hydraulics` is of type `vanGenuchten{Float32}` based on our choice of `FT`:"
   ],
   "metadata": {}
  },
  {
   "cell_type": "markdown",
   "source": [
    "```julia\n",
    "julia> typeof(hydraulics)\n",
    "vanGenuchten{Float32}\n",
    "```"
   ],
   "metadata": {}
  },
  {
   "cell_type": "markdown",
   "source": [
    "but meanwhile,"
   ],
   "metadata": {}
  },
  {
   "cell_type": "markdown",
   "source": [
    "```julia\n",
    "julia> typeof(hydraulics_bc)\n",
    "BrooksCorey{Float32}\n",
    "```"
   ],
   "metadata": {}
  },
  {
   "cell_type": "markdown",
   "source": [
    "The function `matric_potential` will execute different methods\n",
    "depending on if we pass a hydraulics model of type `vanGenuchten` or\n",
    "`BrooksCorey`. In both cases, it will return the correct value\n",
    "for `ψ`."
   ],
   "metadata": {}
  },
  {
   "cell_type": "markdown",
   "source": [
    "Let's plot the matric potential as a function of the effective saturation `S_l = θ_l/ν`,\n",
    "which can range from zero to one."
   ],
   "metadata": {}
  },
  {
   "outputs": [],
   "cell_type": "code",
   "source": [
    "S_l = FT.(0.01:0.01:0.99)\n",
    "ψ = matric_potential.(Ref(hydraulics), S_l)\n",
    "ψ_bc = matric_potential.(Ref(hydraulics_bc), S_l)\n",
    "plot(\n",
    "    S_l,\n",
    "    log10.(-ψ),\n",
    "    xlabel = \"effective saturation\",\n",
    "    ylabel = \"Log10(|ψ|)\",\n",
    "    label = \"van Genuchten\",\n",
    ")\n",
    "plot!(S_l, log10.(-ψ_bc), label = \"Brooks and Corey\")\n",
    "savefig(\"bc_vg_matric_potential.png\")"
   ],
   "metadata": {},
   "execution_count": 4
  },
  {
   "cell_type": "markdown",
   "source": [
    "![](bc_vg_matric_potential.png)"
   ],
   "metadata": {}
  },
  {
   "cell_type": "markdown",
   "source": [
    "The steep slope in\n",
    "`ψ` near saturated and completely dry soil are part of the reason\n",
    "why Richard's equation is such a challenging numerical problem."
   ],
   "metadata": {}
  },
  {
   "cell_type": "markdown",
   "source": [
    "# Hydraulic conductivity\n",
    "The hydraulic conductivity is a more complex function than the matric potential,\n",
    "as it depends on the temperature of the water, the volumetric ice fraction, and\n",
    "the volumetric liquid water fraction. It also depends on the `hydraulics` model\n",
    "chosen."
   ],
   "metadata": {}
  },
  {
   "cell_type": "markdown",
   "source": [
    "We represent the hydraulic conductivity `K` as the product of four factors:\n",
    "`Ksat`, an `impedance_factor` (which accounts for the effect of ice on conductivity)\n",
    "a `viscosity_factor` (which accounts for the effect of temperature on the\n",
    "viscosity of liquid water, and how that in turn affects conductivity)\n",
    "and a `moisture_factor` (which accounts for the effect of liquid water, and is determined by the `hydraulics` model)."
   ],
   "metadata": {}
  },
  {
   "cell_type": "markdown",
   "source": [
    " Let's start with ice and temperature independence, but moisture dependence.\n",
    "Below\n",
    "we choose additional parameters, consistent with the `hydraulics` parameters\n",
    "for sandy loam [1]."
   ],
   "metadata": {}
  },
  {
   "outputs": [],
   "cell_type": "code",
   "source": [
    "ν = FT(0.41)\n",
    "Ksat = FT(4.42 / (3600 * 100))\n",
    "moisture_choice = MoistureDependent{FT}()\n",
    "viscosity_choice = ConstantViscosity{FT}()\n",
    "impedance_choice = NoImpedance{FT}();"
   ],
   "metadata": {},
   "execution_count": 5
  },
  {
   "cell_type": "markdown",
   "source": [
    "We are going to calculate `K = Ksat × viscosity_factor × impedance_factor × moisture_factor`.\n",
    "In the code, each of these factors is a function with multiple methods, except for `Ksat`.\n",
    " Our function `hydraulic_conductivity` calls each of these functions in turn,\n",
    "and these functions use multiple dispatch to provide the correct value for `K`."
   ],
   "metadata": {}
  },
  {
   "cell_type": "markdown",
   "source": [
    "Like we defined new type\n",
    "classes for `vanGenuchten{FT}` and `BrooksCorey{FT}`, we also created new type classes\n",
    "for the impedance choice, the viscosity choice, and the moisture choice.\n",
    " For example, the function\n",
    "called `viscosity_factor`, when passed an object of type `ConstantViscosity{FT}`, executes a method that always\n",
    "returns 1. The same is true for the function `impedance_factor`, using the type\n",
    "`NoImpedance{FT}`, and for `moisture_factor`, using the type `MoistureIndependent{FT}`."
   ],
   "metadata": {}
  },
  {
   "cell_type": "markdown",
   "source": [
    "In the case where the `moisture_factor = MoistureDependent{FT}()`, either the van\n",
    "Genuchten or Brooks and Corey expression is used based on the type of `hydraulics` model\n",
    "passed."
   ],
   "metadata": {}
  },
  {
   "cell_type": "markdown",
   "source": [
    "The `moisture_factor` for the van Genuchten model is (denoting it as ``K_m``)"
   ],
   "metadata": {}
  },
  {
   "cell_type": "markdown",
   "source": [
    "``\n",
    " K_m = \\sqrt{S_l}[1-(1-S_l^{1/m})^m]^2,\n",
    "``"
   ],
   "metadata": {}
  },
  {
   "cell_type": "markdown",
   "source": [
    "for ``S_l < 1``,"
   ],
   "metadata": {}
  },
  {
   "cell_type": "markdown",
   "source": [
    "and for the Brooks and Corey model it is"
   ],
   "metadata": {}
  },
  {
   "cell_type": "markdown",
   "source": [
    "``\n",
    "K_m = S_l^{2M+3},\n",
    "``"
   ],
   "metadata": {}
  },
  {
   "cell_type": "markdown",
   "source": [
    "also for ``S_l<1``. When ``S_l\\geq 1``, ``K_m = 1`` for each model."
   ],
   "metadata": {}
  },
  {
   "cell_type": "markdown",
   "source": [
    "One side effect of this flexibility is that `hydraulic_conductivity`\n",
    "requires all the arguments it could possibly need passed to it, which is\n",
    "why here we must supply a value `T` and `θ_i`, even though they are not used\n",
    "in this particular example."
   ],
   "metadata": {}
  },
  {
   "outputs": [],
   "cell_type": "code",
   "source": [
    "T = FT(0.0)\n",
    "θ_i = FT(0.0)\n",
    "\n",
    "K =\n",
    "    Ksat .*\n",
    "    hydraulic_conductivity.(\n",
    "        Ref(impedance_choice),\n",
    "        Ref(viscosity_choice),\n",
    "        Ref(moisture_choice),\n",
    "        Ref(hydraulics),\n",
    "        Ref(θ_i),\n",
    "        Ref(ν),\n",
    "        Ref(T),\n",
    "        S_l,\n",
    "    );"
   ],
   "metadata": {},
   "execution_count": 6
  },
  {
   "cell_type": "markdown",
   "source": [
    "Let's also compute `K` when we include the effects of temperature\n",
    "and ice on the hydraulic conductivity.\n",
    "In the cases where a `TemperatureDependentViscosity{FT}` or\n",
    "`IceImpedance{FT}` type is passed, the correct factors are calculated,\n",
    "based on the temperature `T` and volumetric ice fraction `θ_i`.\n",
    "In these cases, the `viscosity_factor`, denoted here as ``K_v``,\n",
    "evaluates as:"
   ],
   "metadata": {}
  },
  {
   "cell_type": "markdown",
   "source": [
    "``\n",
    "K_v = e^{\\gamma(T-T_{ref})},\n",
    "``"
   ],
   "metadata": {}
  },
  {
   "cell_type": "markdown",
   "source": [
    "where ``\\gamma = 0.0264 \\mbox{K}^{-1}`` is an empirical factor,\n",
    "and ``T_{ref} = 288`` K,\n",
    "and the `impedance_factor`, denoted ``K_i``, evaluates as:"
   ],
   "metadata": {}
  },
  {
   "cell_type": "markdown",
   "source": [
    "``\n",
    "K_i = 10^{-\\Omega f_i}\n",
    "``"
   ],
   "metadata": {}
  },
  {
   "cell_type": "markdown",
   "source": [
    "where ``\\Omega = 7`` is an empirical factor and\n",
    "``f_i`` is the ratio of the volumetric\n",
    "ice fraction to total volumetric water fraction [5]."
   ],
   "metadata": {}
  },
  {
   "outputs": [],
   "cell_type": "code",
   "source": [
    "viscosity_choice_T = TemperatureDependentViscosity{FT}()\n",
    "T = FT(300.0)\n",
    "K_T =\n",
    "    Ksat .*\n",
    "    hydraulic_conductivity.(\n",
    "        Ref(impedance_choice),\n",
    "        Ref(viscosity_choice_T),\n",
    "        Ref(moisture_choice),\n",
    "        Ref(hydraulics),\n",
    "        Ref(θ_i),\n",
    "        Ref(ν),\n",
    "        Ref(T),\n",
    "        S_l,\n",
    "    )\n",
    "ice_impedance_I = IceImpedance{FT}()\n",
    "θ_i = FT(0.1)\n",
    "S_i = θ_i / ν;"
   ],
   "metadata": {},
   "execution_count": 7
  },
  {
   "cell_type": "markdown",
   "source": [
    "The total volumetric water fraction cannot\n",
    "exceed unity, so the effective liquid water saturation\n",
    "should have a max of 1-S_i."
   ],
   "metadata": {}
  },
  {
   "outputs": [
    {
     "name": "stdout",
     "output_type": "stream",
     "text": [
      "read: Connection reset by peer\n",
      "send: Broken pipe\n"
     ]
    }
   ],
   "cell_type": "code",
   "source": [
    "S_l_accounting_for_ice = FT.(0.01:0.01:(0.99 - S_i))\n",
    "K_i =\n",
    "    Ksat .*\n",
    "    hydraulic_conductivity.(\n",
    "        Ref(ice_impedance_I),\n",
    "        Ref(viscosity_choice),\n",
    "        Ref(moisture_choice),\n",
    "        Ref(hydraulics),\n",
    "        Ref(θ_i),\n",
    "        Ref(ν),\n",
    "        Ref(T),\n",
    "        S_l_accounting_for_ice,\n",
    "    )\n",
    "plot(\n",
    "    S_l,\n",
    "    log10.(K),\n",
    "    xlabel = \"total effective saturation, (θ_i+θ_l)/ν\",\n",
    "    ylabel = \"Log10(K)\",\n",
    "    label = \"Base case\",\n",
    "    legend = :bottomright,\n",
    ")\n",
    "plot!(S_l, log10.(K_T), label = \"Temperature Dependent Viscosity; no ice\")\n",
    "plot!(\n",
    "    S_l_accounting_for_ice .+ S_i,\n",
    "    log10.(K_i),\n",
    "    label = \"Ice Impedance; S_i=0.24\",\n",
    ")\n",
    "savefig(\"T_ice_K.png\")"
   ],
   "metadata": {},
   "execution_count": 8
  },
  {
   "cell_type": "markdown",
   "source": [
    "![](T_ice_K.png)"
   ],
   "metadata": {}
  },
  {
   "cell_type": "markdown",
   "source": [
    "If the user is not considering phase transitions\n",
    "and does not add in Freeze/Thaw source terms, the default is for zero\n",
    "ice in the model, for all time and space. In this case the ice impedance\n",
    "factor evaluates to 1 regardless of which type is passed."
   ],
   "metadata": {}
  },
  {
   "cell_type": "markdown",
   "source": [
    "We can also look and see how the Brooks and Corey moisture factor differs from the\n",
    "van Genuchten moisture factor by changing the `hydraulics` model passed:"
   ],
   "metadata": {}
  },
  {
   "outputs": [],
   "cell_type": "code",
   "source": [
    "T = FT(0.0)\n",
    "θ_i = FT(0.0)\n",
    "\n",
    "K_bc =\n",
    "    Ksat .*\n",
    "    hydraulic_conductivity.(\n",
    "        Ref(impedance_choice),\n",
    "        Ref(viscosity_choice),\n",
    "        Ref(moisture_choice),\n",
    "        Ref(hydraulics_bc),\n",
    "        Ref(θ_i),\n",
    "        Ref(ν),\n",
    "        Ref(T),\n",
    "        S_l,\n",
    "    )\n",
    "plot(\n",
    "    S_l,\n",
    "    log10.(K),\n",
    "    xlabel = \"effective saturation\",\n",
    "    ylabel = \"Log10(K)\",\n",
    "    label = \"van Genuchten\",\n",
    ")\n",
    "plot!(\n",
    "    S_l,\n",
    "    log10.(K_bc),\n",
    "    xlabel = \"effective saturation\",\n",
    "    ylabel = \"Log10(K)\",\n",
    "    label = \"Brooks and Corey\",\n",
    ")\n",
    "savefig(\"bc_vg_k.png\")"
   ],
   "metadata": {},
   "execution_count": 9
  },
  {
   "cell_type": "markdown",
   "source": [
    "![](bc_vg_k.png)\n",
    "# Other features\n",
    "The user also has the choice of making the conductivity constant by choosing\n",
    "`MoistureIndependent{FT}()` along with `ConstantViscosity{FT}()` and\n",
    "`NoImpedance{FT}()` . This is useful for debugging!"
   ],
   "metadata": {}
  },
  {
   "outputs": [],
   "cell_type": "code",
   "source": [
    "no_moisture_dependence = MoistureIndependent{FT}()\n",
    "K_constant =\n",
    "    Ksat .*\n",
    "    hydraulic_conductivity.(\n",
    "        Ref(impedance_choice),\n",
    "        Ref(viscosity_choice),\n",
    "        Ref(no_moisture_dependence),\n",
    "        Ref(hydraulics),\n",
    "        Ref(θ_i),\n",
    "        Ref(ν),\n",
    "        Ref(T),\n",
    "        S_l,\n",
    "    );"
   ],
   "metadata": {},
   "execution_count": 10
  },
  {
   "cell_type": "markdown",
   "source": [
    "```julia\n",
    "julia> unique(K_constant)\n",
    "1-element Array{Float32,1}:\n",
    " 1.2277777f-5\n",
    "```"
   ],
   "metadata": {}
  },
  {
   "cell_type": "markdown",
   "source": [
    "Note that choosing this option does not mean the matric potential\n",
    "is constant, as a hydraulics model is still required and employed."
   ],
   "metadata": {}
  },
  {
   "cell_type": "markdown",
   "source": [
    "And, lastly, you might be wondering why we left `Ksat` out of the function\n",
    "for `hydraulic_conductivity`. It turns out it is also useful for debugging\n",
    "to be able to turn off the diffusion of water, by setting `Ksat = 0`."
   ],
   "metadata": {}
  },
  {
   "cell_type": "markdown",
   "source": [
    "# References\n",
    "[1] van Genuchten, M. T. (1980), A closed-form equation for predicting the hydraulic conductivity of unsaturated soils, Soil Sci. Soc. Amer. J., pp. 892–898."
   ],
   "metadata": {}
  },
  {
   "cell_type": "markdown",
   "source": [
    "[2] Brooks, R. J., and A. T. Corey (1964), Hydraulic properties of porous media."
   ],
   "metadata": {}
  },
  {
   "cell_type": "markdown",
   "source": [
    "[3] Corey, A. T. (1977), Mechanics of Heterogeneous Fluids in Porous Media, Water Resources Publication, Fort Collins, CO."
   ],
   "metadata": {}
  },
  {
   "cell_type": "markdown",
   "source": [
    "[4] Bonan, G. (2019), Climate Change and Terrestrial Ecoystem Modeling, Cambridge Univ. Press, Cambridge, UK, and New York, NY, USA. Chapter 8, Page 120"
   ],
   "metadata": {}
  },
  {
   "cell_type": "markdown",
   "source": [
    "[5] Lundin, L.-C. (1990), Hydraulic properties in an operational model of frozen soil, J. Hydrol., 118, 289–310."
   ],
   "metadata": {}
  },
  {
   "cell_type": "markdown",
   "source": [
    "---\n",
    "\n",
    "*This notebook was generated using [Literate.jl](https://github.com/fredrikekre/Literate.jl).*"
   ],
   "metadata": {}
  }
 ],
 "nbformat_minor": 3,
 "metadata": {
  "language_info": {
   "file_extension": ".jl",
   "mimetype": "application/julia",
   "name": "julia",
   "version": "1.5.2"
  },
  "kernelspec": {
   "name": "julia-1.5",
   "display_name": "Julia 1.5.2",
   "language": "julia"
  }
 },
 "nbformat": 4
}
